{
 "cells": [
  {
   "cell_type": "code",
   "execution_count": 1,
   "id": "bea3685b",
   "metadata": {
    "cell_type": "code"
   },
   "outputs": [],
   "source": [
    "# import and initialize otter\n",
    "import otter\n",
    "grader = otter.Notebook(\"p13.ipynb\")"
   ]
  },
  {
   "cell_type": "code",
   "execution_count": 2,
   "id": "71e8e0c0",
   "metadata": {
    "execution": {
     "iopub.execute_input": "2023-12-07T22:45:47.624759Z",
     "iopub.status.busy": "2023-12-07T22:45:47.623746Z",
     "iopub.status.idle": "2023-12-07T22:45:50.575061Z",
     "shell.execute_reply": "2023-12-07T22:45:50.574066Z"
    }
   },
   "outputs": [],
   "source": [
    "import public_tests"
   ]
  },
  {
   "cell_type": "code",
   "execution_count": 3,
   "id": "be5da508",
   "metadata": {
    "execution": {
     "iopub.execute_input": "2023-12-07T22:45:50.580075Z",
     "iopub.status.busy": "2023-12-07T22:45:50.579074Z",
     "iopub.status.idle": "2023-12-07T22:45:50.584616Z",
     "shell.execute_reply": "2023-12-07T22:45:50.583543Z"
    }
   },
   "outputs": [],
   "source": [
    "# PLEASE FILL IN THE DETAILS\n",
    "# enter none if you don't have a project partner\n",
    "# you will have to add your partner as a group member on Gradescope even after you fill this\n",
    "\n",
    "# project: p13\n",
    "# submitter: 908 421 0047\n",
    "# partner: none  "
   ]
  },
  {
   "cell_type": "markdown",
   "id": "9ebcf32f",
   "metadata": {
    "deletable": false,
    "editable": false
   },
   "source": [
    " # Project 13: World University Rankings"
   ]
  },
  {
   "cell_type": "markdown",
   "id": "107475bf",
   "metadata": {
    "deletable": false,
    "editable": false
   },
   "source": [
    "## Learning Objectives:\n",
    "\n",
    "In this project, you will demonstrate how to:\n",
    "\n",
    "* query a database using SQL,\n",
    "* process data using `pandas` **DataFrames**,\n",
    "* create different types of plots.\n",
    "\n",
    "Please go through [Lab-P13](https://git.doit.wisc.edu/cdis/cs/courses/cs220/cs220-f23-projects/-/tree/main/lab-p13) before working on this project. The lab introduces some useful techniques related to this project."
   ]
  },
  {
   "cell_type": "markdown",
   "id": "8b83f32c",
   "metadata": {
    "deletable": false,
    "editable": false
   },
   "source": [
    "<h2 style=\"color:red\">Warning (Note on Academic Misconduct):</h2>\n",
    "\n",
    "**IMPORTANT**: **P12 and P13 are two parts of the same data analysis.** You **cannot** switch project partners between these two projects. That is if you partnered up with someone for P12, you have to sustain that partnership until the end of P13.\n",
    "\n",
    "**You are  not allowed to use any late days for P13, even if you have late days remaining in your late days bank.** Now may be a good time to review [our course policies](https://cs220.cs.wisc.edu/f23/syllabus.html).\n",
    "\n",
    "Under any circumstances, **no more than two students are allowed to work together on a project** as mentioned in the course policies. If your code is flagged by our code similarity detection tools, **both partners will be responsible** for sharing/copying the code, even if the code is shared/copied by one of the partners with/from other non-partner student(s). Note that each case of plagiarism will be reported to the Dean of Students with a zero grade on the project. **If you think that someone cannot be your project partner then don’t make that student your lab partner.**\n",
    "\n",
    "**<font color = \"red\">Project partners must submit only one copy of their project on Gradescope, but they must include the names of both partners.</font>**"
   ]
  },
  {
   "cell_type": "markdown",
   "id": "d37ea1eb",
   "metadata": {
    "deletable": false,
    "editable": false
   },
   "source": [
    "## Testing your code:\n",
    "\n",
    "Along with this notebook, you must have downloaded the files `public_tests.py` and `expected_dfs.html`. If you are curious about how we test your code, you can explore this file, and specifically the output of the function `get_expected_json`, to understand the expected answers to the questions.\n",
    "\n",
    "For answers involving DataFrames, `public_tests.py` compares your tables to those in `expected_dfs.html`, so take a moment to open that file on a web browser (from Finder/Explorer). `public_tests.py` doesn't care if you have extra rows or columns, and it doesn't care about the order of the rows or columns. However, you must have the correct values at each index/column location shown in `expected_dfs.html`.\n",
    "\n",
    "**IMPORTANT Warning:** Do **not** download the dataset `rankings.json` **manually**. Use the `download` function from P12 to download it. When we run the autograder, this file `rankings.json` will **not** be in the directory. So, unless your `p13.ipynb` downloads these files, the Gradescope autograder will **deduct** points from your public score."
   ]
  },
  {
   "cell_type": "markdown",
   "id": "463cc829",
   "metadata": {
    "deletable": false,
    "editable": false
   },
   "source": [
    "## Project Description:\n",
    "\n",
    "For your final CS220 project, you're going to continue analyzing world university rankings. However, we will be using a different dataset this time. The data for this project has been extracted from [here](https://www.topuniversities.com/university-rankings/world-university-rankings). Unlike the CWUR rankings we used in P12, the QS rankings dataset has various scores for the universities, and not just the rankings. This makes the QS rankings dataset more suitable for plotting (which you will be doing a lot of!).\n",
    "\n",
    "In this project, you'll have to dump your DataFrame to a SQLite database. You'll answer questions by doing queries on that database. Often, your answers will be in the form of a plot. Check these carefully, as the tests only verify that a plot has been created, not that it looks correct (the Gradescope autograder will manually deduct points for plotting mistakes)."
   ]
  },
  {
   "cell_type": "markdown",
   "id": "5fb98fa3",
   "metadata": {
    "deletable": false,
    "editable": false
   },
   "source": [
    "## Project Requirements:\n",
    "\n",
    "You **may not** hardcode indices in your code. You **may not** manually download **any** files for this project, unless you are **explicitly** told to do so. For all other files, you **must** use the `download` function to download the files.\n",
    "\n",
    "**Store** your final answer for each question in the **variable specified for each question**. This step is important because Otter grades your work by comparing the value of this variable against the correct answer.\n",
    "\n",
    "For some of the questions, we'll ask you to write (then use) a function to compute the answer. If you compute the answer **without** creating the function we ask you to write, we'll **manually deduct** points from your autograder score on Gradescope, even if the way you did it produced the correct answer.\n",
    "\n",
    "#### Required Functions:\n",
    "- `download`\n",
    "- `bar_plot`\n",
    "- `scatter_plot`\n",
    "- `horizontal_bar_plot`\n",
    "- `pie_plot`\n",
    "- `get_regression_coeff`\n",
    "- `get_regression_line`\n",
    "- `regression_line_plot`\n",
    "\n",
    "In this project, you will also be required to define certain **data structures**. If you do not create these data structures exactly as specified, we'll **manually deduct** points from your autograder score on Gradescope, even if the way you did it produced the correct answer.\n",
    "\n",
    "#### Required Data Structures:\n",
    "- `conn`\n",
    "\n",
    "You **must** write SQL queries to solve the questions in this project, unless you are **explicitly** told otherwise. You will **not get any credit** if you use `pandas` operations to extract data. We will give you **specific** instructions for any questions where `pandas` operations are allowed. In addition, you are also **required** to follow the requirements below:\n",
    "\n",
    "* You **must** close the connection to `conn` at the end of your notebook.\n",
    "* Do **not** use **absolute** paths such as `C://mdoescher//cs220//p13`. You may **only** use **relative paths**.\n",
    "* Do **not** hardcode `//` or `\\` in any of your paths. You **must** use `os.path.join` to create paths.\n",
    "* Do **not** leave irrelevant output or test code that we didn't ask for.\n",
    "* **Avoid** calling **slow** functions multiple times within a loop.\n",
    "* Do **not** define multiple functions with the same name or define multiple versions of one function with different names. Just keep the best version.\n",
    "\n",
    "For more details on what will cause you to lose points during code review and specific requirements, please take a look at the [Grading rubric](https://git.doit.wisc.edu/cdis/cs/courses/cs220/cs220-f23-projects/-/blob/main/p13/rubric.md)."
   ]
  },
  {
   "cell_type": "markdown",
   "id": "7c2b70ad",
   "metadata": {
    "deletable": false,
    "editable": false
   },
   "source": [
    "## Questions and Functions:\n",
    "\n",
    "Let us start by importing all the modules we will need for this project."
   ]
  },
  {
   "cell_type": "code",
   "execution_count": 4,
   "id": "3f7f49b0",
   "metadata": {
    "execution": {
     "iopub.execute_input": "2023-12-07T22:45:50.589644Z",
     "iopub.status.busy": "2023-12-07T22:45:50.589644Z",
     "iopub.status.idle": "2023-12-07T22:45:50.818620Z",
     "shell.execute_reply": "2023-12-07T22:45:50.817621Z"
    },
    "tags": []
   },
   "outputs": [],
   "source": [
    "# it is considered a good coding practice to place all import statements at the top of the notebook\n",
    "# please place all your import statements in this cell if you need to import any more modules for this project\n",
    "import sqlite3\n",
    "import pandas as pd\n",
    "import matplotlib\n",
    "from matplotlib import pyplot as plt\n",
    "import math\n",
    "import os\n",
    "import requests\n",
    "import numpy as np "
   ]
  },
  {
   "cell_type": "code",
   "execution_count": 5,
   "id": "7d7b0e81",
   "metadata": {
    "execution": {
     "iopub.execute_input": "2023-12-07T22:45:50.822633Z",
     "iopub.status.busy": "2023-12-07T22:45:50.822633Z",
     "iopub.status.idle": "2023-12-07T22:45:51.305226Z",
     "shell.execute_reply": "2023-12-07T22:45:51.304224Z"
    }
   },
   "outputs": [],
   "source": [
    "# this ensures that font.size setting remains uniform\n",
    "%matplotlib inline \n",
    "pd.set_option('display.max_colwidth', None)\n",
    "matplotlib.rcParams[\"font.size\"] = 13 # don't use value > 13! Otherwise your y-axis tick labels will be different."
   ]
  },
  {
   "cell_type": "markdown",
   "id": "b2100c90",
   "metadata": {
    "deletable": false,
    "editable": false
   },
   "source": [
    "Now, you may copy/paste some of the functions and data structures you defined in Lab-P13 and P12, which will be useful for this project."
   ]
  },
  {
   "cell_type": "code",
   "execution_count": 6,
   "id": "1437c209",
   "metadata": {
    "execution": {
     "iopub.execute_input": "2023-12-07T22:45:51.309242Z",
     "iopub.status.busy": "2023-12-07T22:45:51.309242Z",
     "iopub.status.idle": "2023-12-07T22:45:51.315684Z",
     "shell.execute_reply": "2023-12-07T22:45:51.314684Z"
    },
    "tags": []
   },
   "outputs": [],
   "source": [
    "# copy/paste the definition of the function 'bar_plot' from lab-p13 here\n",
    "def bar_plot(df, x, y):\n",
    "    ax = df.plot.bar(x=x, y=y, color='black',legend=False)\n",
    "    ax.set_xlabel(x)\n",
    "    ax.set_ylabel(y)"
   ]
  },
  {
   "cell_type": "code",
   "execution_count": 7,
   "id": "5bbb3cd1",
   "metadata": {},
   "outputs": [
    {
     "data": {
      "text/html": [
       "<p><strong><pre style='display: inline;'>bar_plot</pre></strong> passed! 🎉</p><p><strong><pre style='display: inline;'>bar_plot - 1</pre> message:</strong> Note that the Gradescope autograder will deduct points if your code fails the following rubric point - 'data is not plotted correctly (-1)'.The public tests cannot determine if your code satisfies these requirements. Verify your code manually.</p><p><strong><pre style='display: inline;'>bar_plot - 2</pre> message:</strong> Note that the Gradescope autograder will deduct points if your code fails the following rubric point - 'legend is not deleted or axes are not properly labeled (-1)'.The public tests cannot determine if your code satisfies these requirements. Verify your code manually.</p>"
      ],
      "text/plain": [
       "bar_plot results: All test cases passed!\n",
       "bar_plot - 1 message: Note that the Gradescope autograder will deduct points if your code fails the following rubric point - 'data is not plotted correctly (-1)'.The public tests cannot determine if your code satisfies these requirements. Verify your code manually.\n",
       "bar_plot - 2 message: Note that the Gradescope autograder will deduct points if your code fails the following rubric point - 'legend is not deleted or axes are not properly labeled (-1)'.The public tests cannot determine if your code satisfies these requirements. Verify your code manually."
      ]
     },
     "execution_count": 7,
     "metadata": {},
     "output_type": "execute_result"
    }
   ],
   "source": [
    "grader.check(\"bar_plot\")"
   ]
  },
  {
   "cell_type": "code",
   "execution_count": 8,
   "id": "412ec5d1",
   "metadata": {
    "execution": {
     "iopub.execute_input": "2023-12-07T22:45:51.741385Z",
     "iopub.status.busy": "2023-12-07T22:45:51.740385Z",
     "iopub.status.idle": "2023-12-07T22:45:51.747448Z",
     "shell.execute_reply": "2023-12-07T22:45:51.746501Z"
    },
    "tags": []
   },
   "outputs": [],
   "source": [
    "# copy/paste the definition of the function 'scatter_plot' from lab-p13 here\n",
    "def scatter_plot(df, x, y):\n",
    "    \"\"\"scatter_plot(df, x, y) takes in a DataFrame 'df' and displays \n",
    "    a scatter plot with the column 'x' as the x-axis, and the column\n",
    "    'y' as the y-axis\"\"\"\n",
    "    df.plot.scatter(x=x, y=y, color='black',legend=False)\n",
    "    plt.xlabel(x)\n",
    "    plt.ylabel(y)"
   ]
  },
  {
   "cell_type": "code",
   "execution_count": 9,
   "id": "28ad8463",
   "metadata": {},
   "outputs": [
    {
     "data": {
      "text/html": [
       "<p><strong><pre style='display: inline;'>scatter_plot</pre></strong> passed! 🌟</p><p><strong><pre style='display: inline;'>scatter_plot - 1</pre> message:</strong> Note that the Gradescope autograder will deduct points if your code fails the following rubric point - 'data is not plotted correctly (-1)'.The public tests cannot determine if your code satisfies these requirements. Verify your code manually.</p><p><strong><pre style='display: inline;'>scatter_plot - 2</pre> message:</strong> Note that the Gradescope autograder will deduct points if your code fails the following rubric point - 'legend is not deleted or axes are not properly labeled (-1)'.The public tests cannot determine if your code satisfies these requirements. Verify your code manually.</p>"
      ],
      "text/plain": [
       "scatter_plot results: All test cases passed!\n",
       "scatter_plot - 1 message: Note that the Gradescope autograder will deduct points if your code fails the following rubric point - 'data is not plotted correctly (-1)'.The public tests cannot determine if your code satisfies these requirements. Verify your code manually.\n",
       "scatter_plot - 2 message: Note that the Gradescope autograder will deduct points if your code fails the following rubric point - 'legend is not deleted or axes are not properly labeled (-1)'.The public tests cannot determine if your code satisfies these requirements. Verify your code manually."
      ]
     },
     "execution_count": 9,
     "metadata": {},
     "output_type": "execute_result"
    }
   ],
   "source": [
    "grader.check(\"scatter_plot\")"
   ]
  },
  {
   "cell_type": "code",
   "execution_count": 10,
   "id": "78ad8ae5",
   "metadata": {
    "execution": {
     "iopub.execute_input": "2023-12-07T22:45:52.096127Z",
     "iopub.status.busy": "2023-12-07T22:45:52.096127Z",
     "iopub.status.idle": "2023-12-07T22:45:52.101891Z",
     "shell.execute_reply": "2023-12-07T22:45:52.100928Z"
    },
    "tags": []
   },
   "outputs": [],
   "source": [
    "# copy/paste the definition of the function 'horizontal_bar_plot' from lab-p13 here\n",
    "def horizontal_bar_plot(df, x):\n",
    "    \"\"\"horizontal_bar_plot(df, x) takes in a DataFrame 'df' and displays \n",
    "    a horizontal bar plot with the column 'x' as the x-axis, and all\n",
    "    other columns of 'df' on the y-axis\"\"\"\n",
    "    df = df.set_index(x)\n",
    "    ax = df.plot.barh()\n",
    "    ax.legend(loc='center left', bbox_to_anchor=(1, 0.9))"
   ]
  },
  {
   "cell_type": "code",
   "execution_count": 11,
   "id": "2b47b88e",
   "metadata": {},
   "outputs": [
    {
     "data": {
      "text/html": [
       "<p><strong><pre style='display: inline;'>horizontal_bar_plot</pre></strong> passed! 🙌</p><p><strong><pre style='display: inline;'>horizontal_bar_plot - 1</pre> message:</strong> Note that the Gradescope autograder will deduct points if your code fails the following rubric point - 'data is not plotted correctly (-1)'.The public tests cannot determine if your code satisfies these requirements. Verify your code manually.</p>"
      ],
      "text/plain": [
       "horizontal_bar_plot results: All test cases passed!\n",
       "horizontal_bar_plot - 1 message: Note that the Gradescope autograder will deduct points if your code fails the following rubric point - 'data is not plotted correctly (-1)'.The public tests cannot determine if your code satisfies these requirements. Verify your code manually."
      ]
     },
     "execution_count": 11,
     "metadata": {},
     "output_type": "execute_result"
    }
   ],
   "source": [
    "grader.check(\"horizontal_bar_plot\")"
   ]
  },
  {
   "cell_type": "code",
   "execution_count": 12,
   "id": "aaabddd8",
   "metadata": {
    "execution": {
     "iopub.execute_input": "2023-12-07T22:45:52.271904Z",
     "iopub.status.busy": "2023-12-07T22:45:52.271904Z",
     "iopub.status.idle": "2023-12-07T22:45:52.277886Z",
     "shell.execute_reply": "2023-12-07T22:45:52.276952Z"
    },
    "tags": []
   },
   "outputs": [],
   "source": [
    "# copy/paste the definition of the function 'pie_plot' from lab-p13 here\n",
    "def pie_plot(df, x, y, title=None):\n",
    "    \"\"\"pie_plot(df, x, y, title) takes in a DataFrame 'df' and displays \n",
    "    a pie plot with the column 'x' as the x-axis, the (numeric) column\n",
    "    'y' as the y-axis, and the 'title' as the title of the plot\"\"\"\n",
    "    df = df.set_index(x)\n",
    "    ax = df.plot.pie(y=y, legend=False)\n",
    "    ax.set_ylabel(None)\n",
    "    ax.set_title(title)"
   ]
  },
  {
   "cell_type": "code",
   "execution_count": 13,
   "id": "62a523f5",
   "metadata": {},
   "outputs": [
    {
     "data": {
      "text/html": [
       "<p><strong><pre style='display: inline;'>pie_plot</pre></strong> passed! 🍀</p><p><strong><pre style='display: inline;'>pie_plot - 1</pre> message:</strong> Note that the Gradescope autograder will deduct points if your code fails the following rubric point - 'data is not plotted correctly (-1)'.The public tests cannot determine if your code satisfies these requirements. Verify your code manually.</p>"
      ],
      "text/plain": [
       "pie_plot results: All test cases passed!\n",
       "pie_plot - 1 message: Note that the Gradescope autograder will deduct points if your code fails the following rubric point - 'data is not plotted correctly (-1)'.The public tests cannot determine if your code satisfies these requirements. Verify your code manually."
      ]
     },
     "execution_count": 13,
     "metadata": {},
     "output_type": "execute_result"
    }
   ],
   "source": [
    "grader.check(\"pie_plot\")"
   ]
  },
  {
   "cell_type": "code",
   "execution_count": 14,
   "id": "5377a113",
   "metadata": {
    "execution": {
     "iopub.execute_input": "2023-12-07T22:45:52.559512Z",
     "iopub.status.busy": "2023-12-07T22:45:52.559512Z",
     "iopub.status.idle": "2023-12-07T22:45:52.566095Z",
     "shell.execute_reply": "2023-12-07T22:45:52.565086Z"
    },
    "tags": []
   },
   "outputs": [],
   "source": [
    "# copy/paste the definition of the function 'get_regression_coeff' from lab-p13 here\n",
    "def get_regression_coeff(df, x, y):\n",
    "    \"\"\"get_regression_coeff(df, x, y) takes in a DataFrame 'df' and returns \n",
    "    the slope (m) and the y-intercept (b) of the line of best fit in the\n",
    "    plot with the column 'x' as the x-axis, and the column 'y' as the y-axis\"\"\"\n",
    "    df[\"1\"] = 1\n",
    "    res = np.linalg.lstsq(df[[x, \"1\"]], df[y], rcond=None)\n",
    "    coefficients = res[0]\n",
    "    m = coefficients[0]\n",
    "    b = coefficients[1]\n",
    "    return (m, b)"
   ]
  },
  {
   "cell_type": "code",
   "execution_count": 15,
   "id": "3df56792",
   "metadata": {},
   "outputs": [
    {
     "data": {
      "text/html": [
       "<p><strong><pre style='display: inline;'>get_regression_coeff</pre></strong> passed! 🍀</p><p><strong><pre style='display: inline;'>get_regression_coeff - 1</pre> message:</strong> Note that the Gradescope autograder will deduct points if your code fails the following rubric point - 'function logic is incorrect (-1)'.The public tests cannot determine if your code satisfies these requirements. Verify your code manually.</p>"
      ],
      "text/plain": [
       "get_regression_coeff results: All test cases passed!\n",
       "get_regression_coeff - 1 message: Note that the Gradescope autograder will deduct points if your code fails the following rubric point - 'function logic is incorrect (-1)'.The public tests cannot determine if your code satisfies these requirements. Verify your code manually."
      ]
     },
     "execution_count": 15,
     "metadata": {},
     "output_type": "execute_result"
    }
   ],
   "source": [
    "grader.check(\"get_regression_coeff\")"
   ]
  },
  {
   "cell_type": "code",
   "execution_count": 16,
   "id": "ea47f898",
   "metadata": {
    "execution": {
     "iopub.execute_input": "2023-12-07T22:45:52.736533Z",
     "iopub.status.busy": "2023-12-07T22:45:52.736533Z",
     "iopub.status.idle": "2023-12-07T22:45:52.742795Z",
     "shell.execute_reply": "2023-12-07T22:45:52.741794Z"
    },
    "tags": []
   },
   "outputs": [],
   "source": [
    "# copy/paste the definition of the function 'get_regression_line' from lab-p13 here\n",
    "\n",
    "def get_regression_line(df, x, y):\n",
    "    \"\"\"get_regression_line(df, x, y) takes in a DataFrame 'df' and returns \n",
    "    a DataFrame with an additional column \"fit\" of the line of best fit in the\n",
    "    plot with the column 'x' as the x-axis, and the column 'y' as the y-axis\"\"\"\n",
    "    m = get_regression_coeff(df,x,y)[0]\n",
    "    b = get_regression_coeff(df,x,y)[1]\n",
    "    df['fit'] = m*df[x]+b\n",
    "    return df"
   ]
  },
  {
   "cell_type": "code",
   "execution_count": 17,
   "id": "183ccf02",
   "metadata": {},
   "outputs": [
    {
     "data": {
      "text/html": [
       "<p><strong><pre style='display: inline;'>get_regression_line</pre></strong> passed! 🌈</p><p><strong><pre style='display: inline;'>get_regression_line - 1</pre> message:</strong> Note that the Gradescope autograder will deduct points if your code fails the following rubric point - 'function logic is incorrect (-1)'.The public tests cannot determine if your code satisfies these requirements. Verify your code manually.</p>"
      ],
      "text/plain": [
       "get_regression_line results: All test cases passed!\n",
       "get_regression_line - 1 message: Note that the Gradescope autograder will deduct points if your code fails the following rubric point - 'function logic is incorrect (-1)'.The public tests cannot determine if your code satisfies these requirements. Verify your code manually."
      ]
     },
     "execution_count": 17,
     "metadata": {},
     "output_type": "execute_result"
    }
   ],
   "source": [
    "grader.check(\"get_regression_line\")"
   ]
  },
  {
   "cell_type": "code",
   "execution_count": 18,
   "id": "a8bfc3d2",
   "metadata": {
    "execution": {
     "iopub.execute_input": "2023-12-07T22:45:52.915303Z",
     "iopub.status.busy": "2023-12-07T22:45:52.915303Z",
     "iopub.status.idle": "2023-12-07T22:45:52.921349Z",
     "shell.execute_reply": "2023-12-07T22:45:52.920346Z"
    },
    "tags": []
   },
   "outputs": [],
   "source": [
    "# copy/paste the definition of the function 'regression_line_plot' from lab-p13 here\n",
    "def regression_line_plot(df, x, y):\n",
    "    \"\"\"regression_line_plot(df, x, y) takes in a DataFrame 'df' and displays\n",
    "    a scatter plot with the column 'x' as the x-axis, and the column\n",
    "    'y' as the y-axis, as well as the best fit line for the plot\"\"\"\n",
    "    best_fit_line = get_regression_line(df, x, y)\n",
    "    ax = best_fit_line.plot.scatter(x=x, y=y, color='black')\n",
    "    fit_line = best_fit_line.plot.line(x=x, y='fit', color = 'red', ax=ax)"
   ]
  },
  {
   "cell_type": "code",
   "execution_count": 19,
   "id": "85fd340a",
   "metadata": {},
   "outputs": [
    {
     "data": {
      "text/html": [
       "<p><strong><pre style='display: inline;'>regression_line_plot</pre></strong> passed! 🌟</p><p><strong><pre style='display: inline;'>regression_line_plot - 1</pre> message:</strong> Note that the Gradescope autograder will deduct points if your code fails the following rubric point - '`get_regression_line` function is not used to answer (-1)'.The public tests cannot determine if your code satisfies these requirements. Verify your code manually.</p><p><strong><pre style='display: inline;'>regression_line_plot - 2</pre> message:</strong> Note that the Gradescope autograder will deduct points if your code fails the following rubric point - 'function does not create correct scatter plot or the correct line plot using `df[\"fit\"]` (-1)'.The public tests cannot determine if your code satisfies these requirements. Verify your code manually.</p>"
      ],
      "text/plain": [
       "regression_line_plot results: All test cases passed!\n",
       "regression_line_plot - 1 message: Note that the Gradescope autograder will deduct points if your code fails the following rubric point - '`get_regression_line` function is not used to answer (-1)'.The public tests cannot determine if your code satisfies these requirements. Verify your code manually.\n",
       "regression_line_plot - 2 message: Note that the Gradescope autograder will deduct points if your code fails the following rubric point - 'function does not create correct scatter plot or the correct line plot using `df[\"fit\"]` (-1)'.The public tests cannot determine if your code satisfies these requirements. Verify your code manually."
      ]
     },
     "execution_count": 19,
     "metadata": {},
     "output_type": "execute_result"
    }
   ],
   "source": [
    "grader.check(\"regression_line_plot\")"
   ]
  },
  {
   "cell_type": "code",
   "execution_count": 20,
   "id": "5dd24901",
   "metadata": {
    "execution": {
     "iopub.execute_input": "2023-12-07T22:45:53.266057Z",
     "iopub.status.busy": "2023-12-07T22:45:53.266057Z",
     "iopub.status.idle": "2023-12-07T22:45:53.273435Z",
     "shell.execute_reply": "2023-12-07T22:45:53.272438Z"
    },
    "tags": []
   },
   "outputs": [],
   "source": [
    "# copy/paste the definition of the function 'download' from p12 here\n",
    "def download(url, filename):\n",
    "    # TODO: make the request\n",
    "    if os.path.exists(filename):\n",
    "        return  (str(filename) + \" already exists!\")\n",
    "    else: \n",
    "        try:\n",
    "            response = requests.get(url)\n",
    "            response.raise_for_status()\n",
    "            file_text = response.text\n",
    "        except requests.HTTPError as error:\n",
    "            print(error)\n",
    "        new_file = open(filename,'w',encoding=\"utf-8\")\n",
    "        new_file.write(file_text)\n",
    "        new_file.close()\n",
    "        return (str(filename) + \" created!\")"
   ]
  },
  {
   "cell_type": "code",
   "execution_count": 21,
   "id": "fed453d3",
   "metadata": {
    "execution": {
     "iopub.execute_input": "2023-12-07T22:45:53.277450Z",
     "iopub.status.busy": "2023-12-07T22:45:53.277450Z",
     "iopub.status.idle": "2023-12-07T22:45:53.285300Z",
     "shell.execute_reply": "2023-12-07T22:45:53.284340Z"
    },
    "tags": []
   },
   "outputs": [
    {
     "data": {
      "text/plain": [
       "'rankings.json already exists!'"
      ]
     },
     "execution_count": 21,
     "metadata": {},
     "output_type": "execute_result"
    }
   ],
   "source": [
    "# use the 'download' function to download the data from the webpage\n",
    "# 'https://git.doit.wisc.edu/cdis/cs/courses/cs220/cs220-f23-projects/-/raw/main/p13/rankings.json'\n",
    "# to the file 'rankings.json'\n",
    "download('https://git.doit.wisc.edu/cdis/cs/courses/cs220/cs220-f23-projects/-/raw/main/p13/rankings.json', 'rankings.json')"
   ]
  },
  {
   "cell_type": "markdown",
   "id": "8811a4ec",
   "metadata": {
    "deletable": false,
    "editable": false
   },
   "source": [
    "### Data Structure 1: `conn`\n",
    "\n",
    "You **must** now create a **database** called `rankings.db` out of `rankings.json`, connect to it, and save it in a variable called `conn`. You **must** use this connection to the database `rankings.db` to answer the questions that follow."
   ]
  },
  {
   "cell_type": "code",
   "execution_count": 22,
   "id": "b4a69f72",
   "metadata": {
    "execution": {
     "iopub.execute_input": "2023-12-07T22:45:53.289294Z",
     "iopub.status.busy": "2023-12-07T22:45:53.289294Z",
     "iopub.status.idle": "2023-12-07T22:45:54.092710Z",
     "shell.execute_reply": "2023-12-07T22:45:54.091692Z"
    },
    "lines_to_next_cell": 0,
    "tags": []
   },
   "outputs": [
    {
     "data": {
      "text/plain": [
       "1500"
      ]
     },
     "execution_count": 22,
     "metadata": {},
     "output_type": "execute_result"
    }
   ],
   "source": [
    "# create a database called 'rankings.db' out of 'rankings.json'\n",
    "\n",
    "# TODO: load the data from 'rankings.json' into a variable called 'rankings' using pandas' 'read_json' function\n",
    "rankings = pd.read_json('rankings.json')\n",
    "conn = sqlite3.connect('rankings')\n",
    "rankings.to_sql(\"rankings\", conn, if_exists=\"replace\", index=False)\n",
    "# TODO: connect to 'rankings.db' and save it to a variable called 'conn'\n",
    "# TODO: write the contents of the DataFrame 'rankings' to the sqlite database"
   ]
  },
  {
   "cell_type": "code",
   "execution_count": 23,
   "id": "3021183b",
   "metadata": {
    "execution": {
     "iopub.execute_input": "2023-12-07T22:45:54.096710Z",
     "iopub.status.busy": "2023-12-07T22:45:54.095697Z",
     "iopub.status.idle": "2023-12-07T22:45:54.122766Z",
     "shell.execute_reply": "2023-12-07T22:45:54.121749Z"
    },
    "tags": []
   },
   "outputs": [
    {
     "data": {
      "text/html": [
       "<div>\n",
       "<style scoped>\n",
       "    .dataframe tbody tr th:only-of-type {\n",
       "        vertical-align: middle;\n",
       "    }\n",
       "\n",
       "    .dataframe tbody tr th {\n",
       "        vertical-align: top;\n",
       "    }\n",
       "\n",
       "    .dataframe thead th {\n",
       "        text-align: right;\n",
       "    }\n",
       "</style>\n",
       "<table border=\"1\" class=\"dataframe\">\n",
       "  <thead>\n",
       "    <tr style=\"text-align: right;\">\n",
       "      <th></th>\n",
       "      <th>Year</th>\n",
       "      <th>Rank</th>\n",
       "      <th>Institution Name</th>\n",
       "      <th>Country</th>\n",
       "      <th>Academic Reputation</th>\n",
       "      <th>Employer Reputation</th>\n",
       "      <th>Faculty Student</th>\n",
       "      <th>Citations per Faculty</th>\n",
       "      <th>International Faculty</th>\n",
       "      <th>International Students</th>\n",
       "      <th>International Research Network</th>\n",
       "      <th>Employment Outcomes</th>\n",
       "      <th>Sustainability</th>\n",
       "      <th>Overall</th>\n",
       "    </tr>\n",
       "  </thead>\n",
       "  <tbody>\n",
       "    <tr>\n",
       "      <th>0</th>\n",
       "      <td>2022</td>\n",
       "      <td>1</td>\n",
       "      <td>Massachusetts Institute of Technology (MIT)</td>\n",
       "      <td>United States</td>\n",
       "      <td>100.0</td>\n",
       "      <td>100.0</td>\n",
       "      <td>100.0</td>\n",
       "      <td>100.0</td>\n",
       "      <td>100.0</td>\n",
       "      <td>91.4</td>\n",
       "      <td>None</td>\n",
       "      <td>None</td>\n",
       "      <td>None</td>\n",
       "      <td>100.0</td>\n",
       "    </tr>\n",
       "    <tr>\n",
       "      <th>1</th>\n",
       "      <td>2022</td>\n",
       "      <td>2</td>\n",
       "      <td>University of Oxford</td>\n",
       "      <td>United Kingdom</td>\n",
       "      <td>100.0</td>\n",
       "      <td>100.0</td>\n",
       "      <td>100.0</td>\n",
       "      <td>96.0</td>\n",
       "      <td>99.5</td>\n",
       "      <td>98.5</td>\n",
       "      <td>None</td>\n",
       "      <td>None</td>\n",
       "      <td>None</td>\n",
       "      <td>99.5</td>\n",
       "    </tr>\n",
       "    <tr>\n",
       "      <th>2</th>\n",
       "      <td>2022</td>\n",
       "      <td>3</td>\n",
       "      <td>Stanford University</td>\n",
       "      <td>United States</td>\n",
       "      <td>100.0</td>\n",
       "      <td>100.0</td>\n",
       "      <td>100.0</td>\n",
       "      <td>99.9</td>\n",
       "      <td>99.8</td>\n",
       "      <td>67.0</td>\n",
       "      <td>None</td>\n",
       "      <td>None</td>\n",
       "      <td>None</td>\n",
       "      <td>98.7</td>\n",
       "    </tr>\n",
       "    <tr>\n",
       "      <th>3</th>\n",
       "      <td>2022</td>\n",
       "      <td>3</td>\n",
       "      <td>University of Cambridge</td>\n",
       "      <td>United Kingdom</td>\n",
       "      <td>100.0</td>\n",
       "      <td>100.0</td>\n",
       "      <td>100.0</td>\n",
       "      <td>92.1</td>\n",
       "      <td>100.0</td>\n",
       "      <td>97.7</td>\n",
       "      <td>None</td>\n",
       "      <td>None</td>\n",
       "      <td>None</td>\n",
       "      <td>98.7</td>\n",
       "    </tr>\n",
       "    <tr>\n",
       "      <th>4</th>\n",
       "      <td>2022</td>\n",
       "      <td>5</td>\n",
       "      <td>Harvard University</td>\n",
       "      <td>United States</td>\n",
       "      <td>100.0</td>\n",
       "      <td>100.0</td>\n",
       "      <td>99.1</td>\n",
       "      <td>100.0</td>\n",
       "      <td>84.2</td>\n",
       "      <td>70.1</td>\n",
       "      <td>None</td>\n",
       "      <td>None</td>\n",
       "      <td>None</td>\n",
       "      <td>98.0</td>\n",
       "    </tr>\n",
       "  </tbody>\n",
       "</table>\n",
       "</div>"
      ],
      "text/plain": [
       "   Year  Rank                              Institution Name         Country  \\\n",
       "0  2022     1  Massachusetts Institute of Technology (MIT)    United States   \n",
       "1  2022     2                          University of Oxford  United Kingdom   \n",
       "2  2022     3                           Stanford University   United States   \n",
       "3  2022     3                       University of Cambridge  United Kingdom   \n",
       "4  2022     5                            Harvard University   United States   \n",
       "\n",
       "   Academic Reputation  Employer Reputation  Faculty Student  \\\n",
       "0                100.0                100.0            100.0   \n",
       "1                100.0                100.0            100.0   \n",
       "2                100.0                100.0            100.0   \n",
       "3                100.0                100.0            100.0   \n",
       "4                100.0                100.0             99.1   \n",
       "\n",
       "   Citations per Faculty  International Faculty  International Students  \\\n",
       "0                  100.0                  100.0                    91.4   \n",
       "1                   96.0                   99.5                    98.5   \n",
       "2                   99.9                   99.8                    67.0   \n",
       "3                   92.1                  100.0                    97.7   \n",
       "4                  100.0                   84.2                    70.1   \n",
       "\n",
       "  International Research Network Employment Outcomes Sustainability  Overall  \n",
       "0                           None                None           None    100.0  \n",
       "1                           None                None           None     99.5  \n",
       "2                           None                None           None     98.7  \n",
       "3                           None                None           None     98.7  \n",
       "4                           None                None           None     98.0  "
      ]
     },
     "execution_count": 23,
     "metadata": {},
     "output_type": "execute_result"
    }
   ],
   "source": [
    "# run this cell and confirm that you have defined the variables correctly\n",
    "\n",
    "pd.read_sql(\"SELECT * FROM rankings LIMIT 5\", conn)"
   ]
  },
  {
   "cell_type": "code",
   "execution_count": 24,
   "id": "b1471f25",
   "metadata": {},
   "outputs": [
    {
     "data": {
      "text/html": [
       "<p><strong><pre style='display: inline;'>conn</pre></strong> passed! 🚀</p><p><strong><pre style='display: inline;'>conn - 1</pre> message:</strong> Note that the Gradescope autograder will deduct points if your code fails the following rubric point - 'data structure is defined more than once (-1)'.The public tests cannot determine if your code satisfies these requirements. Verify your code manually.</p><p><strong><pre style='display: inline;'>conn - 2</pre> message:</strong> Note that the Gradescope autograder will deduct points if your code fails the following rubric point - 'did not close the connection to `conn` at the end (-2)'.The public tests cannot determine if your code satisfies these requirements. Verify your code manually.</p>"
      ],
      "text/plain": [
       "conn results: All test cases passed!\n",
       "conn - 1 message: Note that the Gradescope autograder will deduct points if your code fails the following rubric point - 'data structure is defined more than once (-1)'.The public tests cannot determine if your code satisfies these requirements. Verify your code manually.\n",
       "conn - 2 message: Note that the Gradescope autograder will deduct points if your code fails the following rubric point - 'did not close the connection to `conn` at the end (-2)'.The public tests cannot determine if your code satisfies these requirements. Verify your code manually."
      ]
     },
     "execution_count": 24,
     "metadata": {},
     "output_type": "execute_result"
    }
   ],
   "source": [
    "grader.check(\"conn\")"
   ]
  },
  {
   "cell_type": "markdown",
   "id": "d75f6fea",
   "metadata": {
    "deletable": false,
    "editable": false
   },
   "source": [
    "**Question 1:** List **all** the statistics of the institution with the `Institution Name` *University of Wisconsin-Madison*. \n",
    "\n",
    "You **must** display **all** the columns. The rows **must** be in *ascending* order of `Year`.\n",
    "\n",
    "Your output **must** be a **DataFrame** that looks like this:\n",
    "\n",
    "||**Year**|**Rank**|**Institution Name**|**Country**|**Academic Reputation**|**Employer Reputation**|**Faculty Student**|**Citations per Faculty**|**International Faculty**|**International Students**|**International Research Network**|**Employment Outcomes**|**Sustainability**|**Overall**|\n",
    "|---|---|---|---|---|---|---|---|---|---|---|---|---|---|---|\n",
    "|**0**|2022|75|University of Wisconsin-Madison|United States|83.4|52.8|69.2|58.4|8.1|27.5|nan|nan|nan|66.2|\n",
    "|**1**|2023|83|University of Wisconsin-Madison|United States|82.4|48.1|70.6|41.9|37.7|23.8|93.2|84.6|nan|63.7|\n",
    "|**2**|2024|102|University of Wisconsin-Madison|United States|80.2|47.8|61.3|37.4|30.9|22.8|83.6|73.1|83.7|60.0|"
   ]
  },
  {
   "cell_type": "code",
   "execution_count": 25,
   "id": "a493dd4d",
   "metadata": {
    "execution": {
     "iopub.execute_input": "2023-12-07T22:45:54.464390Z",
     "iopub.status.busy": "2023-12-07T22:45:54.464390Z",
     "iopub.status.idle": "2023-12-07T22:45:54.492825Z",
     "shell.execute_reply": "2023-12-07T22:45:54.491828Z"
    },
    "tags": []
   },
   "outputs": [
    {
     "data": {
      "text/html": [
       "<div>\n",
       "<style scoped>\n",
       "    .dataframe tbody tr th:only-of-type {\n",
       "        vertical-align: middle;\n",
       "    }\n",
       "\n",
       "    .dataframe tbody tr th {\n",
       "        vertical-align: top;\n",
       "    }\n",
       "\n",
       "    .dataframe thead th {\n",
       "        text-align: right;\n",
       "    }\n",
       "</style>\n",
       "<table border=\"1\" class=\"dataframe\">\n",
       "  <thead>\n",
       "    <tr style=\"text-align: right;\">\n",
       "      <th></th>\n",
       "      <th>Year</th>\n",
       "      <th>Rank</th>\n",
       "      <th>Institution Name</th>\n",
       "      <th>Country</th>\n",
       "      <th>Academic Reputation</th>\n",
       "      <th>Employer Reputation</th>\n",
       "      <th>Faculty Student</th>\n",
       "      <th>Citations per Faculty</th>\n",
       "      <th>International Faculty</th>\n",
       "      <th>International Students</th>\n",
       "      <th>International Research Network</th>\n",
       "      <th>Employment Outcomes</th>\n",
       "      <th>Sustainability</th>\n",
       "      <th>Overall</th>\n",
       "    </tr>\n",
       "  </thead>\n",
       "  <tbody>\n",
       "    <tr>\n",
       "      <th>0</th>\n",
       "      <td>2022</td>\n",
       "      <td>75</td>\n",
       "      <td>University of Wisconsin-Madison</td>\n",
       "      <td>United States</td>\n",
       "      <td>83.4</td>\n",
       "      <td>52.8</td>\n",
       "      <td>69.2</td>\n",
       "      <td>58.4</td>\n",
       "      <td>8.1</td>\n",
       "      <td>27.5</td>\n",
       "      <td>NaN</td>\n",
       "      <td>NaN</td>\n",
       "      <td>NaN</td>\n",
       "      <td>66.2</td>\n",
       "    </tr>\n",
       "    <tr>\n",
       "      <th>1</th>\n",
       "      <td>2023</td>\n",
       "      <td>83</td>\n",
       "      <td>University of Wisconsin-Madison</td>\n",
       "      <td>United States</td>\n",
       "      <td>82.4</td>\n",
       "      <td>48.1</td>\n",
       "      <td>70.6</td>\n",
       "      <td>41.9</td>\n",
       "      <td>37.7</td>\n",
       "      <td>23.8</td>\n",
       "      <td>93.2</td>\n",
       "      <td>84.6</td>\n",
       "      <td>NaN</td>\n",
       "      <td>63.7</td>\n",
       "    </tr>\n",
       "    <tr>\n",
       "      <th>2</th>\n",
       "      <td>2024</td>\n",
       "      <td>102</td>\n",
       "      <td>University of Wisconsin-Madison</td>\n",
       "      <td>United States</td>\n",
       "      <td>80.2</td>\n",
       "      <td>47.8</td>\n",
       "      <td>61.3</td>\n",
       "      <td>37.4</td>\n",
       "      <td>30.9</td>\n",
       "      <td>22.8</td>\n",
       "      <td>83.6</td>\n",
       "      <td>73.1</td>\n",
       "      <td>83.7</td>\n",
       "      <td>60.0</td>\n",
       "    </tr>\n",
       "  </tbody>\n",
       "</table>\n",
       "</div>"
      ],
      "text/plain": [
       "   Year  Rank                 Institution Name        Country  \\\n",
       "0  2022    75  University of Wisconsin-Madison  United States   \n",
       "1  2023    83  University of Wisconsin-Madison  United States   \n",
       "2  2024   102  University of Wisconsin-Madison  United States   \n",
       "\n",
       "   Academic Reputation  Employer Reputation  Faculty Student  \\\n",
       "0                 83.4                 52.8             69.2   \n",
       "1                 82.4                 48.1             70.6   \n",
       "2                 80.2                 47.8             61.3   \n",
       "\n",
       "   Citations per Faculty  International Faculty  International Students  \\\n",
       "0                   58.4                    8.1                    27.5   \n",
       "1                   41.9                   37.7                    23.8   \n",
       "2                   37.4                   30.9                    22.8   \n",
       "\n",
       "   International Research Network  Employment Outcomes  Sustainability  \\\n",
       "0                             NaN                  NaN             NaN   \n",
       "1                            93.2                 84.6             NaN   \n",
       "2                            83.6                 73.1            83.7   \n",
       "\n",
       "   Overall  \n",
       "0     66.2  \n",
       "1     63.7  \n",
       "2     60.0  "
      ]
     },
     "execution_count": 25,
     "metadata": {},
     "output_type": "execute_result"
    }
   ],
   "source": [
    "# compute and store the answer in the variable 'uw_stats', then display it\n",
    "qry = \"\"\"\n",
    "    SELECT *\n",
    "    FROM rankings\n",
    "    WHERE `Institution Name` = 'University of Wisconsin-Madison'\n",
    "    ORDER BY `Year` ASC\n",
    "\n",
    "\"\"\"\n",
    "uw_stats = pd.read_sql(qry, conn)\n",
    "uw_stats"
   ]
  },
  {
   "cell_type": "code",
   "execution_count": 26,
   "id": "cb02b488",
   "metadata": {},
   "outputs": [
    {
     "data": {
      "text/html": [
       "<p><strong><pre style='display: inline;'>q1</pre></strong> passed! 🙌</p><p><strong><pre style='display: inline;'>q1 - 2</pre> message:</strong> Note that the Gradescope autograder will deduct points if your code fails the following rubric point - 'did not use SQL to answer (-2)'.The public tests cannot determine if your code satisfies these requirements. Verify your code manually.</p><p><strong><pre style='display: inline;'>q1 - 3</pre> message:</strong> Note that the Gradescope autograder will deduct points if your code fails the following rubric point - 'incorrect logic is used to answer (-1)'.The public tests cannot determine if your code satisfies these requirements. Verify your code manually.</p>"
      ],
      "text/plain": [
       "q1 results: All test cases passed!\n",
       "q1 - 2 message: Note that the Gradescope autograder will deduct points if your code fails the following rubric point - 'did not use SQL to answer (-2)'.The public tests cannot determine if your code satisfies these requirements. Verify your code manually.\n",
       "q1 - 3 message: Note that the Gradescope autograder will deduct points if your code fails the following rubric point - 'incorrect logic is used to answer (-1)'.The public tests cannot determine if your code satisfies these requirements. Verify your code manually."
      ]
     },
     "execution_count": 26,
     "metadata": {},
     "output_type": "execute_result"
    }
   ],
   "source": [
    "grader.check(\"q1\")"
   ]
  },
  {
   "cell_type": "markdown",
   "id": "df32cce5",
   "metadata": {
    "deletable": false,
    "editable": false
   },
   "source": [
    "**Question 2:** What are the **top** *10* institutions in *Japan* which had the **highest** score of `International Students` in the `Year` *2024*?\n",
    "\n",
    "You **must** display the columns `Institution Name` and `International Students`. The rows **must** be in *descending* order of `International Students`.\n",
    "\n",
    "Your output **must** be a **DataFrame** that looks like this:\n",
    "\n",
    "||**Institution Name**|**International Students**|\n",
    "|---|---|---|\n",
    "|**0**|Tokyo Institute of Technology (Tokyo Tech)|31.7|\n",
    "|**1**|The University of Tokyo|29.2|\n",
    "|**2**|Waseda University|28.6|\n",
    "|**3**|Kyushu University|25.6|\n",
    "|**4**|Hitotsubashi University|22.4|\n",
    "|**5**|University of Tsukuba|21.2|\n",
    "|**6**|Kyoto University|20.8|\n",
    "|**7**|Nagoya University|19.1|\n",
    "|**8**|Hokkaido University|14.4|\n",
    "|**9**|Tohoku University|13.8|"
   ]
  },
  {
   "cell_type": "code",
   "execution_count": 27,
   "id": "5dff8ddf",
   "metadata": {
    "execution": {
     "iopub.execute_input": "2023-12-07T22:45:54.876448Z",
     "iopub.status.busy": "2023-12-07T22:45:54.876448Z",
     "iopub.status.idle": "2023-12-07T22:45:54.889579Z",
     "shell.execute_reply": "2023-12-07T22:45:54.888583Z"
    },
    "tags": []
   },
   "outputs": [
    {
     "data": {
      "text/html": [
       "<div>\n",
       "<style scoped>\n",
       "    .dataframe tbody tr th:only-of-type {\n",
       "        vertical-align: middle;\n",
       "    }\n",
       "\n",
       "    .dataframe tbody tr th {\n",
       "        vertical-align: top;\n",
       "    }\n",
       "\n",
       "    .dataframe thead th {\n",
       "        text-align: right;\n",
       "    }\n",
       "</style>\n",
       "<table border=\"1\" class=\"dataframe\">\n",
       "  <thead>\n",
       "    <tr style=\"text-align: right;\">\n",
       "      <th></th>\n",
       "      <th>Institution Name</th>\n",
       "      <th>International Students</th>\n",
       "    </tr>\n",
       "  </thead>\n",
       "  <tbody>\n",
       "    <tr>\n",
       "      <th>0</th>\n",
       "      <td>Tokyo Institute of Technology (Tokyo Tech)</td>\n",
       "      <td>31.7</td>\n",
       "    </tr>\n",
       "    <tr>\n",
       "      <th>1</th>\n",
       "      <td>The University of Tokyo</td>\n",
       "      <td>29.2</td>\n",
       "    </tr>\n",
       "    <tr>\n",
       "      <th>2</th>\n",
       "      <td>Waseda University</td>\n",
       "      <td>28.6</td>\n",
       "    </tr>\n",
       "    <tr>\n",
       "      <th>3</th>\n",
       "      <td>Kyushu University</td>\n",
       "      <td>25.6</td>\n",
       "    </tr>\n",
       "    <tr>\n",
       "      <th>4</th>\n",
       "      <td>Hitotsubashi University</td>\n",
       "      <td>22.4</td>\n",
       "    </tr>\n",
       "    <tr>\n",
       "      <th>5</th>\n",
       "      <td>University of Tsukuba</td>\n",
       "      <td>21.2</td>\n",
       "    </tr>\n",
       "    <tr>\n",
       "      <th>6</th>\n",
       "      <td>Kyoto University</td>\n",
       "      <td>20.8</td>\n",
       "    </tr>\n",
       "    <tr>\n",
       "      <th>7</th>\n",
       "      <td>Nagoya University</td>\n",
       "      <td>19.1</td>\n",
       "    </tr>\n",
       "    <tr>\n",
       "      <th>8</th>\n",
       "      <td>Hokkaido University</td>\n",
       "      <td>14.4</td>\n",
       "    </tr>\n",
       "    <tr>\n",
       "      <th>9</th>\n",
       "      <td>Tohoku University</td>\n",
       "      <td>13.8</td>\n",
       "    </tr>\n",
       "  </tbody>\n",
       "</table>\n",
       "</div>"
      ],
      "text/plain": [
       "                             Institution Name  International Students\n",
       "0  Tokyo Institute of Technology (Tokyo Tech)                    31.7\n",
       "1                     The University of Tokyo                    29.2\n",
       "2                           Waseda University                    28.6\n",
       "3                           Kyushu University                    25.6\n",
       "4                     Hitotsubashi University                    22.4\n",
       "5                       University of Tsukuba                    21.2\n",
       "6                            Kyoto University                    20.8\n",
       "7                           Nagoya University                    19.1\n",
       "8                         Hokkaido University                    14.4\n",
       "9                           Tohoku University                    13.8"
      ]
     },
     "execution_count": 27,
     "metadata": {},
     "output_type": "execute_result"
    }
   ],
   "source": [
    "# compute and store the answer in the variable 'japan_top_10_inter', then display it\n",
    "qry = \"\"\"\n",
    "    SELECT `Institution Name`, `International Students`\n",
    "    FROM rankings\n",
    "    WHERE `Year` = 2024 AND `Country` = 'Japan'\n",
    "    ORDER BY `International Students` DESC\n",
    "    LIMIT 10\n",
    "\"\"\"\n",
    "\n",
    "japan_top_10_inter = pd.read_sql(qry, conn)\n",
    "\n",
    "japan_top_10_inter"
   ]
  },
  {
   "cell_type": "code",
   "execution_count": 28,
   "id": "6f48b014",
   "metadata": {},
   "outputs": [
    {
     "data": {
      "text/html": [
       "<p><strong><pre style='display: inline;'>q2</pre></strong> passed! 🙌</p><p><strong><pre style='display: inline;'>q2 - 2</pre> message:</strong> Note that the Gradescope autograder will deduct points if your code fails the following rubric point - 'did not use SQL to answer (-2)'.The public tests cannot determine if your code satisfies these requirements. Verify your code manually.</p><p><strong><pre style='display: inline;'>q2 - 3</pre> message:</strong> Note that the Gradescope autograder will deduct points if your code fails the following rubric point - 'incorrect logic is used to answer (-2)'.The public tests cannot determine if your code satisfies these requirements. Verify your code manually.</p>"
      ],
      "text/plain": [
       "q2 results: All test cases passed!\n",
       "q2 - 2 message: Note that the Gradescope autograder will deduct points if your code fails the following rubric point - 'did not use SQL to answer (-2)'.The public tests cannot determine if your code satisfies these requirements. Verify your code manually.\n",
       "q2 - 3 message: Note that the Gradescope autograder will deduct points if your code fails the following rubric point - 'incorrect logic is used to answer (-2)'.The public tests cannot determine if your code satisfies these requirements. Verify your code manually."
      ]
     },
     "execution_count": 28,
     "metadata": {},
     "output_type": "execute_result"
    }
   ],
   "source": [
    "grader.check(\"q2\")"
   ]
  },
  {
   "cell_type": "markdown",
   "id": "a32f7b29",
   "metadata": {
    "deletable": false,
    "editable": false
   },
   "source": [
    "**Question 3:** What are the **top** *10* institutions in the *United States* which had the **highest** *reputation* in the `Year` *2023*?\n",
    "\n",
    "The `Reputation` of an institution is defined as the sum of `Academic Reputation` and `Employer Reputation`. You **must** display the columns `Institution Name` and `Reputation`. The rows **must** be in *descending* order of `Reputation`. In case the `reputation` is tied, the rows must be in *alphabetical* order of `Institution Name`.\n",
    "\n",
    "Your output **must** be a **DataFrame** that looks like this:\n",
    "\n",
    "||**Institution Name**|**Reputation**|\n",
    "|---|---|---|\n",
    "|**0**|Harvard University|200.0|\n",
    "|**1**|Massachusetts Institute of Technology (MIT) |200.0|\n",
    "|**2**|Stanford University|200.0|\n",
    "|**3**|University of California, Berkeley (UCB)|200.0|\n",
    "|**4**|University of California, Los Angeles (UCLA)|199.9|\n",
    "|**5**|Yale University|199.9|\n",
    "|**6**|Princeton University|198.8|\n",
    "|**7**|Columbia University|197.8|\n",
    "|**8**|New York University (NYU)|194.9|\n",
    "|**9**|University of Chicago|191.4|\n",
    "\n",
    "**Hint:** You can use mathematical expressions in your **SELECT** clause. For example, if you wish to add the `Academic Reputation` and `Employer Reputation` for each institution, you could use the following query:\n",
    "\n",
    "```sql\n",
    "SELECT (`Academic Reputation` + `Employer Reputation`) FROM rankings\n",
    "```"
   ]
  },
  {
   "cell_type": "code",
   "execution_count": 29,
   "id": "65dce186",
   "metadata": {
    "execution": {
     "iopub.execute_input": "2023-12-07T22:45:55.256073Z",
     "iopub.status.busy": "2023-12-07T22:45:55.256073Z",
     "iopub.status.idle": "2023-12-07T22:45:55.268823Z",
     "shell.execute_reply": "2023-12-07T22:45:55.267824Z"
    },
    "tags": []
   },
   "outputs": [
    {
     "data": {
      "text/html": [
       "<div>\n",
       "<style scoped>\n",
       "    .dataframe tbody tr th:only-of-type {\n",
       "        vertical-align: middle;\n",
       "    }\n",
       "\n",
       "    .dataframe tbody tr th {\n",
       "        vertical-align: top;\n",
       "    }\n",
       "\n",
       "    .dataframe thead th {\n",
       "        text-align: right;\n",
       "    }\n",
       "</style>\n",
       "<table border=\"1\" class=\"dataframe\">\n",
       "  <thead>\n",
       "    <tr style=\"text-align: right;\">\n",
       "      <th></th>\n",
       "      <th>Institution Name</th>\n",
       "      <th>Reputation</th>\n",
       "    </tr>\n",
       "  </thead>\n",
       "  <tbody>\n",
       "    <tr>\n",
       "      <th>0</th>\n",
       "      <td>Harvard University</td>\n",
       "      <td>200.0</td>\n",
       "    </tr>\n",
       "    <tr>\n",
       "      <th>1</th>\n",
       "      <td>Massachusetts Institute of Technology (MIT)</td>\n",
       "      <td>200.0</td>\n",
       "    </tr>\n",
       "    <tr>\n",
       "      <th>2</th>\n",
       "      <td>Stanford University</td>\n",
       "      <td>200.0</td>\n",
       "    </tr>\n",
       "    <tr>\n",
       "      <th>3</th>\n",
       "      <td>University of California, Berkeley (UCB)</td>\n",
       "      <td>200.0</td>\n",
       "    </tr>\n",
       "    <tr>\n",
       "      <th>4</th>\n",
       "      <td>University of California, Los Angeles (UCLA)</td>\n",
       "      <td>199.9</td>\n",
       "    </tr>\n",
       "    <tr>\n",
       "      <th>5</th>\n",
       "      <td>Yale University</td>\n",
       "      <td>199.9</td>\n",
       "    </tr>\n",
       "    <tr>\n",
       "      <th>6</th>\n",
       "      <td>Princeton University</td>\n",
       "      <td>198.8</td>\n",
       "    </tr>\n",
       "    <tr>\n",
       "      <th>7</th>\n",
       "      <td>Columbia University</td>\n",
       "      <td>197.8</td>\n",
       "    </tr>\n",
       "    <tr>\n",
       "      <th>8</th>\n",
       "      <td>New York University (NYU)</td>\n",
       "      <td>194.9</td>\n",
       "    </tr>\n",
       "    <tr>\n",
       "      <th>9</th>\n",
       "      <td>University of Chicago</td>\n",
       "      <td>191.4</td>\n",
       "    </tr>\n",
       "  </tbody>\n",
       "</table>\n",
       "</div>"
      ],
      "text/plain": [
       "                               Institution Name  Reputation\n",
       "0                            Harvard University       200.0\n",
       "1  Massachusetts Institute of Technology (MIT)        200.0\n",
       "2                           Stanford University       200.0\n",
       "3      University of California, Berkeley (UCB)       200.0\n",
       "4  University of California, Los Angeles (UCLA)       199.9\n",
       "5                               Yale University       199.9\n",
       "6                          Princeton University       198.8\n",
       "7                           Columbia University       197.8\n",
       "8                     New York University (NYU)       194.9\n",
       "9                         University of Chicago       191.4"
      ]
     },
     "execution_count": 29,
     "metadata": {},
     "output_type": "execute_result"
    }
   ],
   "source": [
    "# compute and store the answer in the variable 'us_top_10_rep', then display it\n",
    "qry = \"\"\"\n",
    "    SELECT `Institution Name`, (`Academic Reputation` + `Employer Reputation`) As `Reputation`\n",
    "    FROM rankings\n",
    "    WHERE `Year` = 2023 AND `Country` = 'United States'\n",
    "    ORDER BY `Reputation` DESC, `Institution Name` ASC\n",
    "    LIMIT 10\n",
    "\"\"\"\n",
    "us_top_10_rep = pd.read_sql(qry, conn)\n",
    "\n",
    "us_top_10_rep"
   ]
  },
  {
   "cell_type": "code",
   "execution_count": 30,
   "id": "a069696f",
   "metadata": {},
   "outputs": [
    {
     "data": {
      "text/html": [
       "<p><strong><pre style='display: inline;'>q3</pre></strong> passed! 🙌</p><p><strong><pre style='display: inline;'>q3 - 2</pre> message:</strong> Note that the Gradescope autograder will deduct points if your code fails the following rubric point - 'did not use SQL to answer (-2)'.The public tests cannot determine if your code satisfies these requirements. Verify your code manually.</p><p><strong><pre style='display: inline;'>q3 - 3</pre> message:</strong> Note that the Gradescope autograder will deduct points if your code fails the following rubric point - 'incorrect logic is used to answer (-2)'.The public tests cannot determine if your code satisfies these requirements. Verify your code manually.</p>"
      ],
      "text/plain": [
       "q3 results: All test cases passed!\n",
       "q3 - 2 message: Note that the Gradescope autograder will deduct points if your code fails the following rubric point - 'did not use SQL to answer (-2)'.The public tests cannot determine if your code satisfies these requirements. Verify your code manually.\n",
       "q3 - 3 message: Note that the Gradescope autograder will deduct points if your code fails the following rubric point - 'incorrect logic is used to answer (-2)'.The public tests cannot determine if your code satisfies these requirements. Verify your code manually."
      ]
     },
     "execution_count": 30,
     "metadata": {},
     "output_type": "execute_result"
    }
   ],
   "source": [
    "grader.check(\"q3\")"
   ]
  },
  {
   "cell_type": "markdown",
   "id": "fb2d82c7",
   "metadata": {
    "deletable": false,
    "editable": false
   },
   "source": [
    "**Question 4:** What are the **top** *10* countries which had the **most** *institutions* listed in the `year` *2022*?\n",
    "\n",
    "You **must** display the columns `Country` and `Number of Institutions`. The `Number of Institutions` of a country is defined as the number of institutions from that country. The rows **must** be in *descending* order of `Number of Institutions`. In case the `Number of Institutions` is tied, the rows must be in *alphabetical* order of `Country`.\n",
    "\n",
    "**Hint:** You **must** use the `COUNT` SQL function to answer this question.\n",
    "\n",
    "Your output **must** be a **DataFrame** that looks like this:\n",
    "\n",
    "||**Country**|**Number of Institutions**|\n",
    "|---|---|---|\n",
    "|**0**|United States|87|\n",
    "|**1**|United Kingdom|49|\n",
    "|**2**|Germany|31|\n",
    "|**3**|Australia|26|\n",
    "|**4**|China (Mainland)|26|\n",
    "|**5**|Russia|17|\n",
    "|**6**|Canada|16|\n",
    "|**7**|Japan|16|\n",
    "|**8**|South Korea|16|\n",
    "|**9**|Italy|14|"
   ]
  },
  {
   "cell_type": "code",
   "execution_count": 31,
   "id": "e6446be7",
   "metadata": {
    "execution": {
     "iopub.execute_input": "2023-12-07T22:45:55.645649Z",
     "iopub.status.busy": "2023-12-07T22:45:55.644648Z",
     "iopub.status.idle": "2023-12-07T22:45:55.663504Z",
     "shell.execute_reply": "2023-12-07T22:45:55.662508Z"
    },
    "tags": []
   },
   "outputs": [
    {
     "data": {
      "text/html": [
       "<div>\n",
       "<style scoped>\n",
       "    .dataframe tbody tr th:only-of-type {\n",
       "        vertical-align: middle;\n",
       "    }\n",
       "\n",
       "    .dataframe tbody tr th {\n",
       "        vertical-align: top;\n",
       "    }\n",
       "\n",
       "    .dataframe thead th {\n",
       "        text-align: right;\n",
       "    }\n",
       "</style>\n",
       "<table border=\"1\" class=\"dataframe\">\n",
       "  <thead>\n",
       "    <tr style=\"text-align: right;\">\n",
       "      <th></th>\n",
       "      <th>Country</th>\n",
       "      <th>Number of Institutions</th>\n",
       "    </tr>\n",
       "  </thead>\n",
       "  <tbody>\n",
       "    <tr>\n",
       "      <th>0</th>\n",
       "      <td>United States</td>\n",
       "      <td>87</td>\n",
       "    </tr>\n",
       "    <tr>\n",
       "      <th>1</th>\n",
       "      <td>United Kingdom</td>\n",
       "      <td>49</td>\n",
       "    </tr>\n",
       "    <tr>\n",
       "      <th>2</th>\n",
       "      <td>Germany</td>\n",
       "      <td>31</td>\n",
       "    </tr>\n",
       "    <tr>\n",
       "      <th>3</th>\n",
       "      <td>Australia</td>\n",
       "      <td>26</td>\n",
       "    </tr>\n",
       "    <tr>\n",
       "      <th>4</th>\n",
       "      <td>China (Mainland)</td>\n",
       "      <td>26</td>\n",
       "    </tr>\n",
       "    <tr>\n",
       "      <th>5</th>\n",
       "      <td>Russia</td>\n",
       "      <td>17</td>\n",
       "    </tr>\n",
       "    <tr>\n",
       "      <th>6</th>\n",
       "      <td>Canada</td>\n",
       "      <td>16</td>\n",
       "    </tr>\n",
       "    <tr>\n",
       "      <th>7</th>\n",
       "      <td>Japan</td>\n",
       "      <td>16</td>\n",
       "    </tr>\n",
       "    <tr>\n",
       "      <th>8</th>\n",
       "      <td>South Korea</td>\n",
       "      <td>16</td>\n",
       "    </tr>\n",
       "    <tr>\n",
       "      <th>9</th>\n",
       "      <td>Italy</td>\n",
       "      <td>14</td>\n",
       "    </tr>\n",
       "  </tbody>\n",
       "</table>\n",
       "</div>"
      ],
      "text/plain": [
       "            Country  Number of Institutions\n",
       "0     United States                      87\n",
       "1    United Kingdom                      49\n",
       "2           Germany                      31\n",
       "3         Australia                      26\n",
       "4  China (Mainland)                      26\n",
       "5            Russia                      17\n",
       "6            Canada                      16\n",
       "7             Japan                      16\n",
       "8       South Korea                      16\n",
       "9             Italy                      14"
      ]
     },
     "execution_count": 31,
     "metadata": {},
     "output_type": "execute_result"
    }
   ],
   "source": [
    "# compute and store the answer in the variable 'top_10_countries', then display it\n",
    "qry = \"\"\"\n",
    "    SELECT `Country`, COUNT(`Institution Name`) As `Number of Institutions`\n",
    "    FROM rankings\n",
    "    WHERE `Year` = 2022\n",
    "    GROUP BY `Country`\n",
    "    ORDER BY `Number of Institutions` DESC, `Country` ASC\n",
    "    LIMIT 10\n",
    "\"\"\"\n",
    "\n",
    "top_10_countries = pd.read_sql(qry, conn)\n",
    "\n",
    "top_10_countries"
   ]
  },
  {
   "cell_type": "code",
   "execution_count": 32,
   "id": "3301bfc9",
   "metadata": {},
   "outputs": [
    {
     "data": {
      "text/html": [
       "<p><strong><pre style='display: inline;'>q4</pre></strong> passed! 🙌</p><p><strong><pre style='display: inline;'>q4 - 2</pre> message:</strong> Note that the Gradescope autograder will deduct points if your code fails the following rubric point - 'did not use SQL to answer (-2)'.The public tests cannot determine if your code satisfies these requirements. Verify your code manually.</p><p><strong><pre style='display: inline;'>q4 - 3</pre> message:</strong> Note that the Gradescope autograder will deduct points if your code fails the following rubric point - 'incorrect logic is used to answer (-2)'.The public tests cannot determine if your code satisfies these requirements. Verify your code manually.</p>"
      ],
      "text/plain": [
       "q4 results: All test cases passed!\n",
       "q4 - 2 message: Note that the Gradescope autograder will deduct points if your code fails the following rubric point - 'did not use SQL to answer (-2)'.The public tests cannot determine if your code satisfies these requirements. Verify your code manually.\n",
       "q4 - 3 message: Note that the Gradescope autograder will deduct points if your code fails the following rubric point - 'incorrect logic is used to answer (-2)'.The public tests cannot determine if your code satisfies these requirements. Verify your code manually."
      ]
     },
     "execution_count": 32,
     "metadata": {},
     "output_type": "execute_result"
    }
   ],
   "source": [
    "grader.check(\"q4\")"
   ]
  },
  {
   "cell_type": "markdown",
   "id": "d5f22258",
   "metadata": {
    "deletable": false,
    "editable": false
   },
   "source": [
    "**Question 5:** Create a **bar plot** using the data from Question 4 with the `Country` on the **x-axis** and the `Number of Institutions` on the **y-axis**.\n",
    "\n",
    "In addition to the top ten countries, you **must** also aggregate the data for **all** the **other** countries, and represent that number in the **row** `Other`. You are **allowed** to do this using any combination of  SQL queries and pandas operations.\n",
    "\n",
    "You **must** first compute a **DataFrame** `num_institutions` containing the **Country**, and the **Number of Institutions** data.\n",
    "\n",
    "Your output **must** be a **DataFrame** that looks like this:\n",
    "\n",
    "||**Country**|**Number of Institutions**|\n",
    "|---|---|---|\n",
    "|**0**|United States|87|\n",
    "|**1**|United Kingdom|49|\n",
    "|**2**|Germany|31|\n",
    "|**3**|Australia|26|\n",
    "|**4**|China (Mainland)|26|\n",
    "|**5**|Russia|17|\n",
    "|**6**|Canada|16|\n",
    "|**7**|Japan|16|\n",
    "|**8**|South Korea|16|\n",
    "|**9**|Italy|14|\n",
    "|**10**|Other|202|\n",
    "\n",
    "**Hint**: You can use the `concat` method of a DataFrame to add two DataFrames together. For example:\n",
    "\n",
    "```python\n",
    "my_new_dataframe = pd.concat([my_dataframe, new_dataframe])\n",
    "```\n",
    "will create a *new* **DataFrame** `my_new_dataframe` which contains all the rows from `my_dataframe` and `new_dataframe`. In order to use this method, you will first have to create a **new** DataFrame with the **same** columns as `top_10_countries`, but with only **one row** of data. The `Country` **must** be `Other`, and the `Number of Institutions` **must** be the aggregate sum of institutions from all other countries. You **must** then *concatenate* this DataFrame with `top_10_countries`."
   ]
  },
  {
   "cell_type": "code",
   "execution_count": 33,
   "id": "a50e6e39",
   "metadata": {
    "execution": {
     "iopub.execute_input": "2023-12-07T22:45:56.020281Z",
     "iopub.status.busy": "2023-12-07T22:45:56.020281Z",
     "iopub.status.idle": "2023-12-07T22:45:56.035678Z",
     "shell.execute_reply": "2023-12-07T22:45:56.034680Z"
    },
    "tags": []
   },
   "outputs": [
    {
     "data": {
      "text/html": [
       "<div>\n",
       "<style scoped>\n",
       "    .dataframe tbody tr th:only-of-type {\n",
       "        vertical-align: middle;\n",
       "    }\n",
       "\n",
       "    .dataframe tbody tr th {\n",
       "        vertical-align: top;\n",
       "    }\n",
       "\n",
       "    .dataframe thead th {\n",
       "        text-align: right;\n",
       "    }\n",
       "</style>\n",
       "<table border=\"1\" class=\"dataframe\">\n",
       "  <thead>\n",
       "    <tr style=\"text-align: right;\">\n",
       "      <th></th>\n",
       "      <th>Country</th>\n",
       "      <th>Number of Institutions</th>\n",
       "    </tr>\n",
       "  </thead>\n",
       "  <tbody>\n",
       "    <tr>\n",
       "      <th>0</th>\n",
       "      <td>United States</td>\n",
       "      <td>87</td>\n",
       "    </tr>\n",
       "    <tr>\n",
       "      <th>1</th>\n",
       "      <td>United Kingdom</td>\n",
       "      <td>49</td>\n",
       "    </tr>\n",
       "    <tr>\n",
       "      <th>2</th>\n",
       "      <td>Germany</td>\n",
       "      <td>31</td>\n",
       "    </tr>\n",
       "    <tr>\n",
       "      <th>3</th>\n",
       "      <td>Australia</td>\n",
       "      <td>26</td>\n",
       "    </tr>\n",
       "    <tr>\n",
       "      <th>4</th>\n",
       "      <td>China (Mainland)</td>\n",
       "      <td>26</td>\n",
       "    </tr>\n",
       "    <tr>\n",
       "      <th>5</th>\n",
       "      <td>Russia</td>\n",
       "      <td>17</td>\n",
       "    </tr>\n",
       "    <tr>\n",
       "      <th>6</th>\n",
       "      <td>Canada</td>\n",
       "      <td>16</td>\n",
       "    </tr>\n",
       "    <tr>\n",
       "      <th>7</th>\n",
       "      <td>Japan</td>\n",
       "      <td>16</td>\n",
       "    </tr>\n",
       "    <tr>\n",
       "      <th>8</th>\n",
       "      <td>South Korea</td>\n",
       "      <td>16</td>\n",
       "    </tr>\n",
       "    <tr>\n",
       "      <th>9</th>\n",
       "      <td>Italy</td>\n",
       "      <td>14</td>\n",
       "    </tr>\n",
       "    <tr>\n",
       "      <th>0</th>\n",
       "      <td>Other</td>\n",
       "      <td>202</td>\n",
       "    </tr>\n",
       "  </tbody>\n",
       "</table>\n",
       "</div>"
      ],
      "text/plain": [
       "            Country  Number of Institutions\n",
       "0     United States                      87\n",
       "1    United Kingdom                      49\n",
       "2           Germany                      31\n",
       "3         Australia                      26\n",
       "4  China (Mainland)                      26\n",
       "5            Russia                      17\n",
       "6            Canada                      16\n",
       "7             Japan                      16\n",
       "8       South Korea                      16\n",
       "9             Italy                      14\n",
       "0             Other                     202"
      ]
     },
     "execution_count": 33,
     "metadata": {},
     "output_type": "execute_result"
    }
   ],
   "source": [
    "# first compute and store the DataFrame 'num_institutions', then display it\n",
    "# do NOT plot just yet \n",
    "qry = \"\"\"\n",
    "    SELECT `Country`, COUNT(`Institution Name`) As `Number of Institutions`\n",
    "    FROM rankings\n",
    "    WHERE `Year` = 2022 \n",
    "    GROUP BY `Country`\n",
    "    ORDER BY `Number of Institutions` DESC, `Country` ASC\n",
    "\"\"\"\n",
    "new_dataframe = pd.read_sql(qry, conn)\n",
    "improved_dataframe = new_dataframe.iloc[10:]['Number of Institutions'].sum()\n",
    "new = pd.DataFrame([{'Country':'Other', 'Number of Institutions':improved_dataframe}])\n",
    "num_institutions = pd.concat([top_10_countries,new])\n",
    "num_institutions\n",
    "# new_df = pd.DataFrame.from_dict(new_dict)\n",
    "# num_institutions = pd.concat([top_10_countries,improved_dataframe])\n",
    "\n",
    "# num_institutions\n",
    "\n",
    "\n",
    "# TODO: use a SQL query similar to Question 4 to get the number of institutions of all countries\n",
    "#       (not just the top 10), ordered by the number of institutions, and store in a DataFrame\n",
    "# TODO: Use pandas to find the sum of the institutions in all countries except the top 10\n",
    "# TODO: create a new dictionary with the data about the new row that needs to be added\n",
    "# TODO: properly append this new dictionary to 'num_institutions' and update 'num_institutions'\n"
   ]
  },
  {
   "cell_type": "code",
   "execution_count": 34,
   "id": "deeab4fa",
   "metadata": {},
   "outputs": [
    {
     "data": {
      "text/html": [
       "<p><strong><pre style='display: inline;'>q5</pre></strong> passed! ✨</p><p><strong><pre style='display: inline;'>q5 - 2</pre> message:</strong> Note that the Gradescope autograder will deduct points if your code fails the following rubric point - 'incorrect logic is used to answer (-2)'.The public tests cannot determine if your code satisfies these requirements. Verify your code manually.</p><p><strong><pre style='display: inline;'>q5 - 3</pre> message:</strong> Note that the Gradescope autograder will deduct points if your code fails the following rubric point - '`bar_plot` function is not used to plot (-1)'.The public tests cannot determine if your code satisfies these requirements. Verify your code manually.</p><p><strong><pre style='display: inline;'>q5 - 4</pre> message:</strong> Note that the Gradescope autograder will deduct points if your code fails the following rubric point - 'plot is not properly labeled (-1)'.The public tests cannot determine if your code satisfies these requirements. Verify your code manually.</p>"
      ],
      "text/plain": [
       "q5 results: All test cases passed!\n",
       "q5 - 2 message: Note that the Gradescope autograder will deduct points if your code fails the following rubric point - 'incorrect logic is used to answer (-2)'.The public tests cannot determine if your code satisfies these requirements. Verify your code manually.\n",
       "q5 - 3 message: Note that the Gradescope autograder will deduct points if your code fails the following rubric point - '`bar_plot` function is not used to plot (-1)'.The public tests cannot determine if your code satisfies these requirements. Verify your code manually.\n",
       "q5 - 4 message: Note that the Gradescope autograder will deduct points if your code fails the following rubric point - 'plot is not properly labeled (-1)'.The public tests cannot determine if your code satisfies these requirements. Verify your code manually."
      ]
     },
     "execution_count": 34,
     "metadata": {},
     "output_type": "execute_result"
    }
   ],
   "source": [
    "grader.check(\"q5\")"
   ]
  },
  {
   "cell_type": "markdown",
   "id": "026d1122",
   "metadata": {
    "deletable": false,
    "editable": false
   },
   "source": [
    "Now, **plot** `num_institutions` as **bar plot** with the **x-axis** labelled *Country* and the **y-axis** labelled *Number of Institutions*.\n",
    "\n",
    "You **must** use the `bar_plot` function to create the plot.\n",
    "\n",
    "**Important Warning:** `public_tests.py` can check that the **DataFrame** is correct, but it **cannot** check if your plot appears on the screen, or whether the axes are correctly labelled. If your plot is not visible, or if it is not properly labelled, the Gradescope autograder will **deduct points**.\n",
    "\n",
    "Your plot should look like this:"
   ]
  },
  {
   "cell_type": "code",
   "execution_count": 35,
   "id": "71f45ff1",
   "metadata": {
    "execution": {
     "iopub.execute_input": "2023-12-07T22:45:56.721466Z",
     "iopub.status.busy": "2023-12-07T22:45:56.721466Z",
     "iopub.status.idle": "2023-12-07T22:45:57.076447Z",
     "shell.execute_reply": "2023-12-07T22:45:57.076447Z"
    },
    "tags": []
   },
   "outputs": [
    {
     "data": {
      "image/png": "[encoded data removed]",
      "text/plain": [
       "<Figure size 640x480 with 1 Axes>"
      ]
     },
     "metadata": {},
     "output_type": "display_data"
    }
   ],
   "source": [
    "# create the bar plot using the DataFrame 'num_institutions' with the x-axis labelled \"Country\" \n",
    "# and the y-axis labelled \"Number of Institutions\"\n",
    "bar_plot(num_institutions, x='Country', y='Number of Institutions')"
   ]
  },
  {
   "cell_type": "markdown",
   "id": "e5c8cd4b",
   "metadata": {
    "deletable": false,
    "editable": false
   },
   "source": [
    "**Question 6:** Create a **bar plot** of the **top** *10* countries with the **highest** *total* `Overall` listed in the `year` *2022*.\n",
    "\n",
    "The `Total Score` of a `Country` is defined as the **sum** of `Overall` of **all** institutions in that `Country`. You **must** display the columns `Country` and `Total Score`. The rows **must** be in *descending* order of `Total Score`.\n",
    "\n",
    "You **must** first compute a **DataFrame** `top_10_total_score` containing the **Country**, and the **Total Score** data.\n",
    "\n",
    "Your **DataFrame** should looks like this:\n",
    "\n",
    "||**Country**|**Total Score**|\n",
    "|---|---|---|\n",
    "|**0**|United States|4441.9|\n",
    "|**1**|United Kingdom|2543.8|\n",
    "|**2**|Australia|1243.3|\n",
    "|**3**|Germany|1235.3|\n",
    "|**4**|China (Mainland)|1138.5|\n",
    "|**5**|Japan|796.3|\n",
    "|**6**|Canada|785.6|\n",
    "|**7**|South Korea|739.1|\n",
    "|**8**|Netherlands|673.6|\n",
    "|**9**|Russia|582.6|"
   ]
  },
  {
   "cell_type": "code",
   "execution_count": 36,
   "id": "73f55d5c",
   "metadata": {
    "execution": {
     "iopub.execute_input": "2023-12-07T22:45:57.081466Z",
     "iopub.status.busy": "2023-12-07T22:45:57.080447Z",
     "iopub.status.idle": "2023-12-07T22:45:57.094462Z",
     "shell.execute_reply": "2023-12-07T22:45:57.093444Z"
    },
    "tags": []
   },
   "outputs": [
    {
     "data": {
      "text/html": [
       "<div>\n",
       "<style scoped>\n",
       "    .dataframe tbody tr th:only-of-type {\n",
       "        vertical-align: middle;\n",
       "    }\n",
       "\n",
       "    .dataframe tbody tr th {\n",
       "        vertical-align: top;\n",
       "    }\n",
       "\n",
       "    .dataframe thead th {\n",
       "        text-align: right;\n",
       "    }\n",
       "</style>\n",
       "<table border=\"1\" class=\"dataframe\">\n",
       "  <thead>\n",
       "    <tr style=\"text-align: right;\">\n",
       "      <th></th>\n",
       "      <th>Country</th>\n",
       "      <th>Total Score</th>\n",
       "    </tr>\n",
       "  </thead>\n",
       "  <tbody>\n",
       "    <tr>\n",
       "      <th>0</th>\n",
       "      <td>United States</td>\n",
       "      <td>4441.9</td>\n",
       "    </tr>\n",
       "    <tr>\n",
       "      <th>1</th>\n",
       "      <td>United Kingdom</td>\n",
       "      <td>2543.8</td>\n",
       "    </tr>\n",
       "    <tr>\n",
       "      <th>2</th>\n",
       "      <td>Australia</td>\n",
       "      <td>1243.3</td>\n",
       "    </tr>\n",
       "    <tr>\n",
       "      <th>3</th>\n",
       "      <td>Germany</td>\n",
       "      <td>1235.3</td>\n",
       "    </tr>\n",
       "    <tr>\n",
       "      <th>4</th>\n",
       "      <td>China (Mainland)</td>\n",
       "      <td>1138.5</td>\n",
       "    </tr>\n",
       "    <tr>\n",
       "      <th>5</th>\n",
       "      <td>Japan</td>\n",
       "      <td>796.3</td>\n",
       "    </tr>\n",
       "    <tr>\n",
       "      <th>6</th>\n",
       "      <td>Canada</td>\n",
       "      <td>785.6</td>\n",
       "    </tr>\n",
       "    <tr>\n",
       "      <th>7</th>\n",
       "      <td>South Korea</td>\n",
       "      <td>739.1</td>\n",
       "    </tr>\n",
       "    <tr>\n",
       "      <th>8</th>\n",
       "      <td>Netherlands</td>\n",
       "      <td>673.6</td>\n",
       "    </tr>\n",
       "    <tr>\n",
       "      <th>9</th>\n",
       "      <td>Russia</td>\n",
       "      <td>582.6</td>\n",
       "    </tr>\n",
       "  </tbody>\n",
       "</table>\n",
       "</div>"
      ],
      "text/plain": [
       "            Country  Total Score\n",
       "0     United States       4441.9\n",
       "1    United Kingdom       2543.8\n",
       "2         Australia       1243.3\n",
       "3           Germany       1235.3\n",
       "4  China (Mainland)       1138.5\n",
       "5             Japan        796.3\n",
       "6            Canada        785.6\n",
       "7       South Korea        739.1\n",
       "8       Netherlands        673.6\n",
       "9            Russia        582.6"
      ]
     },
     "execution_count": 36,
     "metadata": {},
     "output_type": "execute_result"
    }
   ],
   "source": [
    "# compute and store the answer in the variable 'top_10_total_score', then display it\n",
    "# do NOT plot just yet\n",
    "qry = \"\"\"\n",
    "    SELECT `Country`, SUM(`Overall`) AS `Total Score`\n",
    "    FROM rankings\n",
    "    WHERE `Year` = 2022 \n",
    "    GROUP BY `Country`\n",
    "    ORDER BY `Total Score` DESC\n",
    "    LIMIT 10\n",
    "\"\"\"\n",
    "top_10_total_score = pd.read_sql(qry, conn)\n",
    "\n",
    "top_10_total_score"
   ]
  },
  {
   "cell_type": "code",
   "execution_count": 37,
   "id": "95e1d730",
   "metadata": {},
   "outputs": [
    {
     "data": {
      "text/html": [
       "<p><strong><pre style='display: inline;'>q6</pre></strong> passed! 🌈</p><p><strong><pre style='display: inline;'>q6 - 2</pre> message:</strong> Note that the Gradescope autograder will deduct points if your code fails the following rubric point - 'did not use SQL to answer (-2)'.The public tests cannot determine if your code satisfies these requirements. Verify your code manually.</p><p><strong><pre style='display: inline;'>q6 - 3</pre> message:</strong> Note that the Gradescope autograder will deduct points if your code fails the following rubric point - 'incorrect logic is used to answer (-2)'.The public tests cannot determine if your code satisfies these requirements. Verify your code manually.</p><p><strong><pre style='display: inline;'>q6 - 4</pre> message:</strong> Note that the Gradescope autograder will deduct points if your code fails the following rubric point - '`bar_plot` function is not used to plot (-1)'.The public tests cannot determine if your code satisfies these requirements. Verify your code manually.</p><p><strong><pre style='display: inline;'>q6 - 5</pre> message:</strong> Note that the Gradescope autograder will deduct points if your code fails the following rubric point - 'plot is not properly labeled (-1)'.The public tests cannot determine if your code satisfies these requirements. Verify your code manually.</p>"
      ],
      "text/plain": [
       "q6 results: All test cases passed!\n",
       "q6 - 2 message: Note that the Gradescope autograder will deduct points if your code fails the following rubric point - 'did not use SQL to answer (-2)'.The public tests cannot determine if your code satisfies these requirements. Verify your code manually.\n",
       "q6 - 3 message: Note that the Gradescope autograder will deduct points if your code fails the following rubric point - 'incorrect logic is used to answer (-2)'.The public tests cannot determine if your code satisfies these requirements. Verify your code manually.\n",
       "q6 - 4 message: Note that the Gradescope autograder will deduct points if your code fails the following rubric point - '`bar_plot` function is not used to plot (-1)'.The public tests cannot determine if your code satisfies these requirements. Verify your code manually.\n",
       "q6 - 5 message: Note that the Gradescope autograder will deduct points if your code fails the following rubric point - 'plot is not properly labeled (-1)'.The public tests cannot determine if your code satisfies these requirements. Verify your code manually."
      ]
     },
     "execution_count": 37,
     "metadata": {},
     "output_type": "execute_result"
    }
   ],
   "source": [
    "grader.check(\"q6\")"
   ]
  },
  {
   "cell_type": "markdown",
   "id": "51185aa2",
   "metadata": {
    "deletable": false,
    "editable": false
   },
   "source": [
    "Now, **plot** `top_10_total_score` as **bar plot** with the **x-axis** labelled *Country* and the **y-axis** labelled *Total Score*.\n",
    "\n",
    "You **must** use the `bar_plot` function to create the plot.\n",
    "\n",
    "**Important Warning:** `public_tests.py` can check that the **DataFrame** is correct, but it **cannot** check if your plot appears on the screen, or whether the axes are correctly labelled. If your plot is not visible, or if it is not properly labelled, the Gradescope autograder will **deduct points**.\n",
    "\n",
    "Your plot should look like this:"
   ]
  },
  {
   "cell_type": "code",
   "execution_count": 38,
   "id": "a92c3a75",
   "metadata": {
    "execution": {
     "iopub.execute_input": "2023-12-07T22:45:57.895698Z",
     "iopub.status.busy": "2023-12-07T22:45:57.894676Z",
     "iopub.status.idle": "2023-12-07T22:45:58.161210Z",
     "shell.execute_reply": "2023-12-07T22:45:58.160216Z"
    },
    "tags": []
   },
   "outputs": [
    {
     "data": {
      "image/png": "[encoded data removed]",
      "text/plain": [
       "<Figure size 640x480 with 1 Axes>"
      ]
     },
     "metadata": {},
     "output_type": "display_data"
    }
   ],
   "source": [
    "# create the bar plot using the DataFrame 'top_10_total_score' with the x-axis labelled \"Country\" \n",
    "# and the y-axis labelled \"Total Score\"\n",
    "bar_plot(top_10_total_score, x='Country', y='Total Score')"
   ]
  },
  {
   "cell_type": "markdown",
   "id": "de1479dc",
   "metadata": {
    "deletable": false,
    "editable": false
   },
   "source": [
    "**Question 7:** What are the **top** *10* institutions in the *United States* which had the **highest** *International Score* in the `year` *2024*?\n",
    "\n",
    "The *International Score* of an institution is defined as the **sum** of `International Faculty` and `International Students` scores of that institution. You **must** display the columns `Institution Name` and `International Score`. The rows **must** be in *descending* order of `International Score`.\n",
    "\n",
    "Your output **must** be a **DataFrame** that looks like this:\n",
    "\n",
    "||**Institution Name**|**International Score**|\n",
    "|---|---|---|\n",
    "|**0**|Massachusetts Institute of Technology (MIT) |188.2|\n",
    "|**1**|Rice University|185.8|\n",
    "|**2**|California Institute of Technology (Caltech)|181.0|\n",
    "|**3**|Yale University|168.6|\n",
    "|**4**|University of Pennsylvania|166.3|\n",
    "|**5**|University of Chicago|165.6|\n",
    "|**6**|University of Rochester|163.1|\n",
    "|**7**|University of California, Berkeley (UCB)|156.1|\n",
    "|**8**|Johns Hopkins University|155.8|\n",
    "|**9**|Northeastern University|154.5|"
   ]
  },
  {
   "cell_type": "code",
   "execution_count": 39,
   "id": "e8e84295",
   "metadata": {
    "execution": {
     "iopub.execute_input": "2023-12-07T22:45:58.165229Z",
     "iopub.status.busy": "2023-12-07T22:45:58.165229Z",
     "iopub.status.idle": "2023-12-07T22:45:58.178228Z",
     "shell.execute_reply": "2023-12-07T22:45:58.177210Z"
    },
    "tags": []
   },
   "outputs": [
    {
     "data": {
      "text/html": [
       "<div>\n",
       "<style scoped>\n",
       "    .dataframe tbody tr th:only-of-type {\n",
       "        vertical-align: middle;\n",
       "    }\n",
       "\n",
       "    .dataframe tbody tr th {\n",
       "        vertical-align: top;\n",
       "    }\n",
       "\n",
       "    .dataframe thead th {\n",
       "        text-align: right;\n",
       "    }\n",
       "</style>\n",
       "<table border=\"1\" class=\"dataframe\">\n",
       "  <thead>\n",
       "    <tr style=\"text-align: right;\">\n",
       "      <th></th>\n",
       "      <th>Institution Name</th>\n",
       "      <th>International Score</th>\n",
       "    </tr>\n",
       "  </thead>\n",
       "  <tbody>\n",
       "    <tr>\n",
       "      <th>0</th>\n",
       "      <td>Massachusetts Institute of Technology (MIT)</td>\n",
       "      <td>188.2</td>\n",
       "    </tr>\n",
       "    <tr>\n",
       "      <th>1</th>\n",
       "      <td>Rice University</td>\n",
       "      <td>185.8</td>\n",
       "    </tr>\n",
       "    <tr>\n",
       "      <th>2</th>\n",
       "      <td>California Institute of Technology (Caltech)</td>\n",
       "      <td>181.0</td>\n",
       "    </tr>\n",
       "    <tr>\n",
       "      <th>3</th>\n",
       "      <td>Yale University</td>\n",
       "      <td>168.6</td>\n",
       "    </tr>\n",
       "    <tr>\n",
       "      <th>4</th>\n",
       "      <td>University of Pennsylvania</td>\n",
       "      <td>166.3</td>\n",
       "    </tr>\n",
       "    <tr>\n",
       "      <th>5</th>\n",
       "      <td>University of Chicago</td>\n",
       "      <td>165.6</td>\n",
       "    </tr>\n",
       "    <tr>\n",
       "      <th>6</th>\n",
       "      <td>University of Rochester</td>\n",
       "      <td>163.1</td>\n",
       "    </tr>\n",
       "    <tr>\n",
       "      <th>7</th>\n",
       "      <td>University of California, Berkeley (UCB)</td>\n",
       "      <td>156.1</td>\n",
       "    </tr>\n",
       "    <tr>\n",
       "      <th>8</th>\n",
       "      <td>Johns Hopkins University</td>\n",
       "      <td>155.8</td>\n",
       "    </tr>\n",
       "    <tr>\n",
       "      <th>9</th>\n",
       "      <td>Northeastern University</td>\n",
       "      <td>154.5</td>\n",
       "    </tr>\n",
       "  </tbody>\n",
       "</table>\n",
       "</div>"
      ],
      "text/plain": [
       "                               Institution Name  International Score\n",
       "0  Massachusetts Institute of Technology (MIT)                 188.2\n",
       "1                               Rice University                185.8\n",
       "2  California Institute of Technology (Caltech)                181.0\n",
       "3                               Yale University                168.6\n",
       "4                    University of Pennsylvania                166.3\n",
       "5                         University of Chicago                165.6\n",
       "6                       University of Rochester                163.1\n",
       "7      University of California, Berkeley (UCB)                156.1\n",
       "8                      Johns Hopkins University                155.8\n",
       "9                       Northeastern University                154.5"
      ]
     },
     "execution_count": 39,
     "metadata": {},
     "output_type": "execute_result"
    }
   ],
   "source": [
    "# compute and store the answer in the variable 'top_10_inter_score', then display it\n",
    "qry = \"\"\"\n",
    "    SELECT `Institution Name`, (`International Faculty`+`International Students`) AS `International Score`\n",
    "    FROM rankings\n",
    "    WHERE `Year` = 2024 AND `Country` = 'United States'\n",
    "    ORDER BY `International Score` DESC\n",
    "    LIMIT 10\n",
    "\"\"\"\n",
    "\n",
    "top_10_inter_score = pd.read_sql(qry, conn)\n",
    "\n",
    "top_10_inter_score"
   ]
  },
  {
   "cell_type": "code",
   "execution_count": 40,
   "id": "5dccfafd",
   "metadata": {},
   "outputs": [
    {
     "data": {
      "text/html": [
       "<p><strong><pre style='display: inline;'>q7</pre></strong> passed! ✨</p><p><strong><pre style='display: inline;'>q7 - 2</pre> message:</strong> Note that the Gradescope autograder will deduct points if your code fails the following rubric point - 'did not use SQL to answer (-2)'.The public tests cannot determine if your code satisfies these requirements. Verify your code manually.</p><p><strong><pre style='display: inline;'>q7 - 3</pre> message:</strong> Note that the Gradescope autograder will deduct points if your code fails the following rubric point - 'incorrect logic is used to answer (-2)'.The public tests cannot determine if your code satisfies these requirements. Verify your code manually.</p>"
      ],
      "text/plain": [
       "q7 results: All test cases passed!\n",
       "q7 - 2 message: Note that the Gradescope autograder will deduct points if your code fails the following rubric point - 'did not use SQL to answer (-2)'.The public tests cannot determine if your code satisfies these requirements. Verify your code manually.\n",
       "q7 - 3 message: Note that the Gradescope autograder will deduct points if your code fails the following rubric point - 'incorrect logic is used to answer (-2)'.The public tests cannot determine if your code satisfies these requirements. Verify your code manually."
      ]
     },
     "execution_count": 40,
     "metadata": {},
     "output_type": "execute_result"
    }
   ],
   "source": [
    "grader.check(\"q7\")"
   ]
  },
  {
   "cell_type": "markdown",
   "id": "71ad92ee",
   "metadata": {
    "deletable": false,
    "editable": false
   },
   "source": [
    "**Question 8:** Create a **scatter plot** representing the `Citations per Faculty` (on the **x-axis**) against the `Overall` (on the **y-axis**) of each institution in the `Year` *2024*.\n",
    "\n",
    "You **must** first compute a **DataFrame** `citations_overall` containing the **Citations per Faculty**, and the **Overall** data from the `Year` *2024*, of each **institution**."
   ]
  },
  {
   "cell_type": "code",
   "execution_count": 41,
   "id": "39556952",
   "metadata": {
    "execution": {
     "iopub.execute_input": "2023-12-07T22:45:58.545559Z",
     "iopub.status.busy": "2023-12-07T22:45:58.545559Z",
     "iopub.status.idle": "2023-12-07T22:45:58.558784Z",
     "shell.execute_reply": "2023-12-07T22:45:58.557781Z"
    },
    "tags": []
   },
   "outputs": [
    {
     "data": {
      "text/html": [
       "<div>\n",
       "<style scoped>\n",
       "    .dataframe tbody tr th:only-of-type {\n",
       "        vertical-align: middle;\n",
       "    }\n",
       "\n",
       "    .dataframe tbody tr th {\n",
       "        vertical-align: top;\n",
       "    }\n",
       "\n",
       "    .dataframe thead th {\n",
       "        text-align: right;\n",
       "    }\n",
       "</style>\n",
       "<table border=\"1\" class=\"dataframe\">\n",
       "  <thead>\n",
       "    <tr style=\"text-align: right;\">\n",
       "      <th></th>\n",
       "      <th>Citations per Faculty</th>\n",
       "      <th>Overall</th>\n",
       "    </tr>\n",
       "  </thead>\n",
       "  <tbody>\n",
       "    <tr>\n",
       "      <th>0</th>\n",
       "      <td>14.2</td>\n",
       "      <td>25.9</td>\n",
       "    </tr>\n",
       "    <tr>\n",
       "      <th>1</th>\n",
       "      <td>29.5</td>\n",
       "      <td>29.5</td>\n",
       "    </tr>\n",
       "    <tr>\n",
       "      <th>2</th>\n",
       "      <td>42.4</td>\n",
       "      <td>32.2</td>\n",
       "    </tr>\n",
       "    <tr>\n",
       "      <th>3</th>\n",
       "      <td>79.4</td>\n",
       "      <td>58.7</td>\n",
       "    </tr>\n",
       "    <tr>\n",
       "      <th>4</th>\n",
       "      <td>54.1</td>\n",
       "      <td>52.0</td>\n",
       "    </tr>\n",
       "    <tr>\n",
       "      <th>...</th>\n",
       "      <td>...</td>\n",
       "      <td>...</td>\n",
       "    </tr>\n",
       "    <tr>\n",
       "      <th>495</th>\n",
       "      <td>99.7</td>\n",
       "      <td>30.0</td>\n",
       "    </tr>\n",
       "    <tr>\n",
       "      <th>496</th>\n",
       "      <td>36.2</td>\n",
       "      <td>65.2</td>\n",
       "    </tr>\n",
       "    <tr>\n",
       "      <th>497</th>\n",
       "      <td>29.2</td>\n",
       "      <td>31.1</td>\n",
       "    </tr>\n",
       "    <tr>\n",
       "      <th>498</th>\n",
       "      <td>97.6</td>\n",
       "      <td>77.8</td>\n",
       "    </tr>\n",
       "    <tr>\n",
       "      <th>499</th>\n",
       "      <td>98.4</td>\n",
       "      <td>47.6</td>\n",
       "    </tr>\n",
       "  </tbody>\n",
       "</table>\n",
       "<p>500 rows × 2 columns</p>\n",
       "</div>"
      ],
      "text/plain": [
       "     Citations per Faculty  Overall\n",
       "0                     14.2     25.9\n",
       "1                     29.5     29.5\n",
       "2                     42.4     32.2\n",
       "3                     79.4     58.7\n",
       "4                     54.1     52.0\n",
       "..                     ...      ...\n",
       "495                   99.7     30.0\n",
       "496                   36.2     65.2\n",
       "497                   29.2     31.1\n",
       "498                   97.6     77.8\n",
       "499                   98.4     47.6\n",
       "\n",
       "[500 rows x 2 columns]"
      ]
     },
     "execution_count": 41,
     "metadata": {},
     "output_type": "execute_result"
    }
   ],
   "source": [
    "# first compute and store the DataFrame 'citations_overall', then display its head\n",
    "# do NOT plot just yet\n",
    "qry = \"\"\"\n",
    "    SELECT `Citations per Faculty`, `Overall`\n",
    "    FROM rankings\n",
    "    WHERE `Year` = 2024 \n",
    "    GROUP BY `Institution Name`\n",
    "\"\"\"\n",
    "citations_overall = pd.read_sql(qry,conn)\n",
    "\n",
    "citations_overall"
   ]
  },
  {
   "cell_type": "code",
   "execution_count": 42,
   "id": "3dfe0d28",
   "metadata": {},
   "outputs": [
    {
     "data": {
      "text/html": [
       "<p><strong><pre style='display: inline;'>q8</pre></strong> passed! 🎉</p><p><strong><pre style='display: inline;'>q8 - 2</pre> message:</strong> Note that the Gradescope autograder will deduct points if your code fails the following rubric point - 'did not use SQL to answer (-2)'.The public tests cannot determine if your code satisfies these requirements. Verify your code manually.</p><p><strong><pre style='display: inline;'>q8 - 3</pre> message:</strong> Note that the Gradescope autograder will deduct points if your code fails the following rubric point - 'incorrect logic is used to answer (-2)'.The public tests cannot determine if your code satisfies these requirements. Verify your code manually.</p><p><strong><pre style='display: inline;'>q8 - 4</pre> message:</strong> Note that the Gradescope autograder will deduct points if your code fails the following rubric point - '`scatter_plot` function is not used to plot (-1)'.The public tests cannot determine if your code satisfies these requirements. Verify your code manually.</p><p><strong><pre style='display: inline;'>q8 - 5</pre> message:</strong> Note that the Gradescope autograder will deduct points if your code fails the following rubric point - 'plot is not properly labeled (-1)'.The public tests cannot determine if your code satisfies these requirements. Verify your code manually.</p>"
      ],
      "text/plain": [
       "q8 results: All test cases passed!\n",
       "q8 - 2 message: Note that the Gradescope autograder will deduct points if your code fails the following rubric point - 'did not use SQL to answer (-2)'.The public tests cannot determine if your code satisfies these requirements. Verify your code manually.\n",
       "q8 - 3 message: Note that the Gradescope autograder will deduct points if your code fails the following rubric point - 'incorrect logic is used to answer (-2)'.The public tests cannot determine if your code satisfies these requirements. Verify your code manually.\n",
       "q8 - 4 message: Note that the Gradescope autograder will deduct points if your code fails the following rubric point - '`scatter_plot` function is not used to plot (-1)'.The public tests cannot determine if your code satisfies these requirements. Verify your code manually.\n",
       "q8 - 5 message: Note that the Gradescope autograder will deduct points if your code fails the following rubric point - 'plot is not properly labeled (-1)'.The public tests cannot determine if your code satisfies these requirements. Verify your code manually."
      ]
     },
     "execution_count": 42,
     "metadata": {},
     "output_type": "execute_result"
    }
   ],
   "source": [
    "grader.check(\"q8\")"
   ]
  },
  {
   "cell_type": "markdown",
   "id": "7e867525",
   "metadata": {
    "deletable": false,
    "editable": false
   },
   "source": [
    "Now, **plot** `citations_overall` as **scatter plot** with the **x-axis** labelled *Citations per Faculty* and the **y-axis** labelled *Overall*.\n",
    "\n",
    "You **must** use the `scatter_plot` function to create the plot.\n",
    "\n",
    "**Important Warning:** `public_tests.py` can check that the **DataFrame** is correct, but it **cannot** check if your plot appears on the screen, or whether the axes are correctly labelled. If your plot is not visible, or if it is not properly labelled, the Gradescope autograder will **deduct points**.\n",
    "\n",
    "Your plot should look like this:"
   ]
  },
  {
   "cell_type": "code",
   "execution_count": 43,
   "id": "2b7897b3",
   "metadata": {
    "execution": {
     "iopub.execute_input": "2023-12-07T22:45:59.812080Z",
     "iopub.status.busy": "2023-12-07T22:45:59.812080Z",
     "iopub.status.idle": "2023-12-07T22:46:00.114571Z",
     "shell.execute_reply": "2023-12-07T22:46:00.113653Z"
    },
    "tags": []
   },
   "outputs": [
    {
     "data": {
      "image/png": "[encoded data removed]",
      "text/plain": [
       "<Figure size 640x480 with 1 Axes>"
      ]
     },
     "metadata": {},
     "output_type": "display_data"
    }
   ],
   "source": [
    "# create the scatter plot using the DataFrame 'citations_overall' with the x-axis labelled \"Citations per Faculty\" \n",
    "# and the y-axis labelled \"Overall\"\n",
    "\n",
    "scatter_plot(citations_overall, x='Citations per Faculty', y='Overall')"
   ]
  },
  {
   "cell_type": "markdown",
   "id": "4b64b888",
   "metadata": {
    "deletable": false,
    "editable": false
   },
   "source": [
    "**Question 9:** Create a **scatter plot** representing the `Academic Reputation` (on the **x-axis**) against the `Employer Reputation` (on the **y-axis**) of each institution from the *United States* in the `year` *2023*.\n",
    "\n",
    "You **must** first compute a **DataFrame** `reputations_usa` containing the **Academic Reputation**, and the **Employer Reputation** data from the `Year` *2023*, of each **institution** in the `Country` *United States*."
   ]
  },
  {
   "cell_type": "code",
   "execution_count": 44,
   "id": "0205db15",
   "metadata": {
    "execution": {
     "iopub.execute_input": "2023-12-07T22:46:00.119569Z",
     "iopub.status.busy": "2023-12-07T22:46:00.118568Z",
     "iopub.status.idle": "2023-12-07T22:46:00.132652Z",
     "shell.execute_reply": "2023-12-07T22:46:00.131654Z"
    },
    "tags": []
   },
   "outputs": [
    {
     "data": {
      "text/html": [
       "<div>\n",
       "<style scoped>\n",
       "    .dataframe tbody tr th:only-of-type {\n",
       "        vertical-align: middle;\n",
       "    }\n",
       "\n",
       "    .dataframe tbody tr th {\n",
       "        vertical-align: top;\n",
       "    }\n",
       "\n",
       "    .dataframe thead th {\n",
       "        text-align: right;\n",
       "    }\n",
       "</style>\n",
       "<table border=\"1\" class=\"dataframe\">\n",
       "  <thead>\n",
       "    <tr style=\"text-align: right;\">\n",
       "      <th></th>\n",
       "      <th>Academic Reputation</th>\n",
       "      <th>Employer Reputation</th>\n",
       "    </tr>\n",
       "  </thead>\n",
       "  <tbody>\n",
       "    <tr>\n",
       "      <th>0</th>\n",
       "      <td>46.7</td>\n",
       "      <td>40.2</td>\n",
       "    </tr>\n",
       "    <tr>\n",
       "      <th>1</th>\n",
       "      <td>62.3</td>\n",
       "      <td>57.2</td>\n",
       "    </tr>\n",
       "    <tr>\n",
       "      <th>2</th>\n",
       "      <td>9.6</td>\n",
       "      <td>3.8</td>\n",
       "    </tr>\n",
       "    <tr>\n",
       "      <th>3</th>\n",
       "      <td>57.6</td>\n",
       "      <td>54.2</td>\n",
       "    </tr>\n",
       "    <tr>\n",
       "      <th>4</th>\n",
       "      <td>96.5</td>\n",
       "      <td>87.1</td>\n",
       "    </tr>\n",
       "    <tr>\n",
       "      <th>...</th>\n",
       "      <td>...</td>\n",
       "      <td>...</td>\n",
       "    </tr>\n",
       "    <tr>\n",
       "      <th>78</th>\n",
       "      <td>5.4</td>\n",
       "      <td>7.3</td>\n",
       "    </tr>\n",
       "    <tr>\n",
       "      <th>79</th>\n",
       "      <td>25.5</td>\n",
       "      <td>24.4</td>\n",
       "    </tr>\n",
       "    <tr>\n",
       "      <th>80</th>\n",
       "      <td>40.1</td>\n",
       "      <td>15.3</td>\n",
       "    </tr>\n",
       "    <tr>\n",
       "      <th>81</th>\n",
       "      <td>99.9</td>\n",
       "      <td>100.0</td>\n",
       "    </tr>\n",
       "    <tr>\n",
       "      <th>82</th>\n",
       "      <td>2.6</td>\n",
       "      <td>3.7</td>\n",
       "    </tr>\n",
       "  </tbody>\n",
       "</table>\n",
       "<p>83 rows × 2 columns</p>\n",
       "</div>"
      ],
      "text/plain": [
       "    Academic Reputation  Employer Reputation\n",
       "0                  46.7                 40.2\n",
       "1                  62.3                 57.2\n",
       "2                   9.6                  3.8\n",
       "3                  57.6                 54.2\n",
       "4                  96.5                 87.1\n",
       "..                  ...                  ...\n",
       "78                  5.4                  7.3\n",
       "79                 25.5                 24.4\n",
       "80                 40.1                 15.3\n",
       "81                 99.9                100.0\n",
       "82                  2.6                  3.7\n",
       "\n",
       "[83 rows x 2 columns]"
      ]
     },
     "execution_count": 44,
     "metadata": {},
     "output_type": "execute_result"
    }
   ],
   "source": [
    "# first compute and store the DataFrame 'reputations_usa', then display its head\n",
    "# do NOT plot just yet\n",
    "qry = \"\"\"\n",
    "    SELECT `Academic Reputation`, `Employer Reputation`\n",
    "    FROM rankings\n",
    "    WHERE `Year` = 2023 AND `Country` = 'United States' \n",
    "    GROUP BY `Institution Name`\n",
    "\"\"\"\n",
    "reputations_usa = pd.read_sql(qry,conn)\n",
    "\n",
    "reputations_usa"
   ]
  },
  {
   "cell_type": "code",
   "execution_count": 45,
   "id": "e4c54ebf",
   "metadata": {},
   "outputs": [
    {
     "data": {
      "text/html": [
       "<p><strong><pre style='display: inline;'>q9</pre></strong> passed! ✨</p><p><strong><pre style='display: inline;'>q9 - 2</pre> message:</strong> Note that the Gradescope autograder will deduct points if your code fails the following rubric point - 'did not use SQL to answer (-2)'.The public tests cannot determine if your code satisfies these requirements. Verify your code manually.</p><p><strong><pre style='display: inline;'>q9 - 3</pre> message:</strong> Note that the Gradescope autograder will deduct points if your code fails the following rubric point - 'incorrect logic is used to answer (-2)'.The public tests cannot determine if your code satisfies these requirements. Verify your code manually.</p><p><strong><pre style='display: inline;'>q9 - 4</pre> message:</strong> Note that the Gradescope autograder will deduct points if your code fails the following rubric point - '`scatter_plot` function is not used to plot (-1)'.The public tests cannot determine if your code satisfies these requirements. Verify your code manually.</p><p><strong><pre style='display: inline;'>q9 - 5</pre> message:</strong> Note that the Gradescope autograder will deduct points if your code fails the following rubric point - 'plot is not properly labeled (-1)'.The public tests cannot determine if your code satisfies these requirements. Verify your code manually.</p>"
      ],
      "text/plain": [
       "q9 results: All test cases passed!\n",
       "q9 - 2 message: Note that the Gradescope autograder will deduct points if your code fails the following rubric point - 'did not use SQL to answer (-2)'.The public tests cannot determine if your code satisfies these requirements. Verify your code manually.\n",
       "q9 - 3 message: Note that the Gradescope autograder will deduct points if your code fails the following rubric point - 'incorrect logic is used to answer (-2)'.The public tests cannot determine if your code satisfies these requirements. Verify your code manually.\n",
       "q9 - 4 message: Note that the Gradescope autograder will deduct points if your code fails the following rubric point - '`scatter_plot` function is not used to plot (-1)'.The public tests cannot determine if your code satisfies these requirements. Verify your code manually.\n",
       "q9 - 5 message: Note that the Gradescope autograder will deduct points if your code fails the following rubric point - 'plot is not properly labeled (-1)'.The public tests cannot determine if your code satisfies these requirements. Verify your code manually."
      ]
     },
     "execution_count": 45,
     "metadata": {},
     "output_type": "execute_result"
    }
   ],
   "source": [
    "grader.check(\"q9\")"
   ]
  },
  {
   "cell_type": "markdown",
   "id": "7396270e",
   "metadata": {
    "deletable": false,
    "editable": false
   },
   "source": [
    "Now, **plot** `reputations_usa` as **scatter plot** with the **x-axis** labelled *Academic Reputation* and the **y-axis** labelled *Employer Reputation*.\n",
    "\n",
    "You **must** use the `scatter_plot` function to create the plot.\n",
    "\n",
    "**Important Warning:** `public_tests.py` can check that the **DataFrame** is correct, but it **cannot** check if your plot appears on the screen, or whether the axes are correctly labelled. If your plot is not visible, or if it is not properly labelled, the Gradescope autograder will **deduct points**.\n",
    "\n",
    "Your plot should look like this:"
   ]
  },
  {
   "cell_type": "code",
   "execution_count": 46,
   "id": "75c882ba",
   "metadata": {
    "execution": {
     "iopub.execute_input": "2023-12-07T22:46:01.321400Z",
     "iopub.status.busy": "2023-12-07T22:46:01.321400Z",
     "iopub.status.idle": "2023-12-07T22:46:01.563728Z",
     "shell.execute_reply": "2023-12-07T22:46:01.562730Z"
    },
    "tags": []
   },
   "outputs": [
    {
     "data": {
      "image/png": "[encoded data removed]",
      "text/plain": [
       "<Figure size 640x480 with 1 Axes>"
      ]
     },
     "metadata": {},
     "output_type": "display_data"
    }
   ],
   "source": [
    "# create the scatter plot using the DataFrame 'reputations_usa' with the x-axis labelled \"Academic Reputation\" \n",
    "# and the y-axis labelled \"Employer Reputation\"\n",
    "scatter_plot(reputations_usa, x = 'Academic Reputation', y='Employer Reputation')"
   ]
  },
  {
   "cell_type": "markdown",
   "id": "402d0e41",
   "metadata": {
    "deletable": false,
    "editable": false
   },
   "source": [
    "**Question 10:** Create a **scatter plot** representing the `International Students` (on the **x-axis**) against the `Faculty Student` (on the **y-axis**) for the **top ranked** institution of **each** `Country` in the `Year` *2023*.\n",
    "\n",
    "You **must** first compute a **DataFrame** `top_ranked_inter_faculty` containing the **International Students**, and the **Faculty Student** data from the `Year` *2023*, of the **top** ranked **institution** (i.e., the institution with the **least** `rank`) of each **country**.\n",
    "\n",
    "**Hint:** You can use the `MIN` SQL function to return the least value of a selected column. However, there are a few things to keep in mind while using this function.\n",
    "* The function must be in **uppercase** (i.e., you must use `MIN`, and **not** `min`).\n",
    "* The column you are finding the minimum of must be inside backticks (``` ` ```). For example, if you want to find the minimum `Rank`, you need to say ```MIN(`Rank`)```.\n",
    "\n",
    "If you do not follow the syntax above, your code will likely fail."
   ]
  },
  {
   "cell_type": "code",
   "execution_count": 47,
   "id": "e0785ff5",
   "metadata": {
    "execution": {
     "iopub.execute_input": "2023-12-07T22:46:01.567779Z",
     "iopub.status.busy": "2023-12-07T22:46:01.567779Z",
     "iopub.status.idle": "2023-12-07T22:46:01.583049Z",
     "shell.execute_reply": "2023-12-07T22:46:01.582048Z"
    },
    "tags": []
   },
   "outputs": [
    {
     "data": {
      "text/html": [
       "<div>\n",
       "<style scoped>\n",
       "    .dataframe tbody tr th:only-of-type {\n",
       "        vertical-align: middle;\n",
       "    }\n",
       "\n",
       "    .dataframe tbody tr th {\n",
       "        vertical-align: top;\n",
       "    }\n",
       "\n",
       "    .dataframe thead th {\n",
       "        text-align: right;\n",
       "    }\n",
       "</style>\n",
       "<table border=\"1\" class=\"dataframe\">\n",
       "  <thead>\n",
       "    <tr style=\"text-align: right;\">\n",
       "      <th></th>\n",
       "      <th>International Students</th>\n",
       "      <th>Faculty Student</th>\n",
       "    </tr>\n",
       "  </thead>\n",
       "  <tbody>\n",
       "    <tr>\n",
       "      <th>0</th>\n",
       "      <td>68.9</td>\n",
       "      <td>76.0</td>\n",
       "    </tr>\n",
       "    <tr>\n",
       "      <th>1</th>\n",
       "      <td>96.0</td>\n",
       "      <td>38.0</td>\n",
       "    </tr>\n",
       "    <tr>\n",
       "      <th>2</th>\n",
       "      <td>89.2</td>\n",
       "      <td>24.2</td>\n",
       "    </tr>\n",
       "    <tr>\n",
       "      <th>3</th>\n",
       "      <td>48.2</td>\n",
       "      <td>96.8</td>\n",
       "    </tr>\n",
       "    <tr>\n",
       "      <th>4</th>\n",
       "      <td>43.3</td>\n",
       "      <td>7.7</td>\n",
       "    </tr>\n",
       "    <tr>\n",
       "      <th>5</th>\n",
       "      <td>2.7</td>\n",
       "      <td>17.4</td>\n",
       "    </tr>\n",
       "    <tr>\n",
       "      <th>6</th>\n",
       "      <td>65.4</td>\n",
       "      <td>96.5</td>\n",
       "    </tr>\n",
       "    <tr>\n",
       "      <th>7</th>\n",
       "      <td>95.1</td>\n",
       "      <td>68.9</td>\n",
       "    </tr>\n",
       "    <tr>\n",
       "      <th>8</th>\n",
       "      <td>3.9</td>\n",
       "      <td>22.3</td>\n",
       "    </tr>\n",
       "    <tr>\n",
       "      <th>9</th>\n",
       "      <td>36.9</td>\n",
       "      <td>87.3</td>\n",
       "    </tr>\n",
       "    <tr>\n",
       "      <th>10</th>\n",
       "      <td>1.8</td>\n",
       "      <td>19.5</td>\n",
       "    </tr>\n",
       "    <tr>\n",
       "      <th>11</th>\n",
       "      <td>4.5</td>\n",
       "      <td>69.4</td>\n",
       "    </tr>\n",
       "    <tr>\n",
       "      <th>12</th>\n",
       "      <td>27.4</td>\n",
       "      <td>5.1</td>\n",
       "    </tr>\n",
       "    <tr>\n",
       "      <th>13</th>\n",
       "      <td>51.6</td>\n",
       "      <td>41.3</td>\n",
       "    </tr>\n",
       "    <tr>\n",
       "      <th>14</th>\n",
       "      <td>24.5</td>\n",
       "      <td>100.0</td>\n",
       "    </tr>\n",
       "    <tr>\n",
       "      <th>15</th>\n",
       "      <td>4.3</td>\n",
       "      <td>40.8</td>\n",
       "    </tr>\n",
       "    <tr>\n",
       "      <th>16</th>\n",
       "      <td>24.2</td>\n",
       "      <td>88.9</td>\n",
       "    </tr>\n",
       "    <tr>\n",
       "      <th>17</th>\n",
       "      <td>5.8</td>\n",
       "      <td>66.5</td>\n",
       "    </tr>\n",
       "    <tr>\n",
       "      <th>18</th>\n",
       "      <td>83.6</td>\n",
       "      <td>99.8</td>\n",
       "    </tr>\n",
       "    <tr>\n",
       "      <th>19</th>\n",
       "      <td>95.0</td>\n",
       "      <td>96.4</td>\n",
       "    </tr>\n",
       "    <tr>\n",
       "      <th>20</th>\n",
       "      <td>7.5</td>\n",
       "      <td>5.3</td>\n",
       "    </tr>\n",
       "    <tr>\n",
       "      <th>21</th>\n",
       "      <td>98.7</td>\n",
       "      <td>84.2</td>\n",
       "    </tr>\n",
       "    <tr>\n",
       "      <th>22</th>\n",
       "      <td>1.9</td>\n",
       "      <td>56.3</td>\n",
       "    </tr>\n",
       "    <tr>\n",
       "      <th>23</th>\n",
       "      <td>2.0</td>\n",
       "      <td>62.3</td>\n",
       "    </tr>\n",
       "    <tr>\n",
       "      <th>24</th>\n",
       "      <td>1.3</td>\n",
       "      <td>7.7</td>\n",
       "    </tr>\n",
       "    <tr>\n",
       "      <th>25</th>\n",
       "      <td>93.3</td>\n",
       "      <td>25.7</td>\n",
       "    </tr>\n",
       "    <tr>\n",
       "      <th>26</th>\n",
       "      <td>7.1</td>\n",
       "      <td>78.8</td>\n",
       "    </tr>\n",
       "    <tr>\n",
       "      <th>27</th>\n",
       "      <td>54.3</td>\n",
       "      <td>5.4</td>\n",
       "    </tr>\n",
       "    <tr>\n",
       "      <th>28</th>\n",
       "      <td>27.8</td>\n",
       "      <td>91.9</td>\n",
       "    </tr>\n",
       "    <tr>\n",
       "      <th>29</th>\n",
       "      <td>34.6</td>\n",
       "      <td>98.3</td>\n",
       "    </tr>\n",
       "    <tr>\n",
       "      <th>30</th>\n",
       "      <td>61.8</td>\n",
       "      <td>62.1</td>\n",
       "    </tr>\n",
       "    <tr>\n",
       "      <th>31</th>\n",
       "      <td>9.1</td>\n",
       "      <td>79.8</td>\n",
       "    </tr>\n",
       "    <tr>\n",
       "      <th>32</th>\n",
       "      <td>98.2</td>\n",
       "      <td>16.4</td>\n",
       "    </tr>\n",
       "    <tr>\n",
       "      <th>33</th>\n",
       "      <td>53.0</td>\n",
       "      <td>67.8</td>\n",
       "    </tr>\n",
       "    <tr>\n",
       "      <th>34</th>\n",
       "      <td>2.6</td>\n",
       "      <td>43.2</td>\n",
       "    </tr>\n",
       "    <tr>\n",
       "      <th>35</th>\n",
       "      <td>80.7</td>\n",
       "      <td>26.7</td>\n",
       "    </tr>\n",
       "    <tr>\n",
       "      <th>36</th>\n",
       "      <td>92.4</td>\n",
       "      <td>22.4</td>\n",
       "    </tr>\n",
       "    <tr>\n",
       "      <th>37</th>\n",
       "      <td>27.5</td>\n",
       "      <td>83.8</td>\n",
       "    </tr>\n",
       "    <tr>\n",
       "      <th>38</th>\n",
       "      <td>3.7</td>\n",
       "      <td>67.3</td>\n",
       "    </tr>\n",
       "    <tr>\n",
       "      <th>39</th>\n",
       "      <td>5.7</td>\n",
       "      <td>77.0</td>\n",
       "    </tr>\n",
       "    <tr>\n",
       "      <th>40</th>\n",
       "      <td>1.5</td>\n",
       "      <td>27.7</td>\n",
       "    </tr>\n",
       "    <tr>\n",
       "      <th>41</th>\n",
       "      <td>1.3</td>\n",
       "      <td>46.8</td>\n",
       "    </tr>\n",
       "    <tr>\n",
       "      <th>42</th>\n",
       "      <td>9.3</td>\n",
       "      <td>38.4</td>\n",
       "    </tr>\n",
       "    <tr>\n",
       "      <th>43</th>\n",
       "      <td>21.3</td>\n",
       "      <td>12.8</td>\n",
       "    </tr>\n",
       "    <tr>\n",
       "      <th>44</th>\n",
       "      <td>94.8</td>\n",
       "      <td>61.1</td>\n",
       "    </tr>\n",
       "    <tr>\n",
       "      <th>45</th>\n",
       "      <td>91.9</td>\n",
       "      <td>99.8</td>\n",
       "    </tr>\n",
       "    <tr>\n",
       "      <th>46</th>\n",
       "      <td>54.3</td>\n",
       "      <td>66.3</td>\n",
       "    </tr>\n",
       "    <tr>\n",
       "      <th>47</th>\n",
       "      <td>73.5</td>\n",
       "      <td>79.8</td>\n",
       "    </tr>\n",
       "    <tr>\n",
       "      <th>48</th>\n",
       "      <td>30.1</td>\n",
       "      <td>15.7</td>\n",
       "    </tr>\n",
       "    <tr>\n",
       "      <th>49</th>\n",
       "      <td>10.3</td>\n",
       "      <td>87.0</td>\n",
       "    </tr>\n",
       "    <tr>\n",
       "      <th>50</th>\n",
       "      <td>20.2</td>\n",
       "      <td>11.8</td>\n",
       "    </tr>\n",
       "    <tr>\n",
       "      <th>51</th>\n",
       "      <td>70.2</td>\n",
       "      <td>70.0</td>\n",
       "    </tr>\n",
       "    <tr>\n",
       "      <th>52</th>\n",
       "      <td>98.0</td>\n",
       "      <td>74.2</td>\n",
       "    </tr>\n",
       "    <tr>\n",
       "      <th>53</th>\n",
       "      <td>32.6</td>\n",
       "      <td>33.4</td>\n",
       "    </tr>\n",
       "    <tr>\n",
       "      <th>54</th>\n",
       "      <td>2.8</td>\n",
       "      <td>34.6</td>\n",
       "    </tr>\n",
       "    <tr>\n",
       "      <th>55</th>\n",
       "      <td>10.6</td>\n",
       "      <td>31.2</td>\n",
       "    </tr>\n",
       "    <tr>\n",
       "      <th>56</th>\n",
       "      <td>69.7</td>\n",
       "      <td>91.7</td>\n",
       "    </tr>\n",
       "    <tr>\n",
       "      <th>57</th>\n",
       "      <td>96.3</td>\n",
       "      <td>100.0</td>\n",
       "    </tr>\n",
       "    <tr>\n",
       "      <th>58</th>\n",
       "      <td>90.0</td>\n",
       "      <td>100.0</td>\n",
       "    </tr>\n",
       "    <tr>\n",
       "      <th>59</th>\n",
       "      <td>3.6</td>\n",
       "      <td>78.9</td>\n",
       "    </tr>\n",
       "  </tbody>\n",
       "</table>\n",
       "</div>"
      ],
      "text/plain": [
       "    International Students  Faculty Student\n",
       "0                     68.9             76.0\n",
       "1                     96.0             38.0\n",
       "2                     89.2             24.2\n",
       "3                     48.2             96.8\n",
       "4                     43.3              7.7\n",
       "5                      2.7             17.4\n",
       "6                     65.4             96.5\n",
       "7                     95.1             68.9\n",
       "8                      3.9             22.3\n",
       "9                     36.9             87.3\n",
       "10                     1.8             19.5\n",
       "11                     4.5             69.4\n",
       "12                    27.4              5.1\n",
       "13                    51.6             41.3\n",
       "14                    24.5            100.0\n",
       "15                     4.3             40.8\n",
       "16                    24.2             88.9\n",
       "17                     5.8             66.5\n",
       "18                    83.6             99.8\n",
       "19                    95.0             96.4\n",
       "20                     7.5              5.3\n",
       "21                    98.7             84.2\n",
       "22                     1.9             56.3\n",
       "23                     2.0             62.3\n",
       "24                     1.3              7.7\n",
       "25                    93.3             25.7\n",
       "26                     7.1             78.8\n",
       "27                    54.3              5.4\n",
       "28                    27.8             91.9\n",
       "29                    34.6             98.3\n",
       "30                    61.8             62.1\n",
       "31                     9.1             79.8\n",
       "32                    98.2             16.4\n",
       "33                    53.0             67.8\n",
       "34                     2.6             43.2\n",
       "35                    80.7             26.7\n",
       "36                    92.4             22.4\n",
       "37                    27.5             83.8\n",
       "38                     3.7             67.3\n",
       "39                     5.7             77.0\n",
       "40                     1.5             27.7\n",
       "41                     1.3             46.8\n",
       "42                     9.3             38.4\n",
       "43                    21.3             12.8\n",
       "44                    94.8             61.1\n",
       "45                    91.9             99.8\n",
       "46                    54.3             66.3\n",
       "47                    73.5             79.8\n",
       "48                    30.1             15.7\n",
       "49                    10.3             87.0\n",
       "50                    20.2             11.8\n",
       "51                    70.2             70.0\n",
       "52                    98.0             74.2\n",
       "53                    32.6             33.4\n",
       "54                     2.8             34.6\n",
       "55                    10.6             31.2\n",
       "56                    69.7             91.7\n",
       "57                    96.3            100.0\n",
       "58                    90.0            100.0\n",
       "59                     3.6             78.9"
      ]
     },
     "execution_count": 47,
     "metadata": {},
     "output_type": "execute_result"
    }
   ],
   "source": [
    "# first compute and store the DataFrame 'top_ranked_inter_faculty', then display its head\n",
    "# do NOT plot just yet\n",
    "qry = \"\"\"\n",
    "    SELECT `International Students`, `Faculty Student`\n",
    "    FROM rankings\n",
    "    WHERE `Year` = 2023\n",
    "    GROUP BY `Country`\n",
    "    HAVING MIN(`Rank`)\n",
    "\"\"\"\n",
    "top_ranked_inter_faculty = pd.read_sql(qry,conn)\n",
    "\n",
    "top_ranked_inter_faculty"
   ]
  },
  {
   "cell_type": "code",
   "execution_count": 48,
   "id": "1368139d",
   "metadata": {},
   "outputs": [
    {
     "data": {
      "text/html": [
       "<p><strong><pre style='display: inline;'>q10</pre></strong> passed! ✨</p><p><strong><pre style='display: inline;'>q10 - 2</pre> message:</strong> Note that the Gradescope autograder will deduct points if your code fails the following rubric point - 'did not use SQL to answer (-2)'.The public tests cannot determine if your code satisfies these requirements. Verify your code manually.</p><p><strong><pre style='display: inline;'>q10 - 3</pre> message:</strong> Note that the Gradescope autograder will deduct points if your code fails the following rubric point - 'incorrect logic is used to answer (-2)'.The public tests cannot determine if your code satisfies these requirements. Verify your code manually.</p><p><strong><pre style='display: inline;'>q10 - 4</pre> message:</strong> Note that the Gradescope autograder will deduct points if your code fails the following rubric point - '`scatter_plot` function is not used to plot (-1)'.The public tests cannot determine if your code satisfies these requirements. Verify your code manually.</p><p><strong><pre style='display: inline;'>q10 - 5</pre> message:</strong> Note that the Gradescope autograder will deduct points if your code fails the following rubric point - 'plot is not properly labeled (-1)'.The public tests cannot determine if your code satisfies these requirements. Verify your code manually.</p>"
      ],
      "text/plain": [
       "q10 results: All test cases passed!\n",
       "q10 - 2 message: Note that the Gradescope autograder will deduct points if your code fails the following rubric point - 'did not use SQL to answer (-2)'.The public tests cannot determine if your code satisfies these requirements. Verify your code manually.\n",
       "q10 - 3 message: Note that the Gradescope autograder will deduct points if your code fails the following rubric point - 'incorrect logic is used to answer (-2)'.The public tests cannot determine if your code satisfies these requirements. Verify your code manually.\n",
       "q10 - 4 message: Note that the Gradescope autograder will deduct points if your code fails the following rubric point - '`scatter_plot` function is not used to plot (-1)'.The public tests cannot determine if your code satisfies these requirements. Verify your code manually.\n",
       "q10 - 5 message: Note that the Gradescope autograder will deduct points if your code fails the following rubric point - 'plot is not properly labeled (-1)'.The public tests cannot determine if your code satisfies these requirements. Verify your code manually."
      ]
     },
     "execution_count": 48,
     "metadata": {},
     "output_type": "execute_result"
    }
   ],
   "source": [
    "grader.check(\"q10\")"
   ]
  },
  {
   "cell_type": "markdown",
   "id": "f8726dfb",
   "metadata": {
    "deletable": false,
    "editable": false
   },
   "source": [
    "Now, **plot** `top_ranked_inter_faculty` as **scatter plot** with the **x-axis** labelled *International Students* and the **y-axis** labelled *Faculty Student*.\n",
    "\n",
    "You **must** use the `scatter_plot` function to create the plot.\n",
    "\n",
    "**Important Warning:** `public_tests.py` can check that the **DataFrame** is correct, but it **cannot** check if your plot appears on the screen, or whether the axes are correctly labelled. If your plot is not visible, or if it is not properly labelled, the Gradescope autograder will **deduct points**.\n",
    "\n",
    "Your plot should look like this:"
   ]
  },
  {
   "cell_type": "code",
   "execution_count": 49,
   "id": "e5b7e9ca",
   "metadata": {
    "execution": {
     "iopub.execute_input": "2023-12-07T22:46:02.556298Z",
     "iopub.status.busy": "2023-12-07T22:46:02.555296Z",
     "iopub.status.idle": "2023-12-07T22:46:02.840619Z",
     "shell.execute_reply": "2023-12-07T22:46:02.839626Z"
    },
    "tags": []
   },
   "outputs": [
    {
     "data": {
      "image/png": "[encoded data removed]",
      "text/plain": [
       "<Figure size 640x480 with 1 Axes>"
      ]
     },
     "metadata": {},
     "output_type": "display_data"
    }
   ],
   "source": [
    "# create the scatter plot using the DataFrame 'top_ranked_inter_faculty' with the x-axis labelled \"International Students\" \n",
    "# and the y-axis labelled \"Faculty Student\"\n",
    "scatter_plot(top_ranked_inter_faculty, x = \"International Students\", y=\"Faculty Student\")"
   ]
  },
  {
   "cell_type": "markdown",
   "id": "c1e07968",
   "metadata": {
    "deletable": false,
    "editable": false
   },
   "source": [
    "### Correlations:\n",
    "\n",
    "You can use the `.corr()` method on a **DataFrame** that has **two** columns to get the *correlation* between those two columns.\n",
    "\n",
    "For example, if we have a **DataFrame** `df` with the two columns `Citations per Faculty` and `Overall`, `df.corr()` would return\n",
    "\n",
    "||**Citations per Faculty**|**Overall**|\n",
    "|---------|------|---------|\n",
    "|Citations per Faculty|1.000000|0.617044|\n",
    "|Overall|0.617044|1.000000|\n",
    "\n",
    "You can use `.loc` here to **extract** the *correlation* between the two columns (`0.617044` in this case)."
   ]
  },
  {
   "cell_type": "markdown",
   "id": "d473b7f9",
   "metadata": {
    "deletable": false,
    "editable": false
   },
   "source": [
    "**Question 11:** Find the **correlation** between `International Students` and `Overall` for institutions from the `Country` *United Kingdom* that were ranked in the **top** *100* in the `year` *2022*.\n",
    "\n",
    "Your output **must** be a **float** representing the absolute correlation. The **only** `pandas` operations you are **allowed** to use are: `.corr`, `.loc` and `.iloc`. You **must** use SQL to gather all other data."
   ]
  },
  {
   "cell_type": "code",
   "execution_count": 50,
   "id": "935ba9ca",
   "metadata": {
    "execution": {
     "iopub.execute_input": "2023-12-07T22:46:02.846616Z",
     "iopub.status.busy": "2023-12-07T22:46:02.845618Z",
     "iopub.status.idle": "2023-12-07T22:46:02.856153Z",
     "shell.execute_reply": "2023-12-07T22:46:02.855152Z"
    },
    "tags": []
   },
   "outputs": [
    {
     "data": {
      "text/plain": [
       "0.4719859189929481"
      ]
     },
     "execution_count": 50,
     "metadata": {},
     "output_type": "execute_result"
    }
   ],
   "source": [
    "# compute and store the answer in the variable 'uk_inter_score_corr', then display it\n",
    "qry = \"\"\"\n",
    "    SELECT `International Students`, `Overall`\n",
    "    FROM rankings\n",
    "    WHERE `Country` = \"United Kingdom\" AND `year` = 2022\n",
    "    ORDER BY `Rank`DESC\n",
    "    LIMIT 100\n",
    "\"\"\"\n",
    "uk_inter_score = pd.read_sql(qry,conn)\n",
    "\n",
    "uk_inter_score_corr = uk_inter_score.corr().loc['International Students'].iloc[1]\n",
    "\n",
    "\n",
    "uk_inter_score_corr"
   ]
  },
  {
   "cell_type": "code",
   "execution_count": 51,
   "id": "46671c17",
   "metadata": {},
   "outputs": [
    {
     "data": {
      "text/html": [
       "<p><strong><pre style='display: inline;'>q11</pre></strong> passed! 💯</p><p><strong><pre style='display: inline;'>q11 - 2</pre> message:</strong> Note that the Gradescope autograder will deduct points if your code fails the following rubric point - 'did not use SQL to answer (-2)'.The public tests cannot determine if your code satisfies these requirements. Verify your code manually.</p><p><strong><pre style='display: inline;'>q11 - 3</pre> message:</strong> Note that the Gradescope autograder will deduct points if your code fails the following rubric point - 'incorrect logic is used to answer (-1)'.The public tests cannot determine if your code satisfies these requirements. Verify your code manually.</p>"
      ],
      "text/plain": [
       "q11 results: All test cases passed!\n",
       "q11 - 2 message: Note that the Gradescope autograder will deduct points if your code fails the following rubric point - 'did not use SQL to answer (-2)'.The public tests cannot determine if your code satisfies these requirements. Verify your code manually.\n",
       "q11 - 3 message: Note that the Gradescope autograder will deduct points if your code fails the following rubric point - 'incorrect logic is used to answer (-1)'.The public tests cannot determine if your code satisfies these requirements. Verify your code manually."
      ]
     },
     "execution_count": 51,
     "metadata": {},
     "output_type": "execute_result"
    }
   ],
   "source": [
    "grader.check(\"q11\")"
   ]
  },
  {
   "cell_type": "markdown",
   "id": "7649cf84",
   "metadata": {
    "deletable": false,
    "editable": false
   },
   "source": [
    "Let us now define a new score called `Citations per International` as follows:\n",
    "\n",
    "$$\\texttt{Citations per International} = \\frac{\\texttt{Citations per Faculty} \\times \\texttt{International Faculty}}{100}.$$\n"
   ]
  },
  {
   "cell_type": "markdown",
   "id": "d2d81f69",
   "metadata": {
    "deletable": false,
    "editable": false
   },
   "source": [
    "**Question 12:** Find the **correlation** between `Citations per International` and `Overall` for **all** institutions in the `year` *2024*.\n",
    "\n",
    "Your output **must** be a **float** representing the absolute correlation. The **only** `pandas` operations you are **allowed** to use are: `.corr`, `.loc` and `.iloc`. You **must** use SQL to gather all other data."
   ]
  },
  {
   "cell_type": "code",
   "execution_count": 52,
   "id": "01855a94",
   "metadata": {
    "execution": {
     "iopub.execute_input": "2023-12-07T22:46:03.245942Z",
     "iopub.status.busy": "2023-12-07T22:46:03.244945Z",
     "iopub.status.idle": "2023-12-07T22:46:03.256593Z",
     "shell.execute_reply": "2023-12-07T22:46:03.255596Z"
    },
    "tags": []
   },
   "outputs": [
    {
     "data": {
      "text/plain": [
       "0.5943163420092246"
      ]
     },
     "execution_count": 52,
     "metadata": {},
     "output_type": "execute_result"
    }
   ],
   "source": [
    "# compute and store the answer in the variable 'cit_per_inter_score_corr', then display it\n",
    "qry = \"\"\"\n",
    "    SELECT ((`Citations per Faculty`*`International Faculty`)/100) AS `Citations per International`, `Overall`\n",
    "    FROM rankings\n",
    "    WHERE `Year`= 2024\n",
    "\"\"\"\n",
    "cit_per_inter_score = pd.read_sql(qry,conn)\n",
    "cit_per_inter_score_corr = cit_per_inter_score.corr().loc['Citations per International'].iloc[1]\n",
    "\n",
    "cit_per_inter_score_corr"
   ]
  },
  {
   "cell_type": "code",
   "execution_count": 53,
   "id": "61956ee1",
   "metadata": {},
   "outputs": [
    {
     "data": {
      "text/html": [
       "<p><strong><pre style='display: inline;'>q12</pre></strong> passed! 🙌</p><p><strong><pre style='display: inline;'>q12 - 2</pre> message:</strong> Note that the Gradescope autograder will deduct points if your code fails the following rubric point - 'did not use SQL to answer (-2)'.The public tests cannot determine if your code satisfies these requirements. Verify your code manually.</p><p><strong><pre style='display: inline;'>q12 - 3</pre> message:</strong> Note that the Gradescope autograder will deduct points if your code fails the following rubric point - 'incorrect logic is used to answer (-1)'.The public tests cannot determine if your code satisfies these requirements. Verify your code manually.</p>"
      ],
      "text/plain": [
       "q12 results: All test cases passed!\n",
       "q12 - 2 message: Note that the Gradescope autograder will deduct points if your code fails the following rubric point - 'did not use SQL to answer (-2)'.The public tests cannot determine if your code satisfies these requirements. Verify your code manually.\n",
       "q12 - 3 message: Note that the Gradescope autograder will deduct points if your code fails the following rubric point - 'incorrect logic is used to answer (-1)'.The public tests cannot determine if your code satisfies these requirements. Verify your code manually."
      ]
     },
     "execution_count": 53,
     "metadata": {},
     "output_type": "execute_result"
    }
   ],
   "source": [
    "grader.check(\"q12\")"
   ]
  },
  {
   "cell_type": "markdown",
   "id": "cb05ad59",
   "metadata": {
    "deletable": false,
    "editable": false
   },
   "source": [
    "**Question 13:** What are the **top** *15* countries with the **highest** *total* of `Citations per International` in the `Year` *2024*.\n",
    "\n",
    "The *total* `Citations per International` of a `Country` is defined as the **sum** of `Citations per International` scores of **all** institutions in that `Country`. You **must** display the columns `Country` and `Sum of International Citations`. The rows **must** be in *descending* order of `Sum of International Citations`.\n",
    "\n",
    "Your output **must** be a **DataFrame** that looks like this:\n",
    "\n",
    "||**Country**|**Sum of International Citations**|\n",
    "|---|---|---|\n",
    "|**0**|United States|2294.2671|\n",
    "|**1**|United Kingdom|2279.9530|\n",
    "|**2**|Australia|1895.6595|\n",
    "|**3**|Canada|822.9573|\n",
    "|**4**|Netherlands|749.9450|\n",
    "|**5**|Switzerland|664.2349|\n",
    "|**6**|Germany|635.0223|\n",
    "|**7**|China (Mainland)|578.7473|\n",
    "|**8**|Hong Kong SAR|513.1582|\n",
    "|**9**|France|385.9691|\n",
    "|**10**|Sweden|382.8463|\n",
    "|**11**|New Zealand|344.3393|\n",
    "|**12**|Belgium|300.6716|\n",
    "|**13**|Denmark|217.8851|\n",
    "|**14**|Finland|210.7134|"
   ]
  },
  {
   "cell_type": "code",
   "execution_count": 54,
   "id": "f7117c50",
   "metadata": {
    "execution": {
     "iopub.execute_input": "2023-12-07T22:46:03.628701Z",
     "iopub.status.busy": "2023-12-07T22:46:03.628701Z",
     "iopub.status.idle": "2023-12-07T22:46:03.645147Z",
     "shell.execute_reply": "2023-12-07T22:46:03.644150Z"
    },
    "tags": []
   },
   "outputs": [
    {
     "data": {
      "text/html": [
       "<div>\n",
       "<style scoped>\n",
       "    .dataframe tbody tr th:only-of-type {\n",
       "        vertical-align: middle;\n",
       "    }\n",
       "\n",
       "    .dataframe tbody tr th {\n",
       "        vertical-align: top;\n",
       "    }\n",
       "\n",
       "    .dataframe thead th {\n",
       "        text-align: right;\n",
       "    }\n",
       "</style>\n",
       "<table border=\"1\" class=\"dataframe\">\n",
       "  <thead>\n",
       "    <tr style=\"text-align: right;\">\n",
       "      <th></th>\n",
       "      <th>Country</th>\n",
       "      <th>Sum of International Citations</th>\n",
       "    </tr>\n",
       "  </thead>\n",
       "  <tbody>\n",
       "    <tr>\n",
       "      <th>0</th>\n",
       "      <td>United States</td>\n",
       "      <td>2294.2671</td>\n",
       "    </tr>\n",
       "    <tr>\n",
       "      <th>1</th>\n",
       "      <td>United Kingdom</td>\n",
       "      <td>2279.9530</td>\n",
       "    </tr>\n",
       "    <tr>\n",
       "      <th>2</th>\n",
       "      <td>Australia</td>\n",
       "      <td>1895.6595</td>\n",
       "    </tr>\n",
       "    <tr>\n",
       "      <th>3</th>\n",
       "      <td>Canada</td>\n",
       "      <td>822.9573</td>\n",
       "    </tr>\n",
       "    <tr>\n",
       "      <th>4</th>\n",
       "      <td>Netherlands</td>\n",
       "      <td>749.9450</td>\n",
       "    </tr>\n",
       "    <tr>\n",
       "      <th>5</th>\n",
       "      <td>Switzerland</td>\n",
       "      <td>664.2349</td>\n",
       "    </tr>\n",
       "    <tr>\n",
       "      <th>6</th>\n",
       "      <td>Germany</td>\n",
       "      <td>635.0223</td>\n",
       "    </tr>\n",
       "    <tr>\n",
       "      <th>7</th>\n",
       "      <td>China (Mainland)</td>\n",
       "      <td>578.7473</td>\n",
       "    </tr>\n",
       "    <tr>\n",
       "      <th>8</th>\n",
       "      <td>Hong Kong SAR</td>\n",
       "      <td>513.1582</td>\n",
       "    </tr>\n",
       "    <tr>\n",
       "      <th>9</th>\n",
       "      <td>France</td>\n",
       "      <td>385.9691</td>\n",
       "    </tr>\n",
       "    <tr>\n",
       "      <th>10</th>\n",
       "      <td>Sweden</td>\n",
       "      <td>382.8463</td>\n",
       "    </tr>\n",
       "    <tr>\n",
       "      <th>11</th>\n",
       "      <td>New Zealand</td>\n",
       "      <td>344.3393</td>\n",
       "    </tr>\n",
       "    <tr>\n",
       "      <th>12</th>\n",
       "      <td>Belgium</td>\n",
       "      <td>300.6716</td>\n",
       "    </tr>\n",
       "    <tr>\n",
       "      <th>13</th>\n",
       "      <td>Denmark</td>\n",
       "      <td>217.8851</td>\n",
       "    </tr>\n",
       "    <tr>\n",
       "      <th>14</th>\n",
       "      <td>Finland</td>\n",
       "      <td>210.7134</td>\n",
       "    </tr>\n",
       "  </tbody>\n",
       "</table>\n",
       "</div>"
      ],
      "text/plain": [
       "             Country  Sum of International Citations\n",
       "0      United States                       2294.2671\n",
       "1     United Kingdom                       2279.9530\n",
       "2          Australia                       1895.6595\n",
       "3             Canada                        822.9573\n",
       "4        Netherlands                        749.9450\n",
       "5        Switzerland                        664.2349\n",
       "6            Germany                        635.0223\n",
       "7   China (Mainland)                        578.7473\n",
       "8      Hong Kong SAR                        513.1582\n",
       "9             France                        385.9691\n",
       "10            Sweden                        382.8463\n",
       "11       New Zealand                        344.3393\n",
       "12           Belgium                        300.6716\n",
       "13           Denmark                        217.8851\n",
       "14           Finland                        210.7134"
      ]
     },
     "execution_count": 54,
     "metadata": {},
     "output_type": "execute_result"
    }
   ],
   "source": [
    "# compute and store the answer in the variable 'top_cit_per_inter', then display it\n",
    "qry = \"\"\"\n",
    "    SELECT `Country`, SUM(((`Citations per Faculty`*`International Faculty`)/100)) AS `Sum of International Citations`\n",
    "    FROM rankings\n",
    "    WHERE `Year`= 2024\n",
    "    GROUP BY `Country`\n",
    "    ORDER BY `Sum of International Citations` DESC\n",
    "    LIMIT 15\n",
    "\"\"\"\n",
    "\n",
    "top_cit_per_inter = pd.read_sql(qry,conn)\n",
    "\n",
    "top_cit_per_inter"
   ]
  },
  {
   "cell_type": "code",
   "execution_count": 55,
   "id": "cf18ee3c",
   "metadata": {},
   "outputs": [
    {
     "data": {
      "text/html": [
       "<p><strong><pre style='display: inline;'>q13</pre></strong> passed! 🚀</p><p><strong><pre style='display: inline;'>q13 - 2</pre> message:</strong> Note that the Gradescope autograder will deduct points if your code fails the following rubric point - 'did not use SQL to answer (-2)'.The public tests cannot determine if your code satisfies these requirements. Verify your code manually.</p><p><strong><pre style='display: inline;'>q13 - 3</pre> message:</strong> Note that the Gradescope autograder will deduct points if your code fails the following rubric point - 'incorrect logic is used to answer (-2)'.The public tests cannot determine if your code satisfies these requirements. Verify your code manually.</p>"
      ],
      "text/plain": [
       "q13 results: All test cases passed!\n",
       "q13 - 2 message: Note that the Gradescope autograder will deduct points if your code fails the following rubric point - 'did not use SQL to answer (-2)'.The public tests cannot determine if your code satisfies these requirements. Verify your code manually.\n",
       "q13 - 3 message: Note that the Gradescope autograder will deduct points if your code fails the following rubric point - 'incorrect logic is used to answer (-2)'.The public tests cannot determine if your code satisfies these requirements. Verify your code manually."
      ]
     },
     "execution_count": 55,
     "metadata": {},
     "output_type": "execute_result"
    }
   ],
   "source": [
    "grader.check(\"q13\")"
   ]
  },
  {
   "cell_type": "markdown",
   "id": "57aec620",
   "metadata": {
    "deletable": false,
    "editable": false
   },
   "source": [
    "**Question 14:** Among the institutions ranked within the **top** *300*  in the `Year` *2023*, find the **average** `Citations per International` for **each** `Country`.\n",
    "\n",
    "You **must** display the columns `Country` and `Average Citations per International` representing the **average** of `Citations per International` for **each** `Country`. The rows **must** be in *descending* order of `Average Citations per International`. You **must** **omit** rows where `Citations per International` and `International Faculty` columns are **missing** by using the clause:\n",
    "\n",
    "```sql\n",
    "WHERE (`Citations per Faculty` IS NOT NULL AND `International Faculty` IS NOT NULL)\n",
    "```\n",
    "\n",
    "\n",
    "**Hint:** To find the **average**, you can use `SUM()` and `COUNT()` or you can simply use `AVG()`.\n",
    "\n",
    "Your output **must** be a **DataFrame** whose **first ten rows** look like this:\n",
    "\n",
    "||**Country**|**Average Citations per International**|\n",
    "|---|---|---|\n",
    "|**0**|Singapore|92.950000|\n",
    "|**1**|Australia|82.001726|\n",
    "|**2**|Hong Kong SAR|78.318000|\n",
    "|**3**|Switzerland|78.004875|\n",
    "|**4**|Netherlands|58.039117|\n",
    "|**5**|United Kingdom|56.838479|\n",
    "|**6**|Sweden|52.991567|\n",
    "|**7**|Canada|48.342191|\n",
    "|**8**|Denmark|47.686267|\n",
    "|**9**|Belgium|47.580433|"
   ]
  },
  {
   "cell_type": "code",
   "execution_count": 56,
   "id": "12f99017",
   "metadata": {
    "execution": {
     "iopub.execute_input": "2023-12-07T22:46:04.023306Z",
     "iopub.status.busy": "2023-12-07T22:46:04.023306Z",
     "iopub.status.idle": "2023-12-07T22:46:04.040141Z",
     "shell.execute_reply": "2023-12-07T22:46:04.039144Z"
    },
    "tags": []
   },
   "outputs": [
    {
     "data": {
      "text/html": [
       "<div>\n",
       "<style scoped>\n",
       "    .dataframe tbody tr th:only-of-type {\n",
       "        vertical-align: middle;\n",
       "    }\n",
       "\n",
       "    .dataframe tbody tr th {\n",
       "        vertical-align: top;\n",
       "    }\n",
       "\n",
       "    .dataframe thead th {\n",
       "        text-align: right;\n",
       "    }\n",
       "</style>\n",
       "<table border=\"1\" class=\"dataframe\">\n",
       "  <thead>\n",
       "    <tr style=\"text-align: right;\">\n",
       "      <th></th>\n",
       "      <th>Country</th>\n",
       "      <th>Average Citations per International</th>\n",
       "    </tr>\n",
       "  </thead>\n",
       "  <tbody>\n",
       "    <tr>\n",
       "      <th>0</th>\n",
       "      <td>Singapore</td>\n",
       "      <td>92.950000</td>\n",
       "    </tr>\n",
       "    <tr>\n",
       "      <th>1</th>\n",
       "      <td>Australia</td>\n",
       "      <td>82.001726</td>\n",
       "    </tr>\n",
       "    <tr>\n",
       "      <th>2</th>\n",
       "      <td>Hong Kong SAR</td>\n",
       "      <td>78.318000</td>\n",
       "    </tr>\n",
       "    <tr>\n",
       "      <th>3</th>\n",
       "      <td>Switzerland</td>\n",
       "      <td>78.004875</td>\n",
       "    </tr>\n",
       "    <tr>\n",
       "      <th>4</th>\n",
       "      <td>Netherlands</td>\n",
       "      <td>58.039117</td>\n",
       "    </tr>\n",
       "    <tr>\n",
       "      <th>5</th>\n",
       "      <td>United Kingdom</td>\n",
       "      <td>56.838479</td>\n",
       "    </tr>\n",
       "    <tr>\n",
       "      <th>6</th>\n",
       "      <td>Sweden</td>\n",
       "      <td>52.991567</td>\n",
       "    </tr>\n",
       "    <tr>\n",
       "      <th>7</th>\n",
       "      <td>Canada</td>\n",
       "      <td>48.342191</td>\n",
       "    </tr>\n",
       "    <tr>\n",
       "      <th>8</th>\n",
       "      <td>Denmark</td>\n",
       "      <td>47.686267</td>\n",
       "    </tr>\n",
       "    <tr>\n",
       "      <th>9</th>\n",
       "      <td>Belgium</td>\n",
       "      <td>47.580433</td>\n",
       "    </tr>\n",
       "    <tr>\n",
       "      <th>10</th>\n",
       "      <td>Norway</td>\n",
       "      <td>44.820000</td>\n",
       "    </tr>\n",
       "    <tr>\n",
       "      <th>11</th>\n",
       "      <td>Saudi Arabia</td>\n",
       "      <td>43.294600</td>\n",
       "    </tr>\n",
       "    <tr>\n",
       "      <th>12</th>\n",
       "      <td>Finland</td>\n",
       "      <td>42.823267</td>\n",
       "    </tr>\n",
       "    <tr>\n",
       "      <th>13</th>\n",
       "      <td>Ireland</td>\n",
       "      <td>38.282033</td>\n",
       "    </tr>\n",
       "    <tr>\n",
       "      <th>14</th>\n",
       "      <td>New Zealand</td>\n",
       "      <td>38.215660</td>\n",
       "    </tr>\n",
       "    <tr>\n",
       "      <th>15</th>\n",
       "      <td>Qatar</td>\n",
       "      <td>36.900000</td>\n",
       "    </tr>\n",
       "    <tr>\n",
       "      <th>16</th>\n",
       "      <td>China (Mainland)</td>\n",
       "      <td>36.544577</td>\n",
       "    </tr>\n",
       "    <tr>\n",
       "      <th>17</th>\n",
       "      <td>United States</td>\n",
       "      <td>36.240415</td>\n",
       "    </tr>\n",
       "    <tr>\n",
       "      <th>18</th>\n",
       "      <td>France</td>\n",
       "      <td>32.660511</td>\n",
       "    </tr>\n",
       "    <tr>\n",
       "      <th>19</th>\n",
       "      <td>United Arab Emirates</td>\n",
       "      <td>31.700000</td>\n",
       "    </tr>\n",
       "    <tr>\n",
       "      <th>20</th>\n",
       "      <td>Austria</td>\n",
       "      <td>31.611433</td>\n",
       "    </tr>\n",
       "    <tr>\n",
       "      <th>21</th>\n",
       "      <td>South Africa</td>\n",
       "      <td>27.696600</td>\n",
       "    </tr>\n",
       "    <tr>\n",
       "      <th>22</th>\n",
       "      <td>Israel</td>\n",
       "      <td>26.089950</td>\n",
       "    </tr>\n",
       "    <tr>\n",
       "      <th>23</th>\n",
       "      <td>Germany</td>\n",
       "      <td>24.701627</td>\n",
       "    </tr>\n",
       "    <tr>\n",
       "      <th>24</th>\n",
       "      <td>Lebanon</td>\n",
       "      <td>14.980000</td>\n",
       "    </tr>\n",
       "    <tr>\n",
       "      <th>25</th>\n",
       "      <td>South Korea</td>\n",
       "      <td>14.784700</td>\n",
       "    </tr>\n",
       "    <tr>\n",
       "      <th>26</th>\n",
       "      <td>Spain</td>\n",
       "      <td>14.626767</td>\n",
       "    </tr>\n",
       "    <tr>\n",
       "      <th>27</th>\n",
       "      <td>Italy</td>\n",
       "      <td>10.578600</td>\n",
       "    </tr>\n",
       "    <tr>\n",
       "      <th>28</th>\n",
       "      <td>Taiwan</td>\n",
       "      <td>8.763275</td>\n",
       "    </tr>\n",
       "    <tr>\n",
       "      <th>29</th>\n",
       "      <td>Brunei</td>\n",
       "      <td>8.500000</td>\n",
       "    </tr>\n",
       "    <tr>\n",
       "      <th>30</th>\n",
       "      <td>Japan</td>\n",
       "      <td>7.592830</td>\n",
       "    </tr>\n",
       "    <tr>\n",
       "      <th>31</th>\n",
       "      <td>Malaysia</td>\n",
       "      <td>5.926371</td>\n",
       "    </tr>\n",
       "    <tr>\n",
       "      <th>32</th>\n",
       "      <td>Estonia</td>\n",
       "      <td>5.720000</td>\n",
       "    </tr>\n",
       "    <tr>\n",
       "      <th>33</th>\n",
       "      <td>Portugal</td>\n",
       "      <td>5.283600</td>\n",
       "    </tr>\n",
       "    <tr>\n",
       "      <th>34</th>\n",
       "      <td>India</td>\n",
       "      <td>3.698383</td>\n",
       "    </tr>\n",
       "    <tr>\n",
       "      <th>35</th>\n",
       "      <td>Brazil</td>\n",
       "      <td>3.292400</td>\n",
       "    </tr>\n",
       "    <tr>\n",
       "      <th>36</th>\n",
       "      <td>Czech Republic</td>\n",
       "      <td>2.557300</td>\n",
       "    </tr>\n",
       "    <tr>\n",
       "      <th>37</th>\n",
       "      <td>Chile</td>\n",
       "      <td>1.772050</td>\n",
       "    </tr>\n",
       "    <tr>\n",
       "      <th>38</th>\n",
       "      <td>Russia</td>\n",
       "      <td>1.433386</td>\n",
       "    </tr>\n",
       "    <tr>\n",
       "      <th>39</th>\n",
       "      <td>Indonesia</td>\n",
       "      <td>1.180100</td>\n",
       "    </tr>\n",
       "    <tr>\n",
       "      <th>40</th>\n",
       "      <td>Argentina</td>\n",
       "      <td>1.146600</td>\n",
       "    </tr>\n",
       "    <tr>\n",
       "      <th>41</th>\n",
       "      <td>Colombia</td>\n",
       "      <td>1.059850</td>\n",
       "    </tr>\n",
       "    <tr>\n",
       "      <th>42</th>\n",
       "      <td>Mexico</td>\n",
       "      <td>0.716750</td>\n",
       "    </tr>\n",
       "    <tr>\n",
       "      <th>43</th>\n",
       "      <td>Kazakhstan</td>\n",
       "      <td>0.539850</td>\n",
       "    </tr>\n",
       "    <tr>\n",
       "      <th>44</th>\n",
       "      <td>Poland</td>\n",
       "      <td>0.470300</td>\n",
       "    </tr>\n",
       "    <tr>\n",
       "      <th>45</th>\n",
       "      <td>Thailand</td>\n",
       "      <td>0.445800</td>\n",
       "    </tr>\n",
       "    <tr>\n",
       "      <th>46</th>\n",
       "      <td>Belarus</td>\n",
       "      <td>0.044200</td>\n",
       "    </tr>\n",
       "  </tbody>\n",
       "</table>\n",
       "</div>"
      ],
      "text/plain": [
       "                 Country  Average Citations per International\n",
       "0              Singapore                            92.950000\n",
       "1              Australia                            82.001726\n",
       "2          Hong Kong SAR                            78.318000\n",
       "3            Switzerland                            78.004875\n",
       "4            Netherlands                            58.039117\n",
       "5         United Kingdom                            56.838479\n",
       "6                 Sweden                            52.991567\n",
       "7                 Canada                            48.342191\n",
       "8                Denmark                            47.686267\n",
       "9                Belgium                            47.580433\n",
       "10                Norway                            44.820000\n",
       "11          Saudi Arabia                            43.294600\n",
       "12               Finland                            42.823267\n",
       "13               Ireland                            38.282033\n",
       "14           New Zealand                            38.215660\n",
       "15                 Qatar                            36.900000\n",
       "16      China (Mainland)                            36.544577\n",
       "17         United States                            36.240415\n",
       "18                France                            32.660511\n",
       "19  United Arab Emirates                            31.700000\n",
       "20               Austria                            31.611433\n",
       "21          South Africa                            27.696600\n",
       "22                Israel                            26.089950\n",
       "23               Germany                            24.701627\n",
       "24               Lebanon                            14.980000\n",
       "25           South Korea                            14.784700\n",
       "26                 Spain                            14.626767\n",
       "27                 Italy                            10.578600\n",
       "28                Taiwan                             8.763275\n",
       "29                Brunei                             8.500000\n",
       "30                 Japan                             7.592830\n",
       "31              Malaysia                             5.926371\n",
       "32               Estonia                             5.720000\n",
       "33              Portugal                             5.283600\n",
       "34                 India                             3.698383\n",
       "35                Brazil                             3.292400\n",
       "36        Czech Republic                             2.557300\n",
       "37                 Chile                             1.772050\n",
       "38                Russia                             1.433386\n",
       "39             Indonesia                             1.180100\n",
       "40             Argentina                             1.146600\n",
       "41              Colombia                             1.059850\n",
       "42                Mexico                             0.716750\n",
       "43            Kazakhstan                             0.539850\n",
       "44                Poland                             0.470300\n",
       "45              Thailand                             0.445800\n",
       "46               Belarus                             0.044200"
      ]
     },
     "execution_count": 56,
     "metadata": {},
     "output_type": "execute_result"
    }
   ],
   "source": [
    "# compute and store the answer in the variable 'avg_cit_per_inter', then display it\n",
    "qry = \"\"\"\n",
    "    SELECT `Country`, AVG(((`Citations per Faculty`*`International Faculty`)/100)) AS `Average Citations per International`\n",
    "    FROM rankings\n",
    "    WHERE `Year`= 2023 AND `Rank` <= 300 AND `Citations per Faculty` IS NOT NULL AND `International Faculty` IS NOT NULL\n",
    "    GROUP BY `Country`\n",
    "    ORDER BY `Average Citations per International` DESC\n",
    "\"\"\"\n",
    "\n",
    "avg_cit_per_inter = pd.read_sql(qry,conn)\n",
    "\n",
    "avg_cit_per_inter"
   ]
  },
  {
   "cell_type": "code",
   "execution_count": 57,
   "id": "df0d6942",
   "metadata": {},
   "outputs": [
    {
     "data": {
      "text/html": [
       "<p><strong><pre style='display: inline;'>q14</pre></strong> passed! 🌟</p><p><strong><pre style='display: inline;'>q14 - 2</pre> message:</strong> Note that the Gradescope autograder will deduct points if your code fails the following rubric point - 'did not use SQL to answer (-2)'.The public tests cannot determine if your code satisfies these requirements. Verify your code manually.</p><p><strong><pre style='display: inline;'>q14 - 3</pre> message:</strong> Note that the Gradescope autograder will deduct points if your code fails the following rubric point - 'incorrect logic is used to answer (-2)'.The public tests cannot determine if your code satisfies these requirements. Verify your code manually.</p>"
      ],
      "text/plain": [
       "q14 results: All test cases passed!\n",
       "q14 - 2 message: Note that the Gradescope autograder will deduct points if your code fails the following rubric point - 'did not use SQL to answer (-2)'.The public tests cannot determine if your code satisfies these requirements. Verify your code manually.\n",
       "q14 - 3 message: Note that the Gradescope autograder will deduct points if your code fails the following rubric point - 'incorrect logic is used to answer (-2)'.The public tests cannot determine if your code satisfies these requirements. Verify your code manually."
      ]
     },
     "execution_count": 57,
     "metadata": {},
     "output_type": "execute_result"
    }
   ],
   "source": [
    "grader.check(\"q14\")"
   ]
  },
  {
   "cell_type": "markdown",
   "id": "a651fd5d",
   "metadata": {
    "deletable": false,
    "editable": false
   },
   "source": [
    "**Question 15** Find the **institution** with the **highest** value of `Citations per International` for **each** `Country` in the `Year` *2024*.\n",
    "\n",
    "Your output **must** be a **DataFrame** with the columns `Country`, `Institution Name`, and a new column `Maximum Citations per International` representing the **maximum** value of `Citations per International` for that country. The rows **must** be in *descending* order of `Maximum Citations per International`. You **must** **omit** rows where `Maximum Citations per International` is **missing** by using the clause:\n",
    "\n",
    "```sql\n",
    "HAVING `Maximum Citations per International` IS NOT NULL\n",
    "```\n",
    "\n",
    "**Hint:** You can use the `MAX()` function to return the largest value within a group.\n",
    "\n",
    "Your output **must** be a **DataFrame** whose **first ten rows** look like this:\n",
    "\n",
    "||**Country**|**Institution Name**|**Maximum Citations per International**|\n",
    "|---|---|---|---|\n",
    "|**0**|United States|Massachusetts Institute of Technology (MIT) |100.0000|\n",
    "|**1**|Hong Kong SAR|City University of Hong Kong|99.9000|\n",
    "|**2**|Switzerland|University of Bern|99.2000|\n",
    "|**3**|Australia|The University of Western Australia|98.9000|\n",
    "|**4**|Canada|Western University|98.0051|\n",
    "|**5**|Macau SAR|University of Macau|96.9000|\n",
    "|**6**|China (Mainland)|Zhejiang University|95.3552|\n",
    "|**7**|Singapore|Nanyang Technological University, Singapore (NTU)|94.4000|\n",
    "|**8**|United Kingdom|Imperial College London|94.0000|\n",
    "|**9**|France|Institut Polytechnique de Paris|92.3930|"
   ]
  },
  {
   "cell_type": "code",
   "execution_count": 58,
   "id": "55dc6c25",
   "metadata": {
    "execution": {
     "iopub.execute_input": "2023-12-07T22:46:04.413022Z",
     "iopub.status.busy": "2023-12-07T22:46:04.413022Z",
     "iopub.status.idle": "2023-12-07T22:46:04.434394Z",
     "shell.execute_reply": "2023-12-07T22:46:04.433400Z"
    },
    "tags": []
   },
   "outputs": [
    {
     "data": {
      "text/html": [
       "<div>\n",
       "<style scoped>\n",
       "    .dataframe tbody tr th:only-of-type {\n",
       "        vertical-align: middle;\n",
       "    }\n",
       "\n",
       "    .dataframe tbody tr th {\n",
       "        vertical-align: top;\n",
       "    }\n",
       "\n",
       "    .dataframe thead th {\n",
       "        text-align: right;\n",
       "    }\n",
       "</style>\n",
       "<table border=\"1\" class=\"dataframe\">\n",
       "  <thead>\n",
       "    <tr style=\"text-align: right;\">\n",
       "      <th></th>\n",
       "      <th>Country</th>\n",
       "      <th>Institution Name</th>\n",
       "      <th>Maximum Citations per International</th>\n",
       "    </tr>\n",
       "  </thead>\n",
       "  <tbody>\n",
       "    <tr>\n",
       "      <th>0</th>\n",
       "      <td>United States</td>\n",
       "      <td>Massachusetts Institute of Technology (MIT)</td>\n",
       "      <td>100.0000</td>\n",
       "    </tr>\n",
       "    <tr>\n",
       "      <th>1</th>\n",
       "      <td>Hong Kong SAR</td>\n",
       "      <td>City University of Hong Kong</td>\n",
       "      <td>99.9000</td>\n",
       "    </tr>\n",
       "    <tr>\n",
       "      <th>2</th>\n",
       "      <td>Switzerland</td>\n",
       "      <td>University of Bern</td>\n",
       "      <td>99.2000</td>\n",
       "    </tr>\n",
       "    <tr>\n",
       "      <th>3</th>\n",
       "      <td>Australia</td>\n",
       "      <td>The University of Western Australia</td>\n",
       "      <td>98.9000</td>\n",
       "    </tr>\n",
       "    <tr>\n",
       "      <th>4</th>\n",
       "      <td>Canada</td>\n",
       "      <td>Western University</td>\n",
       "      <td>98.0051</td>\n",
       "    </tr>\n",
       "    <tr>\n",
       "      <th>5</th>\n",
       "      <td>Macau SAR</td>\n",
       "      <td>University of Macau</td>\n",
       "      <td>96.9000</td>\n",
       "    </tr>\n",
       "    <tr>\n",
       "      <th>6</th>\n",
       "      <td>China (Mainland)</td>\n",
       "      <td>Zhejiang University</td>\n",
       "      <td>95.3552</td>\n",
       "    </tr>\n",
       "    <tr>\n",
       "      <th>7</th>\n",
       "      <td>Singapore</td>\n",
       "      <td>Nanyang Technological University, Singapore (NTU)</td>\n",
       "      <td>94.4000</td>\n",
       "    </tr>\n",
       "    <tr>\n",
       "      <th>8</th>\n",
       "      <td>United Kingdom</td>\n",
       "      <td>Imperial College London</td>\n",
       "      <td>94.0000</td>\n",
       "    </tr>\n",
       "    <tr>\n",
       "      <th>9</th>\n",
       "      <td>France</td>\n",
       "      <td>Institut Polytechnique de Paris</td>\n",
       "      <td>92.3930</td>\n",
       "    </tr>\n",
       "    <tr>\n",
       "      <th>10</th>\n",
       "      <td>Netherlands</td>\n",
       "      <td>University of Amsterdam</td>\n",
       "      <td>90.6444</td>\n",
       "    </tr>\n",
       "    <tr>\n",
       "      <th>11</th>\n",
       "      <td>Belgium</td>\n",
       "      <td>KU Leuven</td>\n",
       "      <td>86.3037</td>\n",
       "    </tr>\n",
       "    <tr>\n",
       "      <th>12</th>\n",
       "      <td>Sweden</td>\n",
       "      <td>KTH Royal Institute of Technology</td>\n",
       "      <td>84.0664</td>\n",
       "    </tr>\n",
       "    <tr>\n",
       "      <th>13</th>\n",
       "      <td>Denmark</td>\n",
       "      <td>Technical University of Denmark</td>\n",
       "      <td>83.4000</td>\n",
       "    </tr>\n",
       "    <tr>\n",
       "      <th>14</th>\n",
       "      <td>Finland</td>\n",
       "      <td>Aalto University</td>\n",
       "      <td>75.8270</td>\n",
       "    </tr>\n",
       "    <tr>\n",
       "      <th>15</th>\n",
       "      <td>New Zealand</td>\n",
       "      <td>University of Waikato</td>\n",
       "      <td>74.4750</td>\n",
       "    </tr>\n",
       "    <tr>\n",
       "      <th>16</th>\n",
       "      <td>Cyprus</td>\n",
       "      <td>University of Cyprus (UCY)</td>\n",
       "      <td>72.2762</td>\n",
       "    </tr>\n",
       "    <tr>\n",
       "      <th>17</th>\n",
       "      <td>Austria</td>\n",
       "      <td>Technische Universität Wien</td>\n",
       "      <td>67.9601</td>\n",
       "    </tr>\n",
       "    <tr>\n",
       "      <th>18</th>\n",
       "      <td>Saudi Arabia</td>\n",
       "      <td>King Fahd University of Petroleum &amp; Minerals</td>\n",
       "      <td>65.8000</td>\n",
       "    </tr>\n",
       "    <tr>\n",
       "      <th>19</th>\n",
       "      <td>Ireland</td>\n",
       "      <td>Trinity College Dublin, The University of Dublin</td>\n",
       "      <td>63.9718</td>\n",
       "    </tr>\n",
       "    <tr>\n",
       "      <th>20</th>\n",
       "      <td>Malaysia</td>\n",
       "      <td>Universiti Teknologi PETRONAS (UTP)</td>\n",
       "      <td>55.9764</td>\n",
       "    </tr>\n",
       "    <tr>\n",
       "      <th>21</th>\n",
       "      <td>Norway</td>\n",
       "      <td>University of Oslo</td>\n",
       "      <td>55.2762</td>\n",
       "    </tr>\n",
       "    <tr>\n",
       "      <th>22</th>\n",
       "      <td>Germany</td>\n",
       "      <td>KIT, Karlsruhe Institute of Technology</td>\n",
       "      <td>50.6176</td>\n",
       "    </tr>\n",
       "    <tr>\n",
       "      <th>23</th>\n",
       "      <td>United Arab Emirates</td>\n",
       "      <td>Khalifa University of Science and Technology</td>\n",
       "      <td>48.3000</td>\n",
       "    </tr>\n",
       "    <tr>\n",
       "      <th>24</th>\n",
       "      <td>Spain</td>\n",
       "      <td>Universitat Pompeu Fabra (Barcelona)</td>\n",
       "      <td>43.3124</td>\n",
       "    </tr>\n",
       "    <tr>\n",
       "      <th>25</th>\n",
       "      <td>South Korea</td>\n",
       "      <td>Ulsan National Institute of Science and Technology (UNIST)</td>\n",
       "      <td>40.9190</td>\n",
       "    </tr>\n",
       "    <tr>\n",
       "      <th>26</th>\n",
       "      <td>Israel</td>\n",
       "      <td>Tel Aviv University</td>\n",
       "      <td>40.3596</td>\n",
       "    </tr>\n",
       "    <tr>\n",
       "      <th>27</th>\n",
       "      <td>Qatar</td>\n",
       "      <td>Qatar University</td>\n",
       "      <td>38.8000</td>\n",
       "    </tr>\n",
       "    <tr>\n",
       "      <th>28</th>\n",
       "      <td>Italy</td>\n",
       "      <td>Politecnico di Milano</td>\n",
       "      <td>30.8154</td>\n",
       "    </tr>\n",
       "    <tr>\n",
       "      <th>29</th>\n",
       "      <td>Luxembourg</td>\n",
       "      <td>University of Luxembourg</td>\n",
       "      <td>28.6000</td>\n",
       "    </tr>\n",
       "    <tr>\n",
       "      <th>30</th>\n",
       "      <td>South Africa</td>\n",
       "      <td>University of Cape Town</td>\n",
       "      <td>27.3743</td>\n",
       "    </tr>\n",
       "    <tr>\n",
       "      <th>31</th>\n",
       "      <td>Oman</td>\n",
       "      <td>Sultan Qaboos University</td>\n",
       "      <td>18.4000</td>\n",
       "    </tr>\n",
       "    <tr>\n",
       "      <th>32</th>\n",
       "      <td>Japan</td>\n",
       "      <td>Osaka University</td>\n",
       "      <td>17.9322</td>\n",
       "    </tr>\n",
       "    <tr>\n",
       "      <th>33</th>\n",
       "      <td>Lebanon</td>\n",
       "      <td>American University of Beirut (AUB)</td>\n",
       "      <td>16.4076</td>\n",
       "    </tr>\n",
       "    <tr>\n",
       "      <th>34</th>\n",
       "      <td>Iran, Islamic Republic of</td>\n",
       "      <td>Amirkabir University of Technology</td>\n",
       "      <td>15.8682</td>\n",
       "    </tr>\n",
       "    <tr>\n",
       "      <th>35</th>\n",
       "      <td>Taiwan</td>\n",
       "      <td>National Yang Ming Chiao Tung University</td>\n",
       "      <td>9.8990</td>\n",
       "    </tr>\n",
       "    <tr>\n",
       "      <th>36</th>\n",
       "      <td>Brunei</td>\n",
       "      <td>Universiti Brunei Darussalam (UBD)</td>\n",
       "      <td>8.2000</td>\n",
       "    </tr>\n",
       "    <tr>\n",
       "      <th>37</th>\n",
       "      <td>Turkey</td>\n",
       "      <td>Koç University</td>\n",
       "      <td>7.8078</td>\n",
       "    </tr>\n",
       "    <tr>\n",
       "      <th>38</th>\n",
       "      <td>Russia</td>\n",
       "      <td>National Research Nuclear University MEPhI (Moscow Engineering Physics Institute)</td>\n",
       "      <td>5.8969</td>\n",
       "    </tr>\n",
       "    <tr>\n",
       "      <th>39</th>\n",
       "      <td>Portugal</td>\n",
       "      <td>Universidade Nova de Lisboa</td>\n",
       "      <td>5.8080</td>\n",
       "    </tr>\n",
       "    <tr>\n",
       "      <th>40</th>\n",
       "      <td>Estonia</td>\n",
       "      <td>University of Tartu</td>\n",
       "      <td>5.3475</td>\n",
       "    </tr>\n",
       "    <tr>\n",
       "      <th>41</th>\n",
       "      <td>India</td>\n",
       "      <td>Indian Institute of Science</td>\n",
       "      <td>4.8000</td>\n",
       "    </tr>\n",
       "    <tr>\n",
       "      <th>42</th>\n",
       "      <td>Czech Republic</td>\n",
       "      <td>Masaryk University</td>\n",
       "      <td>4.7120</td>\n",
       "    </tr>\n",
       "    <tr>\n",
       "      <th>43</th>\n",
       "      <td>Egypt</td>\n",
       "      <td>The American University in Cairo</td>\n",
       "      <td>4.5034</td>\n",
       "    </tr>\n",
       "    <tr>\n",
       "      <th>44</th>\n",
       "      <td>Pakistan</td>\n",
       "      <td>Quaid-i-Azam University</td>\n",
       "      <td>3.2980</td>\n",
       "    </tr>\n",
       "    <tr>\n",
       "      <th>45</th>\n",
       "      <td>Brazil</td>\n",
       "      <td>Universidade Estadual de Campinas (Unicamp)</td>\n",
       "      <td>2.9133</td>\n",
       "    </tr>\n",
       "    <tr>\n",
       "      <th>46</th>\n",
       "      <td>Greece</td>\n",
       "      <td>National and Kapodistrian University of Athens</td>\n",
       "      <td>2.8809</td>\n",
       "    </tr>\n",
       "    <tr>\n",
       "      <th>47</th>\n",
       "      <td>Indonesia</td>\n",
       "      <td>Bandung Institute of Technology (ITB)</td>\n",
       "      <td>2.1100</td>\n",
       "    </tr>\n",
       "    <tr>\n",
       "      <th>48</th>\n",
       "      <td>Chile</td>\n",
       "      <td>Pontificia Universidad Católica de Chile (UC)</td>\n",
       "      <td>1.9024</td>\n",
       "    </tr>\n",
       "    <tr>\n",
       "      <th>49</th>\n",
       "      <td>Colombia</td>\n",
       "      <td>Universidad de los Andes</td>\n",
       "      <td>1.5576</td>\n",
       "    </tr>\n",
       "    <tr>\n",
       "      <th>50</th>\n",
       "      <td>Argentina</td>\n",
       "      <td>Universidad de Buenos Aires (UBA)</td>\n",
       "      <td>1.0642</td>\n",
       "    </tr>\n",
       "    <tr>\n",
       "      <th>51</th>\n",
       "      <td>Thailand</td>\n",
       "      <td>Chulalongkorn University</td>\n",
       "      <td>1.0500</td>\n",
       "    </tr>\n",
       "    <tr>\n",
       "      <th>52</th>\n",
       "      <td>Kazakhstan</td>\n",
       "      <td>L.N. Gumilyov Eurasian National University (ENU)</td>\n",
       "      <td>0.8302</td>\n",
       "    </tr>\n",
       "    <tr>\n",
       "      <th>53</th>\n",
       "      <td>Mexico</td>\n",
       "      <td>Tecnológico de Monterrey</td>\n",
       "      <td>0.7521</td>\n",
       "    </tr>\n",
       "    <tr>\n",
       "      <th>54</th>\n",
       "      <td>Poland</td>\n",
       "      <td>University of Warsaw</td>\n",
       "      <td>0.6174</td>\n",
       "    </tr>\n",
       "    <tr>\n",
       "      <th>55</th>\n",
       "      <td>Lithuania</td>\n",
       "      <td>Vilnius University</td>\n",
       "      <td>0.3900</td>\n",
       "    </tr>\n",
       "    <tr>\n",
       "      <th>56</th>\n",
       "      <td>Peru</td>\n",
       "      <td>Pontificia Universidad Católica del Perú</td>\n",
       "      <td>0.0702</td>\n",
       "    </tr>\n",
       "    <tr>\n",
       "      <th>57</th>\n",
       "      <td>Belarus</td>\n",
       "      <td>Belarusian State University</td>\n",
       "      <td>0.0533</td>\n",
       "    </tr>\n",
       "    <tr>\n",
       "      <th>58</th>\n",
       "      <td>Philippines</td>\n",
       "      <td>University of the Philippines</td>\n",
       "      <td>0.0304</td>\n",
       "    </tr>\n",
       "  </tbody>\n",
       "</table>\n",
       "</div>"
      ],
      "text/plain": [
       "                      Country  \\\n",
       "0               United States   \n",
       "1               Hong Kong SAR   \n",
       "2                 Switzerland   \n",
       "3                   Australia   \n",
       "4                      Canada   \n",
       "5                   Macau SAR   \n",
       "6            China (Mainland)   \n",
       "7                   Singapore   \n",
       "8              United Kingdom   \n",
       "9                      France   \n",
       "10                Netherlands   \n",
       "11                    Belgium   \n",
       "12                     Sweden   \n",
       "13                    Denmark   \n",
       "14                    Finland   \n",
       "15                New Zealand   \n",
       "16                     Cyprus   \n",
       "17                    Austria   \n",
       "18               Saudi Arabia   \n",
       "19                    Ireland   \n",
       "20                   Malaysia   \n",
       "21                     Norway   \n",
       "22                    Germany   \n",
       "23       United Arab Emirates   \n",
       "24                      Spain   \n",
       "25                South Korea   \n",
       "26                     Israel   \n",
       "27                      Qatar   \n",
       "28                      Italy   \n",
       "29                 Luxembourg   \n",
       "30               South Africa   \n",
       "31                       Oman   \n",
       "32                      Japan   \n",
       "33                    Lebanon   \n",
       "34  Iran, Islamic Republic of   \n",
       "35                     Taiwan   \n",
       "36                     Brunei   \n",
       "37                     Turkey   \n",
       "38                     Russia   \n",
       "39                   Portugal   \n",
       "40                    Estonia   \n",
       "41                      India   \n",
       "42             Czech Republic   \n",
       "43                      Egypt   \n",
       "44                   Pakistan   \n",
       "45                     Brazil   \n",
       "46                     Greece   \n",
       "47                  Indonesia   \n",
       "48                      Chile   \n",
       "49                   Colombia   \n",
       "50                  Argentina   \n",
       "51                   Thailand   \n",
       "52                 Kazakhstan   \n",
       "53                     Mexico   \n",
       "54                     Poland   \n",
       "55                  Lithuania   \n",
       "56                       Peru   \n",
       "57                    Belarus   \n",
       "58                Philippines   \n",
       "\n",
       "                                                                     Institution Name  \\\n",
       "0                                        Massachusetts Institute of Technology (MIT)    \n",
       "1                                                        City University of Hong Kong   \n",
       "2                                                                  University of Bern   \n",
       "3                                                 The University of Western Australia   \n",
       "4                                                                  Western University   \n",
       "5                                                                 University of Macau   \n",
       "6                                                                 Zhejiang University   \n",
       "7                                   Nanyang Technological University, Singapore (NTU)   \n",
       "8                                                             Imperial College London   \n",
       "9                                                     Institut Polytechnique de Paris   \n",
       "10                                                            University of Amsterdam   \n",
       "11                                                                          KU Leuven   \n",
       "12                                                 KTH Royal Institute of Technology    \n",
       "13                                                    Technical University of Denmark   \n",
       "14                                                                   Aalto University   \n",
       "15                                                              University of Waikato   \n",
       "16                                                         University of Cyprus (UCY)   \n",
       "17                                                        Technische Universität Wien   \n",
       "18                                       King Fahd University of Petroleum & Minerals   \n",
       "19                                   Trinity College Dublin, The University of Dublin   \n",
       "20                                                Universiti Teknologi PETRONAS (UTP)   \n",
       "21                                                                 University of Oslo   \n",
       "22                                             KIT, Karlsruhe Institute of Technology   \n",
       "23                                       Khalifa University of Science and Technology   \n",
       "24                                               Universitat Pompeu Fabra (Barcelona)   \n",
       "25                         Ulsan National Institute of Science and Technology (UNIST)   \n",
       "26                                                                Tel Aviv University   \n",
       "27                                                                   Qatar University   \n",
       "28                                                              Politecnico di Milano   \n",
       "29                                                           University of Luxembourg   \n",
       "30                                                            University of Cape Town   \n",
       "31                                                           Sultan Qaboos University   \n",
       "32                                                                   Osaka University   \n",
       "33                                                American University of Beirut (AUB)   \n",
       "34                                                 Amirkabir University of Technology   \n",
       "35                                           National Yang Ming Chiao Tung University   \n",
       "36                                                 Universiti Brunei Darussalam (UBD)   \n",
       "37                                                                     Koç University   \n",
       "38  National Research Nuclear University MEPhI (Moscow Engineering Physics Institute)   \n",
       "39                                                        Universidade Nova de Lisboa   \n",
       "40                                                                University of Tartu   \n",
       "41                                                        Indian Institute of Science   \n",
       "42                                                                 Masaryk University   \n",
       "43                                                   The American University in Cairo   \n",
       "44                                                            Quaid-i-Azam University   \n",
       "45                                        Universidade Estadual de Campinas (Unicamp)   \n",
       "46                                     National and Kapodistrian University of Athens   \n",
       "47                                              Bandung Institute of Technology (ITB)   \n",
       "48                                      Pontificia Universidad Católica de Chile (UC)   \n",
       "49                                                           Universidad de los Andes   \n",
       "50                                                  Universidad de Buenos Aires (UBA)   \n",
       "51                                                           Chulalongkorn University   \n",
       "52                                   L.N. Gumilyov Eurasian National University (ENU)   \n",
       "53                                                           Tecnológico de Monterrey   \n",
       "54                                                              University of Warsaw    \n",
       "55                                                                Vilnius University    \n",
       "56                                           Pontificia Universidad Católica del Perú   \n",
       "57                                                        Belarusian State University   \n",
       "58                                                      University of the Philippines   \n",
       "\n",
       "    Maximum Citations per International  \n",
       "0                              100.0000  \n",
       "1                               99.9000  \n",
       "2                               99.2000  \n",
       "3                               98.9000  \n",
       "4                               98.0051  \n",
       "5                               96.9000  \n",
       "6                               95.3552  \n",
       "7                               94.4000  \n",
       "8                               94.0000  \n",
       "9                               92.3930  \n",
       "10                              90.6444  \n",
       "11                              86.3037  \n",
       "12                              84.0664  \n",
       "13                              83.4000  \n",
       "14                              75.8270  \n",
       "15                              74.4750  \n",
       "16                              72.2762  \n",
       "17                              67.9601  \n",
       "18                              65.8000  \n",
       "19                              63.9718  \n",
       "20                              55.9764  \n",
       "21                              55.2762  \n",
       "22                              50.6176  \n",
       "23                              48.3000  \n",
       "24                              43.3124  \n",
       "25                              40.9190  \n",
       "26                              40.3596  \n",
       "27                              38.8000  \n",
       "28                              30.8154  \n",
       "29                              28.6000  \n",
       "30                              27.3743  \n",
       "31                              18.4000  \n",
       "32                              17.9322  \n",
       "33                              16.4076  \n",
       "34                              15.8682  \n",
       "35                               9.8990  \n",
       "36                               8.2000  \n",
       "37                               7.8078  \n",
       "38                               5.8969  \n",
       "39                               5.8080  \n",
       "40                               5.3475  \n",
       "41                               4.8000  \n",
       "42                               4.7120  \n",
       "43                               4.5034  \n",
       "44                               3.2980  \n",
       "45                               2.9133  \n",
       "46                               2.8809  \n",
       "47                               2.1100  \n",
       "48                               1.9024  \n",
       "49                               1.5576  \n",
       "50                               1.0642  \n",
       "51                               1.0500  \n",
       "52                               0.8302  \n",
       "53                               0.7521  \n",
       "54                               0.6174  \n",
       "55                               0.3900  \n",
       "56                               0.0702  \n",
       "57                               0.0533  \n",
       "58                               0.0304  "
      ]
     },
     "execution_count": 58,
     "metadata": {},
     "output_type": "execute_result"
    }
   ],
   "source": [
    "# compute and store the answer in the variable 'max_cit_per_inter', then display it\n",
    "qry = \"\"\"\n",
    "    SELECT `Country`, `Institution Name`, MAX(((`Citations per Faculty`*`International Faculty`)/100)) AS `Maximum Citations per International`\n",
    "    FROM rankings\n",
    "    WHERE `Year`= 2024 \n",
    "    GROUP BY `Country`\n",
    "    HAVING `Maximum Citations per International` IS NOT NULL\n",
    "    ORDER BY `Maximum Citations per International` DESC\n",
    "\"\"\"\n",
    "\n",
    "max_cit_per_inter = pd.read_sql(qry,conn)\n",
    "max_cit_per_inter"
   ]
  },
  {
   "cell_type": "code",
   "execution_count": 59,
   "id": "99582ada",
   "metadata": {},
   "outputs": [
    {
     "data": {
      "text/html": [
       "<p><strong><pre style='display: inline;'>q15</pre></strong> passed! 🙌</p><p><strong><pre style='display: inline;'>q15 - 2</pre> message:</strong> Note that the Gradescope autograder will deduct points if your code fails the following rubric point - 'did not use SQL to answer (-2)'.The public tests cannot determine if your code satisfies these requirements. Verify your code manually.</p><p><strong><pre style='display: inline;'>q15 - 3</pre> message:</strong> Note that the Gradescope autograder will deduct points if your code fails the following rubric point - 'incorrect logic is used to answer (-2)'.The public tests cannot determine if your code satisfies these requirements. Verify your code manually.</p>"
      ],
      "text/plain": [
       "q15 results: All test cases passed!\n",
       "q15 - 2 message: Note that the Gradescope autograder will deduct points if your code fails the following rubric point - 'did not use SQL to answer (-2)'.The public tests cannot determine if your code satisfies these requirements. Verify your code manually.\n",
       "q15 - 3 message: Note that the Gradescope autograder will deduct points if your code fails the following rubric point - 'incorrect logic is used to answer (-2)'.The public tests cannot determine if your code satisfies these requirements. Verify your code manually."
      ]
     },
     "execution_count": 59,
     "metadata": {},
     "output_type": "execute_result"
    }
   ],
   "source": [
    "grader.check(\"q15\")"
   ]
  },
  {
   "cell_type": "markdown",
   "id": "dbbdfd94",
   "metadata": {
    "deletable": false,
    "editable": false
   },
   "source": [
    "**Question 16**: Among the institutions ranked within the **top** *50*  in the `Year` *2022*, create a **horizontal bar plot** representing the **average** of both the`Citations per Faculty` and `International Faculty` scores for **all** institutions in **each** `Country`.\n",
    "\n",
    "You **must** first create a **DataFrame** `country_citations_inter` with **three** columns: `Country`, `Average Citations per Faculty` and `Average International Faculty` representing the name, the average value of `Citations per Faculty` and the average value of `International Faculty` for each country respectively.\n",
    "\n",
    "You **must** ensure that the countries in the **DataFrame** are **ordered** in **increasing** order of the **difference** between the `Average Citations per Faculty` and `Average International Faculty`."
   ]
  },
  {
   "cell_type": "code",
   "execution_count": 60,
   "id": "2745f090",
   "metadata": {
    "execution": {
     "iopub.execute_input": "2023-12-07T22:46:04.834987Z",
     "iopub.status.busy": "2023-12-07T22:46:04.834987Z",
     "iopub.status.idle": "2023-12-07T22:46:04.849434Z",
     "shell.execute_reply": "2023-12-07T22:46:04.848436Z"
    },
    "tags": []
   },
   "outputs": [
    {
     "data": {
      "text/html": [
       "<div>\n",
       "<style scoped>\n",
       "    .dataframe tbody tr th:only-of-type {\n",
       "        vertical-align: middle;\n",
       "    }\n",
       "\n",
       "    .dataframe tbody tr th {\n",
       "        vertical-align: top;\n",
       "    }\n",
       "\n",
       "    .dataframe thead th {\n",
       "        text-align: right;\n",
       "    }\n",
       "</style>\n",
       "<table border=\"1\" class=\"dataframe\">\n",
       "  <thead>\n",
       "    <tr style=\"text-align: right;\">\n",
       "      <th></th>\n",
       "      <th>Country</th>\n",
       "      <th>Average Citations per Faculty</th>\n",
       "      <th>Average International Faculty</th>\n",
       "    </tr>\n",
       "  </thead>\n",
       "  <tbody>\n",
       "    <tr>\n",
       "      <th>0</th>\n",
       "      <td>Canada</td>\n",
       "      <td>57.033333</td>\n",
       "      <td>93.3000</td>\n",
       "    </tr>\n",
       "    <tr>\n",
       "      <th>1</th>\n",
       "      <td>Germany</td>\n",
       "      <td>27.200000</td>\n",
       "      <td>56.9000</td>\n",
       "    </tr>\n",
       "    <tr>\n",
       "      <th>2</th>\n",
       "      <td>United Kingdom</td>\n",
       "      <td>77.937500</td>\n",
       "      <td>98.9375</td>\n",
       "    </tr>\n",
       "    <tr>\n",
       "      <th>3</th>\n",
       "      <td>Hong Kong SAR</td>\n",
       "      <td>81.166667</td>\n",
       "      <td>100.0000</td>\n",
       "    </tr>\n",
       "    <tr>\n",
       "      <th>4</th>\n",
       "      <td>Australia</td>\n",
       "      <td>91.180000</td>\n",
       "      <td>99.4200</td>\n",
       "    </tr>\n",
       "    <tr>\n",
       "      <th>5</th>\n",
       "      <td>Singapore</td>\n",
       "      <td>93.050000</td>\n",
       "      <td>100.0000</td>\n",
       "    </tr>\n",
       "    <tr>\n",
       "      <th>6</th>\n",
       "      <td>France</td>\n",
       "      <td>73.350000</td>\n",
       "      <td>75.9000</td>\n",
       "    </tr>\n",
       "    <tr>\n",
       "      <th>7</th>\n",
       "      <td>Switzerland</td>\n",
       "      <td>99.800000</td>\n",
       "      <td>100.0000</td>\n",
       "    </tr>\n",
       "    <tr>\n",
       "      <th>8</th>\n",
       "      <td>United States</td>\n",
       "      <td>83.700000</td>\n",
       "      <td>65.9000</td>\n",
       "    </tr>\n",
       "    <tr>\n",
       "      <th>9</th>\n",
       "      <td>China (Mainland)</td>\n",
       "      <td>84.240000</td>\n",
       "      <td>55.5400</td>\n",
       "    </tr>\n",
       "    <tr>\n",
       "      <th>10</th>\n",
       "      <td>Japan</td>\n",
       "      <td>69.650000</td>\n",
       "      <td>4.3500</td>\n",
       "    </tr>\n",
       "    <tr>\n",
       "      <th>11</th>\n",
       "      <td>South Korea</td>\n",
       "      <td>86.900000</td>\n",
       "      <td>6.2500</td>\n",
       "    </tr>\n",
       "  </tbody>\n",
       "</table>\n",
       "</div>"
      ],
      "text/plain": [
       "             Country  Average Citations per Faculty  \\\n",
       "0             Canada                      57.033333   \n",
       "1            Germany                      27.200000   \n",
       "2     United Kingdom                      77.937500   \n",
       "3      Hong Kong SAR                      81.166667   \n",
       "4          Australia                      91.180000   \n",
       "5          Singapore                      93.050000   \n",
       "6             France                      73.350000   \n",
       "7        Switzerland                      99.800000   \n",
       "8      United States                      83.700000   \n",
       "9   China (Mainland)                      84.240000   \n",
       "10             Japan                      69.650000   \n",
       "11       South Korea                      86.900000   \n",
       "\n",
       "    Average International Faculty  \n",
       "0                         93.3000  \n",
       "1                         56.9000  \n",
       "2                         98.9375  \n",
       "3                        100.0000  \n",
       "4                         99.4200  \n",
       "5                        100.0000  \n",
       "6                         75.9000  \n",
       "7                        100.0000  \n",
       "8                         65.9000  \n",
       "9                         55.5400  \n",
       "10                         4.3500  \n",
       "11                         6.2500  "
      ]
     },
     "execution_count": 60,
     "metadata": {},
     "output_type": "execute_result"
    }
   ],
   "source": [
    "# first compute and store the DataFrame 'country_citations_inter', then display it\n",
    "# do NOT plot just yet\n",
    "qry = \"\"\"\n",
    "    SELECT `Country`, AVG(`Citations per Faculty`) AS `Average Citations per Faculty`, AVG(`International Faculty`) AS `Average International Faculty`\n",
    "    FROM rankings\n",
    "    WHERE `Year`= 2022 AND `Rank` <= 50 \n",
    "    GROUP BY `Country`\n",
    "    ORDER BY (`Average Citations per Faculty`-`Average International Faculty`) ASC\n",
    "\"\"\"\n",
    "\n",
    "country_citations_inter = pd.read_sql(qry,conn)\n",
    "\n",
    "country_citations_inter"
   ]
  },
  {
   "cell_type": "code",
   "execution_count": 61,
   "id": "624def67",
   "metadata": {},
   "outputs": [
    {
     "data": {
      "text/html": [
       "<p><strong><pre style='display: inline;'>q16</pre></strong> passed! 🌈</p><p><strong><pre style='display: inline;'>q16 - 2</pre> message:</strong> Note that the Gradescope autograder will deduct points if your code fails the following rubric point - 'did not use SQL to answer (-2)'.The public tests cannot determine if your code satisfies these requirements. Verify your code manually.</p><p><strong><pre style='display: inline;'>q16 - 3</pre> message:</strong> Note that the Gradescope autograder will deduct points if your code fails the following rubric point - 'incorrect logic is used to answer (-2)'.The public tests cannot determine if your code satisfies these requirements. Verify your code manually.</p><p><strong><pre style='display: inline;'>q16 - 4</pre> message:</strong> Note that the Gradescope autograder will deduct points if your code fails the following rubric point - '`horizontal_bar_plot` function is not used to plot (-1)'.The public tests cannot determine if your code satisfies these requirements. Verify your code manually.</p><p><strong><pre style='display: inline;'>q16 - 5</pre> message:</strong> Note that the Gradescope autograder will deduct points if your code fails the following rubric point - 'plot is not properly labeled (-1)'.The public tests cannot determine if your code satisfies these requirements. Verify your code manually.</p>"
      ],
      "text/plain": [
       "q16 results: All test cases passed!\n",
       "q16 - 2 message: Note that the Gradescope autograder will deduct points if your code fails the following rubric point - 'did not use SQL to answer (-2)'.The public tests cannot determine if your code satisfies these requirements. Verify your code manually.\n",
       "q16 - 3 message: Note that the Gradescope autograder will deduct points if your code fails the following rubric point - 'incorrect logic is used to answer (-2)'.The public tests cannot determine if your code satisfies these requirements. Verify your code manually.\n",
       "q16 - 4 message: Note that the Gradescope autograder will deduct points if your code fails the following rubric point - '`horizontal_bar_plot` function is not used to plot (-1)'.The public tests cannot determine if your code satisfies these requirements. Verify your code manually.\n",
       "q16 - 5 message: Note that the Gradescope autograder will deduct points if your code fails the following rubric point - 'plot is not properly labeled (-1)'.The public tests cannot determine if your code satisfies these requirements. Verify your code manually."
      ]
     },
     "execution_count": 61,
     "metadata": {},
     "output_type": "execute_result"
    }
   ],
   "source": [
    "grader.check(\"q16\")"
   ]
  },
  {
   "cell_type": "markdown",
   "id": "68d7d67b",
   "metadata": {
    "deletable": false,
    "editable": false
   },
   "source": [
    "Now, **plot** `country_citations_inter` as **horizontal bar plot** with the **x-axis** labelled *Country*.\n",
    "\n",
    "You **must** use the `horizontal_bar_plot` function to plot this data. Verify that the countries are **ordered** in **decreasing** order of the **difference** between `Average Citations per Faculty` and `Average International Faculty`. Verify that the **legend** appears on your plot.\n",
    "\n",
    "**Hint:** If you want the countries in the plot to be ordered in **decreasing** order of the difference, you will need to make sure that in the DataFrame, they are ordered in the **increasing** order.\n",
    "\n",
    "**Important Warning:** `public_tests.py` can check that the **DataFrame** is correct, but it **cannot** check if your plot appears on the screen, or whether the axes are correctly labelled. If your plot is not visible, or if it is not properly labelled, the Gradescope autograder will **deduct points**.\n",
    "\n",
    "Your plot should look like this:"
   ]
  },
  {
   "cell_type": "code",
   "execution_count": 62,
   "id": "03b34bac",
   "metadata": {
    "execution": {
     "iopub.execute_input": "2023-12-07T22:46:05.575537Z",
     "iopub.status.busy": "2023-12-07T22:46:05.575537Z",
     "iopub.status.idle": "2023-12-07T22:46:05.964441Z",
     "shell.execute_reply": "2023-12-07T22:46:05.963443Z"
    },
    "tags": []
   },
   "outputs": [
    {
     "data": {
      "image/png": "[encoded data removed]",
      "text/plain": [
       "<Figure size 640x480 with 1 Axes>"
      ]
     },
     "metadata": {},
     "output_type": "display_data"
    }
   ],
   "source": [
    "# create the horizontal bar plot using the DataFrame 'country_citations_inter' with the x-axis labelled \"Country\" \n",
    "horizontal_bar_plot(country_citations_inter, x = \"Country\")"
   ]
  },
  {
   "cell_type": "markdown",
   "id": "058ff1ef",
   "metadata": {
    "deletable": false,
    "editable": false
   },
   "source": [
    "**Question 17:** Create a **scatter plot** representing the `Overall` (on the **x-axis**) against the `Rank` (on the **y-axis**) for **all** institutions in the `Year` *2022*. Additionally, **plot** a **regression line** within the same plot.\n",
    "\n",
    "You **must** first compute a **DataFrame** containing the **Overall**, and the **Rank** data from the `Year` *2022*. You **must** use the `get_regression_line` function to compute the best fit line."
   ]
  },
  {
   "cell_type": "code",
   "execution_count": 63,
   "id": "554f5b22",
   "metadata": {
    "execution": {
     "iopub.execute_input": "2023-12-07T22:46:05.970447Z",
     "iopub.status.busy": "2023-12-07T22:46:05.969442Z",
     "iopub.status.idle": "2023-12-07T22:46:05.988969Z",
     "shell.execute_reply": "2023-12-07T22:46:05.987969Z"
    },
    "tags": []
   },
   "outputs": [
    {
     "data": {
      "text/html": [
       "<div>\n",
       "<style scoped>\n",
       "    .dataframe tbody tr th:only-of-type {\n",
       "        vertical-align: middle;\n",
       "    }\n",
       "\n",
       "    .dataframe tbody tr th {\n",
       "        vertical-align: top;\n",
       "    }\n",
       "\n",
       "    .dataframe thead th {\n",
       "        text-align: right;\n",
       "    }\n",
       "</style>\n",
       "<table border=\"1\" class=\"dataframe\">\n",
       "  <thead>\n",
       "    <tr style=\"text-align: right;\">\n",
       "      <th></th>\n",
       "      <th>Overall</th>\n",
       "      <th>Rank</th>\n",
       "      <th>1</th>\n",
       "      <th>fit</th>\n",
       "    </tr>\n",
       "  </thead>\n",
       "  <tbody>\n",
       "    <tr>\n",
       "      <th>0</th>\n",
       "      <td>100.0</td>\n",
       "      <td>1</td>\n",
       "      <td>1</td>\n",
       "      <td>-142.320024</td>\n",
       "    </tr>\n",
       "    <tr>\n",
       "      <th>1</th>\n",
       "      <td>99.5</td>\n",
       "      <td>2</td>\n",
       "      <td>1</td>\n",
       "      <td>-138.773723</td>\n",
       "    </tr>\n",
       "    <tr>\n",
       "      <th>2</th>\n",
       "      <td>98.7</td>\n",
       "      <td>3</td>\n",
       "      <td>1</td>\n",
       "      <td>-133.099642</td>\n",
       "    </tr>\n",
       "    <tr>\n",
       "      <th>3</th>\n",
       "      <td>98.7</td>\n",
       "      <td>3</td>\n",
       "      <td>1</td>\n",
       "      <td>-133.099642</td>\n",
       "    </tr>\n",
       "    <tr>\n",
       "      <th>4</th>\n",
       "      <td>98.0</td>\n",
       "      <td>5</td>\n",
       "      <td>1</td>\n",
       "      <td>-128.134821</td>\n",
       "    </tr>\n",
       "    <tr>\n",
       "      <th>...</th>\n",
       "      <td>...</td>\n",
       "      <td>...</td>\n",
       "      <td>...</td>\n",
       "      <td>...</td>\n",
       "    </tr>\n",
       "    <tr>\n",
       "      <th>495</th>\n",
       "      <td>24.1</td>\n",
       "      <td>494</td>\n",
       "      <td>1</td>\n",
       "      <td>396.008429</td>\n",
       "    </tr>\n",
       "    <tr>\n",
       "      <th>496</th>\n",
       "      <td>24.1</td>\n",
       "      <td>494</td>\n",
       "      <td>1</td>\n",
       "      <td>396.008429</td>\n",
       "    </tr>\n",
       "    <tr>\n",
       "      <th>497</th>\n",
       "      <td>24.1</td>\n",
       "      <td>494</td>\n",
       "      <td>1</td>\n",
       "      <td>396.008429</td>\n",
       "    </tr>\n",
       "    <tr>\n",
       "      <th>498</th>\n",
       "      <td>24.1</td>\n",
       "      <td>494</td>\n",
       "      <td>1</td>\n",
       "      <td>396.008429</td>\n",
       "    </tr>\n",
       "    <tr>\n",
       "      <th>499</th>\n",
       "      <td>24.1</td>\n",
       "      <td>494</td>\n",
       "      <td>1</td>\n",
       "      <td>396.008429</td>\n",
       "    </tr>\n",
       "  </tbody>\n",
       "</table>\n",
       "<p>500 rows × 4 columns</p>\n",
       "</div>"
      ],
      "text/plain": [
       "     Overall  Rank  1         fit\n",
       "0      100.0     1  1 -142.320024\n",
       "1       99.5     2  1 -138.773723\n",
       "2       98.7     3  1 -133.099642\n",
       "3       98.7     3  1 -133.099642\n",
       "4       98.0     5  1 -128.134821\n",
       "..       ...   ... ..         ...\n",
       "495     24.1   494  1  396.008429\n",
       "496     24.1   494  1  396.008429\n",
       "497     24.1   494  1  396.008429\n",
       "498     24.1   494  1  396.008429\n",
       "499     24.1   494  1  396.008429\n",
       "\n",
       "[500 rows x 4 columns]"
      ]
     },
     "execution_count": 63,
     "metadata": {},
     "output_type": "execute_result"
    }
   ],
   "source": [
    "# first compute and store the DataFrame 'overall_rank', then display its head\n",
    "# do NOT plot just yet\n",
    "qry = \"\"\"\n",
    "    SELECT `Overall`, `Rank`\n",
    "    FROM rankings\n",
    "    WHERE `Year`= 2022\n",
    "\"\"\"\n",
    "new_rank = pd.read_sql(qry,conn)\n",
    "\n",
    "overall_rank = get_regression_line(new_rank,x='Overall', y='Rank')\n",
    "overall_rank"
   ]
  },
  {
   "cell_type": "code",
   "execution_count": 64,
   "id": "1d64ee51",
   "metadata": {},
   "outputs": [
    {
     "data": {
      "text/html": [
       "<p><strong><pre style='display: inline;'>q17</pre></strong> passed! 💯</p><p><strong><pre style='display: inline;'>q17 - 2</pre> message:</strong> Note that the Gradescope autograder will deduct points if your code fails the following rubric point - 'did not use SQL to answer (-2)'.The public tests cannot determine if your code satisfies these requirements. Verify your code manually.</p><p><strong><pre style='display: inline;'>q17 - 3</pre> message:</strong> Note that the Gradescope autograder will deduct points if your code fails the following rubric point - 'incorrect logic is used to answer (-2)'.The public tests cannot determine if your code satisfies these requirements. Verify your code manually.</p><p><strong><pre style='display: inline;'>q17 - 4</pre> message:</strong> Note that the Gradescope autograder will deduct points if your code fails the following rubric point - '`regression_line_plot` function is not used to plot (-1)'.The public tests cannot determine if your code satisfies these requirements. Verify your code manually.</p><p><strong><pre style='display: inline;'>q17 - 5</pre> message:</strong> Note that the Gradescope autograder will deduct points if your code fails the following rubric point - 'plot is not properly labeled (-1)'.The public tests cannot determine if your code satisfies these requirements. Verify your code manually.</p>"
      ],
      "text/plain": [
       "q17 results: All test cases passed!\n",
       "q17 - 2 message: Note that the Gradescope autograder will deduct points if your code fails the following rubric point - 'did not use SQL to answer (-2)'.The public tests cannot determine if your code satisfies these requirements. Verify your code manually.\n",
       "q17 - 3 message: Note that the Gradescope autograder will deduct points if your code fails the following rubric point - 'incorrect logic is used to answer (-2)'.The public tests cannot determine if your code satisfies these requirements. Verify your code manually.\n",
       "q17 - 4 message: Note that the Gradescope autograder will deduct points if your code fails the following rubric point - '`regression_line_plot` function is not used to plot (-1)'.The public tests cannot determine if your code satisfies these requirements. Verify your code manually.\n",
       "q17 - 5 message: Note that the Gradescope autograder will deduct points if your code fails the following rubric point - 'plot is not properly labeled (-1)'.The public tests cannot determine if your code satisfies these requirements. Verify your code manually."
      ]
     },
     "execution_count": 64,
     "metadata": {},
     "output_type": "execute_result"
    }
   ],
   "source": [
    "grader.check(\"q17\")"
   ]
  },
  {
   "cell_type": "markdown",
   "id": "c87dbebc",
   "metadata": {
    "deletable": false,
    "editable": false
   },
   "source": [
    "Now, **plot** `overall_rank` as **scatter plot** with a **regression line** with the **x-axis** labelled *Overall* and the **y-axis** labelled *Rank*.\n",
    "\n",
    "You **must** use the `regression_line_plot` function to plot this data.\n",
    "\n",
    "**Important Warning:** `public_tests.py` can check that the **DataFrame** is correct, but it **cannot** check if your plot appears on the screen, or whether the axes are correctly labelled. If your plot is not visible, or if it is not properly labelled, the Gradescope autograder will **deduct points**.\n",
    "\n",
    "Your plot should look like this:"
   ]
  },
  {
   "cell_type": "code",
   "execution_count": 65,
   "id": "1c5f6090",
   "metadata": {
    "execution": {
     "iopub.execute_input": "2023-12-07T22:46:07.472964Z",
     "iopub.status.busy": "2023-12-07T22:46:07.472964Z",
     "iopub.status.idle": "2023-12-07T22:46:07.772851Z",
     "shell.execute_reply": "2023-12-07T22:46:07.771851Z"
    },
    "tags": []
   },
   "outputs": [
    {
     "data": {
      "image/png": "[encoded data removed]",
      "text/plain": [
       "<Figure size 640x480 with 1 Axes>"
      ]
     },
     "metadata": {},
     "output_type": "display_data"
    }
   ],
   "source": [
    "# create the scatter plot and the regression line using the DataFrame 'overall_rank' with the x-axis labelled \"Overall\" \n",
    "# and the y-axis labelled \"Rank\"\n",
    "# scatter_plot(overall_rank, x=\"Overall\", y= \"Rank\")\n",
    "regression_line_plot(overall_rank, x=\"Overall\", y= \"Rank\")\n"
   ]
  },
  {
   "cell_type": "markdown",
   "id": "ad06f06e",
   "metadata": {
    "deletable": false,
    "editable": false
   },
   "source": [
    "**Food for thought:** Does our linear regression model fit the points well? It looks like the relationship between the `Overall` and `Rank` is **not quite linear**. In fact, a cursory look at the data suggests that the relationship is in fact, inverse."
   ]
  },
  {
   "cell_type": "code",
   "execution_count": 66,
   "id": "5c3c0102",
   "metadata": {
    "execution": {
     "iopub.execute_input": "2023-12-07T22:46:07.776850Z",
     "iopub.status.busy": "2023-12-07T22:46:07.776850Z",
     "iopub.status.idle": "2023-12-07T22:46:07.781668Z",
     "shell.execute_reply": "2023-12-07T22:46:07.780633Z"
    }
   },
   "outputs": [],
   "source": [
    "# Food for thought is an entirely OPTIONAL exercise\n",
    "# you may leave your thoughts here as a comment if you wish to\n"
   ]
  },
  {
   "cell_type": "markdown",
   "id": "5f766d24",
   "metadata": {
    "deletable": false,
    "editable": false
   },
   "source": [
    "**Question 18:** Create a **scatter plot** representing the **inverse** of the `Overall` (on the **x-axis**) against the `Rank` (on the **y-axis**) for **all** institutions in the `Year` *2022*. Additionally, **plot** a **regression line**  within the same plot.\n",
    "\n",
    "The `Inverse Overall` for each institution is simply defined as `1/Overall` for that institution. You **must** first compute a **DataFrame** containing the **Inverse Overall**, and the **Rank** data from the `Year` *2022*. You **must** use the `get_regression_line` function to compute the best fit line."
   ]
  },
  {
   "cell_type": "code",
   "execution_count": 67,
   "id": "9e5568c5",
   "metadata": {
    "execution": {
     "iopub.execute_input": "2023-12-07T22:46:07.786650Z",
     "iopub.status.busy": "2023-12-07T22:46:07.786650Z",
     "iopub.status.idle": "2023-12-07T22:46:07.804920Z",
     "shell.execute_reply": "2023-12-07T22:46:07.803900Z"
    },
    "tags": []
   },
   "outputs": [
    {
     "data": {
      "text/html": [
       "<div>\n",
       "<style scoped>\n",
       "    .dataframe tbody tr th:only-of-type {\n",
       "        vertical-align: middle;\n",
       "    }\n",
       "\n",
       "    .dataframe tbody tr th {\n",
       "        vertical-align: top;\n",
       "    }\n",
       "\n",
       "    .dataframe thead th {\n",
       "        text-align: right;\n",
       "    }\n",
       "</style>\n",
       "<table border=\"1\" class=\"dataframe\">\n",
       "  <thead>\n",
       "    <tr style=\"text-align: right;\">\n",
       "      <th></th>\n",
       "      <th>Inverse Overall</th>\n",
       "      <th>Rank</th>\n",
       "      <th>1</th>\n",
       "      <th>fit</th>\n",
       "    </tr>\n",
       "  </thead>\n",
       "  <tbody>\n",
       "    <tr>\n",
       "      <th>0</th>\n",
       "      <td>0.010000</td>\n",
       "      <td>1</td>\n",
       "      <td>1</td>\n",
       "      <td>-3.168433</td>\n",
       "    </tr>\n",
       "    <tr>\n",
       "      <th>1</th>\n",
       "      <td>0.010050</td>\n",
       "      <td>2</td>\n",
       "      <td>1</td>\n",
       "      <td>-2.371054</td>\n",
       "    </tr>\n",
       "    <tr>\n",
       "      <th>2</th>\n",
       "      <td>0.010132</td>\n",
       "      <td>3</td>\n",
       "      <td>1</td>\n",
       "      <td>-1.078443</td>\n",
       "    </tr>\n",
       "    <tr>\n",
       "      <th>3</th>\n",
       "      <td>0.010132</td>\n",
       "      <td>3</td>\n",
       "      <td>1</td>\n",
       "      <td>-1.078443</td>\n",
       "    </tr>\n",
       "    <tr>\n",
       "      <th>4</th>\n",
       "      <td>0.010204</td>\n",
       "      <td>5</td>\n",
       "      <td>1</td>\n",
       "      <td>0.069903</td>\n",
       "    </tr>\n",
       "    <tr>\n",
       "      <th>...</th>\n",
       "      <td>...</td>\n",
       "      <td>...</td>\n",
       "      <td>...</td>\n",
       "      <td>...</td>\n",
       "    </tr>\n",
       "    <tr>\n",
       "      <th>495</th>\n",
       "      <td>0.041494</td>\n",
       "      <td>494</td>\n",
       "      <td>1</td>\n",
       "      <td>496.570024</td>\n",
       "    </tr>\n",
       "    <tr>\n",
       "      <th>496</th>\n",
       "      <td>0.041494</td>\n",
       "      <td>494</td>\n",
       "      <td>1</td>\n",
       "      <td>496.570024</td>\n",
       "    </tr>\n",
       "    <tr>\n",
       "      <th>497</th>\n",
       "      <td>0.041494</td>\n",
       "      <td>494</td>\n",
       "      <td>1</td>\n",
       "      <td>496.570024</td>\n",
       "    </tr>\n",
       "    <tr>\n",
       "      <th>498</th>\n",
       "      <td>0.041494</td>\n",
       "      <td>494</td>\n",
       "      <td>1</td>\n",
       "      <td>496.570024</td>\n",
       "    </tr>\n",
       "    <tr>\n",
       "      <th>499</th>\n",
       "      <td>0.041494</td>\n",
       "      <td>494</td>\n",
       "      <td>1</td>\n",
       "      <td>496.570024</td>\n",
       "    </tr>\n",
       "  </tbody>\n",
       "</table>\n",
       "<p>500 rows × 4 columns</p>\n",
       "</div>"
      ],
      "text/plain": [
       "     Inverse Overall  Rank  1         fit\n",
       "0           0.010000     1  1   -3.168433\n",
       "1           0.010050     2  1   -2.371054\n",
       "2           0.010132     3  1   -1.078443\n",
       "3           0.010132     3  1   -1.078443\n",
       "4           0.010204     5  1    0.069903\n",
       "..               ...   ... ..         ...\n",
       "495         0.041494   494  1  496.570024\n",
       "496         0.041494   494  1  496.570024\n",
       "497         0.041494   494  1  496.570024\n",
       "498         0.041494   494  1  496.570024\n",
       "499         0.041494   494  1  496.570024\n",
       "\n",
       "[500 rows x 4 columns]"
      ]
     },
     "execution_count": 67,
     "metadata": {},
     "output_type": "execute_result"
    }
   ],
   "source": [
    "# first compute and store the DataFrame 'inverse_overall_rank', then display its head\n",
    "# do NOT plot just yet\n",
    "qry = \"\"\"\n",
    "    SELECT (1/`Overall`) AS `Inverse Overall`, `Rank`\n",
    "    FROM rankings\n",
    "    WHERE `Year`= 2022\n",
    "\"\"\"\n",
    "new_rank = pd.read_sql(qry,conn)\n",
    "\n",
    "inverse_overall_rank = get_regression_line(new_rank,x='Inverse Overall', y='Rank')\n",
    "\n",
    "inverse_overall_rank"
   ]
  },
  {
   "cell_type": "code",
   "execution_count": 68,
   "id": "06680ee2",
   "metadata": {},
   "outputs": [
    {
     "data": {
      "text/html": [
       "<p><strong><pre style='display: inline;'>q18</pre></strong> passed! 💯</p><p><strong><pre style='display: inline;'>q18 - 2</pre> message:</strong> Note that the Gradescope autograder will deduct points if your code fails the following rubric point - 'incorrect logic is used to answer (-2)'.The public tests cannot determine if your code satisfies these requirements. Verify your code manually.</p><p><strong><pre style='display: inline;'>q18 - 3</pre> message:</strong> Note that the Gradescope autograder will deduct points if your code fails the following rubric point - '`get_regression_line` function is not used to answer (-1)'.The public tests cannot determine if your code satisfies these requirements. Verify your code manually.</p><p><strong><pre style='display: inline;'>q18 - 4</pre> message:</strong> Note that the Gradescope autograder will deduct points if your code fails the following rubric point - '`regression_line_plot` function is not used to plot (-1)'.The public tests cannot determine if your code satisfies these requirements. Verify your code manually.</p><p><strong><pre style='display: inline;'>q18 - 5</pre> message:</strong> Note that the Gradescope autograder will deduct points if your code fails the following rubric point - 'plot is not properly labeled (-1)'.The public tests cannot determine if your code satisfies these requirements. Verify your code manually.</p>"
      ],
      "text/plain": [
       "q18 results: All test cases passed!\n",
       "q18 - 2 message: Note that the Gradescope autograder will deduct points if your code fails the following rubric point - 'incorrect logic is used to answer (-2)'.The public tests cannot determine if your code satisfies these requirements. Verify your code manually.\n",
       "q18 - 3 message: Note that the Gradescope autograder will deduct points if your code fails the following rubric point - '`get_regression_line` function is not used to answer (-1)'.The public tests cannot determine if your code satisfies these requirements. Verify your code manually.\n",
       "q18 - 4 message: Note that the Gradescope autograder will deduct points if your code fails the following rubric point - '`regression_line_plot` function is not used to plot (-1)'.The public tests cannot determine if your code satisfies these requirements. Verify your code manually.\n",
       "q18 - 5 message: Note that the Gradescope autograder will deduct points if your code fails the following rubric point - 'plot is not properly labeled (-1)'.The public tests cannot determine if your code satisfies these requirements. Verify your code manually."
      ]
     },
     "execution_count": 68,
     "metadata": {},
     "output_type": "execute_result"
    }
   ],
   "source": [
    "grader.check(\"q18\")"
   ]
  },
  {
   "cell_type": "markdown",
   "id": "b26a070c",
   "metadata": {
    "deletable": false,
    "editable": false
   },
   "source": [
    "Now, **plot** `inverse_overall_rank` as **scatter plot** with a **regression line** with the **x-axis** labelled *Inverse Overall* and the **y-axis** labelled *Rank*.\n",
    "\n",
    "You **must** use the `regression_line_plot` function to plot this data.\n",
    "\n",
    "**Important Warning:** `public_tests.py` can check that the **DataFrame** is correct, but it **cannot** check if your plot appears on the screen, or whether the axes are correctly labelled. If your plot is not visible, or if it is not properly labelled, the Gradescope autograder will **deduct points**.\n",
    "\n",
    "Your plot should look like this:"
   ]
  },
  {
   "cell_type": "code",
   "execution_count": 69,
   "id": "5364ddef",
   "metadata": {
    "execution": {
     "iopub.execute_input": "2023-12-07T22:46:09.189168Z",
     "iopub.status.busy": "2023-12-07T22:46:09.189168Z",
     "iopub.status.idle": "2023-12-07T22:46:09.482461Z",
     "shell.execute_reply": "2023-12-07T22:46:09.481465Z"
    },
    "tags": []
   },
   "outputs": [
    {
     "data": {
      "image/png": "[encoded data removed]",
      "text/plain": [
       "<Figure size 640x480 with 1 Axes>"
      ]
     },
     "metadata": {},
     "output_type": "display_data"
    }
   ],
   "source": [
    "# create the scatter plot and the regression line using the DataFrame 'inverse_overall_rank'\n",
    "# with the x-axis labelled \"Inverse Overall\" and the y-axis labelled \"Rank\"\n",
    "regression_line_plot(inverse_overall_rank, x=\"Inverse Overall\", y= \"Rank\")"
   ]
  },
  {
   "cell_type": "markdown",
   "id": "b4fb9c82",
   "metadata": {
    "deletable": false,
    "editable": false
   },
   "source": [
    "This seems to be much better! Let us now use this **regression line** to **estimate** the `Rank` of an institution given its `Overall`."
   ]
  },
  {
   "cell_type": "markdown",
   "id": "52a2bc98",
   "metadata": {
    "deletable": false,
    "editable": false
   },
   "source": [
    "**Question 19:** Use the regression line to **estimate** the `Rank` of an institution with an `Overall` of *72*.\n",
    "\n",
    "Your output **must** be an **int**. If your **estimate** is a **float**, *round it up* using `math.ceil`.\n",
    "\n",
    "\n",
    "**Hints:**\n",
    "1. Call the `get_regression_coeff` function to get the coefficients `m` and `b`.\n",
    "2. Recall that the equation of a line is `y = m * x + b`. What are `x` and `y` here?"
   ]
  },
  {
   "cell_type": "code",
   "execution_count": 70,
   "id": "93dcf736",
   "metadata": {
    "execution": {
     "iopub.execute_input": "2023-12-07T22:46:09.486481Z",
     "iopub.status.busy": "2023-12-07T22:46:09.486481Z",
     "iopub.status.idle": "2023-12-07T22:46:09.495924Z",
     "shell.execute_reply": "2023-12-07T22:46:09.494907Z"
    },
    "tags": []
   },
   "outputs": [
    {
     "data": {
      "text/plain": [
       "59"
      ]
     },
     "execution_count": 70,
     "metadata": {},
     "output_type": "execute_result"
    }
   ],
   "source": [
    "# compute and store the answer in the variable 'rank_score_72', then display it\n",
    "mb = get_regression_coeff(inverse_overall_rank, x=\"Inverse Overall\", y= \"Rank\")\n",
    "mb\n",
    "rank_score_72 = math.ceil(mb[0]*(1/72) + mb[1])\n",
    "\n",
    "rank_score_72"
   ]
  },
  {
   "cell_type": "code",
   "execution_count": 71,
   "id": "ba09e02e",
   "metadata": {},
   "outputs": [
    {
     "data": {
      "text/html": [
       "<p><strong><pre style='display: inline;'>q19</pre></strong> passed! 🎉</p><p><strong><pre style='display: inline;'>q19 - 2</pre> message:</strong> Note that the Gradescope autograder will deduct points if your code fails the following rubric point - 'incorrect logic is used to answer (-1)'.The public tests cannot determine if your code satisfies these requirements. Verify your code manually.</p><p><strong><pre style='display: inline;'>q19 - 3</pre> message:</strong> Note that the Gradescope autograder will deduct points if your code fails the following rubric point - '`get_regression_coeff` function is not used to answer (-1)'.The public tests cannot determine if your code satisfies these requirements. Verify your code manually.</p>"
      ],
      "text/plain": [
       "q19 results: All test cases passed!\n",
       "q19 - 2 message: Note that the Gradescope autograder will deduct points if your code fails the following rubric point - 'incorrect logic is used to answer (-1)'.The public tests cannot determine if your code satisfies these requirements. Verify your code manually.\n",
       "q19 - 3 message: Note that the Gradescope autograder will deduct points if your code fails the following rubric point - '`get_regression_coeff` function is not used to answer (-1)'.The public tests cannot determine if your code satisfies these requirements. Verify your code manually."
      ]
     },
     "execution_count": 71,
     "metadata": {},
     "output_type": "execute_result"
    }
   ],
   "source": [
    "grader.check(\"q19\")"
   ]
  },
  {
   "cell_type": "markdown",
   "id": "8fe92766",
   "metadata": {
    "deletable": false,
    "editable": false
   },
   "source": [
    "**Food for thought:** Can you find out the `Overall` of the university with this `Rank` in the `Year` *2022*? Does it match your prediction?"
   ]
  },
  {
   "cell_type": "code",
   "execution_count": 72,
   "id": "d6aa6864",
   "metadata": {
    "execution": {
     "iopub.execute_input": "2023-12-07T22:46:09.850702Z",
     "iopub.status.busy": "2023-12-07T22:46:09.850702Z",
     "iopub.status.idle": "2023-12-07T22:46:09.854625Z",
     "shell.execute_reply": "2023-12-07T22:46:09.854625Z"
    }
   },
   "outputs": [],
   "source": [
    "# Food for thought is an entirely OPTIONAL exercise\n",
    "# you may leave your thoughts here as a comment if you wish to\n"
   ]
  },
  {
   "cell_type": "markdown",
   "id": "34b82ce3",
   "metadata": {
    "deletable": false,
    "editable": false
   },
   "source": [
    "**Question 20:** Using the data from Question 5, create a **pie plot** representing the number of institutions from each country.\n",
    "\n",
    "You **have** already computed a **DataFrame** `num_institutions` (in Question 5) containing the **Country**, and the **Number of Insititutions** data. Run the following cell just to confirm that the variable has not changed its values since you defined it in Question 5."
   ]
  },
  {
   "cell_type": "code",
   "execution_count": 73,
   "id": "6e8a1cf4",
   "metadata": {},
   "outputs": [
    {
     "data": {
      "text/html": [
       "<p><strong><pre style='display: inline;'>q20</pre></strong> passed! 🎉</p><p><strong><pre style='display: inline;'>q20 - 2</pre> message:</strong> Note that the Gradescope autograder will deduct points if your code fails the following rubric point - '`pie_plot` function is not used to plot (-1)'.The public tests cannot determine if your code satisfies these requirements. Verify your code manually.</p><p><strong><pre style='display: inline;'>q20 - 3</pre> message:</strong> Note that the Gradescope autograder will deduct points if your code fails the following rubric point - 'plot is not properly labeled (-1)'.The public tests cannot determine if your code satisfies these requirements. Verify your code manually.</p>"
      ],
      "text/plain": [
       "q20 results: All test cases passed!\n",
       "q20 - 2 message: Note that the Gradescope autograder will deduct points if your code fails the following rubric point - '`pie_plot` function is not used to plot (-1)'.The public tests cannot determine if your code satisfies these requirements. Verify your code manually.\n",
       "q20 - 3 message: Note that the Gradescope autograder will deduct points if your code fails the following rubric point - 'plot is not properly labeled (-1)'.The public tests cannot determine if your code satisfies these requirements. Verify your code manually."
      ]
     },
     "execution_count": 73,
     "metadata": {},
     "output_type": "execute_result"
    }
   ],
   "source": [
    "grader.check(\"q20\")"
   ]
  },
  {
   "cell_type": "markdown",
   "id": "26a5305a",
   "metadata": {
    "deletable": false,
    "editable": false
   },
   "source": [
    "Now, **plot** `num_institutions` as **pie plot** with the **title** *Number of Institutions*.\n",
    "\n",
    "You **must** use the `pie_plot` function to create the **pie plot**. The **colors** do **not** matter, but the plot **must** be titled `Number of Institutions`, and **must** be labelled as in the sample output below.\n",
    "\n",
    "**Important Warning:** `public_tests.py` can check that the **DataFrame** is correct, but it **cannot** check if your plot appears on the screen, or whether the axes are correctly labelled. If your plot is not visible, or if it is not properly labelled, the Gradescope autograder will **deduct points**.\n",
    "\n",
    "Your plot should look like this:"
   ]
  },
  {
   "cell_type": "code",
   "execution_count": 74,
   "id": "6d4b0a8e",
   "metadata": {
    "execution": {
     "iopub.execute_input": "2023-12-07T22:46:10.372947Z",
     "iopub.status.busy": "2023-12-07T22:46:10.372947Z",
     "iopub.status.idle": "2023-12-07T22:46:10.590084Z",
     "shell.execute_reply": "2023-12-07T22:46:10.589063Z"
    },
    "tags": []
   },
   "outputs": [
    {
     "data": {
      "image/png": "[encoded data removed]",
      "text/plain": [
       "<Figure size 640x480 with 1 Axes>"
      ]
     },
     "metadata": {},
     "output_type": "display_data"
    }
   ],
   "source": [
    "# create the pie plot using the DataFrame 'num_institutions' titled \"Number of Institutions\"\n",
    "pie_plot(num_institutions, x=\"Country\", y = \"Number of Institutions\", title='Number of Institutions')"
   ]
  },
  {
   "cell_type": "markdown",
   "id": "aefcc1c3",
   "metadata": {
    "deletable": false,
    "editable": false
   },
   "source": [
    "**Food for thought:** It seems that we'll run out of colors! How can we make it so that **no two neighbors share a color**? You'll probably have to look online."
   ]
  },
  {
   "cell_type": "code",
   "execution_count": 75,
   "id": "aaf28097",
   "metadata": {
    "execution": {
     "iopub.execute_input": "2023-12-07T22:46:10.594082Z",
     "iopub.status.busy": "2023-12-07T22:46:10.594082Z",
     "iopub.status.idle": "2023-12-07T22:46:10.599068Z",
     "shell.execute_reply": "2023-12-07T22:46:10.598139Z"
    }
   },
   "outputs": [],
   "source": [
    "# Food for thought is an entirely OPTIONAL exercise\n",
    "# you may leave your thoughts here as a comment if you wish to\n"
   ]
  },
  {
   "cell_type": "markdown",
   "id": "10423208",
   "metadata": {
    "deletable": false,
    "editable": false
   },
   "source": [
    "### Closing the database connection:\n",
    "\n",
    "Now, before you **submit** your notebook, you **must** **close** your connection `conn`. Not doing this might make **Gradescope fail**. Additionally, **delete** the example images provided with plot questions to save space, if your notebook file is too large for submission. You can **delete** any cell by selecting the cell, hitting the `Esc` key once, and then hitting the `d` key **twice**."
   ]
  },
  {
   "cell_type": "code",
   "execution_count": 76,
   "id": "01d7cf09",
   "metadata": {
    "execution": {
     "iopub.execute_input": "2023-12-07T22:46:10.603073Z",
     "iopub.status.busy": "2023-12-07T22:46:10.603073Z",
     "iopub.status.idle": "2023-12-07T22:46:10.608727Z",
     "shell.execute_reply": "2023-12-07T22:46:10.607711Z"
    },
    "tags": []
   },
   "outputs": [],
   "source": [
    "# close your connection here\n",
    "conn.close()"
   ]
  },
  {
   "cell_type": "code",
   "execution_count": 77,
   "id": "4c9c7de7",
   "metadata": {},
   "outputs": [
    {
     "data": {
      "text/html": [
       "<p><strong><pre style='display: inline;'>general_deductions</pre></strong> passed! 💯</p><p><strong><pre style='display: inline;'>general_deductions - 1</pre> message:</strong> Note that the Gradescope autograder will deduct points if your code fails the following rubric point - 'Outputs not visible/did not save the notebook file prior to running the cell containing \"export\". We cannot see your output if you do not save before generating the zip file. (-3)'.The public tests cannot determine if your code satisfies these requirements. Verify your code manually.</p><p><strong><pre style='display: inline;'>general_deductions - 2</pre> message:</strong> Note that the Gradescope autograder will deduct points if your code fails the following rubric point - 'Import statements are not mentioned in the required cell at the top of the notebook. (-3)'.The public tests cannot determine if your code satisfies these requirements. Verify your code manually.</p>"
      ],
      "text/plain": [
       "general_deductions results: All test cases passed!\n",
       "general_deductions - 1 message: Note that the Gradescope autograder will deduct points if your code fails the following rubric point - 'Outputs not visible/did not save the notebook file prior to running the cell containing \"export\". We cannot see your output if you do not save before generating the zip file. (-3)'.The public tests cannot determine if your code satisfies these requirements. Verify your code manually.\n",
       "general_deductions - 2 message: Note that the Gradescope autograder will deduct points if your code fails the following rubric point - 'Import statements are not mentioned in the required cell at the top of the notebook. (-3)'.The public tests cannot determine if your code satisfies these requirements. Verify your code manually."
      ]
     },
     "execution_count": 77,
     "metadata": {},
     "output_type": "execute_result"
    }
   ],
   "source": [
    "grader.check(\"general_deductions\")"
   ]
  },
  {
   "cell_type": "code",
   "execution_count": 78,
   "id": "da8911b8",
   "metadata": {},
   "outputs": [
    {
     "data": {
      "text/html": [
       "<p><strong><pre style='display: inline;'>summary</pre></strong> passed! 🎉</p>"
      ],
      "text/plain": [
       "summary results: All test cases passed!"
      ]
     },
     "execution_count": 78,
     "metadata": {},
     "output_type": "execute_result"
    }
   ],
   "source": [
    "grader.check(\"summary\")"
   ]
  },
  {
   "cell_type": "markdown",
   "id": "40a2cd3a",
   "metadata": {
    "deletable": false,
    "editable": false
   },
   "source": [
    "## Submission\n",
    "It is recommended that at this stage, you Restart and Run all Cells in your notebook.\n",
    "That will automatically save your work and generate a zip file for you to submit.\n",
    "\n",
    "**SUBMISSION INSTRUCTIONS**:\n",
    "1. **Upload** the zipfile to Gradescope.\n",
    "2. If you completed the project with a **partner**, make sure to **add their name** by clicking \"Add Group Member\"\n",
    "in Gradescope when uploading the zip file.\n",
    "3. Check **Gradescope** results as soon as the auto-grader execution gets completed.\n",
    "4. Your **final score** for this project is the score that you see on **Gradescope**.\n",
    "5. You are **allowed** to resubmit on Gradescope as many times as you want to.\n",
    "6. **Contact** a TA/PM if you lose any points on Gradescope for any **unclear reasons**."
   ]
  },
  {
   "cell_type": "code",
   "execution_count": 79,
   "id": "62175e1f",
   "metadata": {
    "cell_type": "code",
    "deletable": false,
    "editable": false
   },
   "outputs": [
    {
     "data": {
      "application/javascript": [
       "IPython.notebook.save_checkpoint();"
      ],
      "text/plain": [
       "<IPython.core.display.Javascript object>"
      ]
     },
     "metadata": {},
     "output_type": "display_data"
    }
   ],
   "source": [
    "# running this cell will create a new save checkpoint for your notebook\n",
    "from IPython.display import display, Javascript\n",
    "display(Javascript('IPython.notebook.save_checkpoint();'))"
   ]
  },
  {
   "cell_type": "code",
   "execution_count": 80,
   "id": "2e1574e2",
   "metadata": {
    "cell_type": "code",
    "deletable": false,
    "editable": false
   },
   "outputs": [
    {
     "name": "stdout",
     "output_type": "stream",
     "text": [
      "[jupytext] Reading p13.ipynb in format ipynb\n",
      "[jupytext] Writing p13.py (destination file replaced)\n"
     ]
    }
   ],
   "source": [
    "!jupytext --to py p13.ipynb"
   ]
  },
  {
   "cell_type": "code",
   "execution_count": 81,
   "id": "a4c8062d",
   "metadata": {
    "cell_type": "code",
    "deletable": false,
    "editable": false
   },
   "outputs": [
    {
     "data": {
      "text/html": [
       "\n",
       "                    <p>\n",
       "                        Your submission has been exported. Click\n",
       "                        <a href=\"p13_2023_12_11T19_47_02_024864.zip\" download=\"p13_2023_12_11T19_47_02_024864.zip\" target=\"_blank\">here</a> to download\n",
       "                        the zip file.\n",
       "                    </p>\n",
       "                "
      ],
      "text/plain": [
       "<IPython.core.display.HTML object>"
      ]
     },
     "metadata": {},
     "output_type": "display_data"
    }
   ],
   "source": [
    "public_tests.check_file_size(\"p13.ipynb\")\n",
    "grader.export(pdf=False, run_tests=False, files=[\"p13.py\"])"
   ]
  },
  {
   "cell_type": "markdown",
   "id": "0635d512",
   "metadata": {
    "deletable": false,
    "editable": false
   },
   "source": [
    " "
   ]
  }
 ],
 "metadata": {
  "kernelspec": {
   "display_name": "Python 3 (ipykernel)",
   "language": "python",
   "name": "python3"
  },
  "language_info": {
   "codemirror_mode": {
    "name": "ipython",
    "version": 3
   },
   "file_extension": ".py",
   "mimetype": "text/x-python",
   "name": "python",
   "nbconvert_exporter": "python",
   "pygments_lexer": "ipython3",
   "version": "3.11.4"
  },
  "otter": {
   "OK_FORMAT": true,
   "tests": {
    "bar_plot": {
     "name": "bar_plot",
     "points": 0,
     "suites": [
      {
       "cases": [
        {
         "code": ">>> \n>>> public_tests.rubric_check('bar_plot: data is not plotted correctly')\nAll test cases passed!\n",
         "hidden": false,
         "locked": false,
         "success_message": "Note that the Gradescope autograder will deduct points if your code fails the following rubric point - 'data is not plotted correctly (-1)'.The public tests cannot determine if your code satisfies these requirements. Verify your code manually."
        },
        {
         "code": ">>> \n>>> public_tests.rubric_check('bar_plot: legend is not deleted or axes are not properly labeled')\nAll test cases passed!\n",
         "hidden": false,
         "locked": false,
         "success_message": "Note that the Gradescope autograder will deduct points if your code fails the following rubric point - 'legend is not deleted or axes are not properly labeled (-1)'.The public tests cannot determine if your code satisfies these requirements. Verify your code manually."
        }
       ],
       "scored": true,
       "setup": "",
       "teardown": "",
       "type": "doctest"
      }
     ]
    },
    "conn": {
     "name": "conn",
     "points": 0,
     "suites": [
      {
       "cases": [
        {
         "code": ">>> \n>>> public_tests.rubric_check('conn: data structure is defined more than once')\nAll test cases passed!\n",
         "hidden": false,
         "locked": false,
         "success_message": "Note that the Gradescope autograder will deduct points if your code fails the following rubric point - 'data structure is defined more than once (-1)'.The public tests cannot determine if your code satisfies these requirements. Verify your code manually."
        },
        {
         "code": ">>> \n>>> public_tests.rubric_check('conn: did not close the connection to `conn` at the end')\nAll test cases passed!\n",
         "hidden": false,
         "locked": false,
         "success_message": "Note that the Gradescope autograder will deduct points if your code fails the following rubric point - 'did not close the connection to `conn` at the end (-2)'.The public tests cannot determine if your code satisfies these requirements. Verify your code manually."
        }
       ],
       "scored": true,
       "setup": "",
       "teardown": "",
       "type": "doctest"
      }
     ]
    },
    "general_deductions": {
     "name": "general_deductions",
     "points": 0,
     "suites": [
      {
       "cases": [
        {
         "code": ">>> \n>>> public_tests.rubric_check('general_deductions: Outputs not visible/did not save the notebook file prior to running the cell containing \"export\". We cannot see your output if you do not save before generating the zip file.')\nAll test cases passed!\n",
         "hidden": false,
         "locked": false,
         "success_message": "Note that the Gradescope autograder will deduct points if your code fails the following rubric point - 'Outputs not visible/did not save the notebook file prior to running the cell containing \"export\". We cannot see your output if you do not save before generating the zip file. (-3)'.The public tests cannot determine if your code satisfies these requirements. Verify your code manually."
        },
        {
         "code": ">>> \n>>> public_tests.rubric_check('general_deductions: Import statements are not mentioned in the required cell at the top of the notebook.')\nAll test cases passed!\n",
         "hidden": false,
         "locked": false,
         "success_message": "Note that the Gradescope autograder will deduct points if your code fails the following rubric point - 'Import statements are not mentioned in the required cell at the top of the notebook. (-3)'.The public tests cannot determine if your code satisfies these requirements. Verify your code manually."
        }
       ],
       "scored": true,
       "setup": "",
       "teardown": "",
       "type": "doctest"
      }
     ]
    },
    "get_regression_coeff": {
     "name": "get_regression_coeff",
     "points": 0,
     "suites": [
      {
       "cases": [
        {
         "code": ">>> \n>>> public_tests.rubric_check('get_regression_coeff: function logic is incorrect')\nAll test cases passed!\n",
         "hidden": false,
         "locked": false,
         "success_message": "Note that the Gradescope autograder will deduct points if your code fails the following rubric point - 'function logic is incorrect (-1)'.The public tests cannot determine if your code satisfies these requirements. Verify your code manually."
        }
       ],
       "scored": true,
       "setup": "",
       "teardown": "",
       "type": "doctest"
      }
     ]
    },
    "get_regression_line": {
     "name": "get_regression_line",
     "points": 0,
     "suites": [
      {
       "cases": [
        {
         "code": ">>> \n>>> public_tests.rubric_check('get_regression_line: function logic is incorrect')\nAll test cases passed!\n",
         "hidden": false,
         "locked": false,
         "success_message": "Note that the Gradescope autograder will deduct points if your code fails the following rubric point - 'function logic is incorrect (-1)'.The public tests cannot determine if your code satisfies these requirements. Verify your code manually."
        }
       ],
       "scored": true,
       "setup": "",
       "teardown": "",
       "type": "doctest"
      }
     ]
    },
    "horizontal_bar_plot": {
     "name": "horizontal_bar_plot",
     "points": 0,
     "suites": [
      {
       "cases": [
        {
         "code": ">>> \n>>> public_tests.rubric_check('horizontal_bar_plot: data is not plotted correctly')\nAll test cases passed!\n",
         "hidden": false,
         "locked": false,
         "success_message": "Note that the Gradescope autograder will deduct points if your code fails the following rubric point - 'data is not plotted correctly (-1)'.The public tests cannot determine if your code satisfies these requirements. Verify your code manually."
        }
       ],
       "scored": true,
       "setup": "",
       "teardown": "",
       "type": "doctest"
      }
     ]
    },
    "pie_plot": {
     "name": "pie_plot",
     "points": 0,
     "suites": [
      {
       "cases": [
        {
         "code": ">>> \n>>> public_tests.rubric_check('pie_plot: data is not plotted correctly')\nAll test cases passed!\n",
         "hidden": false,
         "locked": false,
         "success_message": "Note that the Gradescope autograder will deduct points if your code fails the following rubric point - 'data is not plotted correctly (-1)'.The public tests cannot determine if your code satisfies these requirements. Verify your code manually."
        }
       ],
       "scored": true,
       "setup": "",
       "teardown": "",
       "type": "doctest"
      }
     ]
    },
    "q1": {
     "name": "q1",
     "points": 0,
     "suites": [
      {
       "cases": [
        {
         "code": ">>> public_tests.check('q1', uw_stats.reset_index(drop=True))\nAll test cases passed!\n",
         "hidden": false,
         "locked": false
        },
        {
         "code": ">>> \n>>> public_tests.rubric_check('q1: did not use SQL to answer')\nAll test cases passed!\n",
         "hidden": false,
         "locked": false,
         "success_message": "Note that the Gradescope autograder will deduct points if your code fails the following rubric point - 'did not use SQL to answer (-2)'.The public tests cannot determine if your code satisfies these requirements. Verify your code manually."
        },
        {
         "code": ">>> \n>>> public_tests.rubric_check('q1: incorrect logic is used to answer')\nAll test cases passed!\n",
         "hidden": false,
         "locked": false,
         "success_message": "Note that the Gradescope autograder will deduct points if your code fails the following rubric point - 'incorrect logic is used to answer (-1)'.The public tests cannot determine if your code satisfies these requirements. Verify your code manually."
        }
       ],
       "scored": true,
       "setup": "",
       "teardown": "",
       "type": "doctest"
      }
     ]
    },
    "q10": {
     "name": "q10",
     "points": 0,
     "suites": [
      {
       "cases": [
        {
         "code": ">>> public_tests.check('q10', top_ranked_inter_faculty[[\"Faculty Student\", \"International Students\"]].reset_index(drop=True))\nAll test cases passed!\n",
         "hidden": false,
         "locked": false
        },
        {
         "code": ">>> \n>>> public_tests.rubric_check('q10: did not use SQL to answer')\nAll test cases passed!\n",
         "hidden": false,
         "locked": false,
         "success_message": "Note that the Gradescope autograder will deduct points if your code fails the following rubric point - 'did not use SQL to answer (-2)'.The public tests cannot determine if your code satisfies these requirements. Verify your code manually."
        },
        {
         "code": ">>> \n>>> public_tests.rubric_check('q10: incorrect logic is used to answer')\nAll test cases passed!\n",
         "hidden": false,
         "locked": false,
         "success_message": "Note that the Gradescope autograder will deduct points if your code fails the following rubric point - 'incorrect logic is used to answer (-2)'.The public tests cannot determine if your code satisfies these requirements. Verify your code manually."
        },
        {
         "code": ">>> \n>>> public_tests.rubric_check('q10: `scatter_plot` function is not used to plot', False)\nAll test cases passed!\n",
         "hidden": false,
         "locked": false,
         "success_message": "Note that the Gradescope autograder will deduct points if your code fails the following rubric point - '`scatter_plot` function is not used to plot (-1)'.The public tests cannot determine if your code satisfies these requirements. Verify your code manually."
        },
        {
         "code": ">>> \n>>> public_tests.rubric_check('q10: plot is not properly labeled')\nAll test cases passed!\n",
         "hidden": false,
         "locked": false,
         "success_message": "Note that the Gradescope autograder will deduct points if your code fails the following rubric point - 'plot is not properly labeled (-1)'.The public tests cannot determine if your code satisfies these requirements. Verify your code manually."
        }
       ],
       "scored": true,
       "setup": "",
       "teardown": "",
       "type": "doctest"
      }
     ]
    },
    "q11": {
     "name": "q11",
     "points": 0,
     "suites": [
      {
       "cases": [
        {
         "code": ">>> public_tests.check('q11', uk_inter_score_corr)\nAll test cases passed!\n",
         "hidden": false,
         "locked": false
        },
        {
         "code": ">>> \n>>> public_tests.rubric_check('q11: did not use SQL to answer')\nAll test cases passed!\n",
         "hidden": false,
         "locked": false,
         "success_message": "Note that the Gradescope autograder will deduct points if your code fails the following rubric point - 'did not use SQL to answer (-2)'.The public tests cannot determine if your code satisfies these requirements. Verify your code manually."
        },
        {
         "code": ">>> \n>>> public_tests.rubric_check('q11: incorrect logic is used to answer')\nAll test cases passed!\n",
         "hidden": false,
         "locked": false,
         "success_message": "Note that the Gradescope autograder will deduct points if your code fails the following rubric point - 'incorrect logic is used to answer (-1)'.The public tests cannot determine if your code satisfies these requirements. Verify your code manually."
        }
       ],
       "scored": true,
       "setup": "",
       "teardown": "",
       "type": "doctest"
      }
     ]
    },
    "q12": {
     "name": "q12",
     "points": 0,
     "suites": [
      {
       "cases": [
        {
         "code": ">>> public_tests.check('q12', cit_per_inter_score_corr)\nAll test cases passed!\n",
         "hidden": false,
         "locked": false
        },
        {
         "code": ">>> \n>>> public_tests.rubric_check('q12: did not use SQL to answer')\nAll test cases passed!\n",
         "hidden": false,
         "locked": false,
         "success_message": "Note that the Gradescope autograder will deduct points if your code fails the following rubric point - 'did not use SQL to answer (-2)'.The public tests cannot determine if your code satisfies these requirements. Verify your code manually."
        },
        {
         "code": ">>> \n>>> public_tests.rubric_check('q12: incorrect logic is used to answer')\nAll test cases passed!\n",
         "hidden": false,
         "locked": false,
         "success_message": "Note that the Gradescope autograder will deduct points if your code fails the following rubric point - 'incorrect logic is used to answer (-1)'.The public tests cannot determine if your code satisfies these requirements. Verify your code manually."
        }
       ],
       "scored": true,
       "setup": "",
       "teardown": "",
       "type": "doctest"
      }
     ]
    },
    "q13": {
     "name": "q13",
     "points": 0,
     "suites": [
      {
       "cases": [
        {
         "code": ">>> public_tests.check('q13', top_cit_per_inter.reset_index(drop=True))\nAll test cases passed!\n",
         "hidden": false,
         "locked": false
        },
        {
         "code": ">>> \n>>> public_tests.rubric_check('q13: did not use SQL to answer')\nAll test cases passed!\n",
         "hidden": false,
         "locked": false,
         "success_message": "Note that the Gradescope autograder will deduct points if your code fails the following rubric point - 'did not use SQL to answer (-2)'.The public tests cannot determine if your code satisfies these requirements. Verify your code manually."
        },
        {
         "code": ">>> \n>>> public_tests.rubric_check('q13: incorrect logic is used to answer')\nAll test cases passed!\n",
         "hidden": false,
         "locked": false,
         "success_message": "Note that the Gradescope autograder will deduct points if your code fails the following rubric point - 'incorrect logic is used to answer (-2)'.The public tests cannot determine if your code satisfies these requirements. Verify your code manually."
        }
       ],
       "scored": true,
       "setup": "",
       "teardown": "",
       "type": "doctest"
      }
     ]
    },
    "q14": {
     "name": "q14",
     "points": 0,
     "suites": [
      {
       "cases": [
        {
         "code": ">>> public_tests.check('q14', avg_cit_per_inter.reset_index(drop=True))\nAll test cases passed!\n",
         "hidden": false,
         "locked": false
        },
        {
         "code": ">>> \n>>> public_tests.rubric_check('q14: did not use SQL to answer')\nAll test cases passed!\n",
         "hidden": false,
         "locked": false,
         "success_message": "Note that the Gradescope autograder will deduct points if your code fails the following rubric point - 'did not use SQL to answer (-2)'.The public tests cannot determine if your code satisfies these requirements. Verify your code manually."
        },
        {
         "code": ">>> \n>>> public_tests.rubric_check('q14: incorrect logic is used to answer')\nAll test cases passed!\n",
         "hidden": false,
         "locked": false,
         "success_message": "Note that the Gradescope autograder will deduct points if your code fails the following rubric point - 'incorrect logic is used to answer (-2)'.The public tests cannot determine if your code satisfies these requirements. Verify your code manually."
        }
       ],
       "scored": true,
       "setup": "",
       "teardown": "",
       "type": "doctest"
      }
     ]
    },
    "q15": {
     "name": "q15",
     "points": 0,
     "suites": [
      {
       "cases": [
        {
         "code": ">>> public_tests.check('q15', max_cit_per_inter.reset_index(drop=True))\nAll test cases passed!\n",
         "hidden": false,
         "locked": false
        },
        {
         "code": ">>> \n>>> public_tests.rubric_check('q15: did not use SQL to answer')\nAll test cases passed!\n",
         "hidden": false,
         "locked": false,
         "success_message": "Note that the Gradescope autograder will deduct points if your code fails the following rubric point - 'did not use SQL to answer (-2)'.The public tests cannot determine if your code satisfies these requirements. Verify your code manually."
        },
        {
         "code": ">>> \n>>> public_tests.rubric_check('q15: incorrect logic is used to answer')\nAll test cases passed!\n",
         "hidden": false,
         "locked": false,
         "success_message": "Note that the Gradescope autograder will deduct points if your code fails the following rubric point - 'incorrect logic is used to answer (-2)'.The public tests cannot determine if your code satisfies these requirements. Verify your code manually."
        }
       ],
       "scored": true,
       "setup": "",
       "teardown": "",
       "type": "doctest"
      }
     ]
    },
    "q16": {
     "name": "q16",
     "points": 0,
     "suites": [
      {
       "cases": [
        {
         "code": ">>> public_tests.check('q16', country_citations_inter.reset_index(drop=True))\nAll test cases passed!\n",
         "hidden": false,
         "locked": false
        },
        {
         "code": ">>> \n>>> public_tests.rubric_check('q16: did not use SQL to answer')\nAll test cases passed!\n",
         "hidden": false,
         "locked": false,
         "success_message": "Note that the Gradescope autograder will deduct points if your code fails the following rubric point - 'did not use SQL to answer (-2)'.The public tests cannot determine if your code satisfies these requirements. Verify your code manually."
        },
        {
         "code": ">>> \n>>> public_tests.rubric_check('q16: incorrect logic is used to answer')\nAll test cases passed!\n",
         "hidden": false,
         "locked": false,
         "success_message": "Note that the Gradescope autograder will deduct points if your code fails the following rubric point - 'incorrect logic is used to answer (-2)'.The public tests cannot determine if your code satisfies these requirements. Verify your code manually."
        },
        {
         "code": ">>> \n>>> public_tests.rubric_check('q16: `horizontal_bar_plot` function is not used to plot', False)\nAll test cases passed!\n",
         "hidden": false,
         "locked": false,
         "success_message": "Note that the Gradescope autograder will deduct points if your code fails the following rubric point - '`horizontal_bar_plot` function is not used to plot (-1)'.The public tests cannot determine if your code satisfies these requirements. Verify your code manually."
        },
        {
         "code": ">>> \n>>> public_tests.rubric_check('q16: plot is not properly labeled')\nAll test cases passed!\n",
         "hidden": false,
         "locked": false,
         "success_message": "Note that the Gradescope autograder will deduct points if your code fails the following rubric point - 'plot is not properly labeled (-1)'.The public tests cannot determine if your code satisfies these requirements. Verify your code manually."
        }
       ],
       "scored": true,
       "setup": "",
       "teardown": "",
       "type": "doctest"
      }
     ]
    },
    "q17": {
     "name": "q17",
     "points": 0,
     "suites": [
      {
       "cases": [
        {
         "code": ">>> public_tests.check('q17', overall_rank[[\"Rank\", \"Overall\", \"fit\"]].reset_index(drop=True))\nAll test cases passed!\n",
         "hidden": false,
         "locked": false
        },
        {
         "code": ">>> \n>>> public_tests.rubric_check('q17: did not use SQL to answer')\nAll test cases passed!\n",
         "hidden": false,
         "locked": false,
         "success_message": "Note that the Gradescope autograder will deduct points if your code fails the following rubric point - 'did not use SQL to answer (-2)'.The public tests cannot determine if your code satisfies these requirements. Verify your code manually."
        },
        {
         "code": ">>> \n>>> public_tests.rubric_check('q17: incorrect logic is used to answer')\nAll test cases passed!\n",
         "hidden": false,
         "locked": false,
         "success_message": "Note that the Gradescope autograder will deduct points if your code fails the following rubric point - 'incorrect logic is used to answer (-2)'.The public tests cannot determine if your code satisfies these requirements. Verify your code manually."
        },
        {
         "code": ">>> \n>>> public_tests.rubric_check('q17: `regression_line_plot` function is not used to plot', False)\nAll test cases passed!\n",
         "hidden": false,
         "locked": false,
         "success_message": "Note that the Gradescope autograder will deduct points if your code fails the following rubric point - '`regression_line_plot` function is not used to plot (-1)'.The public tests cannot determine if your code satisfies these requirements. Verify your code manually."
        },
        {
         "code": ">>> \n>>> public_tests.rubric_check('q17: plot is not properly labeled')\nAll test cases passed!\n",
         "hidden": false,
         "locked": false,
         "success_message": "Note that the Gradescope autograder will deduct points if your code fails the following rubric point - 'plot is not properly labeled (-1)'.The public tests cannot determine if your code satisfies these requirements. Verify your code manually."
        }
       ],
       "scored": true,
       "setup": "",
       "teardown": "",
       "type": "doctest"
      }
     ]
    },
    "q18": {
     "name": "q18",
     "points": 0,
     "suites": [
      {
       "cases": [
        {
         "code": ">>> public_tests.check('q18', inverse_overall_rank[[\"Rank\", \"Inverse Overall\", \"fit\"]].reset_index(drop=True))\nAll test cases passed!\n",
         "hidden": false,
         "locked": false
        },
        {
         "code": ">>> \n>>> public_tests.rubric_check('q18: incorrect logic is used to answer')\nAll test cases passed!\n",
         "hidden": false,
         "locked": false,
         "success_message": "Note that the Gradescope autograder will deduct points if your code fails the following rubric point - 'incorrect logic is used to answer (-2)'.The public tests cannot determine if your code satisfies these requirements. Verify your code manually."
        },
        {
         "code": ">>> \n>>> public_tests.rubric_check('q18: `get_regression_line` function is not used to answer', False)\nAll test cases passed!\n",
         "hidden": false,
         "locked": false,
         "success_message": "Note that the Gradescope autograder will deduct points if your code fails the following rubric point - '`get_regression_line` function is not used to answer (-1)'.The public tests cannot determine if your code satisfies these requirements. Verify your code manually."
        },
        {
         "code": ">>> \n>>> public_tests.rubric_check('q18: `regression_line_plot` function is not used to plot', False)\nAll test cases passed!\n",
         "hidden": false,
         "locked": false,
         "success_message": "Note that the Gradescope autograder will deduct points if your code fails the following rubric point - '`regression_line_plot` function is not used to plot (-1)'.The public tests cannot determine if your code satisfies these requirements. Verify your code manually."
        },
        {
         "code": ">>> \n>>> public_tests.rubric_check('q18: plot is not properly labeled')\nAll test cases passed!\n",
         "hidden": false,
         "locked": false,
         "success_message": "Note that the Gradescope autograder will deduct points if your code fails the following rubric point - 'plot is not properly labeled (-1)'.The public tests cannot determine if your code satisfies these requirements. Verify your code manually."
        }
       ],
       "scored": true,
       "setup": "",
       "teardown": "",
       "type": "doctest"
      }
     ]
    },
    "q19": {
     "name": "q19",
     "points": 0,
     "suites": [
      {
       "cases": [
        {
         "code": ">>> public_tests.check('q19', rank_score_72)\nAll test cases passed!\n",
         "hidden": false,
         "locked": false
        },
        {
         "code": ">>> \n>>> public_tests.rubric_check('q19: incorrect logic is used to answer')\nAll test cases passed!\n",
         "hidden": false,
         "locked": false,
         "success_message": "Note that the Gradescope autograder will deduct points if your code fails the following rubric point - 'incorrect logic is used to answer (-1)'.The public tests cannot determine if your code satisfies these requirements. Verify your code manually."
        },
        {
         "code": ">>> \n>>> public_tests.rubric_check('q19: `get_regression_coeff` function is not used to answer', False)\nAll test cases passed!\n",
         "hidden": false,
         "locked": false,
         "success_message": "Note that the Gradescope autograder will deduct points if your code fails the following rubric point - '`get_regression_coeff` function is not used to answer (-1)'.The public tests cannot determine if your code satisfies these requirements. Verify your code manually."
        }
       ],
       "scored": true,
       "setup": "",
       "teardown": "",
       "type": "doctest"
      }
     ]
    },
    "q2": {
     "name": "q2",
     "points": 0,
     "suites": [
      {
       "cases": [
        {
         "code": ">>> public_tests.check('q2', japan_top_10_inter.reset_index(drop=True))\nAll test cases passed!\n",
         "hidden": false,
         "locked": false
        },
        {
         "code": ">>> \n>>> public_tests.rubric_check('q2: did not use SQL to answer')\nAll test cases passed!\n",
         "hidden": false,
         "locked": false,
         "success_message": "Note that the Gradescope autograder will deduct points if your code fails the following rubric point - 'did not use SQL to answer (-2)'.The public tests cannot determine if your code satisfies these requirements. Verify your code manually."
        },
        {
         "code": ">>> \n>>> public_tests.rubric_check('q2: incorrect logic is used to answer')\nAll test cases passed!\n",
         "hidden": false,
         "locked": false,
         "success_message": "Note that the Gradescope autograder will deduct points if your code fails the following rubric point - 'incorrect logic is used to answer (-2)'.The public tests cannot determine if your code satisfies these requirements. Verify your code manually."
        }
       ],
       "scored": true,
       "setup": "",
       "teardown": "",
       "type": "doctest"
      }
     ]
    },
    "q20": {
     "name": "q20",
     "points": 0,
     "suites": [
      {
       "cases": [
        {
         "code": ">>> public_tests.check('q20', num_institutions.reset_index(drop=True))\nAll test cases passed!\n",
         "hidden": false,
         "locked": false
        },
        {
         "code": ">>> \n>>> public_tests.rubric_check('q20: `pie_plot` function is not used to plot', False)\nAll test cases passed!\n",
         "hidden": false,
         "locked": false,
         "success_message": "Note that the Gradescope autograder will deduct points if your code fails the following rubric point - '`pie_plot` function is not used to plot (-1)'.The public tests cannot determine if your code satisfies these requirements. Verify your code manually."
        },
        {
         "code": ">>> \n>>> public_tests.rubric_check('q20: plot is not properly labeled')\nAll test cases passed!\n",
         "hidden": false,
         "locked": false,
         "success_message": "Note that the Gradescope autograder will deduct points if your code fails the following rubric point - 'plot is not properly labeled (-1)'.The public tests cannot determine if your code satisfies these requirements. Verify your code manually."
        },
        {
         "code": ">>> public_tests.rubric_check('q20: public tests')\nAll test cases passed!\n",
         "hidden": false,
         "locked": false
        }
       ],
       "scored": true,
       "setup": "",
       "teardown": "",
       "type": "doctest"
      }
     ]
    },
    "q3": {
     "name": "q3",
     "points": 0,
     "suites": [
      {
       "cases": [
        {
         "code": ">>> public_tests.check('q3', us_top_10_rep.reset_index(drop=True))\nAll test cases passed!\n",
         "hidden": false,
         "locked": false
        },
        {
         "code": ">>> \n>>> public_tests.rubric_check('q3: did not use SQL to answer')\nAll test cases passed!\n",
         "hidden": false,
         "locked": false,
         "success_message": "Note that the Gradescope autograder will deduct points if your code fails the following rubric point - 'did not use SQL to answer (-2)'.The public tests cannot determine if your code satisfies these requirements. Verify your code manually."
        },
        {
         "code": ">>> \n>>> public_tests.rubric_check('q3: incorrect logic is used to answer')\nAll test cases passed!\n",
         "hidden": false,
         "locked": false,
         "success_message": "Note that the Gradescope autograder will deduct points if your code fails the following rubric point - 'incorrect logic is used to answer (-2)'.The public tests cannot determine if your code satisfies these requirements. Verify your code manually."
        }
       ],
       "scored": true,
       "setup": "",
       "teardown": "",
       "type": "doctest"
      }
     ]
    },
    "q4": {
     "name": "q4",
     "points": 0,
     "suites": [
      {
       "cases": [
        {
         "code": ">>> public_tests.check('q4', top_10_countries.reset_index(drop=True))\nAll test cases passed!\n",
         "hidden": false,
         "locked": false
        },
        {
         "code": ">>> \n>>> public_tests.rubric_check('q4: did not use SQL to answer')\nAll test cases passed!\n",
         "hidden": false,
         "locked": false,
         "success_message": "Note that the Gradescope autograder will deduct points if your code fails the following rubric point - 'did not use SQL to answer (-2)'.The public tests cannot determine if your code satisfies these requirements. Verify your code manually."
        },
        {
         "code": ">>> \n>>> public_tests.rubric_check('q4: incorrect logic is used to answer')\nAll test cases passed!\n",
         "hidden": false,
         "locked": false,
         "success_message": "Note that the Gradescope autograder will deduct points if your code fails the following rubric point - 'incorrect logic is used to answer (-2)'.The public tests cannot determine if your code satisfies these requirements. Verify your code manually."
        }
       ],
       "scored": true,
       "setup": "",
       "teardown": "",
       "type": "doctest"
      }
     ]
    },
    "q5": {
     "name": "q5",
     "points": 0,
     "suites": [
      {
       "cases": [
        {
         "code": ">>> public_tests.check('q5', num_institutions.reset_index(drop=True))\nAll test cases passed!\n",
         "hidden": false,
         "locked": false
        },
        {
         "code": ">>> \n>>> public_tests.rubric_check('q5: incorrect logic is used to answer')\nAll test cases passed!\n",
         "hidden": false,
         "locked": false,
         "success_message": "Note that the Gradescope autograder will deduct points if your code fails the following rubric point - 'incorrect logic is used to answer (-2)'.The public tests cannot determine if your code satisfies these requirements. Verify your code manually."
        },
        {
         "code": ">>> \n>>> public_tests.rubric_check('q5: `bar_plot` function is not used to plot', False)\nAll test cases passed!\n",
         "hidden": false,
         "locked": false,
         "success_message": "Note that the Gradescope autograder will deduct points if your code fails the following rubric point - '`bar_plot` function is not used to plot (-1)'.The public tests cannot determine if your code satisfies these requirements. Verify your code manually."
        },
        {
         "code": ">>> \n>>> public_tests.rubric_check('q5: plot is not properly labeled')\nAll test cases passed!\n",
         "hidden": false,
         "locked": false,
         "success_message": "Note that the Gradescope autograder will deduct points if your code fails the following rubric point - 'plot is not properly labeled (-1)'.The public tests cannot determine if your code satisfies these requirements. Verify your code manually."
        },
        {
         "code": ">>> public_tests.rubric_check('q5: public tests')\nAll test cases passed!\n",
         "hidden": false,
         "locked": false
        }
       ],
       "scored": true,
       "setup": "",
       "teardown": "",
       "type": "doctest"
      }
     ]
    },
    "q6": {
     "name": "q6",
     "points": 0,
     "suites": [
      {
       "cases": [
        {
         "code": ">>> public_tests.check('q6', top_10_total_score.reset_index(drop=True))\nAll test cases passed!\n",
         "hidden": false,
         "locked": false
        },
        {
         "code": ">>> \n>>> public_tests.rubric_check('q6: did not use SQL to answer')\nAll test cases passed!\n",
         "hidden": false,
         "locked": false,
         "success_message": "Note that the Gradescope autograder will deduct points if your code fails the following rubric point - 'did not use SQL to answer (-2)'.The public tests cannot determine if your code satisfies these requirements. Verify your code manually."
        },
        {
         "code": ">>> \n>>> public_tests.rubric_check('q6: incorrect logic is used to answer')\nAll test cases passed!\n",
         "hidden": false,
         "locked": false,
         "success_message": "Note that the Gradescope autograder will deduct points if your code fails the following rubric point - 'incorrect logic is used to answer (-2)'.The public tests cannot determine if your code satisfies these requirements. Verify your code manually."
        },
        {
         "code": ">>> \n>>> public_tests.rubric_check('q6: `bar_plot` function is not used to plot', False)\nAll test cases passed!\n",
         "hidden": false,
         "locked": false,
         "success_message": "Note that the Gradescope autograder will deduct points if your code fails the following rubric point - '`bar_plot` function is not used to plot (-1)'.The public tests cannot determine if your code satisfies these requirements. Verify your code manually."
        },
        {
         "code": ">>> \n>>> public_tests.rubric_check('q6: plot is not properly labeled')\nAll test cases passed!\n",
         "hidden": false,
         "locked": false,
         "success_message": "Note that the Gradescope autograder will deduct points if your code fails the following rubric point - 'plot is not properly labeled (-1)'.The public tests cannot determine if your code satisfies these requirements. Verify your code manually."
        }
       ],
       "scored": true,
       "setup": "",
       "teardown": "",
       "type": "doctest"
      }
     ]
    },
    "q7": {
     "name": "q7",
     "points": 0,
     "suites": [
      {
       "cases": [
        {
         "code": ">>> public_tests.check('q7', top_10_inter_score.reset_index(drop=True))\nAll test cases passed!\n",
         "hidden": false,
         "locked": false
        },
        {
         "code": ">>> \n>>> public_tests.rubric_check('q7: did not use SQL to answer')\nAll test cases passed!\n",
         "hidden": false,
         "locked": false,
         "success_message": "Note that the Gradescope autograder will deduct points if your code fails the following rubric point - 'did not use SQL to answer (-2)'.The public tests cannot determine if your code satisfies these requirements. Verify your code manually."
        },
        {
         "code": ">>> \n>>> public_tests.rubric_check('q7: incorrect logic is used to answer')\nAll test cases passed!\n",
         "hidden": false,
         "locked": false,
         "success_message": "Note that the Gradescope autograder will deduct points if your code fails the following rubric point - 'incorrect logic is used to answer (-2)'.The public tests cannot determine if your code satisfies these requirements. Verify your code manually."
        }
       ],
       "scored": true,
       "setup": "",
       "teardown": "",
       "type": "doctest"
      }
     ]
    },
    "q8": {
     "name": "q8",
     "points": 0,
     "suites": [
      {
       "cases": [
        {
         "code": ">>> public_tests.check('q8', citations_overall.reset_index(drop=True))\nAll test cases passed!\n",
         "hidden": false,
         "locked": false
        },
        {
         "code": ">>> \n>>> public_tests.rubric_check('q8: did not use SQL to answer')\nAll test cases passed!\n",
         "hidden": false,
         "locked": false,
         "success_message": "Note that the Gradescope autograder will deduct points if your code fails the following rubric point - 'did not use SQL to answer (-2)'.The public tests cannot determine if your code satisfies these requirements. Verify your code manually."
        },
        {
         "code": ">>> \n>>> public_tests.rubric_check('q8: incorrect logic is used to answer')\nAll test cases passed!\n",
         "hidden": false,
         "locked": false,
         "success_message": "Note that the Gradescope autograder will deduct points if your code fails the following rubric point - 'incorrect logic is used to answer (-2)'.The public tests cannot determine if your code satisfies these requirements. Verify your code manually."
        },
        {
         "code": ">>> \n>>> public_tests.rubric_check('q8: `scatter_plot` function is not used to plot', False)\nAll test cases passed!\n",
         "hidden": false,
         "locked": false,
         "success_message": "Note that the Gradescope autograder will deduct points if your code fails the following rubric point - '`scatter_plot` function is not used to plot (-1)'.The public tests cannot determine if your code satisfies these requirements. Verify your code manually."
        },
        {
         "code": ">>> \n>>> public_tests.rubric_check('q8: plot is not properly labeled')\nAll test cases passed!\n",
         "hidden": false,
         "locked": false,
         "success_message": "Note that the Gradescope autograder will deduct points if your code fails the following rubric point - 'plot is not properly labeled (-1)'.The public tests cannot determine if your code satisfies these requirements. Verify your code manually."
        }
       ],
       "scored": true,
       "setup": "",
       "teardown": "",
       "type": "doctest"
      }
     ]
    },
    "q9": {
     "name": "q9",
     "points": 0,
     "suites": [
      {
       "cases": [
        {
         "code": ">>> public_tests.check('q9', reputations_usa.reset_index(drop=True))\nAll test cases passed!\n",
         "hidden": false,
         "locked": false
        },
        {
         "code": ">>> \n>>> public_tests.rubric_check('q9: did not use SQL to answer')\nAll test cases passed!\n",
         "hidden": false,
         "locked": false,
         "success_message": "Note that the Gradescope autograder will deduct points if your code fails the following rubric point - 'did not use SQL to answer (-2)'.The public tests cannot determine if your code satisfies these requirements. Verify your code manually."
        },
        {
         "code": ">>> \n>>> public_tests.rubric_check('q9: incorrect logic is used to answer')\nAll test cases passed!\n",
         "hidden": false,
         "locked": false,
         "success_message": "Note that the Gradescope autograder will deduct points if your code fails the following rubric point - 'incorrect logic is used to answer (-2)'.The public tests cannot determine if your code satisfies these requirements. Verify your code manually."
        },
        {
         "code": ">>> \n>>> public_tests.rubric_check('q9: `scatter_plot` function is not used to plot', False)\nAll test cases passed!\n",
         "hidden": false,
         "locked": false,
         "success_message": "Note that the Gradescope autograder will deduct points if your code fails the following rubric point - '`scatter_plot` function is not used to plot (-1)'.The public tests cannot determine if your code satisfies these requirements. Verify your code manually."
        },
        {
         "code": ">>> \n>>> public_tests.rubric_check('q9: plot is not properly labeled')\nAll test cases passed!\n",
         "hidden": false,
         "locked": false,
         "success_message": "Note that the Gradescope autograder will deduct points if your code fails the following rubric point - 'plot is not properly labeled (-1)'.The public tests cannot determine if your code satisfies these requirements. Verify your code manually."
        }
       ],
       "scored": true,
       "setup": "",
       "teardown": "",
       "type": "doctest"
      }
     ]
    },
    "regression_line_plot": {
     "name": "regression_line_plot",
     "points": 0,
     "suites": [
      {
       "cases": [
        {
         "code": ">>> \n>>> public_tests.rubric_check('regression_line_plot: `get_regression_line` function is not used to answer', False)\nAll test cases passed!\n",
         "hidden": false,
         "locked": false,
         "success_message": "Note that the Gradescope autograder will deduct points if your code fails the following rubric point - '`get_regression_line` function is not used to answer (-1)'.The public tests cannot determine if your code satisfies these requirements. Verify your code manually."
        },
        {
         "code": ">>> \n>>> public_tests.rubric_check('regression_line_plot: function does not create correct scatter plot or the correct line plot using `df[\"fit\"]`')\nAll test cases passed!\n",
         "hidden": false,
         "locked": false,
         "success_message": "Note that the Gradescope autograder will deduct points if your code fails the following rubric point - 'function does not create correct scatter plot or the correct line plot using `df[\"fit\"]` (-1)'.The public tests cannot determine if your code satisfies these requirements. Verify your code manually."
        }
       ],
       "scored": true,
       "setup": "",
       "teardown": "",
       "type": "doctest"
      }
     ]
    },
    "scatter_plot": {
     "name": "scatter_plot",
     "points": 0,
     "suites": [
      {
       "cases": [
        {
         "code": ">>> \n>>> public_tests.rubric_check('scatter_plot: data is not plotted correctly')\nAll test cases passed!\n",
         "hidden": false,
         "locked": false,
         "success_message": "Note that the Gradescope autograder will deduct points if your code fails the following rubric point - 'data is not plotted correctly (-1)'.The public tests cannot determine if your code satisfies these requirements. Verify your code manually."
        },
        {
         "code": ">>> \n>>> public_tests.rubric_check('scatter_plot: legend is not deleted or axes are not properly labeled')\nAll test cases passed!\n",
         "hidden": false,
         "locked": false,
         "success_message": "Note that the Gradescope autograder will deduct points if your code fails the following rubric point - 'legend is not deleted or axes are not properly labeled (-1)'.The public tests cannot determine if your code satisfies these requirements. Verify your code manually."
        }
       ],
       "scored": true,
       "setup": "",
       "teardown": "",
       "type": "doctest"
      }
     ]
    },
    "summary": {
     "name": "summary",
     "points": 127,
     "suites": [
      {
       "cases": [
        {
         "code": ">>> public_tests.get_summary()\nTotal Score: 100/100\n",
         "hidden": false,
         "locked": false
        }
       ],
       "scored": true,
       "setup": "",
       "teardown": "",
       "type": "doctest"
      }
     ]
    }
   }
  },
  "vscode": {
   "interpreter": {
    "hash": "aee8b7b246df8f9039afb4144a1f6fd8d2ca17a180786b69acc140d282b71a49"
   }
  }
 },
 "nbformat": 4,
 "nbformat_minor": 5
}
