{
 "cells": [
  {
   "cell_type": "code",
   "execution_count": 1,
   "id": "b1c3ea7f",
   "metadata": {
    "cell_type": "code"
   },
   "outputs": [],
   "source": [
    "# import and initialize otter\n",
    "import otter\n",
    "grader = otter.Notebook(\"p12.ipynb\")"
   ]
  },
  {
   "cell_type": "code",
   "execution_count": 2,
   "id": "ee6c5acf",
   "metadata": {
    "execution": {
     "iopub.execute_input": "2023-11-22T04:35:26.199706Z",
     "iopub.status.busy": "2023-11-22T04:35:26.199706Z",
     "iopub.status.idle": "2023-11-22T04:35:27.206558Z",
     "shell.execute_reply": "2023-11-22T04:35:27.206558Z"
    }
   },
   "outputs": [],
   "source": [
    "import public_tests"
   ]
  },
  {
   "cell_type": "code",
   "execution_count": 3,
   "id": "84dd57fc",
   "metadata": {
    "execution": {
     "iopub.execute_input": "2023-11-22T04:35:27.210571Z",
     "iopub.status.busy": "2023-11-22T04:35:27.210571Z",
     "iopub.status.idle": "2023-11-22T04:35:27.214164Z",
     "shell.execute_reply": "2023-11-22T04:35:27.214164Z"
    }
   },
   "outputs": [],
   "source": [
    "# PLEASE FILL IN THE DETAILS\n",
    "# Enter none if you don't have a project partner\n",
    "# You will have to add your partner as a group member on Gradescope even after you fill this\n",
    "\n",
    "# project: p12\n",
    "# submitter: NETID1\n",
    "# partner: NETID2"
   ]
  },
  {
   "cell_type": "markdown",
   "id": "0b9b8e5f",
   "metadata": {
    "deletable": false,
    "editable": false
   },
   "source": [
    "# Project 12: World University Rankings"
   ]
  },
  {
   "cell_type": "markdown",
   "id": "a125ddf6",
   "metadata": {
    "deletable": false,
    "editable": false
   },
   "source": [
    "## Learning Objectives:\n",
    "\n",
    "In this project, you will demonstrate your ability to\n",
    "\n",
    "* read and write files,\n",
    "* create and use `Pandas DataFrames`,\n",
    "* use `BeautifulSoup` to parse web pages.\n",
    "\n",
    "Please go through [Lab-P12](https://git.doit.wisc.edu/cdis/cs/courses/cs220/cs220-f23-projects/-/tree/main/lab-p12) before working on this project. The lab introduces some useful techniques related to this project."
   ]
  },
  {
   "cell_type": "markdown",
   "id": "7728428c",
   "metadata": {
    "deletable": false,
    "editable": false
   },
   "source": [
    "<h2 style=\"color:red\">Warning (Note on Academic Misconduct):</h2>\n",
    "\n",
    "**IMPORTANT**: **P12 and P13 are two parts of the same data analysis.** You **cannot** switch project partners between these two projects. That is if you partner up with someone for P12, you have to sustain that partnership until the end of P13. Now may be a good time to review [our course policies](https://cs220.cs.wisc.edu/f23/syllabus.html).\n",
    "\n",
    "Under any circumstances, **no more than two students are allowed to work together on a project** as mentioned in the course policies. If your code is flagged by our code similarity detection tools, **both partners will be responsible** for sharing/copying the code, even if the code is shared/copied by one of the partners with/from other non-partner student(s). Note that each case of plagiarism will be reported to the Dean of Students with a zero grade on the project. **If you think that someone cannot be your project partner then don’t make that student your lab partner.**\n",
    "\n",
    "**<font color = \"red\">Project partners must submit only one copy of their project on Gradescope, but they must include the names of both partners.</font>**"
   ]
  },
  {
   "cell_type": "markdown",
   "id": "2e00f268",
   "metadata": {
    "deletable": false,
    "editable": false
   },
   "source": [
    "## Testing your code:\n",
    "\n",
    "Along with this notebook, you must have downloaded the files `public_tests.py` and `expected_dfs.html`. If you are curious about how we test your code, you can explore this file, and specifically the output of the function `get_expected_json`, to understand the expected answers to the questions.\n",
    "\n",
    "For answers involving DataFrames, `public_tests.py` compares your tables to those in `expected_dfs.html`, so take a moment to open that file on a web browser (from Finder/Explorer). `public_tests.py` doesn't care if you have extra rows or columns, and it doesn't care about the order of the rows or columns. However, you must have the correct values at each index/column location shown in `expected_dfs.html`."
   ]
  },
  {
   "cell_type": "markdown",
   "id": "dfdefb09",
   "metadata": {
    "deletable": false,
    "editable": false
   },
   "source": [
    "## Introduction:\n",
    "\n",
    "For this project, you're going to analyze World University Rankings!\n",
    "\n",
    "Specifically, you're going to use Pandas to analyze various statistics of the top ranked universities across the world, over the last three years.\n",
    "\n",
    "Start by downloading the files `public_tests.py`, and `expected_dfs.html`.\n",
    "\n",
    "**Important Warning:** Do **not** download any of the other `json` or `html` files manually (you **must** write Python code to download these automatically, as in Lab-P12). When we run the autograder, the other files such as `rankings.json`, `2021.html`, `2022.html`, `2023.html` will **not** be in the directory. So, unless your `p12.ipynb` downloads these files, the Gradescope autograder will **deduct** points from your public score. More details can be found in the **Setup** section of the project."
   ]
  },
  {
   "cell_type": "markdown",
   "id": "dd8c7f2f",
   "metadata": {
    "deletable": false,
    "editable": false
   },
   "source": [
    "## Data:\n",
    "\n",
    "For this project, we will be analyzing statistics about world university rankings adapted from [here](https://cwur.org/). These are the specific webpages that we extracted the data from:\n",
    "\n",
    "* https://cwur.org/2020-21.php\n",
    "* https://cwur.org/2021-22.php\n",
    "* https://cwur.org/2023.php\n",
    "\n",
    "Later in the project, you will be scraping these webpages and extracting the data yourself. Since we don't want all of you bombarding these webpages with requests, we have made snapshots of these webpages, and hosted them on GitLab. You can find the snapshots here:\n",
    "\n",
    "* https://git.doit.wisc.edu/cdis/cs/courses/cs220/cs220-f23-projects/-/tree/main/p12/2021.html\n",
    "* https://git.doit.wisc.edu/cdis/cs/courses/cs220/cs220-f23-projects/-/tree/main/p12/2022.html\n",
    "* https://git.doit.wisc.edu/cdis/cs/courses/cs220/cs220-f23-projects/-/tree/main/p12/2023.html\n",
    "\n",
    "We have also tweaked the snapshots a little, to streamline the process of data extraction for you. You will be extracting the data from these three html pages and analyzing them. However, to make the start of the project a little easier, we have already parsed the files for you! We have gathered the data from these html files, and collected them in a single json file, which can be found here:\n",
    "\n",
    "* https://git.doit.wisc.edu/cdis/cs/courses/cs220/cs220-f23-projects/-/raw/main/p12/rankings.json\n",
    "\n",
    "You will work with this json file for most of this project. At the end of this project, you will generate an identical json file by parsing the html files yourself."
   ]
  },
  {
   "cell_type": "markdown",
   "id": "735414e6",
   "metadata": {
    "deletable": false,
    "editable": false
   },
   "source": [
    "## Project Requirements:\n",
    "\n",
    "You **may not** hardcode indices in your code. You **may not** manually download **any** files for this project, unless you are **explicitly** told to do so. For all other files, you **must** use the `download` function to download the files.\n",
    "\n",
    "**Store** your final answer for each question in the **variable specified for each question**. This step is important because Otter grades your work by comparing the value of this variable against the correct answer.\n",
    "\n",
    "For some of the questions, we'll ask you to write (then use) a function to compute the answer. If you compute the answer **without** creating the function we ask you to write, the Gradescope autograder will **deduct** points from your public score, even if the way you did it produced the correct answer.\n",
    "\n",
    "#### Required Functions:\n",
    "- `download`\n",
    "- `parse_html`\n",
    "\n",
    "In this project, you will also be required to define certain **data structures**. If you do not create these data structures exactly as specified, the Gradescope autograder will **deduct** points from your public score, even if the way you did it produced the correct answer.\n",
    "\n",
    "#### Required Data Structures:\n",
    "- `rankings`\n",
    "- `year_2021_ranking_df`\n",
    "- `year_2022_ranking_df`\n",
    "- `year_2023_ranking_df`\n",
    "- `institutions_df`\n",
    "\n",
    "In addition, you are also **required** to follow the requirements below:\n",
    "* **Avoid using loops to iterate over pandas dataframes and instead use boolean indexing.**\n",
    "* Do **not** use `loc` to look up data in **DataFrames** or **Series**, unless you are explicitly told to do so. You are **allowed** to use `iloc`.\n",
    "* Do **not** use **absolute** paths such as `C://mdoescher//cs220//p12`. You may **only** use **relative paths**.\n",
    "* Do **not** leave irrelevant output or test code that we didn't ask for.\n",
    "* **Avoid** calling **slow** functions multiple times within a loop.\n",
    "* Do **not** define multiple functions with the same name or define multiple versions of one function with different names. Just keep the best version.\n",
    "\n",
    "For more details on what will cause you to lose points during code review and specific requirements, please take a look at the [Grading rubric](https://git.doit.wisc.edu/cdis/cs/courses/cs220/cs220-f23-projects/-/blob/main/p12/rubric.md)."
   ]
  },
  {
   "cell_type": "markdown",
   "id": "1006414b",
   "metadata": {
    "deletable": false,
    "editable": false
   },
   "source": [
    "# Questions and Functions:\n",
    "\n",
    "Let us start by importing all the modules we will need for this project."
   ]
  },
  {
   "cell_type": "code",
   "execution_count": 4,
   "id": "4a38e482",
   "metadata": {
    "execution": {
     "iopub.execute_input": "2023-11-22T04:35:27.219173Z",
     "iopub.status.busy": "2023-11-22T04:35:27.218192Z",
     "iopub.status.idle": "2023-11-22T04:35:28.110574Z",
     "shell.execute_reply": "2023-11-22T04:35:28.109561Z"
    },
    "tags": []
   },
   "outputs": [],
   "source": [
    "# it is considered a good coding practice to place all import statements at the top of the notebook\n",
    "# please place all your import statements in this cell if you need to import any more modules for this project\n",
    "import requests\n",
    "import os\n",
    "import json\n",
    "import pandas as pd\n",
    "from bs4 import BeautifulSoup"
   ]
  },
  {
   "cell_type": "markdown",
   "id": "b6ce6b91",
   "metadata": {
    "deletable": false,
    "editable": false
   },
   "source": [
    "### Function 1: `download(page, filename)`\n",
    "\n",
    "You **must** now copy/paste the `download` function from Lab-P12. This function **must** extract the data in the webpage `page` and store it in `filename`. If the `filename` already exists, it **must not** download the file again."
   ]
  },
  {
   "cell_type": "code",
   "execution_count": 5,
   "id": "29504d0b",
   "metadata": {
    "execution": {
     "iopub.execute_input": "2023-11-22T04:35:28.114585Z",
     "iopub.status.busy": "2023-11-22T04:35:28.114585Z",
     "iopub.status.idle": "2023-11-22T04:35:28.120569Z",
     "shell.execute_reply": "2023-11-22T04:35:28.119539Z"
    },
    "tags": []
   },
   "outputs": [],
   "source": [
    "# copy/paste the 'download' function from Lab-P12\n",
    "def download(url, filename):\n",
    "    if os.path.exists(filename):\n",
    "        return  (str(filename) + \" already exists!\")\n",
    "    else: \n",
    "        try:\n",
    "            response = requests.get(url)\n",
    "            response.raise_for_status()\n",
    "            file_text = response.text\n",
    "        except requests.HTTPError as error:\n",
    "            print(error)\n",
    "        new_file = open(filename,'w',encoding=\"utf-8\")\n",
    "        new_file.write(file_text)\n",
    "        new_file.close()\n",
    "        return (str(filename) + \" created!\")"
   ]
  },
  {
   "cell_type": "code",
   "execution_count": 6,
   "id": "79556e7b",
   "metadata": {},
   "outputs": [
    {
     "data": {
      "text/html": [
       "<p><strong><pre style='display: inline;'>download</pre></strong> passed! 🌈</p><p><strong><pre style='display: inline;'>download - 1</pre> message:</strong> Note that the Gradescope autograder will deduct points if your code fails the following rubric point - 'downloading the file even if it already exists (-5)'.The public tests cannot determine if your code satisfies these requirements. Verify your code manually.</p><p><strong><pre style='display: inline;'>download - 2</pre> message:</strong> Note that the Gradescope autograder will deduct points if your code fails the following rubric point - 'function is defined more than once (-1)'.The public tests cannot determine if your code satisfies these requirements. Verify your code manually.</p>"
      ],
      "text/plain": [
       "download results: All test cases passed!\n",
       "download - 1 message: Note that the Gradescope autograder will deduct points if your code fails the following rubric point - 'downloading the file even if it already exists (-5)'.The public tests cannot determine if your code satisfies these requirements. Verify your code manually.\n",
       "download - 2 message: Note that the Gradescope autograder will deduct points if your code fails the following rubric point - 'function is defined more than once (-1)'.The public tests cannot determine if your code satisfies these requirements. Verify your code manually."
      ]
     },
     "execution_count": 6,
     "metadata": {},
     "output_type": "execute_result"
    }
   ],
   "source": [
    "grader.check(\"download\")"
   ]
  },
  {
   "cell_type": "markdown",
   "id": "16374e2b",
   "metadata": {
    "deletable": false,
    "editable": false
   },
   "source": [
    "Now, use `download` to pull the data from here (**do not manually download**): https://git.doit.wisc.edu/cdis/cs/courses/cs220/cs220-f23-projects/-/raw/main/p12/rankings.json and store it in the file `rankings.json`. Once you have created the file, create a Dataframe `rankings` from this file.\n",
    "\n",
    "**Warning:** Make sure your `download` function meets the specifications mentioned in Lab-P12 and does **not** download the file if it already exists. The TAs will **manually deduct** points otherwise. Make sure you use the `download` function to pull the data instead of manually downloading the files. Otherwise you will get a zero."
   ]
  },
  {
   "cell_type": "code",
   "execution_count": 7,
   "id": "803920cf",
   "metadata": {
    "execution": {
     "iopub.execute_input": "2023-11-22T04:35:28.476845Z",
     "iopub.status.busy": "2023-11-22T04:35:28.476845Z",
     "iopub.status.idle": "2023-11-22T04:35:28.484304Z",
     "shell.execute_reply": "2023-11-22T04:35:28.484304Z"
    },
    "tags": []
   },
   "outputs": [
    {
     "data": {
      "text/plain": [
       "'rankings.json already exists!'"
      ]
     },
     "execution_count": 7,
     "metadata": {},
     "output_type": "execute_result"
    }
   ],
   "source": [
    "# use the 'download' function to download the data from the webpage\n",
    "# 'https://git.doit.wisc.edu/cdis/cs/courses/cs220/cs220-f23-projects/-/raw/main/p12/rankings.json'\n",
    "# to the file 'rankings.json'\n",
    "download('https://git.doit.wisc.edu/cdis/cs/courses/cs220/cs220-f23-projects/-/raw/main/p12/rankings.json', 'rankings.json')"
   ]
  },
  {
   "cell_type": "code",
   "execution_count": 8,
   "id": "21a7ab09",
   "metadata": {
    "execution": {
     "iopub.execute_input": "2023-11-22T04:35:28.488317Z",
     "iopub.status.busy": "2023-11-22T04:35:28.488317Z",
     "iopub.status.idle": "2023-11-22T04:35:28.554390Z",
     "shell.execute_reply": "2023-11-22T04:35:28.554390Z"
    },
    "tags": []
   },
   "outputs": [],
   "source": [
    "# open 'rankings.json' with pd.read_json('rankings.json') and store in the variable 'rankings'\n",
    "rankings = pd.read_json('rankings.json')"
   ]
  },
  {
   "cell_type": "code",
   "execution_count": 9,
   "id": "9f7577b2",
   "metadata": {},
   "outputs": [
    {
     "data": {
      "text/html": [
       "<p><strong><pre style='display: inline;'>rankings</pre></strong> passed! 🌟</p><p><strong><pre style='display: inline;'>rankings - 1</pre> message:</strong> Note that the Gradescope autograder will deduct points if your code fails the following rubric point - 'data structure is defined incorrectly (-1)'.The public tests cannot determine if your code satisfies these requirements. Verify your code manually.</p>"
      ],
      "text/plain": [
       "rankings results: All test cases passed!\n",
       "rankings - 1 message: Note that the Gradescope autograder will deduct points if your code fails the following rubric point - 'data structure is defined incorrectly (-1)'.The public tests cannot determine if your code satisfies these requirements. Verify your code manually."
      ]
     },
     "execution_count": 9,
     "metadata": {},
     "output_type": "execute_result"
    }
   ],
   "source": [
    "grader.check(\"rankings\")"
   ]
  },
  {
   "cell_type": "markdown",
   "id": "cf1b55a4",
   "metadata": {
    "deletable": false,
    "editable": false
   },
   "source": [
    "**Question 1:** How **many** countries do we have in our dataset?\n",
    "\n",
    "Your output **must** be an **int** representing the number of *unique* countries in the dataset."
   ]
  },
  {
   "cell_type": "code",
   "execution_count": 10,
   "id": "2cf850c4",
   "metadata": {
    "execution": {
     "iopub.execute_input": "2023-11-22T04:35:28.686292Z",
     "iopub.status.busy": "2023-11-22T04:35:28.686292Z",
     "iopub.status.idle": "2023-11-22T04:35:28.692969Z",
     "shell.execute_reply": "2023-11-22T04:35:28.692969Z"
    },
    "tags": []
   },
   "outputs": [
    {
     "data": {
      "text/plain": [
       "98"
      ]
     },
     "execution_count": 10,
     "metadata": {},
     "output_type": "execute_result"
    }
   ],
   "source": [
    "# compute and store the answer in the variable 'num_countries', then display it\n",
    "num_countries = len(rankings.value_counts('Country'))\n",
    "num_countries"
   ]
  },
  {
   "cell_type": "code",
   "execution_count": 11,
   "id": "a0095e50",
   "metadata": {},
   "outputs": [
    {
     "data": {
      "text/html": [
       "<p><strong><pre style='display: inline;'>q1</pre></strong> passed! 🍀</p><p><strong><pre style='display: inline;'>q1 - 2</pre> message:</strong> Note that the Gradescope autograder will deduct points if your code fails the following rubric point - '`rankings` data structure is not used to answer (-1)'.The public tests cannot determine if your code satisfies these requirements. Verify your code manually.</p><p><strong><pre style='display: inline;'>q1 - 3</pre> message:</strong> Note that the Gradescope autograder will deduct points if your code fails the following rubric point - 'conditional statements or loops are used (-1)'.The public tests cannot determine if your code satisfies these requirements. Verify your code manually.</p>"
      ],
      "text/plain": [
       "q1 results: All test cases passed!\n",
       "q1 - 2 message: Note that the Gradescope autograder will deduct points if your code fails the following rubric point - '`rankings` data structure is not used to answer (-1)'.The public tests cannot determine if your code satisfies these requirements. Verify your code manually.\n",
       "q1 - 3 message: Note that the Gradescope autograder will deduct points if your code fails the following rubric point - 'conditional statements or loops are used (-1)'.The public tests cannot determine if your code satisfies these requirements. Verify your code manually."
      ]
     },
     "execution_count": 11,
     "metadata": {},
     "output_type": "execute_result"
    }
   ],
   "source": [
    "grader.check(\"q1\")"
   ]
  },
  {
   "cell_type": "markdown",
   "id": "bf087551",
   "metadata": {
    "deletable": false,
    "editable": false
   },
   "source": [
    "**Question 2:** Generate a `pandas` **DataFrame** containing **all** the statistics of the **highest-ranked** institution based on `World Rank` across all the years.\n",
    "\n",
    "Your output **must** be a pandas **DataFrame** with 3 rows and 10 columns. It **must** contain all the data for the institutions with `World Rank` of *1*. It **must** look like this:\n",
    "\n",
    "||**Year**|**World Rank**|**Institution**|**Country**|**National Rank**|**Education Rank**|**Employability Rank**|**Faculty Rank**|**Research Rank**|**Score**|\n",
    "|---|---|---|---|---|---|---|---|---|---|---|\n",
    "|**0**|2021|1|Harvard University|USA|1|1.0|1.0|1.0|1.0|100.0|\n",
    "|**2000**|2022|1|Harvard University|USA|1|1.0|1.0|1.0|1.0|100.0|\n",
    "|**4000**|2023|1|Harvard University|USA|1|1.0|1.0|1.0|1.0|100.0|"
   ]
  },
  {
   "cell_type": "code",
   "execution_count": 12,
   "id": "618932bf",
   "metadata": {
    "execution": {
     "iopub.execute_input": "2023-11-22T04:35:28.954693Z",
     "iopub.status.busy": "2023-11-22T04:35:28.953676Z",
     "iopub.status.idle": "2023-11-22T04:35:28.967045Z",
     "shell.execute_reply": "2023-11-22T04:35:28.967045Z"
    },
    "tags": []
   },
   "outputs": [
    {
     "data": {
      "text/html": [
       "<div>\n",
       "<style scoped>\n",
       "    .dataframe tbody tr th:only-of-type {\n",
       "        vertical-align: middle;\n",
       "    }\n",
       "\n",
       "    .dataframe tbody tr th {\n",
       "        vertical-align: top;\n",
       "    }\n",
       "\n",
       "    .dataframe thead th {\n",
       "        text-align: right;\n",
       "    }\n",
       "</style>\n",
       "<table border=\"1\" class=\"dataframe\">\n",
       "  <thead>\n",
       "    <tr style=\"text-align: right;\">\n",
       "      <th></th>\n",
       "      <th>Year</th>\n",
       "      <th>World Rank</th>\n",
       "      <th>Institution</th>\n",
       "      <th>Country</th>\n",
       "      <th>National Rank</th>\n",
       "      <th>Education Rank</th>\n",
       "      <th>Employability Rank</th>\n",
       "      <th>Faculty Rank</th>\n",
       "      <th>Research Rank</th>\n",
       "      <th>Score</th>\n",
       "    </tr>\n",
       "  </thead>\n",
       "  <tbody>\n",
       "    <tr>\n",
       "      <th>0</th>\n",
       "      <td>2021</td>\n",
       "      <td>1</td>\n",
       "      <td>Harvard University</td>\n",
       "      <td>USA</td>\n",
       "      <td>1</td>\n",
       "      <td>1.0</td>\n",
       "      <td>1.0</td>\n",
       "      <td>1.0</td>\n",
       "      <td>1.0</td>\n",
       "      <td>100.0</td>\n",
       "    </tr>\n",
       "    <tr>\n",
       "      <th>2000</th>\n",
       "      <td>2022</td>\n",
       "      <td>1</td>\n",
       "      <td>Harvard University</td>\n",
       "      <td>USA</td>\n",
       "      <td>1</td>\n",
       "      <td>1.0</td>\n",
       "      <td>1.0</td>\n",
       "      <td>1.0</td>\n",
       "      <td>1.0</td>\n",
       "      <td>100.0</td>\n",
       "    </tr>\n",
       "    <tr>\n",
       "      <th>4000</th>\n",
       "      <td>2023</td>\n",
       "      <td>1</td>\n",
       "      <td>Harvard University</td>\n",
       "      <td>USA</td>\n",
       "      <td>1</td>\n",
       "      <td>1.0</td>\n",
       "      <td>1.0</td>\n",
       "      <td>1.0</td>\n",
       "      <td>1.0</td>\n",
       "      <td>100.0</td>\n",
       "    </tr>\n",
       "  </tbody>\n",
       "</table>\n",
       "</div>"
      ],
      "text/plain": [
       "      Year  World Rank         Institution Country  National Rank  \\\n",
       "0     2021           1  Harvard University     USA              1   \n",
       "2000  2022           1  Harvard University     USA              1   \n",
       "4000  2023           1  Harvard University     USA              1   \n",
       "\n",
       "      Education Rank  Employability Rank  Faculty Rank  Research Rank  Score  \n",
       "0                1.0                 1.0           1.0            1.0  100.0  \n",
       "2000             1.0                 1.0           1.0            1.0  100.0  \n",
       "4000             1.0                 1.0           1.0            1.0  100.0  "
      ]
     },
     "execution_count": 12,
     "metadata": {},
     "output_type": "execute_result"
    }
   ],
   "source": [
    "# compute and store the answer in the variable 'highest_ranked', then display it\n",
    "highest_ranked = rankings[rankings['World Rank'] == 1]\n",
    "highest_ranked"
   ]
  },
  {
   "cell_type": "code",
   "execution_count": 13,
   "id": "ec9362d5",
   "metadata": {},
   "outputs": [
    {
     "data": {
      "text/html": [
       "<p><strong><pre style='display: inline;'>q2</pre></strong> passed! 🎉</p><p><strong><pre style='display: inline;'>q2 - 2</pre> message:</strong> Note that the Gradescope autograder will deduct points if your code fails the following rubric point - '`rankings` data structure is not used to answer (-1)'.The public tests cannot determine if your code satisfies these requirements. Verify your code manually.</p><p><strong><pre style='display: inline;'>q2 - 3</pre> message:</strong> Note that the Gradescope autograder will deduct points if your code fails the following rubric point - 'conditional statements or loops are used (-1)'.The public tests cannot determine if your code satisfies these requirements. Verify your code manually.</p>"
      ],
      "text/plain": [
       "q2 results: All test cases passed!\n",
       "q2 - 2 message: Note that the Gradescope autograder will deduct points if your code fails the following rubric point - '`rankings` data structure is not used to answer (-1)'.The public tests cannot determine if your code satisfies these requirements. Verify your code manually.\n",
       "q2 - 3 message: Note that the Gradescope autograder will deduct points if your code fails the following rubric point - 'conditional statements or loops are used (-1)'.The public tests cannot determine if your code satisfies these requirements. Verify your code manually."
      ]
     },
     "execution_count": 13,
     "metadata": {},
     "output_type": "execute_result"
    }
   ],
   "source": [
    "grader.check(\"q2\")"
   ]
  },
  {
   "cell_type": "markdown",
   "id": "fb20f815",
   "metadata": {
    "deletable": false,
    "editable": false
   },
   "source": [
    "**Question 3:** Generate a `pandas` **DataFrame** containing **all** the statistics of *University of Wisconsin–Madison*.\n",
    "\n",
    "**Hint**: The `–` symbol in the text above is not the regular hyphen (`-`) symbol. It is recommended that you just *copy/paste* the string `'University of Wisconsin–Madison'` into your code instead of typing it yourself.\n",
    "\n",
    "Your output **must** be a pandas **DataFrame** with 3 rows and 10 columns. It **must** look like this:\n",
    "\n",
    "||**Year**|**World Rank**|**Institution**|**Country**|**National Rank**|**Education Rank**|**Employability Rank**|**Faculty Rank**|**Research Rank**|**Score**|\n",
    "|---|---|---|---|---|---|---|---|---|---|---|\n",
    "|**24**|2021|25|University of Wisconsin–Madison|USA|19|33.0|97.0|29.0|32.0|87.3|\n",
    "|**2026**|2022|27|University of Wisconsin–Madison|USA|20|34.0|100.0|30.0|35.0|87.0|\n",
    "|**4027**|2023|28|University of Wisconsin–Madison|USA|20|36.0|102.0|30.0|41.0|87.0|"
   ]
  },
  {
   "cell_type": "code",
   "execution_count": 14,
   "id": "17e1ca35",
   "metadata": {
    "execution": {
     "iopub.execute_input": "2023-11-22T04:35:29.375983Z",
     "iopub.status.busy": "2023-11-22T04:35:29.374984Z",
     "iopub.status.idle": "2023-11-22T04:35:29.388829Z",
     "shell.execute_reply": "2023-11-22T04:35:29.388829Z"
    },
    "tags": []
   },
   "outputs": [
    {
     "data": {
      "text/html": [
       "<div>\n",
       "<style scoped>\n",
       "    .dataframe tbody tr th:only-of-type {\n",
       "        vertical-align: middle;\n",
       "    }\n",
       "\n",
       "    .dataframe tbody tr th {\n",
       "        vertical-align: top;\n",
       "    }\n",
       "\n",
       "    .dataframe thead th {\n",
       "        text-align: right;\n",
       "    }\n",
       "</style>\n",
       "<table border=\"1\" class=\"dataframe\">\n",
       "  <thead>\n",
       "    <tr style=\"text-align: right;\">\n",
       "      <th></th>\n",
       "      <th>Year</th>\n",
       "      <th>World Rank</th>\n",
       "      <th>Institution</th>\n",
       "      <th>Country</th>\n",
       "      <th>National Rank</th>\n",
       "      <th>Education Rank</th>\n",
       "      <th>Employability Rank</th>\n",
       "      <th>Faculty Rank</th>\n",
       "      <th>Research Rank</th>\n",
       "      <th>Score</th>\n",
       "    </tr>\n",
       "  </thead>\n",
       "  <tbody>\n",
       "    <tr>\n",
       "      <th>24</th>\n",
       "      <td>2021</td>\n",
       "      <td>25</td>\n",
       "      <td>University of Wisconsin–Madison</td>\n",
       "      <td>USA</td>\n",
       "      <td>19</td>\n",
       "      <td>33.0</td>\n",
       "      <td>97.0</td>\n",
       "      <td>29.0</td>\n",
       "      <td>32.0</td>\n",
       "      <td>87.3</td>\n",
       "    </tr>\n",
       "    <tr>\n",
       "      <th>2026</th>\n",
       "      <td>2022</td>\n",
       "      <td>27</td>\n",
       "      <td>University of Wisconsin–Madison</td>\n",
       "      <td>USA</td>\n",
       "      <td>20</td>\n",
       "      <td>34.0</td>\n",
       "      <td>100.0</td>\n",
       "      <td>30.0</td>\n",
       "      <td>35.0</td>\n",
       "      <td>87.0</td>\n",
       "    </tr>\n",
       "    <tr>\n",
       "      <th>4027</th>\n",
       "      <td>2023</td>\n",
       "      <td>28</td>\n",
       "      <td>University of Wisconsin–Madison</td>\n",
       "      <td>USA</td>\n",
       "      <td>20</td>\n",
       "      <td>36.0</td>\n",
       "      <td>102.0</td>\n",
       "      <td>30.0</td>\n",
       "      <td>41.0</td>\n",
       "      <td>87.0</td>\n",
       "    </tr>\n",
       "  </tbody>\n",
       "</table>\n",
       "</div>"
      ],
      "text/plain": [
       "      Year  World Rank                      Institution Country  \\\n",
       "24    2021          25  University of Wisconsin–Madison     USA   \n",
       "2026  2022          27  University of Wisconsin–Madison     USA   \n",
       "4027  2023          28  University of Wisconsin–Madison     USA   \n",
       "\n",
       "      National Rank  Education Rank  Employability Rank  Faculty Rank  \\\n",
       "24               19            33.0                97.0          29.0   \n",
       "2026             20            34.0               100.0          30.0   \n",
       "4027             20            36.0               102.0          30.0   \n",
       "\n",
       "      Research Rank  Score  \n",
       "24             32.0   87.3  \n",
       "2026           35.0   87.0  \n",
       "4027           41.0   87.0  "
      ]
     },
     "execution_count": 14,
     "metadata": {},
     "output_type": "execute_result"
    }
   ],
   "source": [
    "# compute and store the answer in the variable 'uw_madison', then display it\n",
    "uw_madison = rankings[rankings['Institution'] == 'University of Wisconsin–Madison']\n",
    "\n",
    "uw_madison"
   ]
  },
  {
   "cell_type": "code",
   "execution_count": 15,
   "id": "30e4f93a",
   "metadata": {},
   "outputs": [
    {
     "data": {
      "text/html": [
       "<p><strong><pre style='display: inline;'>q3</pre></strong> passed! 🍀</p><p><strong><pre style='display: inline;'>q3 - 2</pre> message:</strong> Note that the Gradescope autograder will deduct points if your code fails the following rubric point - '`rankings` data structure is not used to answer (-1)'.The public tests cannot determine if your code satisfies these requirements. Verify your code manually.</p><p><strong><pre style='display: inline;'>q3 - 3</pre> message:</strong> Note that the Gradescope autograder will deduct points if your code fails the following rubric point - 'conditional statements or loops are used (-1)'.The public tests cannot determine if your code satisfies these requirements. Verify your code manually.</p>"
      ],
      "text/plain": [
       "q3 results: All test cases passed!\n",
       "q3 - 2 message: Note that the Gradescope autograder will deduct points if your code fails the following rubric point - '`rankings` data structure is not used to answer (-1)'.The public tests cannot determine if your code satisfies these requirements. Verify your code manually.\n",
       "q3 - 3 message: Note that the Gradescope autograder will deduct points if your code fails the following rubric point - 'conditional statements or loops are used (-1)'.The public tests cannot determine if your code satisfies these requirements. Verify your code manually."
      ]
     },
     "execution_count": 15,
     "metadata": {},
     "output_type": "execute_result"
    }
   ],
   "source": [
    "grader.check(\"q3\")"
   ]
  },
  {
   "cell_type": "markdown",
   "id": "399b2523",
   "metadata": {
    "deletable": false,
    "editable": false
   },
   "source": [
    "**Question 4:** What is the `National Rank` of the *University of Wisconsin–Madison* in the `Year` *2023*?\n",
    "\n",
    "Your output **must** be an **int**. You **must** use **Boolean indexing** on the variable `uw_madison` (from the previous question) to answer this question.\n",
    "\n",
    "**Hint:** Use Boolean indexing on the DataFrame `uw_madison` to find the data for the year *2023*. You may then extract the `National Rank` column from the subset DataFrame. Finally, use `iloc` to lookup the value in the DataFrame which contains only one row and one column."
   ]
  },
  {
   "cell_type": "code",
   "execution_count": 16,
   "id": "5a4d9a05",
   "metadata": {
    "execution": {
     "iopub.execute_input": "2023-11-22T04:35:29.809088Z",
     "iopub.status.busy": "2023-11-22T04:35:29.808087Z",
     "iopub.status.idle": "2023-11-22T04:35:29.817847Z",
     "shell.execute_reply": "2023-11-22T04:35:29.817847Z"
    },
    "tags": []
   },
   "outputs": [
    {
     "data": {
      "text/plain": [
       "20"
      ]
     },
     "execution_count": 16,
     "metadata": {},
     "output_type": "execute_result"
    }
   ],
   "source": [
    "# compute and store the answer in the variable 'uw_madison_nat_rank', then display it\n",
    "uw_madison_nat_rank = uw_madison[uw_madison['Year'] == 2023]['National Rank'].iloc[0]\n",
    "uw_madison_nat_rank"
   ]
  },
  {
   "cell_type": "code",
   "execution_count": 17,
   "id": "b857c0f0",
   "metadata": {},
   "outputs": [
    {
     "data": {
      "text/html": [
       "<p><strong><pre style='display: inline;'>q4</pre></strong> passed! 🌟</p><p><strong><pre style='display: inline;'>q4 - 2</pre> message:</strong> Note that the Gradescope autograder will deduct points if your code fails the following rubric point - 'recomputed variable defined in Question 3 (-1)'.The public tests cannot determine if your code satisfies these requirements. Verify your code manually.</p><p><strong><pre style='display: inline;'>q4 - 3</pre> message:</strong> Note that the Gradescope autograder will deduct points if your code fails the following rubric point - '`.loc` is used on a pandas DataFrame to hardcode an index (-1)'.The public tests cannot determine if your code satisfies these requirements. Verify your code manually.</p><p><strong><pre style='display: inline;'>q4 - 4</pre> message:</strong> Note that the Gradescope autograder will deduct points if your code fails the following rubric point - 'conditional statements or loops are used (-1)'.The public tests cannot determine if your code satisfies these requirements. Verify your code manually.</p>"
      ],
      "text/plain": [
       "q4 results: All test cases passed!\n",
       "q4 - 2 message: Note that the Gradescope autograder will deduct points if your code fails the following rubric point - 'recomputed variable defined in Question 3 (-1)'.The public tests cannot determine if your code satisfies these requirements. Verify your code manually.\n",
       "q4 - 3 message: Note that the Gradescope autograder will deduct points if your code fails the following rubric point - '`.loc` is used on a pandas DataFrame to hardcode an index (-1)'.The public tests cannot determine if your code satisfies these requirements. Verify your code manually.\n",
       "q4 - 4 message: Note that the Gradescope autograder will deduct points if your code fails the following rubric point - 'conditional statements or loops are used (-1)'.The public tests cannot determine if your code satisfies these requirements. Verify your code manually."
      ]
     },
     "execution_count": 17,
     "metadata": {},
     "output_type": "execute_result"
    }
   ],
   "source": [
    "grader.check(\"q4\")"
   ]
  },
  {
   "cell_type": "markdown",
   "id": "da186b69",
   "metadata": {
    "deletable": false,
    "editable": false
   },
   "source": [
    "**Question 5:** What is the **average** `Score` of the *University of Wisconsin–Madison*?\n",
    "\n",
    "Your output **must** be a **float**. You **must** use the variable `uw_madison` to answer this question.\n",
    "\n",
    "**Hint:** You **must** extract the `Score` column of the **DataFrame** `uw_madison` as a **Series**. You can find the **average** of  all the scores in a **Series** with the `Series.mean` function."
   ]
  },
  {
   "cell_type": "code",
   "execution_count": 18,
   "id": "cb86cdb2",
   "metadata": {
    "execution": {
     "iopub.execute_input": "2023-11-22T04:35:30.264602Z",
     "iopub.status.busy": "2023-11-22T04:35:30.264602Z",
     "iopub.status.idle": "2023-11-22T04:35:30.271406Z",
     "shell.execute_reply": "2023-11-22T04:35:30.270400Z"
    },
    "tags": []
   },
   "outputs": [
    {
     "data": {
      "text/plain": [
       "87.10000000000001"
      ]
     },
     "execution_count": 18,
     "metadata": {},
     "output_type": "execute_result"
    }
   ],
   "source": [
    "# compute and store the answer in the variable 'uw_madison_avg_score', then display it\n",
    "\n",
    "uw_madison_avg_score = uw_madison['Score'].mean()\n",
    "\n",
    "uw_madison_avg_score"
   ]
  },
  {
   "cell_type": "code",
   "execution_count": 19,
   "id": "67b8d4ae",
   "metadata": {},
   "outputs": [
    {
     "data": {
      "text/html": [
       "<p><strong><pre style='display: inline;'>q5</pre></strong> passed! 💯</p><p><strong><pre style='display: inline;'>q5 - 2</pre> message:</strong> Note that the Gradescope autograder will deduct points if your code fails the following rubric point - 'recomputed variable defined in Question 3 (-1)'.The public tests cannot determine if your code satisfies these requirements. Verify your code manually.</p><p><strong><pre style='display: inline;'>q5 - 3</pre> message:</strong> Note that the Gradescope autograder will deduct points if your code fails the following rubric point - 'conditional statements or loops are used (-1)'.The public tests cannot determine if your code satisfies these requirements. Verify your code manually.</p>"
      ],
      "text/plain": [
       "q5 results: All test cases passed!\n",
       "q5 - 2 message: Note that the Gradescope autograder will deduct points if your code fails the following rubric point - 'recomputed variable defined in Question 3 (-1)'.The public tests cannot determine if your code satisfies these requirements. Verify your code manually.\n",
       "q5 - 3 message: Note that the Gradescope autograder will deduct points if your code fails the following rubric point - 'conditional statements or loops are used (-1)'.The public tests cannot determine if your code satisfies these requirements. Verify your code manually."
      ]
     },
     "execution_count": 19,
     "metadata": {},
     "output_type": "execute_result"
    }
   ],
   "source": [
    "grader.check(\"q5\")"
   ]
  },
  {
   "cell_type": "markdown",
   "id": "35d6de65",
   "metadata": {
    "deletable": false,
    "editable": false
   },
   "source": [
    "**Question 6:** Generate a `pandas` **DataFrame** containing **all** the statistics of universities from the `Country` *Singapore* in the `Year` *2021*.\n",
    "\n",
    "Your output **must** be a pandas **DataFrame** with 4 rows and 10 columns. It **must** look like this:\n",
    "\n",
    "||**Year**|**World Rank**|**Institution**|**Country**|**National Rank**|**Education Rank**|**Employability Rank**|**Faculty Rank**|**Research Rank**|**Score**|\n",
    "|---|---|---|---|---|---|---|---|---|---|---|\n",
    "|**88**|2021|89|National University of Singapore|Singapore|1|322.0|155.0|NaN|41.0|82.2|\n",
    "|**135**|2021|136|Nanyang Technological University|Singapore|2|NaN|909.0|NaN|68.0|80.4|\n",
    "|**1070**|2021|1071|Singapore University of Technology and Design|Singapore|3|NaN|NaN|NaN|1026.0|69.8|\n",
    "|**1362**|2021|1363|Singapore Management University|Singapore|4|NaN|NaN|NaN|1305.0|68.3|\n"
   ]
  },
  {
   "cell_type": "markdown",
   "id": "272873e1",
   "metadata": {
    "deletable": false,
    "editable": false
   },
   "source": [
    "**Hint:** When there are **multiple** conditions to filter a **DataFrame**, you can combine all the conditions with `&` as a logical operator between them. For example, you can extract the data for all the institutions with `Education Rank <= 10` and `Faculty Rank <= 10` with:\n",
    "\n",
    "```python\n",
    "rankings[(rankings[\"Education Rank\"] <= 10) & (rankings[\"Faculty Rank\"] <= 10)]\n",
    "```"
   ]
  },
  {
   "cell_type": "code",
   "execution_count": 20,
   "id": "878fdbb6",
   "metadata": {
    "execution": {
     "iopub.execute_input": "2023-11-22T04:35:30.660780Z",
     "iopub.status.busy": "2023-11-22T04:35:30.659780Z",
     "iopub.status.idle": "2023-11-22T04:35:30.673825Z",
     "shell.execute_reply": "2023-11-22T04:35:30.673825Z"
    },
    "tags": []
   },
   "outputs": [
    {
     "data": {
      "text/html": [
       "<div>\n",
       "<style scoped>\n",
       "    .dataframe tbody tr th:only-of-type {\n",
       "        vertical-align: middle;\n",
       "    }\n",
       "\n",
       "    .dataframe tbody tr th {\n",
       "        vertical-align: top;\n",
       "    }\n",
       "\n",
       "    .dataframe thead th {\n",
       "        text-align: right;\n",
       "    }\n",
       "</style>\n",
       "<table border=\"1\" class=\"dataframe\">\n",
       "  <thead>\n",
       "    <tr style=\"text-align: right;\">\n",
       "      <th></th>\n",
       "      <th>Year</th>\n",
       "      <th>World Rank</th>\n",
       "      <th>Institution</th>\n",
       "      <th>Country</th>\n",
       "      <th>National Rank</th>\n",
       "      <th>Education Rank</th>\n",
       "      <th>Employability Rank</th>\n",
       "      <th>Faculty Rank</th>\n",
       "      <th>Research Rank</th>\n",
       "      <th>Score</th>\n",
       "    </tr>\n",
       "  </thead>\n",
       "  <tbody>\n",
       "    <tr>\n",
       "      <th>88</th>\n",
       "      <td>2021</td>\n",
       "      <td>89</td>\n",
       "      <td>National University of Singapore</td>\n",
       "      <td>Singapore</td>\n",
       "      <td>1</td>\n",
       "      <td>322.0</td>\n",
       "      <td>155.0</td>\n",
       "      <td>NaN</td>\n",
       "      <td>41.0</td>\n",
       "      <td>82.2</td>\n",
       "    </tr>\n",
       "    <tr>\n",
       "      <th>135</th>\n",
       "      <td>2021</td>\n",
       "      <td>136</td>\n",
       "      <td>Nanyang Technological University</td>\n",
       "      <td>Singapore</td>\n",
       "      <td>2</td>\n",
       "      <td>NaN</td>\n",
       "      <td>909.0</td>\n",
       "      <td>NaN</td>\n",
       "      <td>68.0</td>\n",
       "      <td>80.4</td>\n",
       "    </tr>\n",
       "    <tr>\n",
       "      <th>1070</th>\n",
       "      <td>2021</td>\n",
       "      <td>1071</td>\n",
       "      <td>Singapore University of Technology and Design</td>\n",
       "      <td>Singapore</td>\n",
       "      <td>3</td>\n",
       "      <td>NaN</td>\n",
       "      <td>NaN</td>\n",
       "      <td>NaN</td>\n",
       "      <td>1026.0</td>\n",
       "      <td>69.8</td>\n",
       "    </tr>\n",
       "    <tr>\n",
       "      <th>1362</th>\n",
       "      <td>2021</td>\n",
       "      <td>1363</td>\n",
       "      <td>Singapore Management University</td>\n",
       "      <td>Singapore</td>\n",
       "      <td>4</td>\n",
       "      <td>NaN</td>\n",
       "      <td>NaN</td>\n",
       "      <td>NaN</td>\n",
       "      <td>1305.0</td>\n",
       "      <td>68.3</td>\n",
       "    </tr>\n",
       "  </tbody>\n",
       "</table>\n",
       "</div>"
      ],
      "text/plain": [
       "      Year  World Rank                                    Institution  \\\n",
       "88    2021          89               National University of Singapore   \n",
       "135   2021         136               Nanyang Technological University   \n",
       "1070  2021        1071  Singapore University of Technology and Design   \n",
       "1362  2021        1363                Singapore Management University   \n",
       "\n",
       "        Country  National Rank  Education Rank  Employability Rank  \\\n",
       "88    Singapore              1           322.0               155.0   \n",
       "135   Singapore              2             NaN               909.0   \n",
       "1070  Singapore              3             NaN                 NaN   \n",
       "1362  Singapore              4             NaN                 NaN   \n",
       "\n",
       "      Faculty Rank  Research Rank  Score  \n",
       "88             NaN           41.0   82.2  \n",
       "135            NaN           68.0   80.4  \n",
       "1070           NaN         1026.0   69.8  \n",
       "1362           NaN         1305.0   68.3  "
      ]
     },
     "execution_count": 20,
     "metadata": {},
     "output_type": "execute_result"
    }
   ],
   "source": [
    "# compute and store the answer in the variable 'singapore_inst', then display it\n",
    "singapore_inst = rankings[(rankings['Country']== 'Singapore') & (rankings['Year'] == 2021)]\n",
    "\n",
    "singapore_inst"
   ]
  },
  {
   "cell_type": "code",
   "execution_count": 21,
   "id": "84ea6daa",
   "metadata": {},
   "outputs": [
    {
     "data": {
      "text/html": [
       "<p><strong><pre style='display: inline;'>q6</pre></strong> passed! 🌈</p><p><strong><pre style='display: inline;'>q6 - 2</pre> message:</strong> Note that the Gradescope autograder will deduct points if your code fails the following rubric point - '`rankings` data structure is not used to answer (-1)'.The public tests cannot determine if your code satisfies these requirements. Verify your code manually.</p><p><strong><pre style='display: inline;'>q6 - 3</pre> message:</strong> Note that the Gradescope autograder will deduct points if your code fails the following rubric point - 'conditional statements or loops are used (-1)'.The public tests cannot determine if your code satisfies these requirements. Verify your code manually.</p>"
      ],
      "text/plain": [
       "q6 results: All test cases passed!\n",
       "q6 - 2 message: Note that the Gradescope autograder will deduct points if your code fails the following rubric point - '`rankings` data structure is not used to answer (-1)'.The public tests cannot determine if your code satisfies these requirements. Verify your code manually.\n",
       "q6 - 3 message: Note that the Gradescope autograder will deduct points if your code fails the following rubric point - 'conditional statements or loops are used (-1)'.The public tests cannot determine if your code satisfies these requirements. Verify your code manually."
      ]
     },
     "execution_count": 21,
     "metadata": {},
     "output_type": "execute_result"
    }
   ],
   "source": [
    "grader.check(\"q6\")"
   ]
  },
  {
   "cell_type": "markdown",
   "id": "a26d0d36",
   "metadata": {
    "deletable": false,
    "editable": false
   },
   "source": [
    "**Question 7:** In the `Year` *2022*, what was the **highest-ranked** institution in the `Country` *Germany*?\n",
    "\n",
    "Your output **must** be a **string** representing the **name** of this institution.\n",
    "\n",
    "**Hint:** The highest-ranked institution in *Germany* is the institution from Germany with a `National Rank` of *1*."
   ]
  },
  {
   "cell_type": "code",
   "execution_count": 22,
   "id": "9668d2b8",
   "metadata": {
    "execution": {
     "iopub.execute_input": "2023-11-22T04:35:31.064524Z",
     "iopub.status.busy": "2023-11-22T04:35:31.064524Z",
     "iopub.status.idle": "2023-11-22T04:35:31.072207Z",
     "shell.execute_reply": "2023-11-22T04:35:31.072207Z"
    },
    "tags": []
   },
   "outputs": [
    {
     "data": {
      "text/plain": [
       "'Ludwig Maximilian University of Munich'"
      ]
     },
     "execution_count": 22,
     "metadata": {},
     "output_type": "execute_result"
    }
   ],
   "source": [
    "# compute and store the answer in the variable 'german_best_name', then display it\n",
    "best_german_table = rankings[(rankings['Year'] == 2022) & (rankings['Country'] == 'Germany')].iloc[0]\n",
    "german_best_name = rankings[(rankings['Year'] == 2022) & (rankings['Country'] == 'Germany')]['Institution'].iloc[0]\n",
    "german_best_name"
   ]
  },
  {
   "cell_type": "code",
   "execution_count": 23,
   "id": "fb41b236",
   "metadata": {},
   "outputs": [
    {
     "data": {
      "text/html": [
       "<p><strong><pre style='display: inline;'>q7</pre></strong> passed! ✨</p><p><strong><pre style='display: inline;'>q7 - 2</pre> message:</strong> Note that the Gradescope autograder will deduct points if your code fails the following rubric point - '`rankings` data structure is not used to answer (-1)'.The public tests cannot determine if your code satisfies these requirements. Verify your code manually.</p><p><strong><pre style='display: inline;'>q7 - 3</pre> message:</strong> Note that the Gradescope autograder will deduct points if your code fails the following rubric point - 'conditional statements or loops are used (-1)'.The public tests cannot determine if your code satisfies these requirements. Verify your code manually.</p><p><strong><pre style='display: inline;'>q7 - 4</pre> message:</strong> Note that the Gradescope autograder will deduct points if your code fails the following rubric point - '`.loc` is used on a pandas DataFrame to hardcode an index (-1)'.The public tests cannot determine if your code satisfies these requirements. Verify your code manually.</p>"
      ],
      "text/plain": [
       "q7 results: All test cases passed!\n",
       "q7 - 2 message: Note that the Gradescope autograder will deduct points if your code fails the following rubric point - '`rankings` data structure is not used to answer (-1)'.The public tests cannot determine if your code satisfies these requirements. Verify your code manually.\n",
       "q7 - 3 message: Note that the Gradescope autograder will deduct points if your code fails the following rubric point - 'conditional statements or loops are used (-1)'.The public tests cannot determine if your code satisfies these requirements. Verify your code manually.\n",
       "q7 - 4 message: Note that the Gradescope autograder will deduct points if your code fails the following rubric point - '`.loc` is used on a pandas DataFrame to hardcode an index (-1)'.The public tests cannot determine if your code satisfies these requirements. Verify your code manually."
      ]
     },
     "execution_count": 23,
     "metadata": {},
     "output_type": "execute_result"
    }
   ],
   "source": [
    "grader.check(\"q7\")"
   ]
  },
  {
   "cell_type": "markdown",
   "id": "b925d4e1",
   "metadata": {
    "deletable": false,
    "editable": false
   },
   "source": [
    "**Question 8:** In the `Year` *2022*, list **all** the institutions in the *USA* that were ranked **better** than the highest-ranked institution in *Germany*.\n",
    "\n",
    "Your output **must** be a **list** containing the **names** of all universities from *USA* with a **better** `World Rank` than the institution `german_best_name` in the `Year` *2022*. By **better** ranked, we refer to institutions with a **lower** value under the `World Rank` column.\n",
    "\n",
    "**Hint:** You could store the entire row of the highest ranked institution from Germany in a different variable in Question 7, and use it to extract its `World Rank`. You could go back to your answer for Question 7, and edit it slightly to do this."
   ]
  },
  {
   "cell_type": "code",
   "execution_count": 24,
   "id": "e1f3f6d2",
   "metadata": {
    "execution": {
     "iopub.execute_input": "2023-11-22T04:35:31.581358Z",
     "iopub.status.busy": "2023-11-22T04:35:31.581358Z",
     "iopub.status.idle": "2023-11-22T04:35:31.590577Z",
     "shell.execute_reply": "2023-11-22T04:35:31.589570Z"
    },
    "tags": []
   },
   "outputs": [
    {
     "data": {
      "text/plain": [
       "['Harvard University',\n",
       " 'Massachusetts Institute of Technology',\n",
       " 'Stanford University',\n",
       " 'Princeton University',\n",
       " 'University of Chicago',\n",
       " 'Columbia University',\n",
       " 'University of Pennsylvania',\n",
       " 'California Institute of Technology',\n",
       " 'Yale University',\n",
       " 'University of California, Berkeley',\n",
       " 'Cornell University',\n",
       " 'University of Michigan, Ann Arbor',\n",
       " 'Johns Hopkins University',\n",
       " 'Northwestern University',\n",
       " 'University of California, Los Angeles',\n",
       " 'Duke University',\n",
       " 'University of Illinois at Urbana–Champaign',\n",
       " 'New York University',\n",
       " 'University of Washington',\n",
       " 'University of Wisconsin–Madison',\n",
       " 'University of Texas at Austin',\n",
       " 'University of California, San Diego',\n",
       " 'University of California, San Francisco',\n",
       " 'University of North Carolina at Chapel Hill',\n",
       " 'Dartmouth College']"
      ]
     },
     "execution_count": 24,
     "metadata": {},
     "output_type": "execute_result"
    }
   ],
   "source": [
    "# compute and store the answer in the variable 'us_better_than_german_best', then display it\n",
    "us_better_than_german_best = list(rankings[(rankings['Year'] == 2022) & (rankings['Country'] == 'USA') & (rankings['World Rank'] < best_german_table['World Rank'])]['Institution'])\n",
    "\n",
    "us_better_than_german_best"
   ]
  },
  {
   "cell_type": "code",
   "execution_count": 25,
   "id": "f4794893",
   "metadata": {},
   "outputs": [
    {
     "data": {
      "text/html": [
       "<p><strong><pre style='display: inline;'>q8</pre></strong> passed! 🌟</p><p><strong><pre style='display: inline;'>q8 - 2</pre> message:</strong> Note that the Gradescope autograder will deduct points if your code fails the following rubric point - '`rankings` data structure is not used to answer (-1)'.The public tests cannot determine if your code satisfies these requirements. Verify your code manually.</p><p><strong><pre style='display: inline;'>q8 - 3</pre> message:</strong> Note that the Gradescope autograder will deduct points if your code fails the following rubric point - 'conditional statements or loops are used (-1)'.The public tests cannot determine if your code satisfies these requirements. Verify your code manually.</p><p><strong><pre style='display: inline;'>q8 - 4</pre> message:</strong> Note that the Gradescope autograder will deduct points if your code fails the following rubric point - '`.loc` is used on a pandas DataFrame to hardcode an index (-1)'.The public tests cannot determine if your code satisfies these requirements. Verify your code manually.</p>"
      ],
      "text/plain": [
       "q8 results: All test cases passed!\n",
       "q8 - 2 message: Note that the Gradescope autograder will deduct points if your code fails the following rubric point - '`rankings` data structure is not used to answer (-1)'.The public tests cannot determine if your code satisfies these requirements. Verify your code manually.\n",
       "q8 - 3 message: Note that the Gradescope autograder will deduct points if your code fails the following rubric point - 'conditional statements or loops are used (-1)'.The public tests cannot determine if your code satisfies these requirements. Verify your code manually.\n",
       "q8 - 4 message: Note that the Gradescope autograder will deduct points if your code fails the following rubric point - '`.loc` is used on a pandas DataFrame to hardcode an index (-1)'.The public tests cannot determine if your code satisfies these requirements. Verify your code manually."
      ]
     },
     "execution_count": 25,
     "metadata": {},
     "output_type": "execute_result"
    }
   ],
   "source": [
    "grader.check(\"q8\")"
   ]
  },
  {
   "cell_type": "markdown",
   "id": "f3028e0a",
   "metadata": {
    "deletable": false,
    "editable": false
   },
   "source": [
    "**Question 9:** What is the **highest-ranked** institution based on `Education Rank` in *China* for the `Year` *2023*?\n",
    "\n",
    "Your output **must** be a **string** representing the **name** of this institution. You may **assume** there is only one institution satisfying these requirements. By the **highest-ranked** institution, we refer to the institution with the **least** value under the `Education Rank` column.\n",
    "\n",
    "**Hint:** You can find the **minimum** value in a **Series** with the `Series.min` method. You can find the documentation [here](https://pandas.pydata.org/pandas-docs/stable/reference/api/pandas.Series.min.html) or by executing the line `help(pd.Series.min)` in a separate cell below."
   ]
  },
  {
   "cell_type": "code",
   "execution_count": 26,
   "id": "8e2e5e33",
   "metadata": {
    "execution": {
     "iopub.execute_input": "2023-11-22T04:35:32.107366Z",
     "iopub.status.busy": "2023-11-22T04:35:32.106364Z",
     "iopub.status.idle": "2023-11-22T04:35:32.116245Z",
     "shell.execute_reply": "2023-11-22T04:35:32.115220Z"
    },
    "tags": []
   },
   "outputs": [
    {
     "data": {
      "text/plain": [
       "'Tsinghua University'"
      ]
     },
     "execution_count": 26,
     "metadata": {},
     "output_type": "execute_result"
    }
   ],
   "source": [
    "# compute and store the answer in the variable 'china_highest_qoe', then display it\n",
    "china_best_edrank = rankings[(rankings['Country'] == 'China') & (rankings['Year'] == 2023)].min()\n",
    "china_highest_qoe = rankings[(rankings['Country'] == 'China') & (rankings['Year'] == 2023) & (rankings['Education Rank'] == china_best_edrank['Education Rank'])]['Institution'].iloc[0]\n",
    "china_highest_qoe"
   ]
  },
  {
   "cell_type": "code",
   "execution_count": 27,
   "id": "e59e3421",
   "metadata": {},
   "outputs": [
    {
     "data": {
      "text/html": [
       "<p><strong><pre style='display: inline;'>q9</pre></strong> passed! ✨</p><p><strong><pre style='display: inline;'>q9 - 2</pre> message:</strong> Note that the Gradescope autograder will deduct points if your code fails the following rubric point - 'incorrect logic is used to answer (-1)'.The public tests cannot determine if your code satisfies these requirements. Verify your code manually.</p><p><strong><pre style='display: inline;'>q9 - 3</pre> message:</strong> Note that the Gradescope autograder will deduct points if your code fails the following rubric point - '`rankings` data structure is not used to answer (-1)'.The public tests cannot determine if your code satisfies these requirements. Verify your code manually.</p><p><strong><pre style='display: inline;'>q9 - 4</pre> message:</strong> Note that the Gradescope autograder will deduct points if your code fails the following rubric point - 'conditional statements or loops are used (-1)'.The public tests cannot determine if your code satisfies these requirements. Verify your code manually.</p><p><strong><pre style='display: inline;'>q9 - 5</pre> message:</strong> Note that the Gradescope autograder will deduct points if your code fails the following rubric point - '`.loc` is used on a pandas DataFrame to hardcode an index (-1)'.The public tests cannot determine if your code satisfies these requirements. Verify your code manually.</p>"
      ],
      "text/plain": [
       "q9 results: All test cases passed!\n",
       "q9 - 2 message: Note that the Gradescope autograder will deduct points if your code fails the following rubric point - 'incorrect logic is used to answer (-1)'.The public tests cannot determine if your code satisfies these requirements. Verify your code manually.\n",
       "q9 - 3 message: Note that the Gradescope autograder will deduct points if your code fails the following rubric point - '`rankings` data structure is not used to answer (-1)'.The public tests cannot determine if your code satisfies these requirements. Verify your code manually.\n",
       "q9 - 4 message: Note that the Gradescope autograder will deduct points if your code fails the following rubric point - 'conditional statements or loops are used (-1)'.The public tests cannot determine if your code satisfies these requirements. Verify your code manually.\n",
       "q9 - 5 message: Note that the Gradescope autograder will deduct points if your code fails the following rubric point - '`.loc` is used on a pandas DataFrame to hardcode an index (-1)'.The public tests cannot determine if your code satisfies these requirements. Verify your code manually."
      ]
     },
     "execution_count": 27,
     "metadata": {},
     "output_type": "execute_result"
    }
   ],
   "source": [
    "grader.check(\"q9\")"
   ]
  },
  {
   "cell_type": "markdown",
   "id": "86eea0e0",
   "metadata": {
    "deletable": false,
    "editable": false
   },
   "source": [
    "**Question 10:** What are the **top** *five* **highest-ranked** institutions based on `Research Rank` in *India* for the `Year` *2022*?\n",
    "\n",
    "Your output **must** be a **list** of institutions **sorted** in *increasing* order of their `Research Rank`.\n",
    "\n",
    "**Hint:** For sorting a DataFrame based on the values of a particular column, you can use the `DataFrame.sort_values(by=\"column_name\")` method (where `column_name` is the column on which you want to sort). You can find the documentation [here](https://pandas.pydata.org/pandas-docs/stable/reference/api/pandas.DataFrame.sort_values.html) or by executing the line `help(pd.Series.sort_values)` in a separate cell below."
   ]
  },
  {
   "cell_type": "code",
   "execution_count": 28,
   "id": "f7a5ca65",
   "metadata": {
    "execution": {
     "iopub.execute_input": "2023-11-22T04:35:32.650944Z",
     "iopub.status.busy": "2023-11-22T04:35:32.650944Z",
     "iopub.status.idle": "2023-11-22T04:35:32.663348Z",
     "shell.execute_reply": "2023-11-22T04:35:32.662341Z"
    },
    "tags": []
   },
   "outputs": [
    {
     "data": {
      "text/plain": [
       "['Indian Institute of Science',\n",
       " 'Tata Institute of Fundamental Research',\n",
       " 'Indian Institute of Technology Bombay',\n",
       " 'Indian Institute of Technology Madras',\n",
       " 'University of Delhi']"
      ]
     },
     "execution_count": 28,
     "metadata": {},
     "output_type": "execute_result"
    }
   ],
   "source": [
    "# compute and store the answer in the variable 'india_highest_research', then display it\n",
    "india_highest_research = list(rankings[(rankings['Year'] == 2022) & (rankings['Country'] == 'India')].sort_values(by='Research Rank').iloc[:5]['Institution'])\n",
    "\n",
    "india_highest_research"
   ]
  },
  {
   "cell_type": "code",
   "execution_count": 29,
   "id": "95ce6117",
   "metadata": {},
   "outputs": [
    {
     "data": {
      "text/html": [
       "<p><strong><pre style='display: inline;'>q10</pre></strong> passed! ✨</p><p><strong><pre style='display: inline;'>q10 - 2</pre> message:</strong> Note that the Gradescope autograder will deduct points if your code fails the following rubric point - 'incorrect logic is used to answer (-1)'.The public tests cannot determine if your code satisfies these requirements. Verify your code manually.</p><p><strong><pre style='display: inline;'>q10 - 3</pre> message:</strong> Note that the Gradescope autograder will deduct points if your code fails the following rubric point - '`rankings` data structure is not used to answer (-1)'.The public tests cannot determine if your code satisfies these requirements. Verify your code manually.</p><p><strong><pre style='display: inline;'>q10 - 4</pre> message:</strong> Note that the Gradescope autograder will deduct points if your code fails the following rubric point - 'conditional statements or loops are used (-1)'.The public tests cannot determine if your code satisfies these requirements. Verify your code manually.</p><p><strong><pre style='display: inline;'>q10 - 5</pre> message:</strong> Note that the Gradescope autograder will deduct points if your code fails the following rubric point - '`.loc` is used on a pandas DataFrame to hardcode an index (-1)'.The public tests cannot determine if your code satisfies these requirements. Verify your code manually.</p>"
      ],
      "text/plain": [
       "q10 results: All test cases passed!\n",
       "q10 - 2 message: Note that the Gradescope autograder will deduct points if your code fails the following rubric point - 'incorrect logic is used to answer (-1)'.The public tests cannot determine if your code satisfies these requirements. Verify your code manually.\n",
       "q10 - 3 message: Note that the Gradescope autograder will deduct points if your code fails the following rubric point - '`rankings` data structure is not used to answer (-1)'.The public tests cannot determine if your code satisfies these requirements. Verify your code manually.\n",
       "q10 - 4 message: Note that the Gradescope autograder will deduct points if your code fails the following rubric point - 'conditional statements or loops are used (-1)'.The public tests cannot determine if your code satisfies these requirements. Verify your code manually.\n",
       "q10 - 5 message: Note that the Gradescope autograder will deduct points if your code fails the following rubric point - '`.loc` is used on a pandas DataFrame to hardcode an index (-1)'.The public tests cannot determine if your code satisfies these requirements. Verify your code manually."
      ]
     },
     "execution_count": 29,
     "metadata": {},
     "output_type": "execute_result"
    }
   ],
   "source": [
    "grader.check(\"q10\")"
   ]
  },
  {
   "cell_type": "markdown",
   "id": "b52c629b",
   "metadata": {
    "deletable": false,
    "editable": false
   },
   "source": [
    "For the next few questions, we will be analyzing how the rankings of the institutions change across the three years in the dataset. As you might have already noticed, the list of institutions in each year's rankings are different. As a result, for several institutions in the dataset, we do not have the rankings for all three years. Since it will be more challenging to analyze such institutions, we will simply skip them."
   ]
  },
  {
   "cell_type": "markdown",
   "id": "7beb772c",
   "metadata": {
    "deletable": false,
    "editable": false
   },
   "source": [
    "**Question 11:** How **many** institutions have rankings for **all** three years?\n",
    "\n",
    "Your output **must** be an **integer**. To get started, you have been provided with a code snippet below.\n",
    "\n",
    "**Hint:** You could make **sets** of the institutions that appear in each **DataFrame**, and find their **intersection**. Look up how to find the intersection of two or more sets in Python, on the internet!"
   ]
  },
  {
   "cell_type": "code",
   "execution_count": 30,
   "id": "fb47eb13",
   "metadata": {
    "execution": {
     "iopub.execute_input": "2023-11-22T04:35:33.246581Z",
     "iopub.status.busy": "2023-11-22T04:35:33.246581Z",
     "iopub.status.idle": "2023-11-22T04:35:33.257610Z",
     "shell.execute_reply": "2023-11-22T04:35:33.257610Z"
    },
    "tags": []
   },
   "outputs": [
    {
     "data": {
      "text/plain": [
       "1897"
      ]
     },
     "execution_count": 30,
     "metadata": {},
     "output_type": "execute_result"
    }
   ],
   "source": [
    "# compute and store the answer in the variable 'num_institutions_2021_2022_2023', then display it\n",
    "# replace the ... with your code\n",
    "\n",
    "year_2021_ranking_df = rankings[rankings[\"Year\"] == 2021]\n",
    "year_2022_ranking_df = rankings[rankings[\"Year\"] == 2022]\n",
    "year_2023_ranking_df = rankings[rankings[\"Year\"] == 2023]\n",
    "\n",
    "# TODO: make sets of the institutions in each of the three years\n",
    "institutions_2021 = set(year_2021_ranking_df[\"Institution\"])\n",
    "institutions_2022 = set(year_2022_ranking_df[\"Institution\"])\n",
    "institutions_2023 = set(year_2023_ranking_df[\"Institution\"])\n",
    "# TODO: find the intersection of the three sets\n",
    "institutions_2021_2022_2023 = institutions_2021 & institutions_2022 & institutions_2023\n",
    "# TODO: find the length of the intersection\n",
    "num_institutions_2021_2022_2023 = len(institutions_2021_2022_2023)\n",
    "num_institutions_2021_2022_2023"
   ]
  },
  {
   "cell_type": "code",
   "execution_count": 31,
   "id": "60b24fef",
   "metadata": {},
   "outputs": [
    {
     "data": {
      "text/html": [
       "<p><strong><pre style='display: inline;'>q11</pre></strong> passed! 🙌</p><p><strong><pre style='display: inline;'>q11 - 2</pre> message:</strong> Note that the Gradescope autograder will deduct points if your code fails the following rubric point - 'incorrect logic is used to answer (-2)'.The public tests cannot determine if your code satisfies these requirements. Verify your code manually.</p><p><strong><pre style='display: inline;'>q11 - 3</pre> message:</strong> Note that the Gradescope autograder will deduct points if your code fails the following rubric point - '`rankings` data structure is not used to answer (-1)'.The public tests cannot determine if your code satisfies these requirements. Verify your code manually.</p><p><strong><pre style='display: inline;'>q11 - 4</pre> message:</strong> Note that the Gradescope autograder will deduct points if your code fails the following rubric point - 'conditional statements or loops are used (-1)'.The public tests cannot determine if your code satisfies these requirements. Verify your code manually.</p>"
      ],
      "text/plain": [
       "q11 results: All test cases passed!\n",
       "q11 - 2 message: Note that the Gradescope autograder will deduct points if your code fails the following rubric point - 'incorrect logic is used to answer (-2)'.The public tests cannot determine if your code satisfies these requirements. Verify your code manually.\n",
       "q11 - 3 message: Note that the Gradescope autograder will deduct points if your code fails the following rubric point - '`rankings` data structure is not used to answer (-1)'.The public tests cannot determine if your code satisfies these requirements. Verify your code manually.\n",
       "q11 - 4 message: Note that the Gradescope autograder will deduct points if your code fails the following rubric point - 'conditional statements or loops are used (-1)'.The public tests cannot determine if your code satisfies these requirements. Verify your code manually."
      ]
     },
     "execution_count": 31,
     "metadata": {},
     "output_type": "execute_result"
    }
   ],
   "source": [
    "grader.check(\"q11\")"
   ]
  },
  {
   "cell_type": "code",
   "execution_count": 32,
   "id": "adbf5262",
   "metadata": {},
   "outputs": [
    {
     "data": {
      "text/html": [
       "<p><strong><pre style='display: inline;'>year_2021_ranking_df</pre></strong> passed! 🌈</p><p><strong><pre style='display: inline;'>year_2021_ranking_df - 1</pre> message:</strong> Note that the Gradescope autograder will deduct points if your code fails the following rubric point - 'data structure is defined incorrectly (-1)'.The public tests cannot determine if your code satisfies these requirements. Verify your code manually.</p>"
      ],
      "text/plain": [
       "year_2021_ranking_df results: All test cases passed!\n",
       "year_2021_ranking_df - 1 message: Note that the Gradescope autograder will deduct points if your code fails the following rubric point - 'data structure is defined incorrectly (-1)'.The public tests cannot determine if your code satisfies these requirements. Verify your code manually."
      ]
     },
     "execution_count": 32,
     "metadata": {},
     "output_type": "execute_result"
    }
   ],
   "source": [
    "grader.check(\"year_2021_ranking_df\")"
   ]
  },
  {
   "cell_type": "code",
   "execution_count": 33,
   "id": "4b730477",
   "metadata": {},
   "outputs": [
    {
     "data": {
      "text/html": [
       "<p><strong><pre style='display: inline;'>year_2022_ranking_df</pre></strong> passed! 🌈</p><p><strong><pre style='display: inline;'>year_2022_ranking_df - 1</pre> message:</strong> Note that the Gradescope autograder will deduct points if your code fails the following rubric point - 'data structure is defined incorrectly (-1)'.The public tests cannot determine if your code satisfies these requirements. Verify your code manually.</p>"
      ],
      "text/plain": [
       "year_2022_ranking_df results: All test cases passed!\n",
       "year_2022_ranking_df - 1 message: Note that the Gradescope autograder will deduct points if your code fails the following rubric point - 'data structure is defined incorrectly (-1)'.The public tests cannot determine if your code satisfies these requirements. Verify your code manually."
      ]
     },
     "execution_count": 33,
     "metadata": {},
     "output_type": "execute_result"
    }
   ],
   "source": [
    "grader.check(\"year_2022_ranking_df\")"
   ]
  },
  {
   "cell_type": "code",
   "execution_count": 34,
   "id": "b6052d21",
   "metadata": {},
   "outputs": [
    {
     "data": {
      "text/html": [
       "<p><strong><pre style='display: inline;'>year_2023_ranking_df</pre></strong> passed! ✨</p><p><strong><pre style='display: inline;'>year_2023_ranking_df - 1</pre> message:</strong> Note that the Gradescope autograder will deduct points if your code fails the following rubric point - 'data structure is defined incorrectly (-1)'.The public tests cannot determine if your code satisfies these requirements. Verify your code manually.</p>"
      ],
      "text/plain": [
       "year_2023_ranking_df results: All test cases passed!\n",
       "year_2023_ranking_df - 1 message: Note that the Gradescope autograder will deduct points if your code fails the following rubric point - 'data structure is defined incorrectly (-1)'.The public tests cannot determine if your code satisfies these requirements. Verify your code manually."
      ]
     },
     "execution_count": 34,
     "metadata": {},
     "output_type": "execute_result"
    }
   ],
   "source": [
    "grader.check(\"year_2023_ranking_df\")"
   ]
  },
  {
   "cell_type": "markdown",
   "id": "988fa70d",
   "metadata": {
    "deletable": false,
    "editable": false
   },
   "source": [
    "### Data Structure 1: `institutions_df`\n",
    "\n",
    "You are now going to create a new **DataFrame** with a **unique** list of institutions which have featured in the rankings for **all** three years, along with their `World Rank` across the three years. Specifically, the **DataFrame** **must** have the following four columns - `'Institution'`, `'2021 ranking'`, `'2022 ranking'`, and `'2023 ranking'`."
   ]
  },
  {
   "cell_type": "code",
   "execution_count": 35,
   "id": "5aff76ce",
   "metadata": {
    "execution": {
     "iopub.execute_input": "2023-11-22T04:35:34.401279Z",
     "iopub.status.busy": "2023-11-22T04:35:34.401279Z",
     "iopub.status.idle": "2023-11-22T04:35:38.755236Z",
     "shell.execute_reply": "2023-11-22T04:35:38.755236Z"
    },
    "tags": []
   },
   "outputs": [],
   "source": [
    "# define the variable 'institutions_df', but do NOT display it here\n",
    "empty_list = []\n",
    "for institution in institutions_2021_2022_2023:\n",
    "    new_dict = {}\n",
    "    new_dict['Institution'] = institution\n",
    "    new_dict['2021 ranking'] = rankings[(rankings[\"Year\"] == 2021) & (rankings['Institution'] == institution)]['World Rank'].iloc[0]\n",
    "    new_dict['2022 ranking'] = rankings[(rankings[\"Year\"] == 2022) & (rankings['Institution'] == institution)]['World Rank'].iloc[0]\n",
    "    new_dict['2023 ranking'] = rankings[(rankings[\"Year\"] == 2023) & (rankings['Institution'] == institution)]['World Rank'].iloc[0]\n",
    "    empty_list.append(new_dict)\n",
    "    \n",
    "institutions_df = pd.DataFrame(empty_list)\n",
    "# TODO: initalize an empty list to store the list of institutions\n",
    "# TODO: loop through the variable 'institutions_2021_2022_2023' defined above\n",
    "    # TODO: create a new dictionary with the necessary key/value pairs\n",
    "    # TODO: append the dictionary to the list\n",
    "# TODO: create the DataFrame from the list of dictionaries"
   ]
  },
  {
   "cell_type": "code",
   "execution_count": 36,
   "id": "34a0b6ef",
   "metadata": {},
   "outputs": [
    {
     "data": {
      "text/html": [
       "<p><strong><pre style='display: inline;'>institutions_df</pre></strong> passed! ✨</p><p><strong><pre style='display: inline;'>institutions_df - 1</pre> message:</strong> Note that the Gradescope autograder will deduct points if your code fails the following rubric point - 'data structure is defined incorrectly (-3)'.The public tests cannot determine if your code satisfies these requirements. Verify your code manually.</p><p><strong><pre style='display: inline;'>institutions_df - 2</pre> message:</strong> Note that the Gradescope autograder will deduct points if your code fails the following rubric point - 'data structure is defined more than once (-1)'.The public tests cannot determine if your code satisfies these requirements. Verify your code manually.</p>"
      ],
      "text/plain": [
       "institutions_df results: All test cases passed!\n",
       "institutions_df - 1 message: Note that the Gradescope autograder will deduct points if your code fails the following rubric point - 'data structure is defined incorrectly (-3)'.The public tests cannot determine if your code satisfies these requirements. Verify your code manually.\n",
       "institutions_df - 2 message: Note that the Gradescope autograder will deduct points if your code fails the following rubric point - 'data structure is defined more than once (-1)'.The public tests cannot determine if your code satisfies these requirements. Verify your code manually."
      ]
     },
     "execution_count": 36,
     "metadata": {},
     "output_type": "execute_result"
    }
   ],
   "source": [
    "grader.check(\"institutions_df\")"
   ]
  },
  {
   "cell_type": "markdown",
   "id": "729a8c45",
   "metadata": {
    "deletable": false,
    "editable": false
   },
   "source": [
    "**Question 12:** Between the years *2022* and *2023*, **list** the institutions which have seen an **improvement** in their `World Rank` by **more than** *200* ranks.\n",
    "\n",
    "Your output **must** be a **list** of institution names. The **order** does **not** matter. You **must** use the DataFrame `institutions_df` to answer this question.\n",
    "\n",
    "**Hints:**\n",
    "\n",
    "1. In pandas, subtraction of two columns can be simply done using subtraction(`-`) operator. For example,\n",
    "``` python\n",
    "df[\"difference\"] = df[\"column1\"] - df[\"column2\"]\n",
    "```\n",
    "will create a *new column* `difference` with the difference of the values from the columns `column1` and `column2`.\n",
    "2. Note that an *improved* ranking means that the `World Rank` has *decreased*."
   ]
  },
  {
   "cell_type": "code",
   "execution_count": 37,
   "id": "e55b1677",
   "metadata": {
    "execution": {
     "iopub.execute_input": "2023-11-22T04:35:39.176507Z",
     "iopub.status.busy": "2023-11-22T04:35:39.175506Z",
     "iopub.status.idle": "2023-11-22T04:35:39.185038Z",
     "shell.execute_reply": "2023-11-22T04:35:39.184027Z"
    },
    "tags": []
   },
   "outputs": [
    {
     "data": {
      "text/plain": [
       "['University of Picardie Jules Verne',\n",
       " 'University of Western Brittany',\n",
       " 'Addis Ababa University',\n",
       " 'University of Caen Normandy',\n",
       " 'University of Technology of Belfort-Montbéliard',\n",
       " 'University of Reims Champagne-Ardenne',\n",
       " 'Okinawa Institute of Science and Technology']"
      ]
     },
     "execution_count": 37,
     "metadata": {},
     "output_type": "execute_result"
    }
   ],
   "source": [
    "# compute and store the answer in the variable 'improved_institutions', then display it\n",
    "institutions_df['2023-2022 difference'] = institutions_df['2023 ranking'] - institutions_df['2022 ranking']\n",
    "improved_institutions = list(institutions_df[institutions_df['2023-2022 difference'] < -200]['Institution'])\n",
    "improved_institutions\n",
    "# institutions_df['difference']"
   ]
  },
  {
   "cell_type": "code",
   "execution_count": 38,
   "id": "6103cbd5",
   "metadata": {},
   "outputs": [
    {
     "data": {
      "text/html": [
       "<p><strong><pre style='display: inline;'>q12</pre></strong> passed! 🎉</p><p><strong><pre style='display: inline;'>q12 - 2</pre> message:</strong> Note that the Gradescope autograder will deduct points if your code fails the following rubric point - '`institutions_df` data structure is not used to answer (-1)'.The public tests cannot determine if your code satisfies these requirements. Verify your code manually.</p><p><strong><pre style='display: inline;'>q12 - 3</pre> message:</strong> Note that the Gradescope autograder will deduct points if your code fails the following rubric point - 'conditional statements or loops are used (-1)'.The public tests cannot determine if your code satisfies these requirements. Verify your code manually.</p>"
      ],
      "text/plain": [
       "q12 results: All test cases passed!\n",
       "q12 - 2 message: Note that the Gradescope autograder will deduct points if your code fails the following rubric point - '`institutions_df` data structure is not used to answer (-1)'.The public tests cannot determine if your code satisfies these requirements. Verify your code manually.\n",
       "q12 - 3 message: Note that the Gradescope autograder will deduct points if your code fails the following rubric point - 'conditional statements or loops are used (-1)'.The public tests cannot determine if your code satisfies these requirements. Verify your code manually."
      ]
     },
     "execution_count": 38,
     "metadata": {},
     "output_type": "execute_result"
    }
   ],
   "source": [
    "grader.check(\"q12\")"
   ]
  },
  {
   "cell_type": "markdown",
   "id": "c75e3302",
   "metadata": {
    "deletable": false,
    "editable": false
   },
   "source": [
    "**Question 13:** Between the years *2021* and *2023*, which institution had the **third largest** change in its `World Rank`?\n",
    "\n",
    "Your output **must** be a **string** representing the name of the institution with the **third greatest absolute difference** between its `World Rank` in 2021 and 2023. You **must** use the DataFrame `institutions_df` to answer this question."
   ]
  },
  {
   "cell_type": "code",
   "execution_count": 39,
   "id": "2e46b8dc",
   "metadata": {
    "execution": {
     "iopub.execute_input": "2023-11-22T04:35:39.891809Z",
     "iopub.status.busy": "2023-11-22T04:35:39.891809Z",
     "iopub.status.idle": "2023-11-22T04:35:39.904269Z",
     "shell.execute_reply": "2023-11-22T04:35:39.903258Z"
    },
    "tags": []
   },
   "outputs": [
    {
     "data": {
      "text/plain": [
       "'Huzhou University'"
      ]
     },
     "execution_count": 39,
     "metadata": {},
     "output_type": "execute_result"
    }
   ],
   "source": [
    "# compute and store the answer in the variable 'third_most_change_inst', then display it\n",
    "institutions_df['2023-2021 difference'] = abs(institutions_df['2023 ranking'] - institutions_df['2021 ranking'])\n",
    "third_most_change_inst = institutions_df.sort_values('2023-2021 difference', ascending = False)['Institution'].iloc[2]\n",
    "third_most_change_inst"
   ]
  },
  {
   "cell_type": "code",
   "execution_count": 40,
   "id": "f6cc13ae",
   "metadata": {},
   "outputs": [
    {
     "data": {
      "text/html": [
       "<p><strong><pre style='display: inline;'>q13</pre></strong> passed! 🌈</p><p><strong><pre style='display: inline;'>q13 - 2</pre> message:</strong> Note that the Gradescope autograder will deduct points if your code fails the following rubric point - 'incorrect logic is used to answer (-1)'.The public tests cannot determine if your code satisfies these requirements. Verify your code manually.</p><p><strong><pre style='display: inline;'>q13 - 3</pre> message:</strong> Note that the Gradescope autograder will deduct points if your code fails the following rubric point - '`institutions_df` data structure is not used to answer (-1)'.The public tests cannot determine if your code satisfies these requirements. Verify your code manually.</p><p><strong><pre style='display: inline;'>q13 - 4</pre> message:</strong> Note that the Gradescope autograder will deduct points if your code fails the following rubric point - 'conditional statements or loops are used (-1)'.The public tests cannot determine if your code satisfies these requirements. Verify your code manually.</p><p><strong><pre style='display: inline;'>q13 - 5</pre> message:</strong> Note that the Gradescope autograder will deduct points if your code fails the following rubric point - '`.loc` is used on a pandas DataFrame to hardcode an index (-1)'.The public tests cannot determine if your code satisfies these requirements. Verify your code manually.</p>"
      ],
      "text/plain": [
       "q13 results: All test cases passed!\n",
       "q13 - 2 message: Note that the Gradescope autograder will deduct points if your code fails the following rubric point - 'incorrect logic is used to answer (-1)'.The public tests cannot determine if your code satisfies these requirements. Verify your code manually.\n",
       "q13 - 3 message: Note that the Gradescope autograder will deduct points if your code fails the following rubric point - '`institutions_df` data structure is not used to answer (-1)'.The public tests cannot determine if your code satisfies these requirements. Verify your code manually.\n",
       "q13 - 4 message: Note that the Gradescope autograder will deduct points if your code fails the following rubric point - 'conditional statements or loops are used (-1)'.The public tests cannot determine if your code satisfies these requirements. Verify your code manually.\n",
       "q13 - 5 message: Note that the Gradescope autograder will deduct points if your code fails the following rubric point - '`.loc` is used on a pandas DataFrame to hardcode an index (-1)'.The public tests cannot determine if your code satisfies these requirements. Verify your code manually."
      ]
     },
     "execution_count": 40,
     "metadata": {},
     "output_type": "execute_result"
    }
   ],
   "source": [
    "grader.check(\"q13\")"
   ]
  },
  {
   "cell_type": "markdown",
   "id": "dbbbe332",
   "metadata": {
    "deletable": false,
    "editable": false
   },
   "source": [
    "**Question 14:** For all the three years, find the **number** of institutions that **improved** their `World Rank` between **each year** by **at least** 5 ranks.\n",
    "\n",
    "Your output **must** be an **integer** representing the number of institutions whose `World Rank` **increased** each year by **at least** 5 ranks. You **must** use the DataFrame `institutions_df` to answer this question."
   ]
  },
  {
   "cell_type": "code",
   "execution_count": 41,
   "id": "7a98413e",
   "metadata": {
    "execution": {
     "iopub.execute_input": "2023-11-22T04:35:41.138687Z",
     "iopub.status.busy": "2023-11-22T04:35:41.138687Z",
     "iopub.status.idle": "2023-11-22T04:35:41.148105Z",
     "shell.execute_reply": "2023-11-22T04:35:41.147085Z"
    },
    "tags": []
   },
   "outputs": [
    {
     "data": {
      "text/plain": [
       "463"
      ]
     },
     "execution_count": 41,
     "metadata": {},
     "output_type": "execute_result"
    }
   ],
   "source": [
    "# compute and store the answer in the variable 'five_improved', then display it\n",
    "institutions_df['2022-2021 difference'] = institutions_df['2022 ranking'] - institutions_df['2021 ranking']\n",
    "five_improved = len(institutions_df[((institutions_df['2022-2021 difference'] < -5) | (institutions_df['2022-2021 difference'] == -5)) & ((institutions_df['2023-2022 difference'] < -5) | (institutions_df['2023-2022 difference'] == -5))])\n",
    "\n",
    "five_improved"
   ]
  },
  {
   "cell_type": "code",
   "execution_count": 42,
   "id": "f4042b98",
   "metadata": {},
   "outputs": [
    {
     "data": {
      "text/html": [
       "<p><strong><pre style='display: inline;'>q14</pre></strong> passed! 🌟</p><p><strong><pre style='display: inline;'>q14 - 2</pre> message:</strong> Note that the Gradescope autograder will deduct points if your code fails the following rubric point - '`institutions_df` data structure is not used to answer (-1)'.The public tests cannot determine if your code satisfies these requirements. Verify your code manually.</p><p><strong><pre style='display: inline;'>q14 - 3</pre> message:</strong> Note that the Gradescope autograder will deduct points if your code fails the following rubric point - 'conditional statements or loops are used (-1)'.The public tests cannot determine if your code satisfies these requirements. Verify your code manually.</p>"
      ],
      "text/plain": [
       "q14 results: All test cases passed!\n",
       "q14 - 2 message: Note that the Gradescope autograder will deduct points if your code fails the following rubric point - '`institutions_df` data structure is not used to answer (-1)'.The public tests cannot determine if your code satisfies these requirements. Verify your code manually.\n",
       "q14 - 3 message: Note that the Gradescope autograder will deduct points if your code fails the following rubric point - 'conditional statements or loops are used (-1)'.The public tests cannot determine if your code satisfies these requirements. Verify your code manually."
      ]
     },
     "execution_count": 42,
     "metadata": {},
     "output_type": "execute_result"
    }
   ],
   "source": [
    "grader.check(\"q14\")"
   ]
  },
  {
   "cell_type": "markdown",
   "id": "f4330576",
   "metadata": {
    "deletable": false,
    "editable": false
   },
   "source": [
    "**Question 15:** In the `Year` *2021*, **list** the institutions which do **not** feature in the **top** *50* in the world based on `World Ranking`, but have a `Employability Rank` **less than or equal** to *25*.\n",
    "\n",
    "Your output **must** be a **list** of institutions. The **order** does **not** matter. You **must** use the `year_2021_ranking_df` DataFrame that you created in Question 11 to answer this question."
   ]
  },
  {
   "cell_type": "code",
   "execution_count": 43,
   "id": "697659d6",
   "metadata": {
    "execution": {
     "iopub.execute_input": "2023-11-22T04:35:41.941289Z",
     "iopub.status.busy": "2023-11-22T04:35:41.941289Z",
     "iopub.status.idle": "2023-11-22T04:35:41.954997Z",
     "shell.execute_reply": "2023-11-22T04:35:41.953986Z"
    },
    "tags": []
   },
   "outputs": [
    {
     "data": {
      "text/plain": [
       "['Keio University',\n",
       " 'INSEAD',\n",
       " \"École nationale d'administration\",\n",
       " 'HEC Paris',\n",
       " 'China Europe International Business School',\n",
       " 'International Institute for Management Development',\n",
       " 'École des ponts ParisTech',\n",
       " 'Indian Institute of Management Ahmedabad',\n",
       " 'Stockholm School of Economics',\n",
       " 'Hitotsubashi University',\n",
       " 'Central Party School of the Communist Party of China',\n",
       " 'Graduate Faculty, General Research Institute For Nonferrous Metals']"
      ]
     },
     "execution_count": 43,
     "metadata": {},
     "output_type": "execute_result"
    }
   ],
   "source": [
    "# compute and store the answer in the variable 'only_top_employability', then display it\n",
    "only_top_employability = list(year_2021_ranking_df[(year_2021_ranking_df['Employability Rank'].le(25))& (year_2021_ranking_df['World Rank'] >50)]['Institution'])\n",
    "\n",
    "# only_top_employability = year_2021_ranking_df[year_2021_ranking_df['Employability Rank'].le(25)].sort_values('World Rank')['Institution'].iloc[50]\n",
    "\n",
    "only_top_employability"
   ]
  },
  {
   "cell_type": "code",
   "execution_count": 44,
   "id": "c6cb8795",
   "metadata": {},
   "outputs": [
    {
     "data": {
      "text/html": [
       "<p><strong><pre style='display: inline;'>q15</pre></strong> passed! 🚀</p><p><strong><pre style='display: inline;'>q15 - 2</pre> message:</strong> Note that the Gradescope autograder will deduct points if your code fails the following rubric point - 'incorrect logic is used to answer (-1)'.The public tests cannot determine if your code satisfies these requirements. Verify your code manually.</p><p><strong><pre style='display: inline;'>q15 - 3</pre> message:</strong> Note that the Gradescope autograder will deduct points if your code fails the following rubric point - '`year_2021_ranking_df` data structure is not used to answer (-1)'.The public tests cannot determine if your code satisfies these requirements. Verify your code manually.</p><p><strong><pre style='display: inline;'>q15 - 4</pre> message:</strong> Note that the Gradescope autograder will deduct points if your code fails the following rubric point - 'conditional statements or loops are used (-1)'.The public tests cannot determine if your code satisfies these requirements. Verify your code manually.</p>"
      ],
      "text/plain": [
       "q15 results: All test cases passed!\n",
       "q15 - 2 message: Note that the Gradescope autograder will deduct points if your code fails the following rubric point - 'incorrect logic is used to answer (-1)'.The public tests cannot determine if your code satisfies these requirements. Verify your code manually.\n",
       "q15 - 3 message: Note that the Gradescope autograder will deduct points if your code fails the following rubric point - '`year_2021_ranking_df` data structure is not used to answer (-1)'.The public tests cannot determine if your code satisfies these requirements. Verify your code manually.\n",
       "q15 - 4 message: Note that the Gradescope autograder will deduct points if your code fails the following rubric point - 'conditional statements or loops are used (-1)'.The public tests cannot determine if your code satisfies these requirements. Verify your code manually."
      ]
     },
     "execution_count": 44,
     "metadata": {},
     "output_type": "execute_result"
    }
   ],
   "source": [
    "grader.check(\"q15\")"
   ]
  },
  {
   "cell_type": "markdown",
   "id": "4ba744ea",
   "metadata": {
    "deletable": false,
    "editable": false
   },
   "source": [
    "**Question 16:** **List** the universities which ranked in the **top** 50 of world rankings (`World Rank`) in the `Year` *2021* but **failed** to do so in the `Year` *2023*.\n",
    "\n",
    "Your output **must** be a **list** of institutions. The **order** does **not** matter. You **must** use the `year_2021_ranking_df` and `year_2023_ranking_df` DataFrames that you created in Question 11 to answer this question.\n",
    "\n",
    "**Hints:**\n",
    "1. There could be institutions that are ranked in the **top** 50 in *2021* but do not feature in *2023* at all; you still want to include them in your list.\n",
    "2. You can use `sort_values` and `iloc` to identify the **top** 50 institutions.\n",
    "3. Given two *sets* `A` and `B`, you can find the elements which are in `A` but not in `B` using `A - B`. For example,\n",
    "```python\n",
    "set_A = {10, 20, 30, 40, 50}\n",
    "set_B = {20, 40, 70}\n",
    "set_A - set_B == {10, 30, 50} # elements which are in set_A but not in set_B\n",
    "```"
   ]
  },
  {
   "cell_type": "code",
   "execution_count": 45,
   "id": "cff22b1d",
   "metadata": {
    "execution": {
     "iopub.execute_input": "2023-11-22T04:35:42.900338Z",
     "iopub.status.busy": "2023-11-22T04:35:42.900338Z",
     "iopub.status.idle": "2023-11-22T04:35:42.910080Z",
     "shell.execute_reply": "2023-11-22T04:35:42.909072Z"
    },
    "tags": []
   },
   "outputs": [
    {
     "data": {
      "text/plain": [
       "['Rockefeller University',\n",
       " 'University of British Columbia',\n",
       " 'University of Paris',\n",
       " 'Rutgers University–New Brunswick',\n",
       " 'University of Washington - Seattle']"
      ]
     },
     "execution_count": 45,
     "metadata": {},
     "output_type": "execute_result"
    }
   ],
   "source": [
    "# compute and store the answer in the variable 'top_50_only_2021', then display it\n",
    "top_50_2021 = set(year_2021_ranking_df.sort_values('World Rank').iloc[:50]['Institution'])\n",
    "top_50_2023 = set(year_2023_ranking_df.sort_values('World Rank').iloc[:50]['Institution'])\n",
    "\n",
    "top_50_only_2021 = list(top_50_2021 - top_50_2023)\n",
    "top_50_only_2021"
   ]
  },
  {
   "cell_type": "code",
   "execution_count": 46,
   "id": "3b474251",
   "metadata": {},
   "outputs": [
    {
     "data": {
      "text/html": [
       "<p><strong><pre style='display: inline;'>q16</pre></strong> passed! 💯</p><p><strong><pre style='display: inline;'>q16 - 2</pre> message:</strong> Note that the Gradescope autograder will deduct points if your code fails the following rubric point - 'incorrect logic is used to answer (-1)'.The public tests cannot determine if your code satisfies these requirements. Verify your code manually.</p><p><strong><pre style='display: inline;'>q16 - 3</pre> message:</strong> Note that the Gradescope autograder will deduct points if your code fails the following rubric point - '`year_2021_ranking_df` and `year_2023_ranking_df` data structures are not used to answer (-1)'.The public tests cannot determine if your code satisfies these requirements. Verify your code manually.</p><p><strong><pre style='display: inline;'>q16 - 4</pre> message:</strong> Note that the Gradescope autograder will deduct points if your code fails the following rubric point - 'conditional statements or loops are used (-1)'.The public tests cannot determine if your code satisfies these requirements. Verify your code manually.</p>"
      ],
      "text/plain": [
       "q16 results: All test cases passed!\n",
       "q16 - 2 message: Note that the Gradescope autograder will deduct points if your code fails the following rubric point - 'incorrect logic is used to answer (-1)'.The public tests cannot determine if your code satisfies these requirements. Verify your code manually.\n",
       "q16 - 3 message: Note that the Gradescope autograder will deduct points if your code fails the following rubric point - '`year_2021_ranking_df` and `year_2023_ranking_df` data structures are not used to answer (-1)'.The public tests cannot determine if your code satisfies these requirements. Verify your code manually.\n",
       "q16 - 4 message: Note that the Gradescope autograder will deduct points if your code fails the following rubric point - 'conditional statements or loops are used (-1)'.The public tests cannot determine if your code satisfies these requirements. Verify your code manually."
      ]
     },
     "execution_count": 46,
     "metadata": {},
     "output_type": "execute_result"
    }
   ],
   "source": [
    "grader.check(\"q16\")"
   ]
  },
  {
   "cell_type": "markdown",
   "id": "acf1f919",
   "metadata": {
    "deletable": false,
    "editable": false
   },
   "source": [
    "**Question 17:** **List** the countries which have **at least** *5* and **at most** *10* institutions featuring in the **top** *100* of world rankings (`World Rank`) in the `Year` *2023*.\n",
    "\n",
    "Your output **must** be a **list**.\n",
    "\n",
    "**Hints:**\n",
    "\n",
    "1. In a **DataFrame**, to find the **number** of times each unique value in a column repeats, you can use the `DataFrame.value_counts` method. For example,\n",
    "``` python\n",
    "rankings[\"Country\"].value_counts()\n",
    "```\n",
    "would output a `pandas` **Series** with the **indices** being the unique values of `Country` and the **values** being the **number** of times each country has featured in the `rankings` **DataFrame**. You can find the documentation [here](https://pandas.pydata.org/pandas-docs/stable/reference/api/pandas.DataFrame.value_counts.html) or by using the `help` function in a separate cell. You can adapt this code to find the number of institutions from each country that features in the `Year` *2023*.\n",
    "2. Just like with **DataFrames**, you can use Boolean indexing on **Series**. For example, try something like this in a separate cell below:\n",
    "```python\n",
    "a = pd.Series([100, 200, 300])\n",
    "a[a > 100]\n",
    "```\n",
    "3. You can extract the **indices** of a **Series**, `s` with `s.index`."
   ]
  },
  {
   "cell_type": "code",
   "execution_count": 47,
   "id": "e31c0155",
   "metadata": {
    "execution": {
     "iopub.execute_input": "2023-11-22T04:35:44.013811Z",
     "iopub.status.busy": "2023-11-22T04:35:44.013811Z",
     "iopub.status.idle": "2023-11-22T04:35:44.027736Z",
     "shell.execute_reply": "2023-11-22T04:35:44.026730Z"
    },
    "tags": []
   },
   "outputs": [
    {
     "data": {
      "text/plain": [
       "['United Kingdom', 'China', 'Germany', 'France']"
      ]
     },
     "execution_count": 47,
     "metadata": {},
     "output_type": "execute_result"
    }
   ],
   "source": [
    "# compute and store the answer in the variable 'almost_top_countries', then display it\n",
    "top_100_2023 = year_2023_ranking_df.sort_values('World Rank').iloc[:100]\n",
    "top_100_2023_countries = top_100_2023['Country'].value_counts()\n",
    "almost_top_countries =  list(top_100_2023_countries[(top_100_2023_countries.ge(5)) & (top_100_2023_countries.le(10))].index)\n",
    "almost_top_countries\n"
   ]
  },
  {
   "cell_type": "code",
   "execution_count": 48,
   "id": "2ccaf6a0",
   "metadata": {},
   "outputs": [
    {
     "data": {
      "text/html": [
       "<p><strong><pre style='display: inline;'>q17</pre></strong> passed! 🌟</p><p><strong><pre style='display: inline;'>q17 - 2</pre> message:</strong> Note that the Gradescope autograder will deduct points if your code fails the following rubric point - 'incorrect logic is used to answer (-1)'.The public tests cannot determine if your code satisfies these requirements. Verify your code manually.</p><p><strong><pre style='display: inline;'>q17 - 3</pre> message:</strong> Note that the Gradescope autograder will deduct points if your code fails the following rubric point - '`rankings` data structure is not used to answer (-1)'.The public tests cannot determine if your code satisfies these requirements. Verify your code manually.</p><p><strong><pre style='display: inline;'>q17 - 4</pre> message:</strong> Note that the Gradescope autograder will deduct points if your code fails the following rubric point - 'conditional statements or loops are used (-2)'.The public tests cannot determine if your code satisfies these requirements. Verify your code manually.</p>"
      ],
      "text/plain": [
       "q17 results: All test cases passed!\n",
       "q17 - 2 message: Note that the Gradescope autograder will deduct points if your code fails the following rubric point - 'incorrect logic is used to answer (-1)'.The public tests cannot determine if your code satisfies these requirements. Verify your code manually.\n",
       "q17 - 3 message: Note that the Gradescope autograder will deduct points if your code fails the following rubric point - '`rankings` data structure is not used to answer (-1)'.The public tests cannot determine if your code satisfies these requirements. Verify your code manually.\n",
       "q17 - 4 message: Note that the Gradescope autograder will deduct points if your code fails the following rubric point - 'conditional statements or loops are used (-2)'.The public tests cannot determine if your code satisfies these requirements. Verify your code manually."
      ]
     },
     "execution_count": 48,
     "metadata": {},
     "output_type": "execute_result"
    }
   ],
   "source": [
    "grader.check(\"q17\")"
   ]
  },
  {
   "cell_type": "markdown",
   "id": "92558dc4",
   "metadata": {
    "deletable": false,
    "editable": false
   },
   "source": [
    "## Beautiful Soup"
   ]
  },
  {
   "cell_type": "markdown",
   "id": "63401126",
   "metadata": {
    "deletable": false,
    "editable": false
   },
   "source": [
    "## Setup\n",
    "\n",
    "In real life, you don't often have data in nice JSON format like `rankings.json`. Instead, data needs to be *scraped* from multiple webpages and requires some cleanup before it can be used.\n",
    "\n",
    "Most of the projects in CS220 have used data obtained via web scraping, including this one. For p12, as explained above, we obtained the data by scraping the following websites:\n",
    "\n",
    "* https://cwur.org/2020-21.php\n",
    "* https://cwur.org/2021-22.php\n",
    "* https://cwur.org/2023.php\n",
    "\n",
    "Our `rankings.json` file was created using data from these webpages. For the rest of this project, you will write the code to **recreate** `rankings.json` file from the tables in these html pages yourself! We also do **not** want all students in this class to be making multiple requests to the webpages above, as that could be very costly for the people managing the webpages. Instead, we have made **copies** of the webpages above, which can be found here:\n",
    "\n",
    "* https://git.doit.wisc.edu/cdis/cs/courses/cs220/cs220-f23-projects/-/raw/main/p12/2021.html\n",
    "* https://git.doit.wisc.edu/cdis/cs/courses/cs220/cs220-f23-projects/-/raw/main/p12/2022.html\n",
    "* https://git.doit.wisc.edu/cdis/cs/courses/cs220/cs220-f23-projects/-/raw/main/p12/2023.html\n",
    "\n",
    "Before you can parse these html files, you must first *download* them. You **must** use your `download` function to download these files."
   ]
  },
  {
   "cell_type": "code",
   "execution_count": 49,
   "id": "9f4e306e",
   "metadata": {
    "execution": {
     "iopub.execute_input": "2023-11-22T04:35:44.944372Z",
     "iopub.status.busy": "2023-11-22T04:35:44.944372Z",
     "iopub.status.idle": "2023-11-22T04:35:44.952668Z",
     "shell.execute_reply": "2023-11-22T04:35:44.951654Z"
    },
    "tags": []
   },
   "outputs": [
    {
     "data": {
      "text/plain": [
       "'2021.html already exists!'"
      ]
     },
     "execution_count": 49,
     "metadata": {},
     "output_type": "execute_result"
    }
   ],
   "source": [
    "# use the 'download' function to download the data from the webpage\n",
    "# 'https://git.doit.wisc.edu/cdis/cs/courses/cs220/cs220-f23-projects/-/raw/main/p12/2021.html'\n",
    "# to the file '2021.html'\n",
    "download('https://git.doit.wisc.edu/cdis/cs/courses/cs220/cs220-f23-projects/-/raw/main/p12/2021.html', '2021.html')\n"
   ]
  },
  {
   "cell_type": "code",
   "execution_count": 50,
   "id": "c8ce3e5b",
   "metadata": {
    "execution": {
     "iopub.execute_input": "2023-11-22T04:35:44.956685Z",
     "iopub.status.busy": "2023-11-22T04:35:44.956685Z",
     "iopub.status.idle": "2023-11-22T04:35:44.964715Z",
     "shell.execute_reply": "2023-11-22T04:35:44.963694Z"
    },
    "tags": []
   },
   "outputs": [
    {
     "data": {
      "text/plain": [
       "'2022.html already exists!'"
      ]
     },
     "execution_count": 50,
     "metadata": {},
     "output_type": "execute_result"
    }
   ],
   "source": [
    "# use the 'download' function to download the data from the webpage\n",
    "# 'https://git.doit.wisc.edu/cdis/cs/courses/cs220/cs220-f23-projects/-/raw/main/p12/2022.html'\n",
    "# to the file '2022.html'\n",
    "download('https://git.doit.wisc.edu/cdis/cs/courses/cs220/cs220-f23-projects/-/raw/main/p12/2022.html','2022.html' )"
   ]
  },
  {
   "cell_type": "code",
   "execution_count": 51,
   "id": "e62f0dc0",
   "metadata": {
    "execution": {
     "iopub.execute_input": "2023-11-22T04:35:44.969713Z",
     "iopub.status.busy": "2023-11-22T04:35:44.968710Z",
     "iopub.status.idle": "2023-11-22T04:35:44.977334Z",
     "shell.execute_reply": "2023-11-22T04:35:44.976323Z"
    },
    "tags": []
   },
   "outputs": [
    {
     "data": {
      "text/plain": [
       "'2023.html already exists!'"
      ]
     },
     "execution_count": 51,
     "metadata": {},
     "output_type": "execute_result"
    }
   ],
   "source": [
    "# use the 'download' function to download the data from the webpage\n",
    "# 'https://git.doit.wisc.edu/cdis/cs/courses/cs220/cs220-f23-projects/-/raw/main/p12/2023.html'\n",
    "# to the file '2023.html'\n",
    "download('https://git.doit.wisc.edu/cdis/cs/courses/cs220/cs220-f23-projects/-/raw/main/p12/2023.html','2023.html')"
   ]
  },
  {
   "cell_type": "markdown",
   "id": "a1723c2e",
   "metadata": {
    "deletable": false,
    "editable": false
   },
   "source": [
    "**Question 18:** Use `BeautifulSoup` to **parse** `2021.html`, and find the **table** containing the ranking data. Extract the **column names** of this table and the first row of the table to create a **dictionary** where the column headers are the keys and the corresponding values are extracted from the **first** row.\n",
    "\n",
    "You do **not** have to perform any typecasting of the data **yet**. Your output **must** be a **dictionary** having the format as given below:\n",
    "```python\n",
    "{\n",
    "    'World Rank': '1',\n",
    "    'Institution': 'Harvard University',\n",
    "    'Country': 'USA',\n",
    "    'National Rank': '1',\n",
    "    'Education Rank': '1',\n",
    "    'Employability Rank': '1',\n",
    "    'Faculty Rank': '1',\n",
    "    'Research Rank': '1',\n",
    "    'Score': '100'\n",
    "}\n",
    "```\n",
    "\n",
    "**Hint:** You **must** use the `find` or `find_all` **methods** to identify the table and its header."
   ]
  },
  {
   "cell_type": "code",
   "execution_count": 52,
   "id": "cace534b",
   "metadata": {
    "execution": {
     "iopub.execute_input": "2023-11-22T04:35:44.982353Z",
     "iopub.status.busy": "2023-11-22T04:35:44.982353Z",
     "iopub.status.idle": "2023-11-22T04:35:46.009934Z",
     "shell.execute_reply": "2023-11-22T04:35:46.008925Z"
    },
    "tags": []
   },
   "outputs": [
    {
     "data": {
      "text/plain": [
       "{'World Rank': '1',\n",
       " 'Institution': 'Harvard University',\n",
       " 'Country': 'USA',\n",
       " 'National Rank': '1',\n",
       " 'Education Rank': '1',\n",
       " 'Employability Rank': '1',\n",
       " 'Faculty Rank': '1',\n",
       " 'Research Rank': '1',\n",
       " 'Score': '100'}"
      ]
     },
     "execution_count": 52,
     "metadata": {},
     "output_type": "execute_result"
    }
   ],
   "source": [
    "# compute and store the answer in the variable 'first_dict', then display it\n",
    "# html_2021 = open('2021.html',encoding=\"utf-8\")\n",
    "# content = html_2021.read()\n",
    "# content_list = content.split(\"\\n\") \n",
    "# html_2021.close()\n",
    "# table = BeautifulSoup(content, \"html.parser\").find('table')\n",
    "# headers = [th.get_text() for th in table.find_all('th')]\n",
    "# first_dict = {}\n",
    "# for header in headers:\n",
    "#     if header in ['Institution', 'Country']:\n",
    "#         first_dict[header] = rankings[header].iloc[0]\n",
    "#     else: \n",
    "#         first_dict[header] = str(int(rankings[header].iloc[0]))\n",
    "# first_dict\n",
    "\n",
    "html_2021 = open('2021.html',encoding=\"utf-8\")\n",
    "content = html_2021.read()\n",
    "html_2021.close()\n",
    "table = BeautifulSoup(content, \"html.parser\").find('table')\n",
    "headers = [th.get_text() for th in table.find_all('th')]\n",
    "first_row = [td.get_text() for td in table.find_all('td')]\n",
    "first_dict = dict(zip(headers,first_row))\n",
    "# for header in headers:\n",
    "#     if header in ['Institution', 'Country']:\n",
    "#         first_dict[header] = rankings[header].iloc[0]\n",
    "#     else: \n",
    "#         first_dict[header] = str(int(rankings[header].iloc[0]))\n",
    "first_dict\n"
   ]
  },
  {
   "cell_type": "code",
   "execution_count": 53,
   "id": "233bbc8c",
   "metadata": {},
   "outputs": [
    {
     "data": {
      "text/html": [
       "<p><strong><pre style='display: inline;'>q18</pre></strong> passed! 🌈</p><p><strong><pre style='display: inline;'>q18 - 2</pre> message:</strong> Note that the Gradescope autograder will deduct points if your code fails the following rubric point - 'header is hardcoded (-1)'.The public tests cannot determine if your code satisfies these requirements. Verify your code manually.</p><p><strong><pre style='display: inline;'>q18 - 3</pre> message:</strong> Note that the Gradescope autograder will deduct points if your code fails the following rubric point - 'incorrect logic is used to answer (-2)'.The public tests cannot determine if your code satisfies these requirements. Verify your code manually.</p>"
      ],
      "text/plain": [
       "q18 results: All test cases passed!\n",
       "q18 - 2 message: Note that the Gradescope autograder will deduct points if your code fails the following rubric point - 'header is hardcoded (-1)'.The public tests cannot determine if your code satisfies these requirements. Verify your code manually.\n",
       "q18 - 3 message: Note that the Gradescope autograder will deduct points if your code fails the following rubric point - 'incorrect logic is used to answer (-2)'.The public tests cannot determine if your code satisfies these requirements. Verify your code manually."
      ]
     },
     "execution_count": 53,
     "metadata": {},
     "output_type": "execute_result"
    }
   ],
   "source": [
    "grader.check(\"q18\")"
   ]
  },
  {
   "cell_type": "markdown",
   "id": "87a607bc",
   "metadata": {
    "deletable": false,
    "editable": false
   },
   "source": [
    "### Function 2: `parse_html(filename)`\n",
    "\n",
    "You **must** write this function which takes in a HTML file `filename` as its input, parses it, and returns a **list** of **dictionaries** containing all the data in the **table** stored in `filename`.\n",
    "\n",
    "Note that the data in all these files is **not** stored in the same format. In particular, the `World Rank` column in `2023.html` contains some additional data that we do not need for this dataset. Similarly, the `Institution` column in `2022.html` and `2023.html` contains some additional data for the first twelve rows that we do not need. Your function **must** deal with all these different cases, and return a **dictionary** in the same format as below.\n",
    "\n",
    "There are **no** restrictions on **hardcoding** for this function. You may tailor your function to work for only these three html files. However, this same function **must** work on **all three** of these html files.\n",
    "\n",
    "For example, the output of the function call `parse_html(\"2023.html\")` **must** look like this:\n",
    "\n",
    "```python\n",
    "[\n",
    "    {'Year': 2023,\n",
    "      'World Rank': 1,\n",
    "      'Institution': 'Harvard University',\n",
    "      'Country': 'USA',\n",
    "      'National Rank': 1,\n",
    "      'Education Rank': 1,\n",
    "      'Employability Rank': 1,\n",
    "      'Faculty Rank': 1,\n",
    "      'Research Rank': 1,\n",
    "      'Score': 100.0},\n",
    "     {'Year': 2023,\n",
    "      'World Rank': 2,\n",
    "      'Institution': 'Massachusetts Institute of Technology',\n",
    "      'Country': 'USA',\n",
    "      'National Rank': 2,\n",
    "      'Education Rank': 4,\n",
    "      'Employability Rank': 12,\n",
    "      'Faculty Rank': 3,\n",
    "      'Research Rank': 9,\n",
    "      'Score': 96.7},\n",
    "    ...\n",
    "]\n",
    "```\n",
    "\n",
    "You can copy/paste this function from Lab-P12 if you have already defined it there."
   ]
  },
  {
   "cell_type": "code",
   "execution_count": 54,
   "id": "50587de0",
   "metadata": {
    "execution": {
     "iopub.execute_input": "2023-11-22T04:35:46.747729Z",
     "iopub.status.busy": "2023-11-22T04:35:46.747729Z",
     "iopub.status.idle": "2023-11-22T04:35:46.759256Z",
     "shell.execute_reply": "2023-11-22T04:35:46.758247Z"
    },
    "tags": []
   },
   "outputs": [],
   "source": [
    "# define the function 'parse_html' here\n",
    "def parse_html(filename):\n",
    "    f = open(filename,encoding=\"utf-8\")\n",
    "    content = f.read()\n",
    "    f.close()\n",
    "    \n",
    "    bs_obj = BeautifulSoup(content, \"html.parser\")\n",
    "    table = bs_obj.find(\"table\")\n",
    "    header = [th.get_text() for th in table.find_all('th')]\n",
    "\n",
    "    html_rankings = []\n",
    "\n",
    "    tr_elements = table.find_all('tr')\n",
    "    for tr in tr_elements[1:]:\n",
    "        Institution = {}\n",
    "        Institution['Year'] = int(filename[:4])\n",
    "        td_elements = tr.find_all('td')\n",
    "        for idx in range(len(td_elements)):\n",
    "            td = td_elements[idx]\n",
    "            val = td.get_text()\n",
    "            if val == \"-\":\n",
    "                Institution[header[idx]] = None\n",
    "            elif header[idx] in [\"National Rank\", \"Education Rank\", 'Employability Rank', 'Faculty Rank', 'Research Rank']:\n",
    "                Institution[header[idx]] = int(val)\n",
    "            elif header[idx] == 'World Rank':\n",
    "                Institution[header[idx]] = int(val.split('Top')[0])\n",
    "            elif header[idx] == 'Institution':\n",
    "                Institution[header[idx]] = str(val.split('\\n')[0])\n",
    "            elif header[idx] == 'Country':\n",
    "                Institution[header[idx]] = str(val)\n",
    "            else:\n",
    "                Institution[header[idx]] = float(val)\n",
    "\n",
    "        html_rankings.append(Institution)\n",
    "    return html_rankings\n",
    "    '''parse_html(filename) parses an HTML file and \n",
    "    returns a list of dictionaries containing the tabular data'''\n",
    "     # replace with your code"
   ]
  },
  {
   "cell_type": "code",
   "execution_count": 55,
   "id": "440b844d",
   "metadata": {},
   "outputs": [
    {
     "data": {
      "text/html": [
       "<p><strong><pre style='display: inline;'>parse_html</pre></strong> passed! 🎉</p><p><strong><pre style='display: inline;'>parse_html - 1</pre> message:</strong> Note that the Gradescope autograder will deduct points if your code fails the following rubric point - 'function does not typecast based on columns (-1)'.The public tests cannot determine if your code satisfies these requirements. Verify your code manually.</p><p><strong><pre style='display: inline;'>parse_html - 2</pre> message:</strong> Note that the Gradescope autograder will deduct points if your code fails the following rubric point - 'function does not assign `None` for missing data (-1)'.The public tests cannot determine if your code satisfies these requirements. Verify your code manually.</p><p><strong><pre style='display: inline;'>parse_html - 3</pre> message:</strong> Note that the Gradescope autograder will deduct points if your code fails the following rubric point - 'function logic is incorrect (-3)'.The public tests cannot determine if your code satisfies these requirements. Verify your code manually.</p><p><strong><pre style='display: inline;'>parse_html - 4</pre> message:</strong> Note that the Gradescope autograder will deduct points if your code fails the following rubric point - 'function is defined more than once (-1)'.The public tests cannot determine if your code satisfies these requirements. Verify your code manually.</p>"
      ],
      "text/plain": [
       "parse_html results: All test cases passed!\n",
       "parse_html - 1 message: Note that the Gradescope autograder will deduct points if your code fails the following rubric point - 'function does not typecast based on columns (-1)'.The public tests cannot determine if your code satisfies these requirements. Verify your code manually.\n",
       "parse_html - 2 message: Note that the Gradescope autograder will deduct points if your code fails the following rubric point - 'function does not assign `None` for missing data (-1)'.The public tests cannot determine if your code satisfies these requirements. Verify your code manually.\n",
       "parse_html - 3 message: Note that the Gradescope autograder will deduct points if your code fails the following rubric point - 'function logic is incorrect (-3)'.The public tests cannot determine if your code satisfies these requirements. Verify your code manually.\n",
       "parse_html - 4 message: Note that the Gradescope autograder will deduct points if your code fails the following rubric point - 'function is defined more than once (-1)'.The public tests cannot determine if your code satisfies these requirements. Verify your code manually."
      ]
     },
     "execution_count": 55,
     "metadata": {},
     "output_type": "execute_result"
    }
   ],
   "source": [
    "grader.check(\"parse_html\")"
   ]
  },
  {
   "cell_type": "markdown",
   "id": "bf0d1f73",
   "metadata": {
    "deletable": false,
    "editable": false
   },
   "source": [
    "**Question 19:** Calculate the **average** score of the **first** 5 institutions in the file `2021.html`.\n",
    "\n",
    "Your output **must** be a **float** calculated by averaging the scores from the first 5 dictionaries in the file. You **must** use the `parse_html` function to parse the file, and **slice** the list such that you would only loop through the **first five** institutions. For each **dictionary** in the **list** you must use the `Score` key to get the score for that particular institution."
   ]
  },
  {
   "cell_type": "code",
   "execution_count": 56,
   "id": "543157e4",
   "metadata": {
    "execution": {
     "iopub.execute_input": "2023-11-22T04:35:47.541198Z",
     "iopub.status.busy": "2023-11-22T04:35:47.540217Z",
     "iopub.status.idle": "2023-11-22T04:35:48.946313Z",
     "shell.execute_reply": "2023-11-22T04:35:48.945304Z"
    },
    "tags": []
   },
   "outputs": [
    {
     "data": {
      "text/plain": [
       "95.84"
      ]
     },
     "execution_count": 56,
     "metadata": {},
     "output_type": "execute_result"
    }
   ],
   "source": [
    "# compute and store the answer in the variable 'avg_top_5', then display it\n",
    "parsed_2021 = parse_html('2021.html')\n",
    "first_five = parsed_2021[:5]\n",
    "total_score = 0\n",
    "for institution in first_five:\n",
    "    score = institution['Score']\n",
    "    total_score += score\n",
    "avg_top_5 = total_score/5\n",
    "avg_top_5"
   ]
  },
  {
   "cell_type": "code",
   "execution_count": 57,
   "id": "5e8f5e3d",
   "metadata": {},
   "outputs": [
    {
     "data": {
      "text/html": [
       "<p><strong><pre style='display: inline;'>q19</pre></strong> passed! 🚀</p><p><strong><pre style='display: inline;'>q19 - 2</pre> message:</strong> Note that the Gradescope autograder will deduct points if your code fails the following rubric point - 'incorrect logic is used to answer (-1)'.The public tests cannot determine if your code satisfies these requirements. Verify your code manually.</p><p><strong><pre style='display: inline;'>q19 - 3</pre> message:</strong> Note that the Gradescope autograder will deduct points if your code fails the following rubric point - '`parse_html` function is not used to answer (-2)'.The public tests cannot determine if your code satisfies these requirements. Verify your code manually.</p>"
      ],
      "text/plain": [
       "q19 results: All test cases passed!\n",
       "q19 - 2 message: Note that the Gradescope autograder will deduct points if your code fails the following rubric point - 'incorrect logic is used to answer (-1)'.The public tests cannot determine if your code satisfies these requirements. Verify your code manually.\n",
       "q19 - 3 message: Note that the Gradescope autograder will deduct points if your code fails the following rubric point - '`parse_html` function is not used to answer (-2)'.The public tests cannot determine if your code satisfies these requirements. Verify your code manually."
      ]
     },
     "execution_count": 57,
     "metadata": {},
     "output_type": "execute_result"
    }
   ],
   "source": [
    "grader.check(\"q19\")"
   ]
  },
  {
   "cell_type": "markdown",
   "id": "04f186b5",
   "metadata": {
    "deletable": false,
    "editable": false
   },
   "source": [
    "**Question 20:** Parse the contents of the **three** files `2021.html`, `2022.html`, and `2023.html` and combine them to create a **single** file named `my_rankings.json`.\n",
    "\n",
    "You **must** create a **file** named `my_rankings.json` in your current directory. The contents of this file **must** be **identical** to `rankings.json`.\n",
    "\n",
    "**Hints:**\n",
    "1. Using the logic from the question above, combine the data from these three files into a single list of dicts, and write it into the file `\"my_rankings.json\"`.\n",
    "2. You can use the `write_json` function that was introduced in lecture."
   ]
  },
  {
   "cell_type": "code",
   "execution_count": 58,
   "id": "62bd1ede",
   "metadata": {
    "execution": {
     "iopub.execute_input": "2023-11-22T04:35:49.617554Z",
     "iopub.status.busy": "2023-11-22T04:35:49.617554Z",
     "iopub.status.idle": "2023-11-22T04:35:49.623586Z",
     "shell.execute_reply": "2023-11-22T04:35:49.622573Z"
    },
    "tags": []
   },
   "outputs": [],
   "source": [
    "# the 'write_json' function from lecture has been provided for you here\n",
    "\n",
    "def write_json(path, data):\n",
    "    with open(path, 'w', encoding = \"utf-8\") as f:\n",
    "        json.dump(data, f, indent = 2)"
   ]
  },
  {
   "cell_type": "code",
   "execution_count": 59,
   "id": "7504d4a0",
   "metadata": {
    "execution": {
     "iopub.execute_input": "2023-11-22T04:35:49.627584Z",
     "iopub.status.busy": "2023-11-22T04:35:49.626581Z",
     "iopub.status.idle": "2023-11-22T04:35:54.170277Z",
     "shell.execute_reply": "2023-11-22T04:35:54.170277Z"
    },
    "tags": []
   },
   "outputs": [],
   "source": [
    "# parse the three files and write the contents into 'my_rankings.json'\n",
    "parsed_2021 = parse_html('2021.html')\n",
    "parsed_2022 = parse_html('2022.html')\n",
    "parsed_2023 = parse_html('2023.html')\n",
    "parsed_2021.extend(parsed_2022)\n",
    "parsed_2021.extend(parsed_2023)\n",
    "# new_data.extend(parsed_2023)\n",
    "write_json('my_rankings.json',parsed_2021)\n",
    "# parsed_2023[:10]\n"
   ]
  },
  {
   "cell_type": "code",
   "execution_count": 60,
   "id": "95950d8d",
   "metadata": {},
   "outputs": [
    {
     "data": {
      "text/html": [
       "<p><strong><pre style='display: inline;'>q20</pre></strong> passed! 🍀</p><p><strong><pre style='display: inline;'>q20 - 2</pre> message:</strong> Note that the Gradescope autograder will deduct points if your code fails the following rubric point - '`parse_html` function is not used to answer (-3)'.The public tests cannot determine if your code satisfies these requirements. Verify your code manually.</p>"
      ],
      "text/plain": [
       "q20 results: All test cases passed!\n",
       "q20 - 2 message: Note that the Gradescope autograder will deduct points if your code fails the following rubric point - '`parse_html` function is not used to answer (-3)'.The public tests cannot determine if your code satisfies these requirements. Verify your code manually."
      ]
     },
     "execution_count": 60,
     "metadata": {},
     "output_type": "execute_result"
    }
   ],
   "source": [
    "grader.check(\"q20\")"
   ]
  },
  {
   "cell_type": "code",
   "execution_count": 61,
   "id": "5f6bb96e",
   "metadata": {},
   "outputs": [
    {
     "data": {
      "text/html": [
       "<p><strong><pre style='display: inline;'>general_deductions</pre></strong> passed! 💯</p><p><strong><pre style='display: inline;'>general_deductions - 1</pre> message:</strong> Note that the Gradescope autograder will deduct points if your code fails the following rubric point - 'Outputs not visible/did not save the notebook file prior to running the cell containing \"export\". We cannot see your output if you do not save before generating the zip file. (-3)'.The public tests cannot determine if your code satisfies these requirements. Verify your code manually.</p><p><strong><pre style='display: inline;'>general_deductions - 2</pre> message:</strong> Note that the Gradescope autograder will deduct points if your code fails the following rubric point - 'Used concepts/modules such as `csv.DictReader`, and `numpy`, not covered in class yet. Note that built-in functions that you have been introduced to can be used. (-3)'.The public tests cannot determine if your code satisfies these requirements. Verify your code manually.</p><p><strong><pre style='display: inline;'>general_deductions - 3</pre> message:</strong> Note that the Gradescope autograder will deduct points if your code fails the following rubric point - 'Large outputs are displayed in the notebook when they are unnecessary. (-3)'.The public tests cannot determine if your code satisfies these requirements. Verify your code manually.</p><p><strong><pre style='display: inline;'>general_deductions - 4</pre> message:</strong> Note that the Gradescope autograder will deduct points if your code fails the following rubric point - 'Import statements are not mentioned in the required cell at the top of the notebook. (-3)'.The public tests cannot determine if your code satisfies these requirements. Verify your code manually.</p>"
      ],
      "text/plain": [
       "general_deductions results: All test cases passed!\n",
       "general_deductions - 1 message: Note that the Gradescope autograder will deduct points if your code fails the following rubric point - 'Outputs not visible/did not save the notebook file prior to running the cell containing \"export\". We cannot see your output if you do not save before generating the zip file. (-3)'.The public tests cannot determine if your code satisfies these requirements. Verify your code manually.\n",
       "general_deductions - 2 message: Note that the Gradescope autograder will deduct points if your code fails the following rubric point - 'Used concepts/modules such as `csv.DictReader`, and `numpy`, not covered in class yet. Note that built-in functions that you have been introduced to can be used. (-3)'.The public tests cannot determine if your code satisfies these requirements. Verify your code manually.\n",
       "general_deductions - 3 message: Note that the Gradescope autograder will deduct points if your code fails the following rubric point - 'Large outputs are displayed in the notebook when they are unnecessary. (-3)'.The public tests cannot determine if your code satisfies these requirements. Verify your code manually.\n",
       "general_deductions - 4 message: Note that the Gradescope autograder will deduct points if your code fails the following rubric point - 'Import statements are not mentioned in the required cell at the top of the notebook. (-3)'.The public tests cannot determine if your code satisfies these requirements. Verify your code manually."
      ]
     },
     "execution_count": 61,
     "metadata": {},
     "output_type": "execute_result"
    }
   ],
   "source": [
    "grader.check(\"general_deductions\")"
   ]
  },
  {
   "cell_type": "code",
   "execution_count": 62,
   "id": "a67986b2",
   "metadata": {},
   "outputs": [
    {
     "data": {
      "text/html": [
       "<p><strong><pre style='display: inline;'>summary</pre></strong> passed! 💯</p>"
      ],
      "text/plain": [
       "summary results: All test cases passed!"
      ]
     },
     "execution_count": 62,
     "metadata": {},
     "output_type": "execute_result"
    }
   ],
   "source": [
    "grader.check(\"summary\")"
   ]
  },
  {
   "cell_type": "markdown",
   "id": "cb276d87",
   "metadata": {
    "deletable": false,
    "editable": false
   },
   "source": [
    "## Submission\n",
    "It is recommended that at this stage, you Restart and Run all Cells in your notebook.\n",
    "That will automatically save your work and generate a zip file for you to submit.\n",
    "\n",
    "**SUBMISSION INSTRUCTIONS**:\n",
    "1. **Upload** the zipfile to Gradescope.\n",
    "2. If you completed the project with a **partner**, make sure to **add their name** by clicking \"Add Group Member\"\n",
    "in Gradescope when uploading the zip file.\n",
    "3. Check **Gradescope** results as soon as the auto-grader execution gets completed.\n",
    "4. Your **final score** for this project is the score that you see on **Gradescope**.\n",
    "5. You are **allowed** to resubmit on Gradescope as many times as you want to.\n",
    "6. **Contact** a TA/PM if you lose any points on Gradescope for any **unclear reasons**."
   ]
  },
  {
   "cell_type": "code",
   "execution_count": 63,
   "id": "00eb4734",
   "metadata": {
    "cell_type": "code",
    "deletable": false,
    "editable": false
   },
   "outputs": [
    {
     "data": {
      "application/javascript": [
       "IPython.notebook.save_checkpoint();"
      ],
      "text/plain": [
       "<IPython.core.display.Javascript object>"
      ]
     },
     "metadata": {},
     "output_type": "display_data"
    }
   ],
   "source": [
    "# running this cell will create a new save checkpoint for your notebook\n",
    "from IPython.display import display, Javascript\n",
    "display(Javascript('IPython.notebook.save_checkpoint();'))"
   ]
  },
  {
   "cell_type": "code",
   "execution_count": 64,
   "id": "d6983bf7",
   "metadata": {
    "cell_type": "code",
    "deletable": false,
    "editable": false
   },
   "outputs": [
    {
     "name": "stdout",
     "output_type": "stream",
     "text": [
      "[jupytext] Reading p12.ipynb in format ipynb\n",
      "[jupytext] Writing p12.py (destination file replaced)\n"
     ]
    }
   ],
   "source": [
    "!jupytext --to py p12.ipynb"
   ]
  },
  {
   "cell_type": "code",
   "execution_count": 65,
   "id": "4db8feec",
   "metadata": {
    "cell_type": "code",
    "deletable": false,
    "editable": false
   },
   "outputs": [
    {
     "data": {
      "text/html": [
       "\n",
       "                    <p>\n",
       "                        Your submission has been exported. Click\n",
       "                        <a href=\"p12_2023_12_07T21_18_24_218942.zip\" download=\"p12_2023_12_07T21_18_24_218942.zip\" target=\"_blank\">here</a> to download\n",
       "                        the zip file.\n",
       "                    </p>\n",
       "                "
      ],
      "text/plain": [
       "<IPython.core.display.HTML object>"
      ]
     },
     "metadata": {},
     "output_type": "display_data"
    }
   ],
   "source": [
    "public_tests.check_file_size(\"p12.ipynb\")\n",
    "grader.export(pdf=False, run_tests=False, files=[\"p12.py\"])"
   ]
  },
  {
   "cell_type": "markdown",
   "id": "f3eca485",
   "metadata": {
    "deletable": false,
    "editable": false
   },
   "source": [
    " "
   ]
  }
 ],
 "metadata": {
  "kernelspec": {
   "display_name": "Python 3 (ipykernel)",
   "language": "python",
   "name": "python3"
  },
  "language_info": {
   "codemirror_mode": {
    "name": "ipython",
    "version": 3
   },
   "file_extension": ".py",
   "mimetype": "text/x-python",
   "name": "python",
   "nbconvert_exporter": "python",
   "pygments_lexer": "ipython3",
   "version": "3.11.4"
  },
  "otter": {
   "OK_FORMAT": true,
   "tests": {
    "download": {
     "name": "download",
     "points": 0,
     "suites": [
      {
       "cases": [
        {
         "code": ">>> \n>>> public_tests.rubric_check('download: downloading the file even if it already exists')\nAll test cases passed!\n",
         "hidden": false,
         "locked": false,
         "success_message": "Note that the Gradescope autograder will deduct points if your code fails the following rubric point - 'downloading the file even if it already exists (-5)'.The public tests cannot determine if your code satisfies these requirements. Verify your code manually."
        },
        {
         "code": ">>> \n>>> public_tests.rubric_check('download: function is defined more than once')\nAll test cases passed!\n",
         "hidden": false,
         "locked": false,
         "success_message": "Note that the Gradescope autograder will deduct points if your code fails the following rubric point - 'function is defined more than once (-1)'.The public tests cannot determine if your code satisfies these requirements. Verify your code manually."
        }
       ],
       "scored": true,
       "setup": "",
       "teardown": "",
       "type": "doctest"
      }
     ]
    },
    "general_deductions": {
     "name": "general_deductions",
     "points": 0,
     "suites": [
      {
       "cases": [
        {
         "code": ">>> \n>>> public_tests.rubric_check('general_deductions: Outputs not visible/did not save the notebook file prior to running the cell containing \\\"export\\\". We cannot see your output if you do not save before generating the zip file.')\nAll test cases passed!\n",
         "hidden": false,
         "locked": false,
         "success_message": "Note that the Gradescope autograder will deduct points if your code fails the following rubric point - 'Outputs not visible/did not save the notebook file prior to running the cell containing \"export\". We cannot see your output if you do not save before generating the zip file. (-3)'.The public tests cannot determine if your code satisfies these requirements. Verify your code manually."
        },
        {
         "code": ">>> \n>>> public_tests.rubric_check('general_deductions: Used concepts/modules such as `csv.DictReader`, and `numpy`, not covered in class yet. Note that built-in functions that you have been introduced to can be used.')\nAll test cases passed!\n",
         "hidden": false,
         "locked": false,
         "success_message": "Note that the Gradescope autograder will deduct points if your code fails the following rubric point - 'Used concepts/modules such as `csv.DictReader`, and `numpy`, not covered in class yet. Note that built-in functions that you have been introduced to can be used. (-3)'.The public tests cannot determine if your code satisfies these requirements. Verify your code manually."
        },
        {
         "code": ">>> \n>>> public_tests.rubric_check('general_deductions: Large outputs are displayed in the notebook when they are unnecessary.')\nAll test cases passed!\n",
         "hidden": false,
         "locked": false,
         "success_message": "Note that the Gradescope autograder will deduct points if your code fails the following rubric point - 'Large outputs are displayed in the notebook when they are unnecessary. (-3)'.The public tests cannot determine if your code satisfies these requirements. Verify your code manually."
        },
        {
         "code": ">>> \n>>> public_tests.rubric_check('general_deductions: Import statements are not mentioned in the required cell at the top of the notebook.')\nAll test cases passed!\n",
         "hidden": false,
         "locked": false,
         "success_message": "Note that the Gradescope autograder will deduct points if your code fails the following rubric point - 'Import statements are not mentioned in the required cell at the top of the notebook. (-3)'.The public tests cannot determine if your code satisfies these requirements. Verify your code manually."
        }
       ],
       "scored": true,
       "setup": "",
       "teardown": "",
       "type": "doctest"
      }
     ]
    },
    "institutions_df": {
     "name": "institutions_df",
     "points": 0,
     "suites": [
      {
       "cases": [
        {
         "code": ">>> \n>>> public_tests.rubric_check('institutions_df: data structure is defined incorrectly')\nAll test cases passed!\n",
         "hidden": false,
         "locked": false,
         "success_message": "Note that the Gradescope autograder will deduct points if your code fails the following rubric point - 'data structure is defined incorrectly (-3)'.The public tests cannot determine if your code satisfies these requirements. Verify your code manually."
        },
        {
         "code": ">>> \n>>> public_tests.rubric_check('institutions_df: data structure is defined more than once')\nAll test cases passed!\n",
         "hidden": false,
         "locked": false,
         "success_message": "Note that the Gradescope autograder will deduct points if your code fails the following rubric point - 'data structure is defined more than once (-1)'.The public tests cannot determine if your code satisfies these requirements. Verify your code manually."
        }
       ],
       "scored": true,
       "setup": "",
       "teardown": "",
       "type": "doctest"
      }
     ]
    },
    "parse_html": {
     "name": "parse_html",
     "points": 0,
     "suites": [
      {
       "cases": [
        {
         "code": ">>> \n>>> public_tests.rubric_check('parse_html: function does not typecast based on columns')\nAll test cases passed!\n",
         "hidden": false,
         "locked": false,
         "success_message": "Note that the Gradescope autograder will deduct points if your code fails the following rubric point - 'function does not typecast based on columns (-1)'.The public tests cannot determine if your code satisfies these requirements. Verify your code manually."
        },
        {
         "code": ">>> \n>>> public_tests.rubric_check('parse_html: function does not assign `None` for missing data')\nAll test cases passed!\n",
         "hidden": false,
         "locked": false,
         "success_message": "Note that the Gradescope autograder will deduct points if your code fails the following rubric point - 'function does not assign `None` for missing data (-1)'.The public tests cannot determine if your code satisfies these requirements. Verify your code manually."
        },
        {
         "code": ">>> \n>>> public_tests.rubric_check('parse_html: function logic is incorrect')\nAll test cases passed!\n",
         "hidden": false,
         "locked": false,
         "success_message": "Note that the Gradescope autograder will deduct points if your code fails the following rubric point - 'function logic is incorrect (-3)'.The public tests cannot determine if your code satisfies these requirements. Verify your code manually."
        },
        {
         "code": ">>> \n>>> public_tests.rubric_check('parse_html: function is defined more than once')\nAll test cases passed!\n",
         "hidden": false,
         "locked": false,
         "success_message": "Note that the Gradescope autograder will deduct points if your code fails the following rubric point - 'function is defined more than once (-1)'.The public tests cannot determine if your code satisfies these requirements. Verify your code manually."
        }
       ],
       "scored": true,
       "setup": "",
       "teardown": "",
       "type": "doctest"
      }
     ]
    },
    "q1": {
     "name": "q1",
     "points": 0,
     "suites": [
      {
       "cases": [
        {
         "code": ">>> public_tests.check('q1', num_countries)\nAll test cases passed!\n",
         "hidden": false,
         "locked": false
        },
        {
         "code": ">>> \n>>> public_tests.rubric_check('q1: `rankings` data structure is not used to answer', False)\nAll test cases passed!\n",
         "hidden": false,
         "locked": false,
         "success_message": "Note that the Gradescope autograder will deduct points if your code fails the following rubric point - '`rankings` data structure is not used to answer (-1)'.The public tests cannot determine if your code satisfies these requirements. Verify your code manually."
        },
        {
         "code": ">>> \n>>> public_tests.rubric_check('q1: conditional statements or loops are used')\nAll test cases passed!\n",
         "hidden": false,
         "locked": false,
         "success_message": "Note that the Gradescope autograder will deduct points if your code fails the following rubric point - 'conditional statements or loops are used (-1)'.The public tests cannot determine if your code satisfies these requirements. Verify your code manually."
        }
       ],
       "scored": true,
       "setup": "",
       "teardown": "",
       "type": "doctest"
      }
     ]
    },
    "q10": {
     "name": "q10",
     "points": 0,
     "suites": [
      {
       "cases": [
        {
         "code": ">>> public_tests.check('q10', india_highest_research)\nAll test cases passed!\n",
         "hidden": false,
         "locked": false
        },
        {
         "code": ">>> \n>>> public_tests.rubric_check('q10: incorrect logic is used to answer')\nAll test cases passed!\n",
         "hidden": false,
         "locked": false,
         "success_message": "Note that the Gradescope autograder will deduct points if your code fails the following rubric point - 'incorrect logic is used to answer (-1)'.The public tests cannot determine if your code satisfies these requirements. Verify your code manually."
        },
        {
         "code": ">>> \n>>> public_tests.rubric_check('q10: `rankings` data structure is not used to answer', False)\nAll test cases passed!\n",
         "hidden": false,
         "locked": false,
         "success_message": "Note that the Gradescope autograder will deduct points if your code fails the following rubric point - '`rankings` data structure is not used to answer (-1)'.The public tests cannot determine if your code satisfies these requirements. Verify your code manually."
        },
        {
         "code": ">>> \n>>> public_tests.rubric_check('q10: conditional statements or loops are used')\nAll test cases passed!\n",
         "hidden": false,
         "locked": false,
         "success_message": "Note that the Gradescope autograder will deduct points if your code fails the following rubric point - 'conditional statements or loops are used (-1)'.The public tests cannot determine if your code satisfies these requirements. Verify your code manually."
        },
        {
         "code": ">>> \n>>> public_tests.rubric_check('q10: `.loc` is used on a pandas DataFrame to hardcode an index')\nAll test cases passed!\n",
         "hidden": false,
         "locked": false,
         "success_message": "Note that the Gradescope autograder will deduct points if your code fails the following rubric point - '`.loc` is used on a pandas DataFrame to hardcode an index (-1)'.The public tests cannot determine if your code satisfies these requirements. Verify your code manually."
        }
       ],
       "scored": true,
       "setup": "",
       "teardown": "",
       "type": "doctest"
      }
     ]
    },
    "q11": {
     "name": "q11",
     "points": 0,
     "suites": [
      {
       "cases": [
        {
         "code": ">>> public_tests.check('q11', num_institutions_2021_2022_2023)\nAll test cases passed!\n",
         "hidden": false,
         "locked": false
        },
        {
         "code": ">>> \n>>> public_tests.rubric_check('q11: incorrect logic is used to answer')\nAll test cases passed!\n",
         "hidden": false,
         "locked": false,
         "success_message": "Note that the Gradescope autograder will deduct points if your code fails the following rubric point - 'incorrect logic is used to answer (-2)'.The public tests cannot determine if your code satisfies these requirements. Verify your code manually."
        },
        {
         "code": ">>> \n>>> public_tests.rubric_check('q11: `rankings` data structure is not used to answer', False)\nAll test cases passed!\n",
         "hidden": false,
         "locked": false,
         "success_message": "Note that the Gradescope autograder will deduct points if your code fails the following rubric point - '`rankings` data structure is not used to answer (-1)'.The public tests cannot determine if your code satisfies these requirements. Verify your code manually."
        },
        {
         "code": ">>> \n>>> public_tests.rubric_check('q11: conditional statements or loops are used')\nAll test cases passed!\n",
         "hidden": false,
         "locked": false,
         "success_message": "Note that the Gradescope autograder will deduct points if your code fails the following rubric point - 'conditional statements or loops are used (-1)'.The public tests cannot determine if your code satisfies these requirements. Verify your code manually."
        },
        {
         "code": ">>> public_tests.rubric_check('q11: public tests')\nAll test cases passed!\n",
         "hidden": false,
         "locked": false
        }
       ],
       "scored": true,
       "setup": "",
       "teardown": "",
       "type": "doctest"
      }
     ]
    },
    "q12": {
     "name": "q12",
     "points": 0,
     "suites": [
      {
       "cases": [
        {
         "code": ">>> public_tests.check('q12', improved_institutions)\nAll test cases passed!\n",
         "hidden": false,
         "locked": false
        },
        {
         "code": ">>> \n>>> public_tests.rubric_check('q12: `institutions_df` data structure is not used to answer', False)\nAll test cases passed!\n",
         "hidden": false,
         "locked": false,
         "success_message": "Note that the Gradescope autograder will deduct points if your code fails the following rubric point - '`institutions_df` data structure is not used to answer (-1)'.The public tests cannot determine if your code satisfies these requirements. Verify your code manually."
        },
        {
         "code": ">>> \n>>> public_tests.rubric_check('q12: conditional statements or loops are used')\nAll test cases passed!\n",
         "hidden": false,
         "locked": false,
         "success_message": "Note that the Gradescope autograder will deduct points if your code fails the following rubric point - 'conditional statements or loops are used (-1)'.The public tests cannot determine if your code satisfies these requirements. Verify your code manually."
        },
        {
         "code": ">>> public_tests.rubric_check('q12: public tests')\nAll test cases passed!\n",
         "hidden": false,
         "locked": false
        }
       ],
       "scored": true,
       "setup": "",
       "teardown": "",
       "type": "doctest"
      }
     ]
    },
    "q13": {
     "name": "q13",
     "points": 0,
     "suites": [
      {
       "cases": [
        {
         "code": ">>> public_tests.check('q13', third_most_change_inst)\nAll test cases passed!\n",
         "hidden": false,
         "locked": false
        },
        {
         "code": ">>> \n>>> public_tests.rubric_check('q13: incorrect logic is used to answer')\nAll test cases passed!\n",
         "hidden": false,
         "locked": false,
         "success_message": "Note that the Gradescope autograder will deduct points if your code fails the following rubric point - 'incorrect logic is used to answer (-1)'.The public tests cannot determine if your code satisfies these requirements. Verify your code manually."
        },
        {
         "code": ">>> \n>>> public_tests.rubric_check('q13: `institutions_df` data structure is not used to answer', False)\nAll test cases passed!\n",
         "hidden": false,
         "locked": false,
         "success_message": "Note that the Gradescope autograder will deduct points if your code fails the following rubric point - '`institutions_df` data structure is not used to answer (-1)'.The public tests cannot determine if your code satisfies these requirements. Verify your code manually."
        },
        {
         "code": ">>> \n>>> public_tests.rubric_check('q13: conditional statements or loops are used')\nAll test cases passed!\n",
         "hidden": false,
         "locked": false,
         "success_message": "Note that the Gradescope autograder will deduct points if your code fails the following rubric point - 'conditional statements or loops are used (-1)'.The public tests cannot determine if your code satisfies these requirements. Verify your code manually."
        },
        {
         "code": ">>> \n>>> public_tests.rubric_check('q13: `.loc` is used on a pandas DataFrame to hardcode an index')\nAll test cases passed!\n",
         "hidden": false,
         "locked": false,
         "success_message": "Note that the Gradescope autograder will deduct points if your code fails the following rubric point - '`.loc` is used on a pandas DataFrame to hardcode an index (-1)'.The public tests cannot determine if your code satisfies these requirements. Verify your code manually."
        },
        {
         "code": ">>> public_tests.rubric_check('q13: public tests')\nAll test cases passed!\n",
         "hidden": false,
         "locked": false
        }
       ],
       "scored": true,
       "setup": "",
       "teardown": "",
       "type": "doctest"
      }
     ]
    },
    "q14": {
     "name": "q14",
     "points": 0,
     "suites": [
      {
       "cases": [
        {
         "code": ">>> public_tests.check('q14', five_improved)\nAll test cases passed!\n",
         "hidden": false,
         "locked": false
        },
        {
         "code": ">>> \n>>> public_tests.rubric_check('q14: `institutions_df` data structure is not used to answer', False)\nAll test cases passed!\n",
         "hidden": false,
         "locked": false,
         "success_message": "Note that the Gradescope autograder will deduct points if your code fails the following rubric point - '`institutions_df` data structure is not used to answer (-1)'.The public tests cannot determine if your code satisfies these requirements. Verify your code manually."
        },
        {
         "code": ">>> \n>>> public_tests.rubric_check('q14: conditional statements or loops are used')\nAll test cases passed!\n",
         "hidden": false,
         "locked": false,
         "success_message": "Note that the Gradescope autograder will deduct points if your code fails the following rubric point - 'conditional statements or loops are used (-1)'.The public tests cannot determine if your code satisfies these requirements. Verify your code manually."
        },
        {
         "code": ">>> public_tests.rubric_check('q14: public tests')\nAll test cases passed!\n",
         "hidden": false,
         "locked": false
        }
       ],
       "scored": true,
       "setup": "",
       "teardown": "",
       "type": "doctest"
      }
     ]
    },
    "q15": {
     "name": "q15",
     "points": 0,
     "suites": [
      {
       "cases": [
        {
         "code": ">>> public_tests.check('q15', only_top_employability)\nAll test cases passed!\n",
         "hidden": false,
         "locked": false
        },
        {
         "code": ">>> \n>>> public_tests.rubric_check('q15: incorrect logic is used to answer')\nAll test cases passed!\n",
         "hidden": false,
         "locked": false,
         "success_message": "Note that the Gradescope autograder will deduct points if your code fails the following rubric point - 'incorrect logic is used to answer (-1)'.The public tests cannot determine if your code satisfies these requirements. Verify your code manually."
        },
        {
         "code": ">>> \n>>> public_tests.rubric_check('q15: `year_2021_ranking_df` data structure is not used to answer', False)\nAll test cases passed!\n",
         "hidden": false,
         "locked": false,
         "success_message": "Note that the Gradescope autograder will deduct points if your code fails the following rubric point - '`year_2021_ranking_df` data structure is not used to answer (-1)'.The public tests cannot determine if your code satisfies these requirements. Verify your code manually."
        },
        {
         "code": ">>> \n>>> public_tests.rubric_check('q15: conditional statements or loops are used')\nAll test cases passed!\n",
         "hidden": false,
         "locked": false,
         "success_message": "Note that the Gradescope autograder will deduct points if your code fails the following rubric point - 'conditional statements or loops are used (-1)'.The public tests cannot determine if your code satisfies these requirements. Verify your code manually."
        },
        {
         "code": ">>> public_tests.rubric_check('q15: public tests')\nAll test cases passed!\n",
         "hidden": false,
         "locked": false
        }
       ],
       "scored": true,
       "setup": "",
       "teardown": "",
       "type": "doctest"
      }
     ]
    },
    "q16": {
     "name": "q16",
     "points": 0,
     "suites": [
      {
       "cases": [
        {
         "code": ">>> public_tests.check('q16', top_50_only_2021)\nAll test cases passed!\n",
         "hidden": false,
         "locked": false
        },
        {
         "code": ">>> \n>>> public_tests.rubric_check('q16: incorrect logic is used to answer')\nAll test cases passed!\n",
         "hidden": false,
         "locked": false,
         "success_message": "Note that the Gradescope autograder will deduct points if your code fails the following rubric point - 'incorrect logic is used to answer (-1)'.The public tests cannot determine if your code satisfies these requirements. Verify your code manually."
        },
        {
         "code": ">>> \n>>> public_tests.rubric_check('q16: `year_2021_ranking_df` and `year_2023_ranking_df` data structures are not used to answer', False)\nAll test cases passed!\n",
         "hidden": false,
         "locked": false,
         "success_message": "Note that the Gradescope autograder will deduct points if your code fails the following rubric point - '`year_2021_ranking_df` and `year_2023_ranking_df` data structures are not used to answer (-1)'.The public tests cannot determine if your code satisfies these requirements. Verify your code manually."
        },
        {
         "code": ">>> \n>>> public_tests.rubric_check('q16: conditional statements or loops are used')\nAll test cases passed!\n",
         "hidden": false,
         "locked": false,
         "success_message": "Note that the Gradescope autograder will deduct points if your code fails the following rubric point - 'conditional statements or loops are used (-1)'.The public tests cannot determine if your code satisfies these requirements. Verify your code manually."
        },
        {
         "code": ">>> public_tests.rubric_check('q16: public tests')\nAll test cases passed!\n",
         "hidden": false,
         "locked": false
        }
       ],
       "scored": true,
       "setup": "",
       "teardown": "",
       "type": "doctest"
      }
     ]
    },
    "q17": {
     "name": "q17",
     "points": 0,
     "suites": [
      {
       "cases": [
        {
         "code": ">>> public_tests.check('q17', almost_top_countries)\nAll test cases passed!\n",
         "hidden": false,
         "locked": false
        },
        {
         "code": ">>> \n>>> public_tests.rubric_check('q17: incorrect logic is used to answer')\nAll test cases passed!\n",
         "hidden": false,
         "locked": false,
         "success_message": "Note that the Gradescope autograder will deduct points if your code fails the following rubric point - 'incorrect logic is used to answer (-1)'.The public tests cannot determine if your code satisfies these requirements. Verify your code manually."
        },
        {
         "code": ">>> \n>>> public_tests.rubric_check('q17: `rankings` data structure is not used to answer', False)\nAll test cases passed!\n",
         "hidden": false,
         "locked": false,
         "success_message": "Note that the Gradescope autograder will deduct points if your code fails the following rubric point - '`rankings` data structure is not used to answer (-1)'.The public tests cannot determine if your code satisfies these requirements. Verify your code manually."
        },
        {
         "code": ">>> \n>>> public_tests.rubric_check('q17: conditional statements or loops are used')\nAll test cases passed!\n",
         "hidden": false,
         "locked": false,
         "success_message": "Note that the Gradescope autograder will deduct points if your code fails the following rubric point - 'conditional statements or loops are used (-2)'.The public tests cannot determine if your code satisfies these requirements. Verify your code manually."
        },
        {
         "code": ">>> public_tests.rubric_check('q17: public tests')\nAll test cases passed!\n",
         "hidden": false,
         "locked": false
        }
       ],
       "scored": true,
       "setup": "",
       "teardown": "",
       "type": "doctest"
      }
     ]
    },
    "q18": {
     "name": "q18",
     "points": 0,
     "suites": [
      {
       "cases": [
        {
         "code": ">>> public_tests.check('q18', first_dict)\nAll test cases passed!\n",
         "hidden": false,
         "locked": false
        },
        {
         "code": ">>> \n>>> public_tests.rubric_check('q18: header is hardcoded')\nAll test cases passed!\n",
         "hidden": false,
         "locked": false,
         "success_message": "Note that the Gradescope autograder will deduct points if your code fails the following rubric point - 'header is hardcoded (-1)'.The public tests cannot determine if your code satisfies these requirements. Verify your code manually."
        },
        {
         "code": ">>> \n>>> public_tests.rubric_check('q18: incorrect logic is used to answer')\nAll test cases passed!\n",
         "hidden": false,
         "locked": false,
         "success_message": "Note that the Gradescope autograder will deduct points if your code fails the following rubric point - 'incorrect logic is used to answer (-2)'.The public tests cannot determine if your code satisfies these requirements. Verify your code manually."
        },
        {
         "code": ">>> public_tests.rubric_check('q18: public tests')\nAll test cases passed!\n",
         "hidden": false,
         "locked": false
        }
       ],
       "scored": true,
       "setup": "",
       "teardown": "",
       "type": "doctest"
      }
     ]
    },
    "q19": {
     "name": "q19",
     "points": 0,
     "suites": [
      {
       "cases": [
        {
         "code": ">>> public_tests.check('q19', avg_top_5)\nAll test cases passed!\n",
         "hidden": false,
         "locked": false
        },
        {
         "code": ">>> \n>>> public_tests.rubric_check('q19: incorrect logic is used to answer')\nAll test cases passed!\n",
         "hidden": false,
         "locked": false,
         "success_message": "Note that the Gradescope autograder will deduct points if your code fails the following rubric point - 'incorrect logic is used to answer (-1)'.The public tests cannot determine if your code satisfies these requirements. Verify your code manually."
        },
        {
         "code": ">>> \n>>> public_tests.rubric_check('q19: `parse_html` function is not used to answer', False)\nAll test cases passed!\n",
         "hidden": false,
         "locked": false,
         "success_message": "Note that the Gradescope autograder will deduct points if your code fails the following rubric point - '`parse_html` function is not used to answer (-2)'.The public tests cannot determine if your code satisfies these requirements. Verify your code manually."
        },
        {
         "code": ">>> public_tests.rubric_check('q19: public tests')\nAll test cases passed!\n",
         "hidden": false,
         "locked": false
        }
       ],
       "scored": true,
       "setup": "",
       "teardown": "",
       "type": "doctest"
      }
     ]
    },
    "q2": {
     "name": "q2",
     "points": 0,
     "suites": [
      {
       "cases": [
        {
         "code": ">>> public_tests.check('q2', highest_ranked.to_html())\nAll test cases passed!\n",
         "hidden": false,
         "locked": false
        },
        {
         "code": ">>> \n>>> public_tests.rubric_check('q2: `rankings` data structure is not used to answer', False)\nAll test cases passed!\n",
         "hidden": false,
         "locked": false,
         "success_message": "Note that the Gradescope autograder will deduct points if your code fails the following rubric point - '`rankings` data structure is not used to answer (-1)'.The public tests cannot determine if your code satisfies these requirements. Verify your code manually."
        },
        {
         "code": ">>> \n>>> public_tests.rubric_check('q2: conditional statements or loops are used')\nAll test cases passed!\n",
         "hidden": false,
         "locked": false,
         "success_message": "Note that the Gradescope autograder will deduct points if your code fails the following rubric point - 'conditional statements or loops are used (-1)'.The public tests cannot determine if your code satisfies these requirements. Verify your code manually."
        },
        {
         "code": ">>> public_tests.rubric_check('q2: public tests')\nAll test cases passed!\n",
         "hidden": false,
         "locked": false
        }
       ],
       "scored": true,
       "setup": "",
       "teardown": "",
       "type": "doctest"
      }
     ]
    },
    "q20": {
     "name": "q20",
     "points": 0,
     "suites": [
      {
       "cases": [
        {
         "code": ">>> public_tests.check('q20', \"my_rankings.json\")\nAll test cases passed!\n",
         "hidden": false,
         "locked": false
        },
        {
         "code": ">>> \n>>> public_tests.rubric_check('q20: `parse_html` function is not used to answer', False)\nAll test cases passed!\n",
         "hidden": false,
         "locked": false,
         "success_message": "Note that the Gradescope autograder will deduct points if your code fails the following rubric point - '`parse_html` function is not used to answer (-3)'.The public tests cannot determine if your code satisfies these requirements. Verify your code manually."
        },
        {
         "code": ">>> public_tests.rubric_check('q20: public tests')\nAll test cases passed!\n",
         "hidden": false,
         "locked": false
        }
       ],
       "scored": true,
       "setup": "",
       "teardown": "",
       "type": "doctest"
      }
     ]
    },
    "q3": {
     "name": "q3",
     "points": 0,
     "suites": [
      {
       "cases": [
        {
         "code": ">>> public_tests.check('q3', uw_madison.to_html())\nAll test cases passed!\n",
         "hidden": false,
         "locked": false
        },
        {
         "code": ">>> \n>>> public_tests.rubric_check('q3: `rankings` data structure is not used to answer', False)\nAll test cases passed!\n",
         "hidden": false,
         "locked": false,
         "success_message": "Note that the Gradescope autograder will deduct points if your code fails the following rubric point - '`rankings` data structure is not used to answer (-1)'.The public tests cannot determine if your code satisfies these requirements. Verify your code manually."
        },
        {
         "code": ">>> \n>>> public_tests.rubric_check('q3: conditional statements or loops are used')\nAll test cases passed!\n",
         "hidden": false,
         "locked": false,
         "success_message": "Note that the Gradescope autograder will deduct points if your code fails the following rubric point - 'conditional statements or loops are used (-1)'.The public tests cannot determine if your code satisfies these requirements. Verify your code manually."
        },
        {
         "code": ">>> public_tests.rubric_check('q3: public tests')\nAll test cases passed!\n",
         "hidden": false,
         "locked": false
        }
       ],
       "scored": true,
       "setup": "",
       "teardown": "",
       "type": "doctest"
      }
     ]
    },
    "q4": {
     "name": "q4",
     "points": 0,
     "suites": [
      {
       "cases": [
        {
         "code": ">>> public_tests.check('q4', uw_madison_nat_rank)\nAll test cases passed!\n",
         "hidden": false,
         "locked": false
        },
        {
         "code": ">>> \n>>> public_tests.rubric_check('q4: recomputed variable defined in Question 3')\nAll test cases passed!\n",
         "hidden": false,
         "locked": false,
         "success_message": "Note that the Gradescope autograder will deduct points if your code fails the following rubric point - 'recomputed variable defined in Question 3 (-1)'.The public tests cannot determine if your code satisfies these requirements. Verify your code manually."
        },
        {
         "code": ">>> \n>>> public_tests.rubric_check('q4: `.loc` is used on a pandas DataFrame to hardcode an index')\nAll test cases passed!\n",
         "hidden": false,
         "locked": false,
         "success_message": "Note that the Gradescope autograder will deduct points if your code fails the following rubric point - '`.loc` is used on a pandas DataFrame to hardcode an index (-1)'.The public tests cannot determine if your code satisfies these requirements. Verify your code manually."
        },
        {
         "code": ">>> \n>>> public_tests.rubric_check('q4: conditional statements or loops are used')\nAll test cases passed!\n",
         "hidden": false,
         "locked": false,
         "success_message": "Note that the Gradescope autograder will deduct points if your code fails the following rubric point - 'conditional statements or loops are used (-1)'.The public tests cannot determine if your code satisfies these requirements. Verify your code manually."
        }
       ],
       "scored": true,
       "setup": "",
       "teardown": "",
       "type": "doctest"
      }
     ]
    },
    "q5": {
     "name": "q5",
     "points": 0,
     "suites": [
      {
       "cases": [
        {
         "code": ">>> public_tests.check('q5', uw_madison_avg_score)\nAll test cases passed!\n",
         "hidden": false,
         "locked": false
        },
        {
         "code": ">>> \n>>> public_tests.rubric_check('q5: recomputed variable defined in Question 3')\nAll test cases passed!\n",
         "hidden": false,
         "locked": false,
         "success_message": "Note that the Gradescope autograder will deduct points if your code fails the following rubric point - 'recomputed variable defined in Question 3 (-1)'.The public tests cannot determine if your code satisfies these requirements. Verify your code manually."
        },
        {
         "code": ">>> \n>>> public_tests.rubric_check('q5: conditional statements or loops are used')\nAll test cases passed!\n",
         "hidden": false,
         "locked": false,
         "success_message": "Note that the Gradescope autograder will deduct points if your code fails the following rubric point - 'conditional statements or loops are used (-1)'.The public tests cannot determine if your code satisfies these requirements. Verify your code manually."
        },
        {
         "code": ">>> public_tests.rubric_check('q5: public tests')\nAll test cases passed!\n",
         "hidden": false,
         "locked": false
        }
       ],
       "scored": true,
       "setup": "",
       "teardown": "",
       "type": "doctest"
      }
     ]
    },
    "q6": {
     "name": "q6",
     "points": 0,
     "suites": [
      {
       "cases": [
        {
         "code": ">>> public_tests.check('q6', singapore_inst.to_html())\nAll test cases passed!\n",
         "hidden": false,
         "locked": false
        },
        {
         "code": ">>> \n>>> public_tests.rubric_check('q6: `rankings` data structure is not used to answer', False)\nAll test cases passed!\n",
         "hidden": false,
         "locked": false,
         "success_message": "Note that the Gradescope autograder will deduct points if your code fails the following rubric point - '`rankings` data structure is not used to answer (-1)'.The public tests cannot determine if your code satisfies these requirements. Verify your code manually."
        },
        {
         "code": ">>> \n>>> public_tests.rubric_check('q6: conditional statements or loops are used')\nAll test cases passed!\n",
         "hidden": false,
         "locked": false,
         "success_message": "Note that the Gradescope autograder will deduct points if your code fails the following rubric point - 'conditional statements or loops are used (-1)'.The public tests cannot determine if your code satisfies these requirements. Verify your code manually."
        },
        {
         "code": ">>> public_tests.rubric_check('q6: public tests')\nAll test cases passed!\n",
         "hidden": false,
         "locked": false
        }
       ],
       "scored": true,
       "setup": "",
       "teardown": "",
       "type": "doctest"
      }
     ]
    },
    "q7": {
     "name": "q7",
     "points": 0,
     "suites": [
      {
       "cases": [
        {
         "code": ">>> public_tests.check('q7', german_best_name)\nAll test cases passed!\n",
         "hidden": false,
         "locked": false
        },
        {
         "code": ">>> \n>>> public_tests.rubric_check('q7: `rankings` data structure is not used to answer', False)\nAll test cases passed!\n",
         "hidden": false,
         "locked": false,
         "success_message": "Note that the Gradescope autograder will deduct points if your code fails the following rubric point - '`rankings` data structure is not used to answer (-1)'.The public tests cannot determine if your code satisfies these requirements. Verify your code manually."
        },
        {
         "code": ">>> \n>>> public_tests.rubric_check('q7: conditional statements or loops are used')\nAll test cases passed!\n",
         "hidden": false,
         "locked": false,
         "success_message": "Note that the Gradescope autograder will deduct points if your code fails the following rubric point - 'conditional statements or loops are used (-1)'.The public tests cannot determine if your code satisfies these requirements. Verify your code manually."
        },
        {
         "code": ">>> \n>>> public_tests.rubric_check('q7: `.loc` is used on a pandas DataFrame to hardcode an index')\nAll test cases passed!\n",
         "hidden": false,
         "locked": false,
         "success_message": "Note that the Gradescope autograder will deduct points if your code fails the following rubric point - '`.loc` is used on a pandas DataFrame to hardcode an index (-1)'.The public tests cannot determine if your code satisfies these requirements. Verify your code manually."
        },
        {
         "code": ">>> public_tests.rubric_check('q7: public tests')\nAll test cases passed!\n",
         "hidden": false,
         "locked": false
        }
       ],
       "scored": true,
       "setup": "",
       "teardown": "",
       "type": "doctest"
      }
     ]
    },
    "q8": {
     "name": "q8",
     "points": 0,
     "suites": [
      {
       "cases": [
        {
         "code": ">>> public_tests.check('q8', us_better_than_german_best)\nAll test cases passed!\n",
         "hidden": false,
         "locked": false
        },
        {
         "code": ">>> \n>>> public_tests.rubric_check('q8: `rankings` data structure is not used to answer', False)\nAll test cases passed!\n",
         "hidden": false,
         "locked": false,
         "success_message": "Note that the Gradescope autograder will deduct points if your code fails the following rubric point - '`rankings` data structure is not used to answer (-1)'.The public tests cannot determine if your code satisfies these requirements. Verify your code manually."
        },
        {
         "code": ">>> \n>>> public_tests.rubric_check('q8: conditional statements or loops are used')\nAll test cases passed!\n",
         "hidden": false,
         "locked": false,
         "success_message": "Note that the Gradescope autograder will deduct points if your code fails the following rubric point - 'conditional statements or loops are used (-1)'.The public tests cannot determine if your code satisfies these requirements. Verify your code manually."
        },
        {
         "code": ">>> \n>>> public_tests.rubric_check('q8: `.loc` is used on a pandas DataFrame to hardcode an index')\nAll test cases passed!\n",
         "hidden": false,
         "locked": false,
         "success_message": "Note that the Gradescope autograder will deduct points if your code fails the following rubric point - '`.loc` is used on a pandas DataFrame to hardcode an index (-1)'.The public tests cannot determine if your code satisfies these requirements. Verify your code manually."
        },
        {
         "code": ">>> public_tests.rubric_check('q8: public tests')\nAll test cases passed!\n",
         "hidden": false,
         "locked": false
        }
       ],
       "scored": true,
       "setup": "",
       "teardown": "",
       "type": "doctest"
      }
     ]
    },
    "q9": {
     "name": "q9",
     "points": 0,
     "suites": [
      {
       "cases": [
        {
         "code": ">>> public_tests.check('q9', china_highest_qoe)\nAll test cases passed!\n",
         "hidden": false,
         "locked": false
        },
        {
         "code": ">>> \n>>> public_tests.rubric_check('q9: incorrect logic is used to answer')\nAll test cases passed!\n",
         "hidden": false,
         "locked": false,
         "success_message": "Note that the Gradescope autograder will deduct points if your code fails the following rubric point - 'incorrect logic is used to answer (-1)'.The public tests cannot determine if your code satisfies these requirements. Verify your code manually."
        },
        {
         "code": ">>> \n>>> public_tests.rubric_check('q9: `rankings` data structure is not used to answer', False)\nAll test cases passed!\n",
         "hidden": false,
         "locked": false,
         "success_message": "Note that the Gradescope autograder will deduct points if your code fails the following rubric point - '`rankings` data structure is not used to answer (-1)'.The public tests cannot determine if your code satisfies these requirements. Verify your code manually."
        },
        {
         "code": ">>> \n>>> public_tests.rubric_check('q9: conditional statements or loops are used')\nAll test cases passed!\n",
         "hidden": false,
         "locked": false,
         "success_message": "Note that the Gradescope autograder will deduct points if your code fails the following rubric point - 'conditional statements or loops are used (-1)'.The public tests cannot determine if your code satisfies these requirements. Verify your code manually."
        },
        {
         "code": ">>> \n>>> public_tests.rubric_check('q9: `.loc` is used on a pandas DataFrame to hardcode an index')\nAll test cases passed!\n",
         "hidden": false,
         "locked": false,
         "success_message": "Note that the Gradescope autograder will deduct points if your code fails the following rubric point - '`.loc` is used on a pandas DataFrame to hardcode an index (-1)'.The public tests cannot determine if your code satisfies these requirements. Verify your code manually."
        }
       ],
       "scored": true,
       "setup": "",
       "teardown": "",
       "type": "doctest"
      }
     ]
    },
    "rankings": {
     "name": "rankings",
     "points": 0,
     "suites": [
      {
       "cases": [
        {
         "code": ">>> \n>>> public_tests.rubric_check('rankings: data structure is defined incorrectly')\nAll test cases passed!\n",
         "hidden": false,
         "locked": false,
         "success_message": "Note that the Gradescope autograder will deduct points if your code fails the following rubric point - 'data structure is defined incorrectly (-1)'.The public tests cannot determine if your code satisfies these requirements. Verify your code manually."
        }
       ],
       "scored": true,
       "setup": "",
       "teardown": "",
       "type": "doctest"
      }
     ]
    },
    "summary": {
     "name": "summary",
     "points": 127,
     "suites": [
      {
       "cases": [
        {
         "code": ">>> public_tests.get_summary()\nTotal Score: 100/100\n",
         "hidden": false,
         "locked": false
        }
       ],
       "scored": true,
       "setup": "",
       "teardown": "",
       "type": "doctest"
      }
     ]
    },
    "year_2021_ranking_df": {
     "name": "year_2021_ranking_df",
     "points": 0,
     "suites": [
      {
       "cases": [
        {
         "code": ">>> \n>>> public_tests.rubric_check('year_2021_ranking_df: data structure is defined incorrectly')\nAll test cases passed!\n",
         "hidden": false,
         "locked": false,
         "success_message": "Note that the Gradescope autograder will deduct points if your code fails the following rubric point - 'data structure is defined incorrectly (-1)'.The public tests cannot determine if your code satisfies these requirements. Verify your code manually."
        }
       ],
       "scored": true,
       "setup": "",
       "teardown": "",
       "type": "doctest"
      }
     ]
    },
    "year_2022_ranking_df": {
     "name": "year_2022_ranking_df",
     "points": 0,
     "suites": [
      {
       "cases": [
        {
         "code": ">>> \n>>> public_tests.rubric_check('year_2022_ranking_df: data structure is defined incorrectly')\nAll test cases passed!\n",
         "hidden": false,
         "locked": false,
         "success_message": "Note that the Gradescope autograder will deduct points if your code fails the following rubric point - 'data structure is defined incorrectly (-1)'.The public tests cannot determine if your code satisfies these requirements. Verify your code manually."
        }
       ],
       "scored": true,
       "setup": "",
       "teardown": "",
       "type": "doctest"
      }
     ]
    },
    "year_2023_ranking_df": {
     "name": "year_2023_ranking_df",
     "points": 0,
     "suites": [
      {
       "cases": [
        {
         "code": ">>> \n>>> public_tests.rubric_check('year_2023_ranking_df: data structure is defined incorrectly')\nAll test cases passed!\n",
         "hidden": false,
         "locked": false,
         "success_message": "Note that the Gradescope autograder will deduct points if your code fails the following rubric point - 'data structure is defined incorrectly (-1)'.The public tests cannot determine if your code satisfies these requirements. Verify your code manually."
        }
       ],
       "scored": true,
       "setup": "",
       "teardown": "",
       "type": "doctest"
      }
     ]
    }
   }
  }
 },
 "nbformat": 4,
 "nbformat_minor": 5
}
